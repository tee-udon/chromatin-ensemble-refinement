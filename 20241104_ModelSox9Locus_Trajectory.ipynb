{
 "cells": [
  {
   "cell_type": "code",
   "execution_count": 1,
   "metadata": {},
   "outputs": [
    {
     "name": "stdout",
     "output_type": "stream",
     "text": [
      "\u001b[m1h\u001b=\n",
      "Currently Loaded Modules:\u001b[m\n",
      "  1) modules/2.3-20240529 (\u001b[1;31mS\u001b[0m)   2) slurm   3) openblas/single-0.3.26 (\u001b[1;31mS\u001b[0m)\u001b[m\n",
      "\u001b[m\n",
      "  Where:\u001b[m\n",
      "   \u001b[1;31mS\u001b[0m:  Module is Sticky, requires --force to unload or purge\u001b[m\n",
      "\u001b[m\n",
      " \u001b[m\n",
      "\u001b[m\n",
      "\u001b[K\u001b[?1l\u001b>"
     ]
    }
   ],
   "source": [
    "!module load cuda \n",
    "!module list"
   ]
  },
  {
   "cell_type": "code",
   "execution_count": 2,
   "metadata": {},
   "outputs": [
    {
     "name": "stderr",
     "output_type": "stream",
     "text": [
      "2024-11-04 18:33:43.107577: I tensorflow/core/util/port.cc:110] oneDNN custom operations are on. You may see slightly different numerical results due to floating-point round-off errors from different computation orders. To turn them off, set the environment variable `TF_ENABLE_ONEDNN_OPTS=0`.\n",
      "2024-11-04 18:33:43.152314: I tensorflow/core/platform/cpu_feature_guard.cc:182] This TensorFlow binary is optimized to use available CPU instructions in performance-critical operations.\n",
      "To enable the following instructions: AVX512F AVX512_VNNI, in other operations, rebuild TensorFlow with the appropriate compiler flags.\n"
     ]
    },
    {
     "name": "stdout",
     "output_type": "stream",
     "text": [
      "\n",
      "OpenMM Version: 8.1.1\n",
      "Git Revision: Unknown\n",
      "\n",
      "There are 3 Platforms available:\n",
      "\n",
      "1 Reference - Successfully computed forces\n",
      "2 CPU - Successfully computed forces\n",
      "3 OpenCL - Successfully computed forces\n",
      "\n",
      "Median difference in forces between platforms:\n",
      "\n",
      "Reference vs. CPU: 6.29227e-06\n"
     ]
    },
    {
     "ename": "KeyboardInterrupt",
     "evalue": "",
     "output_type": "error",
     "traceback": [
      "\u001b[0;31m---------------------------------------------------------------------------\u001b[0m",
      "\u001b[0;31mKeyboardInterrupt\u001b[0m                         Traceback (most recent call last)",
      "Cell \u001b[0;32mIn[2], line 5\u001b[0m\n\u001b[1;32m      3\u001b[0m \u001b[38;5;28;01mfrom\u001b[39;00m \u001b[38;5;21;01m_polychrom\u001b[39;00m \u001b[38;5;28;01mimport\u001b[39;00m \u001b[38;5;241m*\u001b[39m\n\u001b[1;32m      4\u001b[0m \u001b[38;5;28;01mimport\u001b[39;00m \u001b[38;5;21;01mopenmm\u001b[39;00m\u001b[38;5;21;01m.\u001b[39;00m\u001b[38;5;21;01mtestInstallation\u001b[39;00m\n\u001b[0;32m----> 5\u001b[0m \u001b[43mopenmm\u001b[49m\u001b[38;5;241;43m.\u001b[39;49m\u001b[43mtestInstallation\u001b[49m\u001b[38;5;241;43m.\u001b[39;49m\u001b[43mmain\u001b[49m\u001b[43m(\u001b[49m\u001b[43m)\u001b[49m\n\u001b[1;32m      7\u001b[0m \u001b[38;5;124;03m'''\u001b[39;00m\n\u001b[1;32m      8\u001b[0m \u001b[38;5;124;03m Polymer simulations\u001b[39;00m\n\u001b[1;32m      9\u001b[0m \u001b[38;5;124;03m This version implements simulations of Cohesin-mediated loop extrusion and heterotypic chromatin interactions.\u001b[39;00m\n\u001b[1;32m     10\u001b[0m \u001b[38;5;124;03m This script reads in 15 variable parameters from a text file.  The parameter text file is typically produced programatically, since parameters that specify all the CTCF sites, for example, are quite long arrays. \u001b[39;00m\n\u001b[1;32m     11\u001b[0m \u001b[38;5;124;03m'''\u001b[39;00m\n\u001b[1;32m     13\u001b[0m \u001b[38;5;28;01mimport\u001b[39;00m \u001b[38;5;21;01msys\u001b[39;00m\n",
      "File \u001b[0;32m~/ceph/00_VirtualEnvironments/jupyter-gpu-openmm/lib/python3.10/site-packages/openmm/testInstallation.py:107\u001b[0m, in \u001b[0;36mmain\u001b[0;34m()\u001b[0m\n\u001b[1;32m    104\u001b[0m     sys\u001b[38;5;241m.\u001b[39mexit(\u001b[38;5;241m1\u001b[39m)\n\u001b[1;32m    106\u001b[0m \u001b[38;5;28;01mtry\u001b[39;00m:\n\u001b[0;32m--> 107\u001b[0m     \u001b[43mrun_tests\u001b[49m\u001b[43m(\u001b[49m\u001b[43m)\u001b[49m\n\u001b[1;32m    108\u001b[0m \u001b[38;5;28;01mexcept\u001b[39;00m \u001b[38;5;167;01mException\u001b[39;00m \u001b[38;5;28;01mas\u001b[39;00m err:\n\u001b[1;32m    109\u001b[0m     \u001b[38;5;28mprint\u001b[39m(\u001b[38;5;124m'\u001b[39m\u001b[38;5;124mProblem with OpenMM installation \u001b[39m\u001b[38;5;124m'\u001b[39m\n\u001b[1;32m    110\u001b[0m           \u001b[38;5;124m'\u001b[39m\u001b[38;5;124mencountered. OpenMM will not work correctly until the problem \u001b[39m\u001b[38;5;124m'\u001b[39m\n\u001b[1;32m    111\u001b[0m           \u001b[38;5;124m'\u001b[39m\u001b[38;5;124mhas been fixed.\u001b[39m\u001b[38;5;130;01m\\n\u001b[39;00m\u001b[38;5;130;01m\\n\u001b[39;00m\u001b[38;5;124m'\u001b[39m,\n\u001b[1;32m    112\u001b[0m           file\u001b[38;5;241m=\u001b[39msys\u001b[38;5;241m.\u001b[39mstderr)\n",
      "File \u001b[0;32m~/ceph/00_VirtualEnvironments/jupyter-gpu-openmm/lib/python3.10/site-packages/openmm/testInstallation.py:81\u001b[0m, in \u001b[0;36mrun_tests\u001b[0;34m()\u001b[0m\n\u001b[1;32m     79\u001b[0m \u001b[38;5;28;01mfor\u001b[39;00m f1, f2 \u001b[38;5;129;01min\u001b[39;00m \u001b[38;5;28mzip\u001b[39m(forces[i], forces[j]):\n\u001b[1;32m     80\u001b[0m     d \u001b[38;5;241m=\u001b[39m f1\u001b[38;5;241m-\u001b[39mf2\n\u001b[0;32m---> 81\u001b[0m     error \u001b[38;5;241m=\u001b[39m sqrt((d[\u001b[38;5;241m0\u001b[39m]\u001b[38;5;241m*\u001b[39md[\u001b[38;5;241m0\u001b[39m]\u001b[38;5;241m+\u001b[39md[\u001b[38;5;241m1\u001b[39m]\u001b[38;5;241m*\u001b[39md[\u001b[38;5;241m1\u001b[39m]\u001b[38;5;241m+\u001b[39md[\u001b[38;5;241m2\u001b[39m]\u001b[38;5;241m*\u001b[39md[\u001b[38;5;241m2\u001b[39m])\u001b[38;5;241m/\u001b[39m(\u001b[43mf1\u001b[49m\u001b[43m[\u001b[49m\u001b[38;5;241;43m0\u001b[39;49m\u001b[43m]\u001b[49m\u001b[38;5;241;43m*\u001b[39;49m\u001b[43mf1\u001b[49m\u001b[43m[\u001b[49m\u001b[38;5;241;43m0\u001b[39;49m\u001b[43m]\u001b[49m\u001b[38;5;241;43m+\u001b[39;49m\u001b[43mf1\u001b[49m\u001b[43m[\u001b[49m\u001b[38;5;241;43m1\u001b[39;49m\u001b[43m]\u001b[49m\u001b[38;5;241;43m*\u001b[39;49m\u001b[43mf1\u001b[49m\u001b[43m[\u001b[49m\u001b[38;5;241;43m1\u001b[39;49m\u001b[43m]\u001b[49m\u001b[38;5;241;43m+\u001b[39;49m\u001b[43mf1\u001b[49m\u001b[43m[\u001b[49m\u001b[38;5;241;43m2\u001b[39;49m\u001b[43m]\u001b[49m\u001b[38;5;241;43m*\u001b[39;49m\u001b[43mf1\u001b[49m\u001b[43m[\u001b[49m\u001b[38;5;241;43m2\u001b[39;49m\u001b[43m]\u001b[49m))\n\u001b[1;32m     82\u001b[0m     errors\u001b[38;5;241m.\u001b[39mappend(error)\n\u001b[1;32m     83\u001b[0m median \u001b[38;5;241m=\u001b[39m \u001b[38;5;28msorted\u001b[39m(errors)[\u001b[38;5;28mlen\u001b[39m(errors)\u001b[38;5;241m/\u001b[39m\u001b[38;5;241m/\u001b[39m\u001b[38;5;241m2\u001b[39m]\n",
      "File \u001b[0;32m~/ceph/00_VirtualEnvironments/jupyter-gpu-openmm/lib/python3.10/site-packages/openmm/unit/quantity.py:237\u001b[0m, in \u001b[0;36mQuantity.__add__\u001b[0;34m(self, other)\u001b[0m\n\u001b[1;32m    225\u001b[0m \u001b[38;5;124;03m\"\"\"Add two Quantities.\u001b[39;00m\n\u001b[1;32m    226\u001b[0m \n\u001b[1;32m    227\u001b[0m \u001b[38;5;124;03mOnly Quantities with the same dimensions (e.g. length)\u001b[39;00m\n\u001b[0;32m   (...)\u001b[0m\n\u001b[1;32m    234\u001b[0m \u001b[38;5;124;03mReturns a new Quantity that is the sum of the two arguments.\u001b[39;00m\n\u001b[1;32m    235\u001b[0m \u001b[38;5;124;03m\"\"\"\u001b[39;00m\n\u001b[1;32m    236\u001b[0m \u001b[38;5;66;03m# can only add using like units\u001b[39;00m\n\u001b[0;32m--> 237\u001b[0m \u001b[38;5;28;01mif\u001b[39;00m \u001b[38;5;129;01mnot\u001b[39;00m \u001b[38;5;28;43mself\u001b[39;49m\u001b[38;5;241;43m.\u001b[39;49m\u001b[43munit\u001b[49m\u001b[38;5;241;43m.\u001b[39;49m\u001b[43mis_compatible\u001b[49m\u001b[43m(\u001b[49m\u001b[43mother\u001b[49m\u001b[38;5;241;43m.\u001b[39;49m\u001b[43munit\u001b[49m\u001b[43m)\u001b[49m:\n\u001b[1;32m    238\u001b[0m     \u001b[38;5;28;01mraise\u001b[39;00m \u001b[38;5;167;01mTypeError\u001b[39;00m(\u001b[38;5;124m'\u001b[39m\u001b[38;5;124mCannot add two quantities with incompatible units \u001b[39m\u001b[38;5;124m\"\u001b[39m\u001b[38;5;132;01m%s\u001b[39;00m\u001b[38;5;124m\"\u001b[39m\u001b[38;5;124m and \u001b[39m\u001b[38;5;124m\"\u001b[39m\u001b[38;5;132;01m%s\u001b[39;00m\u001b[38;5;124m\"\u001b[39m\u001b[38;5;124m.\u001b[39m\u001b[38;5;124m'\u001b[39m \u001b[38;5;241m%\u001b[39m (\u001b[38;5;28mself\u001b[39m\u001b[38;5;241m.\u001b[39munit, other\u001b[38;5;241m.\u001b[39munit))\n\u001b[1;32m    239\u001b[0m value \u001b[38;5;241m=\u001b[39m \u001b[38;5;28mself\u001b[39m\u001b[38;5;241m.\u001b[39m_value \u001b[38;5;241m+\u001b[39m other\u001b[38;5;241m.\u001b[39mvalue_in_unit(\u001b[38;5;28mself\u001b[39m\u001b[38;5;241m.\u001b[39munit)\n",
      "\u001b[0;31mKeyboardInterrupt\u001b[0m: "
     ]
    }
   ],
   "source": [
    "#import tensorflow as tf; print(tf.config.list_physical_devices('GPU')) \n",
    "from _utils import *\n",
    "from _polychrom import *\n",
    "import openmm.testInstallation\n",
    "openmm.testInstallation.main()\n",
    "\n",
    "'''\n",
    " Polymer simulations\n",
    " This version implements simulations of Cohesin-mediated loop extrusion and heterotypic chromatin interactions.\n",
    " This script reads in 15 variable parameters from a text file.  The parameter text file is typically produced programatically, since parameters that specify all the CTCF sites, for example, are quite long arrays. \n",
    "'''\n",
    "\n",
    "import sys\n",
    "\n",
    "import os\n",
    "import pickle \n",
    "import numpy as np\n",
    "import numpy.matlib\n",
    "import h5py\n",
    "import ast\n",
    "import pandas as pd\n",
    "import math\n",
    "\n",
    "from LEBondUpdater import bondUpdater\n",
    "\n",
    "import polychrom\n",
    "from polychrom.starting_conformations import grow_cubic\n",
    "from polychrom.hdf5_format import HDF5Reporter, list_URIs, load_URI, load_hdf5_file\n",
    "from polychrom.simulation import Simulation\n",
    "from polychrom import polymerutils\n",
    "from polychrom import forces\n",
    "from polychrom import forcekits\n",
    "import time\n",
    "\n",
    "from tqdm.auto import tqdm\n"
   ]
  },
  {
   "cell_type": "code",
   "execution_count": 2,
   "metadata": {},
   "outputs": [],
   "source": [
    "monomers = 5000  # change this to multiple of ctcf sites \n",
    "replicates = 1\n",
    "lef_lifetime = 20  # 40 gives better result than 10\n",
    "lef_separation = 10\n",
    "ctcf_sites = None \n",
    "ctcf_capture = 1\n",
    "ctcf_release = 0.003\n",
    "ctcf_dir = None \n",
    "monomer_types = None \n",
    "interaction_matrix = None \n",
    "trajectory_length = 1000 * 10  # More samples show better results \n",
    "density = 0.2\n",
    "load_prob = 1/monomers \n",
    "gpu_id = \"0\"\n",
    "repulsion = 6\n",
    "lef_flag = True "
   ]
  },
  {
   "cell_type": "code",
   "execution_count": 3,
   "metadata": {},
   "outputs": [
    {
     "data": {
      "image/png": "[encoded data removed]",
      "text/plain": [
       "<Figure size 640x480 with 1 Axes>"
      ]
     },
     "metadata": {},
     "output_type": "display_data"
    },
    {
     "data": {
      "image/png": "[encoded data removed]",
      "text/plain": [
       "<Figure size 640x480 with 1 Axes>"
      ]
     },
     "metadata": {},
     "output_type": "display_data"
    },
    {
     "data": {
      "text/plain": [
       "[<matplotlib.lines.Line2D at 0x1554959a7b80>]"
      ]
     },
     "execution_count": 3,
     "metadata": {},
     "output_type": "execute_result"
    },
    {
     "data": {
      "image/png": "[encoded data removed]",
      "text/plain": [
       "<Figure size 640x480 with 1 Axes>"
      ]
     },
     "metadata": {},
     "output_type": "display_data"
    }
   ],
   "source": [
    "ctcf_sites_one_iter = np.array([0, 11, 49, 62, 65, 80]) * 50\n",
    "ctcf_capture_one_iter = np.array([1, 0.9, 0.9, 0.5, 0.9, 1])\n",
    "ctcf_dir_one_iter = np.array([0, 0, 0, 0, 0, 0])\n",
    "\n",
    "monomers = int(ctcf_sites_one_iter.max())*1\n",
    "\n",
    "ctcf_sites = np.append(np.zeros([0]), ctcf_sites_one_iter)\n",
    "ctcf_capture = np.append(np.zeros([0]), ctcf_capture_one_iter)\n",
    "ctcf_dir = np.append(np.zeros([0]), ctcf_dir_one_iter)\n",
    "\n",
    "while np.max(ctcf_sites) < monomers:\n",
    "    print('Max CTCF sites:', np.max(ctcf_sites))\n",
    "    ctcf_sites_next = np.max(ctcf_sites) + ctcf_sites_one_iter \n",
    "    \n",
    "    ctcf_sites = np.append(ctcf_sites, ctcf_sites_next[1:])\n",
    "    ctcf_capture = np.append(ctcf_capture, ctcf_capture_one_iter[1:])\n",
    "    ctcf_dir = np.append(ctcf_dir, ctcf_dir_one_iter[1:])\n",
    "    \n",
    "    print(len(ctcf_sites), len(ctcf_dir), len(ctcf_capture))\n",
    "    \n",
    "ctcf_sites = ctcf_sites.astype(int)[:monomers]\n",
    "ctcf_capture = ctcf_capture[:monomers]\n",
    "ctcf_dir = ctcf_dir[:monomers]\n",
    "\n",
    "plt.plot(ctcf_sites)\n",
    "plt.show()\n",
    "plt.plot(ctcf_dir)\n",
    "plt.show()\n",
    "\n",
    "plt.plot(ctcf_capture)"
   ]
  },
  {
   "cell_type": "code",
   "execution_count": 4,
   "metadata": {},
   "outputs": [],
   "source": [
    "lef_lifetime = 250\n",
    "lef_separation = 100\n",
    "ctcf_release = np.ones_like(ctcf_sites) * ctcf_release\n",
    "load_prob = np.ones(monomers) * load_prob\n",
    "\n",
    "monomer_types = np.zeros(monomers, dtype=int)\n",
    "interaction_matrix = np.array([[0, 0], [0, 0]])"
   ]
  },
  {
   "cell_type": "code",
   "execution_count": 5,
   "metadata": {},
   "outputs": [],
   "source": [
    "save_folder = '/mnt/home/tudomlumleart/ceph/01_ChromatinEnsembleRefinement/chromatin-ensemble-refinement/md_results/20241104_Sox9_EmpiricalCTCF_Interactive_Trajectory'"
   ]
  },
  {
   "cell_type": "code",
   "execution_count": 6,
   "metadata": {},
   "outputs": [],
   "source": [
    "# Change here\n",
    "params = {\n",
    "    'monomers': monomers,\n",
    "    'replicates': replicates,\n",
    "    'lef_lifetime': lef_lifetime,\n",
    "    'lef_separation': lef_separation,\n",
    "    'ctcf_capture': ctcf_capture,\n",
    "    'ctcf_release': ctcf_release,\n",
    "    'save_folder': save_folder,\n",
    "    'ctcf_dir': ctcf_dir,\n",
    "    'ctcf_sites': ctcf_sites,\n",
    "    'monomer_types': monomer_types,\n",
    "    'interaction_matrix': interaction_matrix,\n",
    "    'trajectory_length': trajectory_length,\n",
    "    'density': density,\n",
    "    'load_prob': load_prob,\n",
    "    'gpu_id': gpu_id,\n",
    "    'repulsion': repulsion,\n",
    "    'lef_flag': True\n",
    "}"
   ]
  },
  {
   "cell_type": "code",
   "execution_count": 7,
   "metadata": {},
   "outputs": [
    {
     "name": "stdout",
     "output_type": "stream",
     "text": [
      "LEF count: 39\n",
      "interaction matrix:\n",
      "[[0 0]\n",
      " [0 0]]\n",
      "monomer types:\n",
      "[0 0 0 ... 0 0 0]\n",
      "/mnt/home/tudomlumleart/ceph/01_ChromatinEnsembleRefinement/chromatin-ensemble-refinement/md_results/20241104_Sox9_EmpiricalCTCF_Interactive_Trajectory\n",
      "Starting simulation\n"
     ]
    }
   ],
   "source": [
    "# general parameters \n",
    "trajectoryLength = params['trajectory_length'] # time duration of simulation \n",
    "density = params['density'] #  0.2  # fraction of the volume of the sphere which is occupied by the polymer (or effective excluded volume, if using periodic boundary conditions)\n",
    "  \n",
    "   \n",
    "#  ==========Extrusion sim parameters====================\n",
    "# there is probably a more elegant way to read in text values than ast.literal_eval, but this works.  \n",
    "GPU_ID = params['gpu_id'] # this should be a string -- which GPU to run on, eg \"0\", or \"1\" \n",
    "repulsionEnergy = params['repulsion'] # this is just a number\n",
    "N1 = params['monomers'] # Number of monomers in the polymer/chromosome\n",
    "M = params['replicates']  # Number of chromosomes in the simulation\n",
    "num_chains = M  # same as above, multiple variable names were introduced.\n",
    "N = N1 * M # total number of monomers in the full simulation \n",
    "LIFETIME = params['lef_lifetime'] #  extruder lifetime\n",
    "SEPARATION = params['lef_separation'] # separation between extruders in monomer units (extruder density) \n",
    "ctcfSites = params['ctcf_sites'] # CTCF site locations, in monomer units\n",
    "ctcfDir = params['ctcf_dir']  # CTCF site direction \n",
    "ctcfCapture = params['ctcf_capture'] # 0.9 80% capture probability per block, if capture < than this, capture  \n",
    "ctcfRelease = params['ctcf_release'] # 0.003 % release probability per block, if capture < than this, release\n",
    "interactionMatrix = params['interaction_matrix']  # interaction strength between different compartments \n",
    "saveFolder = params['save_folder']  # place to save the data\n",
    "oneChainMonomerTypes =  params['monomer_types'] # compartment labels\n",
    "lefFlag = params['lef_flag']\n",
    "if len(oneChainMonomerTypes) != N1:\n",
    "    oneChainMonomerTypes = np.zeros(N1).astype(int)\n",
    "    \n",
    "# Allow biased cohesin loading probabilities (e.g. as a function of chromatin state), if desired\n",
    "loadProb = params['load_prob'] # discrete probability distribution that cohesin loads at site N\n",
    "loadProb = numpy.matlib.repmat(loadProb,1,M)\n",
    "loadProb = loadProb/np.sum(loadProb) \n",
    "\n",
    "if not os.path.exists(saveFolder):\n",
    "    os.mkdir(saveFolder)\n",
    "\n",
    "lefPosFile = saveFolder + \"LEFPos.h5\"\n",
    "if lefFlag:\n",
    "    LEFNum = max(0,math.floor(N // SEPARATION )-1)\n",
    "else:\n",
    "    LEFNum = 0\n",
    "\n",
    "# Optionally, tether the chromosome ends at random positions on the nulcear lamina\n",
    "#   to use this, line 245 should be replaced with the commented line below it. \n",
    "#   select M random points on the edge of sphere\n",
    "r = 1.05*(3 * N/ (4 * np.pi * density)) ** (1 / 3.0)\n",
    "theta =np.random.rand(num_chains,1)*np.pi\n",
    "psi = np.random.rand(num_chains,1)*2*np.pi\n",
    "x= r*np.cos(psi)*np.sin(theta)\n",
    "y= r*np.sin(psi)*np.sin(theta)\n",
    "z= r*np.cos(theta)\n",
    "end_tethers = np.concatenate((x,y,z),axis=1).tolist() \n",
    "\n",
    "\n",
    "# less common parameters\n",
    "attraction_radius = 1.5\n",
    "MDstepsPerCohesinStep = 800\n",
    "smcBondWiggleDist = 0.2\n",
    "smcBondDist = 0.5\n",
    "saveEveryBlocks = 100   #\n",
    "restartSimulationEveryBlocks = 100\n",
    "\n",
    "# check that these loaded alright\n",
    "print(f'LEF count: {LEFNum}')\n",
    "print('interaction matrix:')\n",
    "print(interactionMatrix)\n",
    "print('monomer types:')\n",
    "print(oneChainMonomerTypes)\n",
    "print(saveFolder)\n",
    "print('Starting simulation')\n"
   ]
  },
  {
   "cell_type": "code",
   "execution_count": 8,
   "metadata": {},
   "outputs": [
    {
     "name": "stdout",
     "output_type": "stream",
     "text": [
      "starting simulation with N LEFs=\n",
      "39\n"
     ]
    },
    {
     "data": {
      "application/vnd.jupyter.widget-view+json": {
       "model_id": "5698eccfd68442b6a06db83327c3b9bd",
       "version_major": 2,
       "version_minor": 0
      },
      "text/plain": [
       "  0%|          | 0/39 [00:00<?, ?it/s]"
      ]
     },
     "metadata": {},
     "output_type": "display_data"
    },
    {
     "name": "stdout",
     "output_type": "stream",
     "text": [
      "100\n"
     ]
    },
    {
     "data": {
      "application/vnd.jupyter.widget-view+json": {
       "model_id": "43dabf942fc044919da022ef926f0982",
       "version_major": 2,
       "version_minor": 0
      },
      "text/plain": [
       "0it [00:00, ?it/s]"
      ]
     },
     "metadata": {},
     "output_type": "display_data"
    }
   ],
   "source": [
    "\n",
    "\n",
    "#==================================#\n",
    "# Run \n",
    "#=================================#\n",
    "\n",
    "#=========== 1D LE Simulation first ============#\n",
    "import extrusion1Dv2 as ex1D # 1D classes \n",
    "ctcfLeftRelease = {}\n",
    "ctcfRightRelease = {}\n",
    "ctcfLeftCapture = {}\n",
    "ctcfRightCapture = {}\n",
    "\n",
    "# should modify this to allow directionality\n",
    "for i in range(M): # loop over chains (this variable needs a better name Max)\n",
    "    for t in range(len(ctcfSites)):\n",
    "        pos = i * N1 + ctcfSites[t] \n",
    "        if ctcfDir[t] == 0:\n",
    "            ctcfLeftCapture[pos] = ctcfCapture[t]  # if random [0,1] is less than this, capture\n",
    "            ctcfLeftRelease[pos] = ctcfRelease[t]  # if random [0,1] is less than this, release\n",
    "            ctcfRightCapture[pos] = ctcfCapture[t]\n",
    "            ctcfRightRelease[pos] = ctcfRelease[t]\n",
    "        elif ctcfDir[t] == 1: # stop Cohesin moving toward the right  \n",
    "            ctcfLeftCapture[pos] = 0  \n",
    "            ctcfLeftRelease[pos] = 1  \n",
    "            ctcfRightCapture[pos] = ctcfCapture[t]\n",
    "            ctcfRightRelease[pos] = ctcfRelease[t]\n",
    "        elif ctcfDir[t] == 2:\n",
    "            ctcfLeftCapture[pos] = ctcfCapture[t]  # if random [0,1] is less than this, capture\n",
    "            ctcfLeftRelease[pos] = ctcfRelease[t]  # if random [0,1] is less than this, release\n",
    "            ctcfRightCapture[pos] = 0\n",
    "            ctcfRightRelease[pos] = 1\n",
    "       \n",
    "args = {}\n",
    "args[\"ctcfRelease\"] = {-1:ctcfLeftRelease, 1:ctcfRightRelease}\n",
    "args[\"ctcfCapture\"] = {-1:ctcfLeftCapture, 1:ctcfRightCapture}        \n",
    "args[\"N\"] = N \n",
    "args[\"LIFETIME\"] = LIFETIME\n",
    "args[\"LIFETIME_STALLED\"] = LIFETIME  # no change in lifetime when stalled \n",
    "\n",
    "occupied = np.zeros(N)\n",
    "occupied[0] = 1  # (I think this is just prevent the cohesin loading at the end by making it already occupied)\n",
    "occupied[-1] = 1 # [-1] is \"python\" for end\n",
    "cohesins = []\n",
    "\n",
    "print('starting simulation with N LEFs=')\n",
    "print(LEFNum)\n",
    "for i in tqdm(range(LEFNum)):\n",
    "    ex1D.loadOneFromDist(cohesins,occupied, args,loadProb) # load the cohesins \n",
    "    \n",
    "# if lefPosFile exists, delete it\n",
    "if os.path.exists(lefPosFile):\n",
    "    os.remove(lefPosFile)\n",
    "\n",
    "\n",
    "with h5py.File(lefPosFile, mode='w') as myfile:\n",
    "    dset = myfile.create_dataset(\"positions\", \n",
    "                                 shape=(trajectoryLength, LEFNum, 2), \n",
    "                                 dtype=np.int32, \n",
    "                                 compression=\"gzip\")\n",
    "    steps = 100    # saving in 100 chunks because the whole trajectory may be large \n",
    "    bins = np.linspace(0, trajectoryLength, steps, dtype=int) # chunks boundaries \n",
    "    print(len(bins))\n",
    "    for st,end in tqdm(zip(bins[:-1], bins[1:])):\n",
    "        cur = []\n",
    "        for i in range(st, end):\n",
    "            ex1D.translocate(cohesins, occupied, args,loadProb)  # actual step of LEF dynamics \n",
    "            positions = [(cohesin.left.pos, cohesin.right.pos) for cohesin in cohesins]\n",
    "            cur.append(positions)  # appending current positions to an array \n",
    "        cur = np.array(cur)  # when we finished a block of positions, save it to HDF5 \n",
    "        dset[st:end] = cur\n",
    "    myfile.attrs[\"N\"] = N\n",
    "    myfile.attrs[\"LEFNum\"] = LEFNum\n",
    "    \n"
   ]
  },
  {
   "cell_type": "code",
   "execution_count": 9,
   "metadata": {},
   "outputs": [
    {
     "name": "stdout",
     "output_type": "stream",
     "text": [
      "Length of the saved trajectory: 10000\n",
      "N_chain: 4000\n",
      "N: 4000\n",
      "N_traj: 4000\n",
      "Nframes: 10000\n",
      "simInitsTotal: 100\n"
     ]
    }
   ],
   "source": [
    "#=========== Load LEF simulation ===========#\n",
    "trajectory_file = h5py.File(lefPosFile, mode='r')\n",
    "LEFNum = trajectory_file.attrs[\"LEFNum\"]  # number of LEFs\n",
    "LEFpositions = trajectory_file[\"positions\"]  # array of LEF positions  \n",
    "steps = MDstepsPerCohesinStep # MD steps per step of cohesin  (set to ~800 in real sims)\n",
    "Nframes = LEFpositions.shape[0] # length of the saved trajectory (>25000 in real sims)\n",
    "print(f'Length of the saved trajectory: {Nframes}')\n",
    "block = 0  # starting block \n",
    "\n",
    "# test some properties \n",
    "# assertions for easy managing code below \n",
    "assert (Nframes % restartSimulationEveryBlocks) == 0 \n",
    "assert (restartSimulationEveryBlocks % saveEveryBlocks) == 0\n",
    "\n",
    "savesPerSim = restartSimulationEveryBlocks // saveEveryBlocks\n",
    "simInitsTotal  = (Nframes) // restartSimulationEveryBlocks\n",
    "# concatinate monomers if needed\n",
    "if len(oneChainMonomerTypes) != N:\n",
    "    monomerTypes = np.tile(oneChainMonomerTypes, num_chains)\n",
    "else:\n",
    "    monomerTypes = oneChainMonomerTypes\n",
    "    \n",
    "N_chain = len(oneChainMonomerTypes)  \n",
    "N = len(monomerTypes)\n",
    "print(f'N_chain: {N_chain}')  # ~8000 in a real sim\n",
    "print(f'N: {N}')   # ~40000 in a real sim\n",
    "N_traj = trajectory_file.attrs[\"N\"]\n",
    "print(f'N_traj: {N_traj}')\n",
    "assert N == trajectory_file.attrs[\"N\"]\n",
    "print(f'Nframes: {Nframes}')\n",
    "print(f'simInitsTotal: {simInitsTotal}')\n"
   ]
  },
  {
   "cell_type": "code",
   "execution_count": 10,
   "metadata": {},
   "outputs": [
    {
     "data": {
      "application/vnd.jupyter.widget-view+json": {
       "model_id": "bc57093257ce4fc3b0fd52313d807c58",
       "version_major": 2,
       "version_minor": 0
      },
      "text/plain": [
       "  0%|          | 0/100 [00:00<?, ?it/s]"
      ]
     },
     "metadata": {},
     "output_type": "display_data"
    },
    {
     "ename": "OpenMMException",
     "evalue": "There is no registered Platform called \"CUDA\"",
     "output_type": "error",
     "traceback": [
      "\u001b[0;31m---------------------------------------------------------------------------\u001b[0m",
      "\u001b[0;31mOpenMMException\u001b[0m                           Traceback (most recent call last)",
      "Cell \u001b[0;32mIn[10], line 12\u001b[0m\n\u001b[1;32m     10\u001b[0m \u001b[38;5;28;01mfor\u001b[39;00m iteration \u001b[38;5;129;01min\u001b[39;00m tqdm(\u001b[38;5;28mrange\u001b[39m(simInitsTotal)):\n\u001b[1;32m     11\u001b[0m     position_curr_iteration \u001b[38;5;241m=\u001b[39m []\n\u001b[0;32m---> 12\u001b[0m     a \u001b[38;5;241m=\u001b[39m \u001b[43mSimulation\u001b[49m\u001b[43m(\u001b[49m\u001b[43mN\u001b[49m\u001b[38;5;241;43m=\u001b[39;49m\u001b[43mN\u001b[49m\u001b[43m,\u001b[49m\u001b[43m \u001b[49m\n\u001b[1;32m     13\u001b[0m \u001b[43m                   \u001b[49m\u001b[43merror_tol\u001b[49m\u001b[38;5;241;43m=\u001b[39;49m\u001b[38;5;241;43m0.01\u001b[39;49m\u001b[43m,\u001b[49m\u001b[43m \u001b[49m\n\u001b[1;32m     14\u001b[0m \u001b[43m                   \u001b[49m\u001b[43mcollision_rate\u001b[49m\u001b[38;5;241;43m=\u001b[39;49m\u001b[38;5;241;43m0.01\u001b[39;49m\u001b[43m,\u001b[49m\u001b[43m \u001b[49m\n\u001b[1;32m     15\u001b[0m \u001b[43m                   \u001b[49m\u001b[43mintegrator\u001b[49m\u001b[43m \u001b[49m\u001b[38;5;241;43m=\u001b[39;49m\u001b[38;5;124;43m\"\u001b[39;49m\u001b[38;5;124;43mvariableLangevin\u001b[39;49m\u001b[38;5;124;43m\"\u001b[39;49m\u001b[43m,\u001b[49m\u001b[43m \u001b[49m\n\u001b[1;32m     16\u001b[0m \u001b[43m                   \u001b[49m\u001b[43mGPU\u001b[49m\u001b[43m \u001b[49m\u001b[38;5;241;43m=\u001b[39;49m\u001b[43m \u001b[49m\u001b[38;5;124;43m\"\u001b[39;49m\u001b[38;5;124;43m0\u001b[39;49m\u001b[38;5;124;43m\"\u001b[39;49m\u001b[43m,\u001b[49m\n\u001b[1;32m     17\u001b[0m \u001b[43m                   \u001b[49m\u001b[43mplatform\u001b[49m\u001b[38;5;241;43m=\u001b[39;49m\u001b[38;5;124;43m\"\u001b[39;49m\u001b[38;5;124;43mCUDA\u001b[39;49m\u001b[38;5;124;43m\"\u001b[39;49m\u001b[43m,\u001b[49m\n\u001b[1;32m     18\u001b[0m \u001b[43m                   \u001b[49m\u001b[43mPBCbox\u001b[49m\u001b[38;5;241;43m=\u001b[39;49m\u001b[38;5;28;43;01mFalse\u001b[39;49;00m\u001b[43m,\u001b[49m\u001b[43m \u001b[49m\n\u001b[1;32m     19\u001b[0m \u001b[43m                   \u001b[49m\u001b[43mreporters\u001b[49m\u001b[38;5;241;43m=\u001b[39;49m\u001b[43m[\u001b[49m\u001b[43mreporter\u001b[49m\u001b[43m]\u001b[49m\u001b[43m,\u001b[49m\n\u001b[1;32m     20\u001b[0m \u001b[43m                   \u001b[49m\u001b[43mprecision\u001b[49m\u001b[38;5;241;43m=\u001b[39;49m\u001b[38;5;124;43m\"\u001b[39;49m\u001b[38;5;124;43mmixed\u001b[39;49m\u001b[38;5;124;43m\"\u001b[39;49m\u001b[43m)\u001b[49m  \n\u001b[1;32m     21\u001b[0m     a\u001b[38;5;241m.\u001b[39mset_data(data)  \u001b[38;5;66;03m# Start from previous positions\u001b[39;00m\n\u001b[1;32m     22\u001b[0m     position_curr_iteration\u001b[38;5;241m.\u001b[39mappend(a\u001b[38;5;241m.\u001b[39mget_data())\n",
      "File \u001b[0;32m~/.local/lib/python3.10/site-packages/polychrom/simulation.py:274\u001b[0m, in \u001b[0;36mSimulation.__init__\u001b[0;34m(self, **kwargs)\u001b[0m\n\u001b[1;32m    272\u001b[0m     platform_object \u001b[38;5;241m=\u001b[39m openmm\u001b[38;5;241m.\u001b[39mPlatform\u001b[38;5;241m.\u001b[39mgetPlatformByName(\u001b[38;5;124m\"\u001b[39m\u001b[38;5;124mReference\u001b[39m\u001b[38;5;124m\"\u001b[39m)\n\u001b[1;32m    273\u001b[0m \u001b[38;5;28;01melif\u001b[39;00m platform\u001b[38;5;241m.\u001b[39mlower() \u001b[38;5;241m==\u001b[39m \u001b[38;5;124m\"\u001b[39m\u001b[38;5;124mcuda\u001b[39m\u001b[38;5;124m\"\u001b[39m:\n\u001b[0;32m--> 274\u001b[0m     platform_object \u001b[38;5;241m=\u001b[39m \u001b[43mopenmm\u001b[49m\u001b[38;5;241;43m.\u001b[39;49m\u001b[43mPlatform\u001b[49m\u001b[38;5;241;43m.\u001b[39;49m\u001b[43mgetPlatformByName\u001b[49m\u001b[43m(\u001b[49m\u001b[38;5;124;43m\"\u001b[39;49m\u001b[38;5;124;43mCUDA\u001b[39;49m\u001b[38;5;124;43m\"\u001b[39;49m\u001b[43m)\u001b[49m\n\u001b[1;32m    275\u001b[0m \u001b[38;5;28;01melif\u001b[39;00m platform\u001b[38;5;241m.\u001b[39mlower() \u001b[38;5;241m==\u001b[39m \u001b[38;5;124m\"\u001b[39m\u001b[38;5;124mcpu\u001b[39m\u001b[38;5;124m\"\u001b[39m:\n\u001b[1;32m    276\u001b[0m     platform_object \u001b[38;5;241m=\u001b[39m openmm\u001b[38;5;241m.\u001b[39mPlatform\u001b[38;5;241m.\u001b[39mgetPlatformByName(\u001b[38;5;124m\"\u001b[39m\u001b[38;5;124mCPU\u001b[39m\u001b[38;5;124m\"\u001b[39m)\n",
      "File \u001b[0;32m~/ceph/00_VirtualEnvironments/jupyter-gpu-openmm/lib/python3.10/site-packages/openmm/openmm.py:13048\u001b[0m, in \u001b[0;36mPlatform.getPlatformByName\u001b[0;34m(name)\u001b[0m\n\u001b[1;32m  13042\u001b[0m \u001b[38;5;129m@staticmethod\u001b[39m\n\u001b[1;32m  13043\u001b[0m \u001b[38;5;28;01mdef\u001b[39;00m \u001b[38;5;21mgetPlatformByName\u001b[39m(name):\n\u001b[1;32m  13044\u001b[0m     \u001b[38;5;124mr\u001b[39m\u001b[38;5;124;03m\"\"\"\u001b[39;00m\n\u001b[1;32m  13045\u001b[0m \u001b[38;5;124;03m    getPlatformByName(name) -> Platform\u001b[39;00m\n\u001b[1;32m  13046\u001b[0m \u001b[38;5;124;03m    Get the registered Platform with a particular name. If no Platform with that name has been registered, this throws an exception.\u001b[39;00m\n\u001b[1;32m  13047\u001b[0m \u001b[38;5;124;03m    \"\"\"\u001b[39;00m\n\u001b[0;32m> 13048\u001b[0m     \u001b[38;5;28;01mreturn\u001b[39;00m \u001b[43m_openmm\u001b[49m\u001b[38;5;241;43m.\u001b[39;49m\u001b[43mPlatform_getPlatformByName\u001b[49m\u001b[43m(\u001b[49m\u001b[43mname\u001b[49m\u001b[43m)\u001b[49m\n",
      "\u001b[0;31mOpenMMException\u001b[0m: There is no registered Platform called \"CUDA\""
     ]
    }
   ],
   "source": [
    "\n",
    "#==============================================================#\n",
    "#      RUN 3D simulation using 1D LEF constraints              #\n",
    "#==============================================================#\n",
    "milker = bondUpdater(LEFpositions)\n",
    "data = grow_cubic(N,int((N/(density*1.2))**0.333))  # starting conformation\n",
    "reporter = HDF5Reporter(folder=saveFolder, max_data_length=50, overwrite=True)\n",
    "chains = [(N_chain*(k),N_chain*(k+1),0) for k in range(num_chains)]\n",
    "positions_all_iterations = []\n",
    "\n",
    "for iteration in tqdm(range(simInitsTotal)):\n",
    "    position_curr_iteration = []\n",
    "    a = Simulation(N=N, \n",
    "                   error_tol=0.01, \n",
    "                   collision_rate=0.01, \n",
    "                   integrator =\"variableLangevin\", \n",
    "                   GPU = \"0\",\n",
    "                   platform=\"CUDA\",\n",
    "                   PBCbox=False, \n",
    "                   reporters=[reporter],\n",
    "                   precision=\"mixed\")  \n",
    "    a.set_data(data)  # Start from previous positions\n",
    "    position_curr_iteration.append(a.get_data())\n",
    "    a.add_force(\n",
    "        polychrom.forcekits.polymer_chains(\n",
    "            a,\n",
    "            chains=chains,\n",
    "            nonbonded_force_func=polychrom.forces.heteropolymer_SSW,\n",
    "            nonbonded_force_kwargs={\n",
    "                'repulsionEnergy': repulsionEnergy,  # base repulsion energy for all monomers (function default is 3.0)\n",
    "                'attractionEnergy': 0,  # base attraction energy for all monomers (function default is 3.0)\n",
    "                'attractionRadius': attraction_radius,\n",
    "                'interactionMatrix': interactionMatrix,\n",
    "                'monomerTypes': monomerTypes,\n",
    "                'extraHardParticlesIdxs': []\n",
    "            },\n",
    "            bond_force_kwargs={\n",
    "                'bondLength': 1,\n",
    "                'bondWiggleDistance': 0.05\n",
    "            },\n",
    "            angle_force_kwargs={\n",
    "                'k': 0.5 \n",
    "            }\n",
    "        )\n",
    "    )\n",
    "    a.add_force(polychrom.forces.spherical_confinement(a,density=density))\n",
    "    # a.add_force(polychrom.forces.tether_particles(a,[0,N-1],positions=end_tethers,k=30))  # tether ends of polymer)\n",
    "    \n",
    "    # ------------ initializing milker; adding bonds ---------\n",
    "    kbond = a.kbondScalingFactor / (smcBondWiggleDist ** 2)\n",
    "    bondDist = smcBondDist * a.length_scale\n",
    "    activeParams = {\"length\":bondDist,\"k\":kbond}\n",
    "    inactiveParams = {\"length\":bondDist, \"k\":0}\n",
    "    \n",
    "    milker.setParams(activeParams, inactiveParams)\n",
    "    # this step actually puts all bonds in and sets first bonds to be what they should be\n",
    "    milker.setup(bondForce=a.force_dict['harmonic_bonds'],\n",
    "                blocks=restartSimulationEveryBlocks)\n",
    "\n",
    "    if iteration == 0:\n",
    "        a.local_energy_minimization() \n",
    "        position_curr_iteration.append(a.get_data())\n",
    "    else:\n",
    "        a._apply_forces()\n",
    "        position_curr_iteration.append(a.get_data())\n",
    "    \n",
    "    for i in range(restartSimulationEveryBlocks):        \n",
    "        if i % saveEveryBlocks == (saveEveryBlocks - 1):  \n",
    "            a.do_block(steps=steps)\n",
    "            position_curr_iteration.append(a.get_data())\n",
    "        else:\n",
    "            a.integrator.step(steps)  # do steps without getting the positions from the GPU (faster)\n",
    "            position_curr_iteration.append(a.get_data())\n",
    "        if i < restartSimulationEveryBlocks - 1: \n",
    "            curBonds, pastBonds = milker.step(a.context)  # this updates bonds.\n",
    "    \n",
    "    data = a.get_data()  # save data and step, and delete the simulation\n",
    "    \n",
    "    del a\n",
    "    \n",
    "    reporter.blocks_only = False  # Write output hdf5-files only for blocks\n",
    "    \n",
    "    time.sleep(0.2)  # wait 200ms for sanity (to let garbage collector do its magic)\n",
    "    positions_all_iterations.append(position_curr_iteration)\n",
    "\n",
    "reporter.dump_data()"
   ]
  }
 ],
 "metadata": {
  "kernelspec": {
   "display_name": "jupyter-gpu-openmm",
   "language": "python",
   "name": "python3"
  },
  "language_info": {
   "codemirror_mode": {
    "name": "ipython",
    "version": 3
   },
   "file_extension": ".py",
   "mimetype": "text/x-python",
   "name": "python",
   "nbconvert_exporter": "python",
   "pygments_lexer": "ipython3",
   "version": "3.10.10"
  }
 },
 "nbformat": 4,
 "nbformat_minor": 2
}
