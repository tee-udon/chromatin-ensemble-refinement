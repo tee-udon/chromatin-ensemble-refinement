{
 "cells": [
  {
   "cell_type": "code",
   "execution_count": 1,
   "metadata": {},
   "outputs": [],
   "source": [
    "# Load necessary modules and dataset \n",
    "import sys\n",
    "sys.path.append(r\"/mnt/ceph/users/tudomlumleart/00_VirtualEnvironments/teeu/lib/python3.10/site-packages\")\n",
    "sys.path.append(r\"/mnt/home/tudomlumleart/.local/lib/python3.10/site-packages/\")\n",
    "sys.path.append(r\"/mnt/home/tudomlumleart/ceph/00_VirtualEnvironments/jupyber-gpu/lib/python3.10/site-packages\")\n",
    "\n",
    "import matplotlib.pyplot as plt\n",
    "from functions import *\n",
    "from utils import *\n",
    "\n",
    "os.environ[\"XLA_PYTHON_CLIENT_MEM_FRACTION\"] = \".1\"\n",
    "os.environ[\"XLA_PYTHON_CLIENT_PREALLOCATE\"] = \"false\"  # add this\n",
    "os.environ[\"XLA_PYTHON_CLIENT_ALLOCATOR\"] = \"platform\"\n",
    "\n",
    "jax.config.update(\"jax_enable_x64\", True)"
   ]
  },
  {
   "cell_type": "code",
   "execution_count": null,
   "metadata": {},
   "outputs": [],
   "source": [
    "# Load the data from the dataset \n",
    "dataset_dir = '/mnt/home/tudomlumleart/ceph/03_GaussianChainSimulation/20240627/dataset_100_10_20_10_1000_40.0_10000.pkl'\n",
    "\n",
    "dataset_list, param_dict = load_dataset(dataset_dir)\n",
    "\n",
    "template_list = dataset_list[0]['template_chain_list']\n",
    "X = dataset_list[0]['observation_list']\n",
    "label_list = dataset_list[0]['labels']\n",
    "\n",
    "observations_flatten = [squareform(pdist(x)).flatten() for x in X]\n",
    "\n",
    "# generate weight of each label from label_list\n",
    "true_weights = np.array([np.sum(label_list == i) for i in np.unique(label_list)]) / len(label_list)\n",
    "templates_flatten = [squareform(pdist(x)).flatten() for x in template_list]\n",
    "\n",
    "# Generate random walk for guessing structures\n",
    "num_monomers = param_dict['num_monomers']\n",
    "mean_bond_length = param_dict['mean_bond_length']\n",
    "std_bond_length = param_dict['std_bond_length'] \n",
    "num_templates = param_dict['num_templates']\n",
    "measurement_error = param_dict['noise_std']\n",
    "num_observations = param_dict['num_observations']\n",
    "num_probes = num_monomers\n",
    "num_candidates = num_templates"
   ]
  }
 ],
 "metadata": {
  "kernelspec": {
   "display_name": "jupyter-gpu-openmm",
   "language": "python",
   "name": "jupyter-gpu-openmm"
  },
  "language_info": {
   "codemirror_mode": {
    "name": "ipython",
    "version": 3
   },
   "file_extension": ".py",
   "mimetype": "text/x-python",
   "name": "python",
   "nbconvert_exporter": "python",
   "pygments_lexer": "ipython3",
   "version": "3.10.10"
  }
 },
 "nbformat": 4,
 "nbformat_minor": 2
}
