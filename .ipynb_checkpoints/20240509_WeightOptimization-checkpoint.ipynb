{
 "cells": [
  {
   "cell_type": "code",
   "execution_count": 77,
   "id": "f52dc27c-13b6-46bd-9cdf-c2cac7b62b91",
   "metadata": {
    "tags": []
   },
   "outputs": [],
   "source": [
    "from functions import *"
   ]
  },
  {
   "cell_type": "code",
   "execution_count": 45,
   "id": "651a091f-be81-46d7-ae8e-b838bbafb02b",
   "metadata": {},
   "outputs": [],
   "source": [
    "def likelihood(dmap_flat, ref_dmap_flat, measurement_error, num_probes):\n",
    "    \"\"\" \n",
    "    \"\"\"\n",
    "    return jnp.prod(jnp.array(likelihood_(dmap_flat, ref_dmap_flat, measurement_error, num_probes)))\n",
    "    "
   ]
  },
  {
   "cell_type": "code",
   "execution_count": 46,
   "id": "7e390844-2773-45fd-af93-b82b133ea0dc",
   "metadata": {
    "tags": []
   },
   "outputs": [],
   "source": [
    "def likelihood_(dmap_flat, ref_dmap_flat, measurement_error, num_probes):\n",
    "    \"\"\"\n",
    "    \"\"\"\n",
    "    # Calculate the difference between distance map and reference \n",
    "    # distance map\n",
    "    subtraction_map_sq = (dmap_flat - ref_dmap_flat)**2\n",
    "    sum_subtraction_map_sq = jnp.sum(subtraction_map_sq)\n",
    "    \n",
    "    # Calculate the normalization factor\n",
    "    normalization_factor = 1/((jnp.sqrt(2*np.pi)*measurement_error)**((num_probes)**2))\n",
    "    \n",
    "    # Calculate the gaussian term \n",
    "    gaussian_term = jnp.exp(-jnp.sum(sum_subtraction_map_sq)/(2*measurement_error**2))\n",
    "    \n",
    "    # print('Scaling factor = {}'.format(normalization_factor))\n",
    "    # print('Gaussian term = {}'.format(gaussian_term))\n",
    "    \n",
    "    return normalization_factor, gaussian_term"
   ]
  },
  {
   "cell_type": "code",
   "execution_count": 47,
   "id": "dd4c5f54-d39e-4b94-a883-e6fbb203ca9a",
   "metadata": {
    "tags": []
   },
   "outputs": [],
   "source": [
    "def loglikelihood(dmap_flat, ref_dmap_flat, measurement_error, num_probes):\n",
    "    \"\"\"\n",
    "    \"\"\"\n",
    "    return jnp.sum(jnp.array(loglikelihood_(dmap_flat, ref_dmap_flat, measurement_error, num_probes)))"
   ]
  },
  {
   "cell_type": "code",
   "execution_count": 48,
   "id": "9de869ab-c896-4cb6-b350-06d7e0e99b51",
   "metadata": {
    "tags": []
   },
   "outputs": [],
   "source": [
    "def loglikelihood_(dmap_flat, ref_dmap_flat, measurement_error, num_probes):\n",
    "    \"\"\" \n",
    "    \"\"\"\n",
    "    # Calculate the difference between distance map and reference \n",
    "    # distance map\n",
    "    subtraction_map_sq = (dmap_flat - ref_dmap_flat)**2\n",
    "    sum_subtraction_map_sq = jnp.sum(subtraction_map_sq)\n",
    "    \n",
    "    # Calculate the normalization factor\n",
    "    normalization_factor = -num_probes**2 * jnp.log(jnp.sqrt(2*np.pi*measurement_error**2))\n",
    "    \n",
    "    # Calculate the gaussian term \n",
    "    gaussian_term = -jnp.sum(sum_subtraction_map_sq)/(2*measurement_error**2)\n",
    "    \n",
    "    # print('Scaling factor = {}'.format(normalization_factor))\n",
    "    # print('Gaussian term = {}'.format(gaussian_term))\n",
    "    \n",
    "    return normalization_factor, gaussian_term"
   ]
  },
  {
   "cell_type": "code",
   "execution_count": 92,
   "id": "824cba62-6682-46ad-9744-ca33836e2f5e",
   "metadata": {
    "tags": []
   },
   "outputs": [],
   "source": [
    "def prior(dmap_flat, num_probes):\n",
    "    \"\"\"\n",
    "    \"\"\"\n",
    "    return jnp.prod(jnp.array(prior_(dmap_flat, num_probes)))"
   ]
  },
  {
   "cell_type": "code",
   "execution_count": 89,
   "id": "1161d841-2b7c-4a81-9d3f-5cc5aa74b5f1",
   "metadata": {
    "tags": []
   },
   "outputs": [],
   "source": [
    "def prior_(dmap_flat, num_probes):\n",
    "    \"\"\"\n",
    "    \"\"\"\n",
    "    # Get 2D map back to simplify the expression \n",
    "    dmap = jnp.reshape(dmap_flat, [num_probes, num_probes])\n",
    "    \n",
    "    # Calculate the squared end-to-end distance \n",
    "    R_sq = dmap[0][-1] ** 2\n",
    "    \n",
    "    # Calculate the average bond length\n",
    "    b = jnp.mean(jnp.diag(dmap, 1))\n",
    "    \n",
    "    N = num_probes\n",
    "    \n",
    "    # Calculate the probability\n",
    "    scaling_factor = (3/(2*np.pi*N*b**2)) ** 1.5\n",
    "    gaussian_term = jnp.exp(-3*R_sq/(2*N*b**2))\n",
    "    \n",
    "    # print('Scaling factor = {}'.format(scaling_factor))\n",
    "    # print('Gaussian term = {}'.format(gaussian_term))\n",
    "    \n",
    "    return scaling_factor, gaussian_term "
   ]
  },
  {
   "cell_type": "code",
   "execution_count": 90,
   "id": "45020e52-466e-4390-b9cf-eeae2ba3fd6a",
   "metadata": {
    "tags": []
   },
   "outputs": [],
   "source": [
    "def logprior(dmap_flat, num_probes):\n",
    "    \"\"\"\n",
    "    \"\"\"\n",
    "    return jnp.sum(jnp.array(logprior_(dmap_flat, num_probes)))"
   ]
  },
  {
   "cell_type": "code",
   "execution_count": 91,
   "id": "e6ab1ff2-167f-4c66-b3af-260f8ef8dd6c",
   "metadata": {
    "tags": []
   },
   "outputs": [],
   "source": [
    "def logprior_(dmap_flat, num_probes):\n",
    "    \"\"\"\n",
    "    \"\"\"\n",
    "    # Get 2D map back to simplify the expression \n",
    "    dmap = jnp.reshape(dmap_flat, [num_probes, num_probes])\n",
    "    \n",
    "    # Calculate the squared end-to-end distance \n",
    "    R_sq = dmap[0][-1] ** 2\n",
    "    \n",
    "    # Calculate the average bond length\n",
    "    b = jnp.mean(jnp.diag(dmap, 1))\n",
    "    \n",
    "    N = num_probes\n",
    "    \n",
    "    # Calculate the probability\n",
    "    scaling_factor = 1.5 * jnp.log(3/(2*np.pi*N*b**2))\n",
    "    gaussian_term = -3*R_sq/(2*N*b**2)\n",
    "    \n",
    "    # print('Scaling factor = {}'.format(scaling_factor))\n",
    "    # print('Gaussian term = {}'.format(gaussian_term))\n",
    "    \n",
    "    return scaling_factor, gaussian_term "
   ]
  },
  {
   "cell_type": "code",
   "execution_count": 53,
   "id": "c9e99e66-7ed4-415d-beb1-7ab6a02836b3",
   "metadata": {
    "tags": []
   },
   "outputs": [],
   "source": [
    "num_monomers = 20\n",
    "mean_bond_length = 1\n",
    "std_bond_length = 20\n",
    "\n",
    "template_chain = generate_gaussian_chain(num_monomers, mean_bond_length, std_bond_length)"
   ]
  },
  {
   "cell_type": "code",
   "execution_count": 54,
   "id": "1dbdc162-a744-4fcb-acfb-9c5a8c6b4d82",
   "metadata": {
    "tags": []
   },
   "outputs": [],
   "source": [
    "num_observations = 10\n",
    "gaussian_noise_std = 10\n",
    "\n",
    "observations = generate_observations(template_chain, num_observations, gaussian_noise_std)"
   ]
  },
  {
   "cell_type": "code",
   "execution_count": 55,
   "id": "da5c3c3d-e124-4469-a93b-7becb83ee0bf",
   "metadata": {
    "tags": []
   },
   "outputs": [],
   "source": [
    "template_chain_flatten = generate_flatten_distance_map(template_chain)\n",
    "observations_flatten = [generate_flatten_distance_map(c) for c in observations]"
   ]
  },
  {
   "cell_type": "code",
   "execution_count": 56,
   "id": "f74aa710-46de-4093-8d34-ca1a5c0763be",
   "metadata": {
    "tags": []
   },
   "outputs": [],
   "source": [
    "measurement_error = 10\n",
    "num_probes = num_monomers\n",
    "\n",
    "ll_template = loglikelihood(template_chain_flatten, template_chain_flatten, measurement_error, num_probes)"
   ]
  },
  {
   "cell_type": "code",
   "execution_count": 57,
   "id": "324fcdd4-ecf5-4409-b915-ee13add4e8f5",
   "metadata": {
    "tags": []
   },
   "outputs": [],
   "source": [
    "measurement_error = 10\n",
    "lls = [loglikelihood(template_chain_flatten, x, measurement_error, num_probes) for x in observations_flatten]"
   ]
  },
  {
   "cell_type": "code",
   "execution_count": 58,
   "id": "8c48d1be-d90b-4176-a0b8-7f628f480c3c",
   "metadata": {
    "tags": []
   },
   "outputs": [
    {
     "data": {
      "text/plain": [
       "Array(0., dtype=float32)"
      ]
     },
     "execution_count": 58,
     "metadata": {},
     "output_type": "execute_result"
    }
   ],
   "source": [
    "likelihood(template_chain_flatten, observations_flatten[0], measurement_error, num_probes)"
   ]
  },
  {
   "cell_type": "code",
   "execution_count": 59,
   "id": "440e70ec-e1dd-4ee7-b453-dfc134a330cf",
   "metadata": {
    "tags": []
   },
   "outputs": [
    {
     "data": {
      "text/plain": [
       "Array(9.447387e-09, dtype=float32)"
      ]
     },
     "execution_count": 59,
     "metadata": {},
     "output_type": "execute_result"
    }
   ],
   "source": [
    "prior(template_chain_flatten, num_probes)"
   ]
  },
  {
   "cell_type": "code",
   "execution_count": 60,
   "id": "b914e2b1-0562-41e2-9ec2-beeef0d44c88",
   "metadata": {
    "tags": []
   },
   "outputs": [
    {
     "data": {
      "text/plain": [
       "Array(-1565.2112, dtype=float32)"
      ]
     },
     "execution_count": 60,
     "metadata": {},
     "output_type": "execute_result"
    }
   ],
   "source": [
    "jscipy.special.logsumexp(jnp.array(lls))"
   ]
  },
  {
   "cell_type": "code",
   "execution_count": 85,
   "id": "53ed5d1f-f2a3-4c15-acbd-26609b593dd8",
   "metadata": {},
   "outputs": [],
   "source": [
    "def generate_posterior(templates, observations, template_weights):\n",
    "    \"\"\"\n",
    "    \"\"\"\n",
    "    templates_flatten = [generate_flatten_distance_map(t) for t in templates]\n",
    "    observations_flatten = [generate_flatten_distance_map(o) for o in observations]\n",
    "    \n",
    "    weight_prior = 1/len(template_weights) \n",
    "    total_posterior = 0\n",
    "    \n",
    "    for o in observations_flatten:\n",
    "        curr_obs_list = []\n",
    "        for t, alpha in zip(templates_flatten, template_weights):\n",
    "            val = 0\n",
    "            val += loglikelihood(o, t, measurement_error, num_probes)\n",
    "            val += logprior(t, num_probes)\n",
    "            val += jnp.log(alpha)\n",
    "            val += jnp.log(weight_prior)\n",
    "            curr_obs_list.append(val)\n",
    "        curr_obs_list = jnp.array(curr_obs_list) \n",
    "        total_posterior += jscipy.special.logsumexp(curr_obs_list)\n",
    "    \n",
    "    return total_posterior"
   ]
  },
  {
   "cell_type": "code",
   "execution_count": null,
   "id": "e4cca90c-962a-487c-b052-3c5bfa2cacef",
   "metadata": {},
   "outputs": [],
   "source": []
  },
  {
   "cell_type": "code",
   "execution_count": 62,
   "id": "14a458b3-50fd-4f4b-bcb0-91d1c60d710e",
   "metadata": {
    "tags": []
   },
   "outputs": [
    {
     "data": {
      "text/plain": [
       "Array(-16892.314, dtype=float32)"
      ]
     },
     "execution_count": 62,
     "metadata": {},
     "output_type": "execute_result"
    }
   ],
   "source": [
    "generate_posterior([template_chain], observations, [1])"
   ]
  },
  {
   "cell_type": "code",
   "execution_count": 63,
   "id": "befd5779-b1cc-46d2-b0f4-53353887c826",
   "metadata": {
    "tags": []
   },
   "outputs": [],
   "source": [
    "num_monomers = 20\n",
    "mean_bond_length = 1\n",
    "std_bond_length = 20\n",
    "\n",
    "template_chain_1 = generate_gaussian_chain(num_monomers, mean_bond_length, std_bond_length)\n",
    "\n",
    "num_observations = 5\n",
    "gaussian_noise_std = 10\n",
    "\n",
    "observations_1 = generate_observations(template_chain_1, num_observations, gaussian_noise_std)\n",
    "\n",
    "template_chain_2 = generate_gaussian_chain(num_monomers, mean_bond_length, std_bond_length)\n",
    "\n",
    "num_observations = 10\n",
    "gaussian_noise_std = 10\n",
    "\n",
    "observations_2 = generate_observations(template_chain_2, num_observations, gaussian_noise_std)\n",
    "\n",
    "template_chain_3 = generate_gaussian_chain(num_monomers, mean_bond_length, std_bond_length)\n",
    "\n",
    "num_observations = 15\n",
    "gaussian_noise_std = 10\n",
    "\n",
    "observations_3 = generate_observations(template_chain_3, num_observations, gaussian_noise_std)"
   ]
  },
  {
   "cell_type": "code",
   "execution_count": 64,
   "id": "49fdb06b-2623-49bb-b9ca-47f646771a04",
   "metadata": {
    "tags": []
   },
   "outputs": [],
   "source": [
    "templates_list = [template_chain_1, \n",
    "                  template_chain_2,\n",
    "                  template_chain_3]"
   ]
  },
  {
   "cell_type": "code",
   "execution_count": 65,
   "id": "589fa94d-469c-4673-954b-fe0bc5803706",
   "metadata": {
    "tags": []
   },
   "outputs": [],
   "source": [
    "observation_list = np.concatenate([observations_1, \n",
    "                                   observations_2, \n",
    "                                   observations_3])"
   ]
  },
  {
   "cell_type": "code",
   "execution_count": 66,
   "id": "b6c9787f-ef4a-443c-984d-6c982b7a6a11",
   "metadata": {
    "tags": []
   },
   "outputs": [
    {
     "data": {
      "text/plain": [
       "Array(-49961.812, dtype=float32)"
      ]
     },
     "execution_count": 66,
     "metadata": {},
     "output_type": "execute_result"
    }
   ],
   "source": [
    "generate_posterior(templates_list, observation_list, [5, 10, 15])"
   ]
  },
  {
   "cell_type": "code",
   "execution_count": 86,
   "id": "6b832894-2a49-43d4-8a97-a438a39cf955",
   "metadata": {
    "tags": []
   },
   "outputs": [],
   "source": [
    "def weight_objective(template_weights):\n",
    "    \"\"\"\n",
    "    \"\"\"\n",
    "    templates = templates_list\n",
    "    observations = observation_list \n",
    "    return generate_posterior(templates, observations, template_weights)"
   ]
  },
  {
   "cell_type": "code",
   "execution_count": 87,
   "id": "d207f899-6714-4a63-bd55-7b92df48d8fe",
   "metadata": {
    "tags": []
   },
   "outputs": [],
   "source": [
    "initial_weight_guess = [1., 1., 1.]"
   ]
  },
  {
   "cell_type": "code",
   "execution_count": 75,
   "id": "efd66016-a95f-475d-9529-ad9246a0e925",
   "metadata": {
    "tags": []
   },
   "outputs": [],
   "source": [
    "weight_objective_jacobian = jax.jacfwd(weight_objective)"
   ]
  },
  {
   "cell_type": "code",
   "execution_count": 79,
   "id": "6bca9fa7-cc5e-4d1b-91a3-228b7a34c681",
   "metadata": {
    "tags": []
   },
   "outputs": [],
   "source": [
    "import jaxopt"
   ]
  },
  {
   "cell_type": "code",
   "execution_count": 94,
   "id": "59cb63f9-0d79-4464-8534-db90742e175d",
   "metadata": {
    "tags": []
   },
   "outputs": [
    {
     "name": "stdout",
     "output_type": "stream",
     "text": [
      "WARNING: jaxopt.ZoomLineSearch: NaN or Inf values encountered in function values.\n",
      "INFO: jaxopt.ZoomLineSearch: Iter: 1 Minimum Decrease & Curvature Errors (stop. crit.): inf Stepsize:1.0  Decrease Error:inf  Curvature Error:inf \n",
      "WARNING: jaxopt.ZoomLineSearch: NaN or Inf values encountered in function values.\n",
      "INFO: jaxopt.ZoomLineSearch: Iter: 2 Minimum Decrease & Curvature Errors (stop. crit.): inf Stepsize:0.5  Decrease Error:inf  Curvature Error:inf \n",
      "WARNING: jaxopt.ZoomLineSearch: NaN or Inf values encountered in function values.\n",
      "INFO: jaxopt.ZoomLineSearch: Iter: 3 Minimum Decrease & Curvature Errors (stop. crit.): inf Stepsize:0.25  Decrease Error:inf  Curvature Error:inf \n",
      "WARNING: jaxopt.ZoomLineSearch: NaN or Inf values encountered in function values.\n",
      "INFO: jaxopt.ZoomLineSearch: Iter: 4 Minimum Decrease & Curvature Errors (stop. crit.): inf Stepsize:0.125  Decrease Error:inf  Curvature Error:inf \n",
      "INFO: jaxopt.ZoomLineSearch: Iter: 5 Minimum Decrease & Curvature Errors (stop. crit.): 3588.0302734375 Stepsize:0.0625  Decrease Error:0.0  Curvature Error:3588.0302734375 \n",
      "WARNING: jaxopt.ZoomLineSearch: NaN or Inf values encountered in function values.\n",
      "INFO: jaxopt.ZoomLineSearch: Iter: 6 Minimum Decrease & Curvature Errors (stop. crit.): inf Stepsize:0.09375  Decrease Error:inf  Curvature Error:inf \n",
      "WARNING: jaxopt.ZoomLineSearch: NaN or Inf values encountered in function values.\n",
      "INFO: jaxopt.ZoomLineSearch: Iter: 7 Minimum Decrease & Curvature Errors (stop. crit.): inf Stepsize:0.078125  Decrease Error:inf  Curvature Error:inf \n",
      "WARNING: jaxopt.ZoomLineSearch: NaN or Inf values encountered in function values.\n",
      "INFO: jaxopt.ZoomLineSearch: Iter: 8 Minimum Decrease & Curvature Errors (stop. crit.): inf Stepsize:0.0703125  Decrease Error:inf  Curvature Error:inf \n",
      "INFO: jaxopt.ZoomLineSearch: Iter: 9 Minimum Decrease & Curvature Errors (stop. crit.): 57620.1015625 Stepsize:0.06640625  Decrease Error:0.0  Curvature Error:57620.1015625 \n",
      "WARNING: jaxopt.ZoomLineSearch: NaN or Inf values encountered in function values.\n",
      "INFO: jaxopt.ZoomLineSearch: Iter: 10 Minimum Decrease & Curvature Errors (stop. crit.): inf Stepsize:0.068359375  Decrease Error:inf  Curvature Error:inf \n",
      "WARNING: jaxopt.ZoomLineSearch: NaN or Inf values encountered in function values.\n",
      "INFO: jaxopt.ZoomLineSearch: Iter: 11 Minimum Decrease & Curvature Errors (stop. crit.): inf Stepsize:0.0673828125  Decrease Error:inf  Curvature Error:inf \n",
      "WARNING: jaxopt.ZoomLineSearch: NaN or Inf values encountered in function values.\n",
      "INFO: jaxopt.ZoomLineSearch: Iter: 12 Minimum Decrease & Curvature Errors (stop. crit.): inf Stepsize:0.06689453125  Decrease Error:inf  Curvature Error:inf \n",
      "INFO: jaxopt.ZoomLineSearch: Iter: 13 Minimum Decrease & Curvature Errors (stop. crit.): 921622.375 Stepsize:0.066650390625  Decrease Error:0.0  Curvature Error:921622.375 \n",
      "WARNING: jaxopt.ZoomLineSearch: NaN or Inf values encountered in function values.\n",
      "INFO: jaxopt.ZoomLineSearch: Iter: 14 Minimum Decrease & Curvature Errors (stop. crit.): inf Stepsize:0.0667724609375  Decrease Error:inf  Curvature Error:inf \n",
      "WARNING: jaxopt.ZoomLineSearch: NaN or Inf values encountered in function values.\n",
      "INFO: jaxopt.ZoomLineSearch: Iter: 15 Minimum Decrease & Curvature Errors (stop. crit.): inf Stepsize:0.06671142578125  Decrease Error:inf  Curvature Error:inf \n",
      "WARNING: jaxopt.ZoomLineSearch: NaN or Inf values encountered in function values.\n",
      "INFO: jaxopt.ZoomLineSearch: Iter: 16 Minimum Decrease & Curvature Errors (stop. crit.): inf Stepsize:0.066680908203125  Decrease Error:inf  Curvature Error:inf \n",
      "INFO: jaxopt.ZoomLineSearch: Iter: 17 Minimum Decrease & Curvature Errors (stop. crit.): 14745622.0 Stepsize:0.0666656494140625  Decrease Error:0.0  Curvature Error:14745622.0 \n",
      "WARNING: jaxopt.ZoomLineSearch: NaN or Inf values encountered in function values.\n",
      "INFO: jaxopt.ZoomLineSearch: Iter: 18 Minimum Decrease & Curvature Errors (stop. crit.): inf Stepsize:0.06667327880859375  Decrease Error:inf  Curvature Error:inf \n",
      "WARNING: jaxopt.ZoomLineSearch: NaN or Inf values encountered in function values.\n",
      "INFO: jaxopt.ZoomLineSearch: Iter: 19 Minimum Decrease & Curvature Errors (stop. crit.): inf Stepsize:0.06666946411132812  Decrease Error:inf  Curvature Error:inf \n",
      "WARNING: jaxopt.ZoomLineSearch: NaN or Inf values encountered in function values.\n",
      "INFO: jaxopt.ZoomLineSearch: Iter: 20 Minimum Decrease & Curvature Errors (stop. crit.): inf Stepsize:0.06666755676269531  Decrease Error:inf  Curvature Error:inf \n",
      "INFO: jaxopt.ZoomLineSearch: Iter: 21 Minimum Decrease & Curvature Errors (stop. crit.): 235929616.0 Stepsize:0.0666666030883789  Decrease Error:0.0  Curvature Error:235929616.0 \n",
      "WARNING: jaxopt.ZoomLineSearch: Length of searched interval has been reduced below threshold.\n",
      "WARNING: jaxopt.ZoomLineSearch: NaN or Inf values encountered in function values.\n",
      "WARNING: jaxopt.ZoomLineSearch: Returning stepsize with sufficient decrease but curvature condition not satisfied.\n",
      "INFO: jaxopt.ZoomLineSearch: Iter: 22 Minimum Decrease & Curvature Errors (stop. crit.): inf Stepsize:0.0666666030883789  Decrease Error:inf  Curvature Error:inf \n",
      "INFO: jaxopt.LBFGS: Iter: 1 Gradient Norm (stop. crit.): 15728640.0 Objective Value:-50254.4609375  Stepsize:0.0666666030883789  Number Linesearch Iterations:22 \n"
     ]
    },
    {
     "ename": "KeyboardInterrupt",
     "evalue": "",
     "output_type": "error",
     "traceback": [
      "\u001b[0;31m---------------------------------------------------------------------------\u001b[0m",
      "\u001b[0;31mKeyboardInterrupt\u001b[0m                         Traceback (most recent call last)",
      "Cell \u001b[0;32mIn[94], line 2\u001b[0m\n\u001b[1;32m      1\u001b[0m solver \u001b[38;5;241m=\u001b[39m jaxopt\u001b[38;5;241m.\u001b[39mLBFGS(fun\u001b[38;5;241m=\u001b[39mweight_objective, verbose\u001b[38;5;241m=\u001b[39m\u001b[38;5;28;01mTrue\u001b[39;00m)\n\u001b[0;32m----> 2\u001b[0m res \u001b[38;5;241m=\u001b[39m \u001b[43msolver\u001b[49m\u001b[38;5;241;43m.\u001b[39;49m\u001b[43mrun\u001b[49m\u001b[43m(\u001b[49m\u001b[43mjnp\u001b[49m\u001b[38;5;241;43m.\u001b[39;49m\u001b[43marray\u001b[49m\u001b[43m(\u001b[49m\u001b[43minitial_weight_guess\u001b[49m\u001b[43m)\u001b[49m\u001b[43m)\u001b[49m\n",
      "File \u001b[0;32m~/venv/lib/python3.10/site-packages/jaxopt/_src/base.py:359\u001b[0m, in \u001b[0;36mIterativeSolver.run\u001b[0;34m(self, init_params, *args, **kwargs)\u001b[0m\n\u001b[1;32m    352\u001b[0m   decorator \u001b[38;5;241m=\u001b[39m idf\u001b[38;5;241m.\u001b[39mcustom_root(\n\u001b[1;32m    353\u001b[0m       \u001b[38;5;28mself\u001b[39m\u001b[38;5;241m.\u001b[39moptimality_fun,\n\u001b[1;32m    354\u001b[0m       has_aux\u001b[38;5;241m=\u001b[39m\u001b[38;5;28;01mTrue\u001b[39;00m,\n\u001b[1;32m    355\u001b[0m       solve\u001b[38;5;241m=\u001b[39m\u001b[38;5;28mself\u001b[39m\u001b[38;5;241m.\u001b[39mimplicit_diff_solve,\n\u001b[1;32m    356\u001b[0m       reference_signature\u001b[38;5;241m=\u001b[39mreference_signature)\n\u001b[1;32m    357\u001b[0m   run \u001b[38;5;241m=\u001b[39m decorator(run)\n\u001b[0;32m--> 359\u001b[0m \u001b[38;5;28;01mreturn\u001b[39;00m \u001b[43mrun\u001b[49m\u001b[43m(\u001b[49m\u001b[43minit_params\u001b[49m\u001b[43m,\u001b[49m\u001b[43m \u001b[49m\u001b[38;5;241;43m*\u001b[39;49m\u001b[43margs\u001b[49m\u001b[43m,\u001b[49m\u001b[43m \u001b[49m\u001b[38;5;241;43m*\u001b[39;49m\u001b[38;5;241;43m*\u001b[39;49m\u001b[43mkwargs\u001b[49m\u001b[43m)\u001b[49m\n",
      "File \u001b[0;32m~/venv/lib/python3.10/site-packages/jaxopt/_src/implicit_diff.py:251\u001b[0m, in \u001b[0;36m_custom_root.<locals>.wrapped_solver_fun\u001b[0;34m(*args, **kwargs)\u001b[0m\n\u001b[1;32m    249\u001b[0m args, kwargs \u001b[38;5;241m=\u001b[39m _signature_bind(solver_fun_signature, \u001b[38;5;241m*\u001b[39margs, \u001b[38;5;241m*\u001b[39m\u001b[38;5;241m*\u001b[39mkwargs)\n\u001b[1;32m    250\u001b[0m keys, vals \u001b[38;5;241m=\u001b[39m \u001b[38;5;28mlist\u001b[39m(kwargs\u001b[38;5;241m.\u001b[39mkeys()), \u001b[38;5;28mlist\u001b[39m(kwargs\u001b[38;5;241m.\u001b[39mvalues())\n\u001b[0;32m--> 251\u001b[0m \u001b[38;5;28;01mreturn\u001b[39;00m \u001b[43mmake_custom_vjp_solver_fun\u001b[49m\u001b[43m(\u001b[49m\u001b[43msolver_fun\u001b[49m\u001b[43m,\u001b[49m\u001b[43m \u001b[49m\u001b[43mkeys\u001b[49m\u001b[43m)\u001b[49m\u001b[43m(\u001b[49m\u001b[38;5;241;43m*\u001b[39;49m\u001b[43margs\u001b[49m\u001b[43m,\u001b[49m\u001b[43m \u001b[49m\u001b[38;5;241;43m*\u001b[39;49m\u001b[43mvals\u001b[49m\u001b[43m)\u001b[49m\n",
      "    \u001b[0;31m[... skipping hidden 1 frame]\u001b[0m\n",
      "File \u001b[0;32m/mnt/sw/nix/store/gpkc8q6zjnp3n3h3w9hbmbj6gjbxs85w-python-3.10.10-view/lib/python3.10/site-packages/jax/_src/custom_derivatives.py:548\u001b[0m, in \u001b[0;36mcustom_vjp.__call__\u001b[0;34m(self, *args, **kwargs)\u001b[0m\n\u001b[1;32m    545\u001b[0m flat_fwd, out_trees \u001b[38;5;241m=\u001b[39m _flatten_fwd(fwd, primal_name, fwd_name, in_tree,\n\u001b[1;32m    546\u001b[0m                                    out_type)\n\u001b[1;32m    547\u001b[0m flat_bwd \u001b[38;5;241m=\u001b[39m _flatten_bwd(bwd, in_tree, in_avals, out_trees)\n\u001b[0;32m--> 548\u001b[0m out_flat \u001b[38;5;241m=\u001b[39m \u001b[43mcustom_vjp_call_p\u001b[49m\u001b[38;5;241;43m.\u001b[39;49m\u001b[43mbind\u001b[49m\u001b[43m(\u001b[49m\u001b[43mflat_fun\u001b[49m\u001b[43m,\u001b[49m\u001b[43m \u001b[49m\u001b[43mflat_fwd\u001b[49m\u001b[43m,\u001b[49m\u001b[43m \u001b[49m\u001b[43mflat_bwd\u001b[49m\u001b[43m,\u001b[49m\n\u001b[1;32m    549\u001b[0m \u001b[43m                                  \u001b[49m\u001b[38;5;241;43m*\u001b[39;49m\u001b[43margs_flat\u001b[49m\u001b[43m,\u001b[49m\u001b[43m \u001b[49m\u001b[43mout_trees\u001b[49m\u001b[38;5;241;43m=\u001b[39;49m\u001b[43mout_trees\u001b[49m\u001b[43m)\u001b[49m\n\u001b[1;32m    550\u001b[0m _, (out_tree, _) \u001b[38;5;241m=\u001b[39m lu\u001b[38;5;241m.\u001b[39mmerge_linear_aux(out_type, out_trees)\n\u001b[1;32m    551\u001b[0m \u001b[38;5;28;01mreturn\u001b[39;00m tree_unflatten(out_tree, out_flat)\n",
      "File \u001b[0;32m/mnt/sw/nix/store/gpkc8q6zjnp3n3h3w9hbmbj6gjbxs85w-python-3.10.10-view/lib/python3.10/site-packages/jax/_src/custom_derivatives.py:668\u001b[0m, in \u001b[0;36mCustomVJPCallPrimitive.bind\u001b[0;34m(self, fun, fwd, bwd, out_trees, *args)\u001b[0m\n\u001b[1;32m    666\u001b[0m tracers \u001b[38;5;241m=\u001b[39m \u001b[38;5;28mmap\u001b[39m(top_trace\u001b[38;5;241m.\u001b[39mfull_raise, args)  \u001b[38;5;66;03m# type: ignore\u001b[39;00m\n\u001b[1;32m    667\u001b[0m bwd_ \u001b[38;5;241m=\u001b[39m lu\u001b[38;5;241m.\u001b[39mwrap_init(\u001b[38;5;28;01mlambda\u001b[39;00m \u001b[38;5;241m*\u001b[39margs: bwd\u001b[38;5;241m.\u001b[39mcall_wrapped(\u001b[38;5;241m*\u001b[39margs))\n\u001b[0;32m--> 668\u001b[0m outs \u001b[38;5;241m=\u001b[39m \u001b[43mtop_trace\u001b[49m\u001b[38;5;241;43m.\u001b[39;49m\u001b[43mprocess_custom_vjp_call\u001b[49m\u001b[43m(\u001b[49m\u001b[38;5;28;43mself\u001b[39;49m\u001b[43m,\u001b[49m\u001b[43m \u001b[49m\u001b[43mfun\u001b[49m\u001b[43m,\u001b[49m\u001b[43m \u001b[49m\u001b[43mfwd\u001b[49m\u001b[43m,\u001b[49m\u001b[43m \u001b[49m\u001b[43mbwd_\u001b[49m\u001b[43m,\u001b[49m\u001b[43m \u001b[49m\u001b[43mtracers\u001b[49m\u001b[43m,\u001b[49m\n\u001b[1;32m    669\u001b[0m \u001b[43m                                         \u001b[49m\u001b[43mout_trees\u001b[49m\u001b[38;5;241;43m=\u001b[39;49m\u001b[43mout_trees\u001b[49m\u001b[43m)\u001b[49m\n\u001b[1;32m    670\u001b[0m fst, env_trace_todo \u001b[38;5;241m=\u001b[39m lu\u001b[38;5;241m.\u001b[39mmerge_linear_aux(env_trace_todo1, env_trace_todo2)\n\u001b[1;32m    671\u001b[0m \u001b[38;5;28;01mif\u001b[39;00m fst:\n",
      "File \u001b[0;32m/mnt/sw/nix/store/gpkc8q6zjnp3n3h3w9hbmbj6gjbxs85w-python-3.10.10-view/lib/python3.10/site-packages/jax/_src/core.py:747\u001b[0m, in \u001b[0;36mEvalTrace.process_custom_vjp_call\u001b[0;34m(***failed resolving arguments***)\u001b[0m\n\u001b[1;32m    745\u001b[0m \u001b[38;5;28;01mdel\u001b[39;00m primitive, fwd, bwd  \u001b[38;5;66;03m# Unused.\u001b[39;00m\n\u001b[1;32m    746\u001b[0m \u001b[38;5;28;01mwith\u001b[39;00m new_sublevel():\n\u001b[0;32m--> 747\u001b[0m   \u001b[38;5;28;01mreturn\u001b[39;00m \u001b[43mfun\u001b[49m\u001b[38;5;241;43m.\u001b[39;49m\u001b[43mcall_wrapped\u001b[49m\u001b[43m(\u001b[49m\u001b[38;5;241;43m*\u001b[39;49m\u001b[43mtracers\u001b[49m\u001b[43m)\u001b[49m\n",
      "File \u001b[0;32m/mnt/sw/nix/store/gpkc8q6zjnp3n3h3w9hbmbj6gjbxs85w-python-3.10.10-view/lib/python3.10/site-packages/jax/_src/linear_util.py:165\u001b[0m, in \u001b[0;36mWrappedFun.call_wrapped\u001b[0;34m(self, *args, **kwargs)\u001b[0m\n\u001b[1;32m    162\u001b[0m gen \u001b[38;5;241m=\u001b[39m gen_static_args \u001b[38;5;241m=\u001b[39m out_store \u001b[38;5;241m=\u001b[39m \u001b[38;5;28;01mNone\u001b[39;00m\n\u001b[1;32m    164\u001b[0m \u001b[38;5;28;01mtry\u001b[39;00m:\n\u001b[0;32m--> 165\u001b[0m   ans \u001b[38;5;241m=\u001b[39m \u001b[38;5;28;43mself\u001b[39;49m\u001b[38;5;241;43m.\u001b[39;49m\u001b[43mf\u001b[49m\u001b[43m(\u001b[49m\u001b[38;5;241;43m*\u001b[39;49m\u001b[43margs\u001b[49m\u001b[43m,\u001b[49m\u001b[43m \u001b[49m\u001b[38;5;241;43m*\u001b[39;49m\u001b[38;5;241;43m*\u001b[39;49m\u001b[38;5;28;43mdict\u001b[39;49m\u001b[43m(\u001b[49m\u001b[38;5;28;43mself\u001b[39;49m\u001b[38;5;241;43m.\u001b[39;49m\u001b[43mparams\u001b[49m\u001b[43m,\u001b[49m\u001b[43m \u001b[49m\u001b[38;5;241;43m*\u001b[39;49m\u001b[38;5;241;43m*\u001b[39;49m\u001b[43mkwargs\u001b[49m\u001b[43m)\u001b[49m\u001b[43m)\u001b[49m\n\u001b[1;32m    166\u001b[0m \u001b[38;5;28;01mexcept\u001b[39;00m:\n\u001b[1;32m    167\u001b[0m   \u001b[38;5;66;03m# Some transformations yield from inside context managers, so we have to\u001b[39;00m\n\u001b[1;32m    168\u001b[0m   \u001b[38;5;66;03m# interrupt them before reraising the exception. Otherwise they will only\u001b[39;00m\n\u001b[1;32m    169\u001b[0m   \u001b[38;5;66;03m# get garbage-collected at some later time, running their cleanup tasks\u001b[39;00m\n\u001b[1;32m    170\u001b[0m   \u001b[38;5;66;03m# only after this exception is handled, which can corrupt the global\u001b[39;00m\n\u001b[1;32m    171\u001b[0m   \u001b[38;5;66;03m# state.\u001b[39;00m\n\u001b[1;32m    172\u001b[0m   \u001b[38;5;28;01mwhile\u001b[39;00m stack:\n",
      "File \u001b[0;32m~/venv/lib/python3.10/site-packages/jaxopt/_src/implicit_diff.py:207\u001b[0m, in \u001b[0;36m_custom_root.<locals>.make_custom_vjp_solver_fun.<locals>.solver_fun_flat\u001b[0;34m(*flat_args)\u001b[0m\n\u001b[1;32m    204\u001b[0m \u001b[38;5;129m@jax\u001b[39m\u001b[38;5;241m.\u001b[39mcustom_vjp\n\u001b[1;32m    205\u001b[0m \u001b[38;5;28;01mdef\u001b[39;00m \u001b[38;5;21msolver_fun_flat\u001b[39m(\u001b[38;5;241m*\u001b[39mflat_args):\n\u001b[1;32m    206\u001b[0m   args, kwargs \u001b[38;5;241m=\u001b[39m _extract_kwargs(kwarg_keys, flat_args)\n\u001b[0;32m--> 207\u001b[0m   \u001b[38;5;28;01mreturn\u001b[39;00m \u001b[43msolver_fun\u001b[49m\u001b[43m(\u001b[49m\u001b[38;5;241;43m*\u001b[39;49m\u001b[43margs\u001b[49m\u001b[43m,\u001b[49m\u001b[43m \u001b[49m\u001b[38;5;241;43m*\u001b[39;49m\u001b[38;5;241;43m*\u001b[39;49m\u001b[43mkwargs\u001b[49m\u001b[43m)\u001b[49m\n",
      "File \u001b[0;32m~/venv/lib/python3.10/site-packages/jaxopt/_src/base.py:326\u001b[0m, in \u001b[0;36mIterativeSolver._run\u001b[0;34m(self, init_params, *args, **kwargs)\u001b[0m\n\u001b[1;32m    322\u001b[0m init_val \u001b[38;5;241m=\u001b[39m (opt_step, (args, kwargs))\n\u001b[1;32m    324\u001b[0m unroll \u001b[38;5;241m=\u001b[39m \u001b[38;5;28mself\u001b[39m\u001b[38;5;241m.\u001b[39m_get_unroll_option()\n\u001b[0;32m--> 326\u001b[0m many_step \u001b[38;5;241m=\u001b[39m \u001b[43mloop\u001b[49m\u001b[38;5;241;43m.\u001b[39;49m\u001b[43mwhile_loop\u001b[49m\u001b[43m(\u001b[49m\n\u001b[1;32m    327\u001b[0m \u001b[43m    \u001b[49m\u001b[43mcond_fun\u001b[49m\u001b[38;5;241;43m=\u001b[39;49m\u001b[38;5;28;43mself\u001b[39;49m\u001b[38;5;241;43m.\u001b[39;49m\u001b[43m_cond_fun\u001b[49m\u001b[43m,\u001b[49m\u001b[43m \u001b[49m\u001b[43mbody_fun\u001b[49m\u001b[38;5;241;43m=\u001b[39;49m\u001b[38;5;28;43mself\u001b[39;49m\u001b[38;5;241;43m.\u001b[39;49m\u001b[43m_body_fun\u001b[49m\u001b[43m,\u001b[49m\n\u001b[1;32m    328\u001b[0m \u001b[43m    \u001b[49m\u001b[43minit_val\u001b[49m\u001b[38;5;241;43m=\u001b[39;49m\u001b[43minit_val\u001b[49m\u001b[43m,\u001b[49m\u001b[43m \u001b[49m\u001b[43mmaxiter\u001b[49m\u001b[38;5;241;43m=\u001b[39;49m\u001b[38;5;28;43mself\u001b[39;49m\u001b[38;5;241;43m.\u001b[39;49m\u001b[43mmaxiter\u001b[49m\u001b[43m \u001b[49m\u001b[38;5;241;43m-\u001b[39;49m\u001b[43m \u001b[49m\u001b[38;5;241;43m1\u001b[39;49m\u001b[43m,\u001b[49m\u001b[43m \u001b[49m\u001b[43mjit\u001b[49m\u001b[38;5;241;43m=\u001b[39;49m\u001b[38;5;28;43mself\u001b[39;49m\u001b[38;5;241;43m.\u001b[39;49m\u001b[43mjit\u001b[49m\u001b[43m,\u001b[49m\n\u001b[1;32m    329\u001b[0m \u001b[43m    \u001b[49m\u001b[43munroll\u001b[49m\u001b[38;5;241;43m=\u001b[39;49m\u001b[43munroll\u001b[49m\u001b[43m)\u001b[49m[\u001b[38;5;241m0\u001b[39m]\n\u001b[1;32m    331\u001b[0m \u001b[38;5;28;01mreturn\u001b[39;00m tree_util\u001b[38;5;241m.\u001b[39mtree_map(\n\u001b[1;32m    332\u001b[0m     functools\u001b[38;5;241m.\u001b[39mpartial(_where, \u001b[38;5;28mself\u001b[39m\u001b[38;5;241m.\u001b[39mmaxiter \u001b[38;5;241m==\u001b[39m \u001b[38;5;241m0\u001b[39m), zero_step, many_step,\n\u001b[1;32m    333\u001b[0m     is_leaf\u001b[38;5;241m=\u001b[39m\u001b[38;5;28;01mlambda\u001b[39;00m x: x \u001b[38;5;129;01mis\u001b[39;00m \u001b[38;5;28;01mNone\u001b[39;00m)\n",
      "File \u001b[0;32m~/venv/lib/python3.10/site-packages/jaxopt/_src/loop.py:82\u001b[0m, in \u001b[0;36mwhile_loop\u001b[0;34m(cond_fun, body_fun, init_val, maxiter, unroll, jit)\u001b[0m\n\u001b[1;32m     77\u001b[0m \u001b[38;5;28;01mif\u001b[39;00m jit \u001b[38;5;129;01mand\u001b[39;00m fun \u001b[38;5;129;01mis\u001b[39;00m \u001b[38;5;129;01mnot\u001b[39;00m _while_loop_lax:\n\u001b[1;32m     78\u001b[0m   \u001b[38;5;66;03m# jit of a lax while_loop is redundant, and this jit would only\u001b[39;00m\n\u001b[1;32m     79\u001b[0m   \u001b[38;5;66;03m# constrain maxiter to be static where it is not required.\u001b[39;00m\n\u001b[1;32m     80\u001b[0m   fun \u001b[38;5;241m=\u001b[39m jax\u001b[38;5;241m.\u001b[39mjit(fun, static_argnums\u001b[38;5;241m=\u001b[39m(\u001b[38;5;241m0\u001b[39m, \u001b[38;5;241m1\u001b[39m, \u001b[38;5;241m3\u001b[39m))\n\u001b[0;32m---> 82\u001b[0m \u001b[38;5;28;01mreturn\u001b[39;00m \u001b[43mfun\u001b[49m\u001b[43m(\u001b[49m\u001b[43mcond_fun\u001b[49m\u001b[43m,\u001b[49m\u001b[43m \u001b[49m\u001b[43mbody_fun\u001b[49m\u001b[43m,\u001b[49m\u001b[43m \u001b[49m\u001b[43minit_val\u001b[49m\u001b[43m,\u001b[49m\u001b[43m \u001b[49m\u001b[43mmaxiter\u001b[49m\u001b[43m)\u001b[49m\n",
      "File \u001b[0;32m~/venv/lib/python3.10/site-packages/jaxopt/_src/loop.py:60\u001b[0m, in \u001b[0;36m_while_loop_lax\u001b[0;34m(cond_fun, body_fun, init_val, maxiter)\u001b[0m\n\u001b[1;32m     57\u001b[0m   val \u001b[38;5;241m=\u001b[39m body_fun(val)\n\u001b[1;32m     58\u001b[0m   \u001b[38;5;28;01mreturn\u001b[39;00m it\u001b[38;5;241m+\u001b[39m\u001b[38;5;241m1\u001b[39m, val\n\u001b[0;32m---> 60\u001b[0m \u001b[38;5;28;01mreturn\u001b[39;00m \u001b[43mjax\u001b[49m\u001b[38;5;241;43m.\u001b[39;49m\u001b[43mlax\u001b[49m\u001b[38;5;241;43m.\u001b[39;49m\u001b[43mwhile_loop\u001b[49m\u001b[43m(\u001b[49m\u001b[43m_cond_fun\u001b[49m\u001b[43m,\u001b[49m\u001b[43m \u001b[49m\u001b[43m_body_fun\u001b[49m\u001b[43m,\u001b[49m\u001b[43m \u001b[49m\u001b[43m(\u001b[49m\u001b[38;5;241;43m0\u001b[39;49m\u001b[43m,\u001b[49m\u001b[43m \u001b[49m\u001b[43minit_val\u001b[49m\u001b[43m)\u001b[49m\u001b[43m)\u001b[49m[\u001b[38;5;241m1\u001b[39m]\n",
      "    \u001b[0;31m[... skipping hidden 1 frame]\u001b[0m\n",
      "File \u001b[0;32m/mnt/sw/nix/store/gpkc8q6zjnp3n3h3w9hbmbj6gjbxs85w-python-3.10.10-view/lib/python3.10/site-packages/jax/_src/lax/control_flow/loops.py:1110\u001b[0m, in \u001b[0;36mwhile_loop\u001b[0;34m(cond_fun, body_fun, init_val)\u001b[0m\n\u001b[1;32m   1107\u001b[0m \u001b[38;5;28;01mif\u001b[39;00m disallowed_effects:\n\u001b[1;32m   1108\u001b[0m   \u001b[38;5;28;01mraise\u001b[39;00m \u001b[38;5;167;01mNotImplementedError\u001b[39;00m(\n\u001b[1;32m   1109\u001b[0m       \u001b[38;5;124mf\u001b[39m\u001b[38;5;124m'\u001b[39m\u001b[38;5;124mEffects not supported in `while`: \u001b[39m\u001b[38;5;132;01m{\u001b[39;00mdisallowed_effects\u001b[38;5;132;01m}\u001b[39;00m\u001b[38;5;124m'\u001b[39m)\n\u001b[0;32m-> 1110\u001b[0m outs \u001b[38;5;241m=\u001b[39m \u001b[43mwhile_p\u001b[49m\u001b[38;5;241;43m.\u001b[39;49m\u001b[43mbind\u001b[49m\u001b[43m(\u001b[49m\u001b[38;5;241;43m*\u001b[39;49m\u001b[43mcond_consts\u001b[49m\u001b[43m,\u001b[49m\u001b[43m \u001b[49m\u001b[38;5;241;43m*\u001b[39;49m\u001b[43mbody_consts\u001b[49m\u001b[43m,\u001b[49m\u001b[43m \u001b[49m\u001b[38;5;241;43m*\u001b[39;49m\u001b[43minit_vals\u001b[49m\u001b[43m,\u001b[49m\n\u001b[1;32m   1111\u001b[0m \u001b[43m                    \u001b[49m\u001b[43mcond_nconsts\u001b[49m\u001b[38;5;241;43m=\u001b[39;49m\u001b[38;5;28;43mlen\u001b[39;49m\u001b[43m(\u001b[49m\u001b[43mcond_consts\u001b[49m\u001b[43m)\u001b[49m\u001b[43m,\u001b[49m\u001b[43m \u001b[49m\u001b[43mcond_jaxpr\u001b[49m\u001b[38;5;241;43m=\u001b[39;49m\u001b[43mcond_jaxpr\u001b[49m\u001b[43m,\u001b[49m\n\u001b[1;32m   1112\u001b[0m \u001b[43m                    \u001b[49m\u001b[43mbody_nconsts\u001b[49m\u001b[38;5;241;43m=\u001b[39;49m\u001b[38;5;28;43mlen\u001b[39;49m\u001b[43m(\u001b[49m\u001b[43mbody_consts\u001b[49m\u001b[43m)\u001b[49m\u001b[43m,\u001b[49m\u001b[43m \u001b[49m\u001b[43mbody_jaxpr\u001b[49m\u001b[38;5;241;43m=\u001b[39;49m\u001b[43mbody_jaxpr\u001b[49m\u001b[43m)\u001b[49m\n\u001b[1;32m   1113\u001b[0m \u001b[38;5;28;01mreturn\u001b[39;00m tree_unflatten(body_tree, outs)\n",
      "File \u001b[0;32m/mnt/sw/nix/store/gpkc8q6zjnp3n3h3w9hbmbj6gjbxs85w-python-3.10.10-view/lib/python3.10/site-packages/jax/_src/core.py:2494\u001b[0m, in \u001b[0;36mAxisPrimitive.bind\u001b[0;34m(self, *args, **params)\u001b[0m\n\u001b[1;32m   2490\u001b[0m axis_main \u001b[38;5;241m=\u001b[39m \u001b[38;5;28mmax\u001b[39m((axis_frame(a)\u001b[38;5;241m.\u001b[39mmain_trace \u001b[38;5;28;01mfor\u001b[39;00m a \u001b[38;5;129;01min\u001b[39;00m used_axis_names(\u001b[38;5;28mself\u001b[39m, params)),\n\u001b[1;32m   2491\u001b[0m                 default\u001b[38;5;241m=\u001b[39m\u001b[38;5;28;01mNone\u001b[39;00m, key\u001b[38;5;241m=\u001b[39m\u001b[38;5;28;01mlambda\u001b[39;00m t: \u001b[38;5;28mgetattr\u001b[39m(t, \u001b[38;5;124m'\u001b[39m\u001b[38;5;124mlevel\u001b[39m\u001b[38;5;124m'\u001b[39m, \u001b[38;5;241m-\u001b[39m\u001b[38;5;241m1\u001b[39m))\n\u001b[1;32m   2492\u001b[0m top_trace \u001b[38;5;241m=\u001b[39m (top_trace \u001b[38;5;28;01mif\u001b[39;00m \u001b[38;5;129;01mnot\u001b[39;00m axis_main \u001b[38;5;129;01mor\u001b[39;00m axis_main\u001b[38;5;241m.\u001b[39mlevel \u001b[38;5;241m<\u001b[39m top_trace\u001b[38;5;241m.\u001b[39mlevel\n\u001b[1;32m   2493\u001b[0m              \u001b[38;5;28;01melse\u001b[39;00m axis_main\u001b[38;5;241m.\u001b[39mwith_cur_sublevel())\n\u001b[0;32m-> 2494\u001b[0m \u001b[38;5;28;01mreturn\u001b[39;00m \u001b[38;5;28;43mself\u001b[39;49m\u001b[38;5;241;43m.\u001b[39;49m\u001b[43mbind_with_trace\u001b[49m\u001b[43m(\u001b[49m\u001b[43mtop_trace\u001b[49m\u001b[43m,\u001b[49m\u001b[43m \u001b[49m\u001b[43margs\u001b[49m\u001b[43m,\u001b[49m\u001b[43m \u001b[49m\u001b[43mparams\u001b[49m\u001b[43m)\u001b[49m\n",
      "File \u001b[0;32m/mnt/sw/nix/store/gpkc8q6zjnp3n3h3w9hbmbj6gjbxs85w-python-3.10.10-view/lib/python3.10/site-packages/jax/_src/core.py:346\u001b[0m, in \u001b[0;36mPrimitive.bind_with_trace\u001b[0;34m(self, trace, args, params)\u001b[0m\n\u001b[1;32m    345\u001b[0m \u001b[38;5;28;01mdef\u001b[39;00m \u001b[38;5;21mbind_with_trace\u001b[39m(\u001b[38;5;28mself\u001b[39m, trace, args, params):\n\u001b[0;32m--> 346\u001b[0m   out \u001b[38;5;241m=\u001b[39m \u001b[43mtrace\u001b[49m\u001b[38;5;241;43m.\u001b[39;49m\u001b[43mprocess_primitive\u001b[49m\u001b[43m(\u001b[49m\u001b[38;5;28;43mself\u001b[39;49m\u001b[43m,\u001b[49m\u001b[43m \u001b[49m\u001b[38;5;28;43mmap\u001b[39;49m\u001b[43m(\u001b[49m\u001b[43mtrace\u001b[49m\u001b[38;5;241;43m.\u001b[39;49m\u001b[43mfull_raise\u001b[49m\u001b[43m,\u001b[49m\u001b[43m \u001b[49m\u001b[43margs\u001b[49m\u001b[43m)\u001b[49m\u001b[43m,\u001b[49m\u001b[43m \u001b[49m\u001b[43mparams\u001b[49m\u001b[43m)\u001b[49m\n\u001b[1;32m    347\u001b[0m   \u001b[38;5;28;01mreturn\u001b[39;00m \u001b[38;5;28mmap\u001b[39m(full_lower, out) \u001b[38;5;28;01mif\u001b[39;00m \u001b[38;5;28mself\u001b[39m\u001b[38;5;241m.\u001b[39mmultiple_results \u001b[38;5;28;01melse\u001b[39;00m full_lower(out)\n",
      "File \u001b[0;32m/mnt/sw/nix/store/gpkc8q6zjnp3n3h3w9hbmbj6gjbxs85w-python-3.10.10-view/lib/python3.10/site-packages/jax/_src/core.py:728\u001b[0m, in \u001b[0;36mEvalTrace.process_primitive\u001b[0;34m(self, primitive, tracers, params)\u001b[0m\n\u001b[1;32m    727\u001b[0m \u001b[38;5;28;01mdef\u001b[39;00m \u001b[38;5;21mprocess_primitive\u001b[39m(\u001b[38;5;28mself\u001b[39m, primitive, tracers, params):\n\u001b[0;32m--> 728\u001b[0m   \u001b[38;5;28;01mreturn\u001b[39;00m \u001b[43mprimitive\u001b[49m\u001b[38;5;241;43m.\u001b[39;49m\u001b[43mimpl\u001b[49m\u001b[43m(\u001b[49m\u001b[38;5;241;43m*\u001b[39;49m\u001b[43mtracers\u001b[49m\u001b[43m,\u001b[49m\u001b[43m \u001b[49m\u001b[38;5;241;43m*\u001b[39;49m\u001b[38;5;241;43m*\u001b[39;49m\u001b[43mparams\u001b[49m\u001b[43m)\u001b[49m\n",
      "File \u001b[0;32m/mnt/sw/nix/store/gpkc8q6zjnp3n3h3w9hbmbj6gjbxs85w-python-3.10.10-view/lib/python3.10/site-packages/jax/_src/dispatch.py:122\u001b[0m, in \u001b[0;36mapply_primitive\u001b[0;34m(prim, *args, **params)\u001b[0m\n\u001b[1;32m    120\u001b[0m \u001b[38;5;28;01mdef\u001b[39;00m \u001b[38;5;21mapply_primitive\u001b[39m(prim, \u001b[38;5;241m*\u001b[39margs, \u001b[38;5;241m*\u001b[39m\u001b[38;5;241m*\u001b[39mparams):\n\u001b[1;32m    121\u001b[0m   \u001b[38;5;124;03m\"\"\"Impl rule that compiles and runs a single primitive 'prim' using XLA.\"\"\"\u001b[39;00m\n\u001b[0;32m--> 122\u001b[0m   compiled_fun \u001b[38;5;241m=\u001b[39m \u001b[43mxla_primitive_callable\u001b[49m\u001b[43m(\u001b[49m\u001b[43mprim\u001b[49m\u001b[43m,\u001b[49m\u001b[43m \u001b[49m\u001b[38;5;241;43m*\u001b[39;49m\u001b[43munsafe_map\u001b[49m\u001b[43m(\u001b[49m\u001b[43marg_spec\u001b[49m\u001b[43m,\u001b[49m\u001b[43m \u001b[49m\u001b[43margs\u001b[49m\u001b[43m)\u001b[49m\u001b[43m,\u001b[49m\n\u001b[1;32m    123\u001b[0m \u001b[43m                                        \u001b[49m\u001b[38;5;241;43m*\u001b[39;49m\u001b[38;5;241;43m*\u001b[39;49m\u001b[43mparams\u001b[49m\u001b[43m)\u001b[49m\n\u001b[1;32m    124\u001b[0m   \u001b[38;5;28;01mreturn\u001b[39;00m compiled_fun(\u001b[38;5;241m*\u001b[39margs)\n",
      "File \u001b[0;32m/mnt/sw/nix/store/gpkc8q6zjnp3n3h3w9hbmbj6gjbxs85w-python-3.10.10-view/lib/python3.10/site-packages/jax/_src/util.py:253\u001b[0m, in \u001b[0;36mcache.<locals>.wrap.<locals>.wrapper\u001b[0;34m(*args, **kwargs)\u001b[0m\n\u001b[1;32m    251\u001b[0m   \u001b[38;5;28;01mreturn\u001b[39;00m f(\u001b[38;5;241m*\u001b[39margs, \u001b[38;5;241m*\u001b[39m\u001b[38;5;241m*\u001b[39mkwargs)\n\u001b[1;32m    252\u001b[0m \u001b[38;5;28;01melse\u001b[39;00m:\n\u001b[0;32m--> 253\u001b[0m   \u001b[38;5;28;01mreturn\u001b[39;00m \u001b[43mcached\u001b[49m\u001b[43m(\u001b[49m\u001b[43mconfig\u001b[49m\u001b[38;5;241;43m.\u001b[39;49m\u001b[43m_trace_context\u001b[49m\u001b[43m(\u001b[49m\u001b[43m)\u001b[49m\u001b[43m,\u001b[49m\u001b[43m \u001b[49m\u001b[38;5;241;43m*\u001b[39;49m\u001b[43margs\u001b[49m\u001b[43m,\u001b[49m\u001b[43m \u001b[49m\u001b[38;5;241;43m*\u001b[39;49m\u001b[38;5;241;43m*\u001b[39;49m\u001b[43mkwargs\u001b[49m\u001b[43m)\u001b[49m\n",
      "File \u001b[0;32m/mnt/sw/nix/store/gpkc8q6zjnp3n3h3w9hbmbj6gjbxs85w-python-3.10.10-view/lib/python3.10/site-packages/jax/_src/util.py:246\u001b[0m, in \u001b[0;36mcache.<locals>.wrap.<locals>.cached\u001b[0;34m(_, *args, **kwargs)\u001b[0m\n\u001b[1;32m    244\u001b[0m \u001b[38;5;129m@functools\u001b[39m\u001b[38;5;241m.\u001b[39mlru_cache(max_size)\n\u001b[1;32m    245\u001b[0m \u001b[38;5;28;01mdef\u001b[39;00m \u001b[38;5;21mcached\u001b[39m(_, \u001b[38;5;241m*\u001b[39margs, \u001b[38;5;241m*\u001b[39m\u001b[38;5;241m*\u001b[39mkwargs):\n\u001b[0;32m--> 246\u001b[0m   \u001b[38;5;28;01mreturn\u001b[39;00m \u001b[43mf\u001b[49m\u001b[43m(\u001b[49m\u001b[38;5;241;43m*\u001b[39;49m\u001b[43margs\u001b[49m\u001b[43m,\u001b[49m\u001b[43m \u001b[49m\u001b[38;5;241;43m*\u001b[39;49m\u001b[38;5;241;43m*\u001b[39;49m\u001b[43mkwargs\u001b[49m\u001b[43m)\u001b[49m\n",
      "File \u001b[0;32m/mnt/sw/nix/store/gpkc8q6zjnp3n3h3w9hbmbj6gjbxs85w-python-3.10.10-view/lib/python3.10/site-packages/jax/_src/dispatch.py:201\u001b[0m, in \u001b[0;36mxla_primitive_callable\u001b[0;34m(prim, *arg_specs, **params)\u001b[0m\n\u001b[1;32m    199\u001b[0m   \u001b[38;5;28;01melse\u001b[39;00m:\n\u001b[1;32m    200\u001b[0m     \u001b[38;5;28;01mreturn\u001b[39;00m out,\n\u001b[0;32m--> 201\u001b[0m compiled \u001b[38;5;241m=\u001b[39m \u001b[43m_xla_callable_uncached\u001b[49m\u001b[43m(\u001b[49m\u001b[43mlu\u001b[49m\u001b[38;5;241;43m.\u001b[39;49m\u001b[43mwrap_init\u001b[49m\u001b[43m(\u001b[49m\u001b[43mprim_fun\u001b[49m\u001b[43m)\u001b[49m\u001b[43m,\u001b[49m\u001b[43m \u001b[49m\u001b[43mdevice\u001b[49m\u001b[43m,\u001b[49m\u001b[43m \u001b[49m\u001b[38;5;28;43;01mNone\u001b[39;49;00m\u001b[43m,\u001b[49m\n\u001b[1;32m    202\u001b[0m \u001b[43m                                  \u001b[49m\u001b[43mprim\u001b[49m\u001b[38;5;241;43m.\u001b[39;49m\u001b[43mname\u001b[49m\u001b[43m,\u001b[49m\u001b[43m \u001b[49m\u001b[43mdonated_invars\u001b[49m\u001b[43m,\u001b[49m\u001b[43m \u001b[49m\u001b[38;5;28;43;01mFalse\u001b[39;49;00m\u001b[43m,\u001b[49m\u001b[43m \u001b[49m\u001b[38;5;241;43m*\u001b[39;49m\u001b[43marg_specs\u001b[49m\u001b[43m)\u001b[49m\n\u001b[1;32m    203\u001b[0m \u001b[38;5;28;01mif\u001b[39;00m \u001b[38;5;129;01mnot\u001b[39;00m prim\u001b[38;5;241m.\u001b[39mmultiple_results:\n\u001b[1;32m    204\u001b[0m   \u001b[38;5;28;01mreturn\u001b[39;00m \u001b[38;5;28;01mlambda\u001b[39;00m \u001b[38;5;241m*\u001b[39margs, \u001b[38;5;241m*\u001b[39m\u001b[38;5;241m*\u001b[39mkw: compiled(\u001b[38;5;241m*\u001b[39margs, \u001b[38;5;241m*\u001b[39m\u001b[38;5;241m*\u001b[39mkw)[\u001b[38;5;241m0\u001b[39m]\n",
      "File \u001b[0;32m/mnt/sw/nix/store/gpkc8q6zjnp3n3h3w9hbmbj6gjbxs85w-python-3.10.10-view/lib/python3.10/site-packages/jax/_src/dispatch.py:354\u001b[0m, in \u001b[0;36m_xla_callable_uncached\u001b[0;34m(fun, device, backend, name, donated_invars, keep_unused, *arg_specs)\u001b[0m\n\u001b[1;32m    351\u001b[0m   computation \u001b[38;5;241m=\u001b[39m sharded_lowering(fun, device, backend, name, donated_invars,\n\u001b[1;32m    352\u001b[0m                                  \u001b[38;5;28;01mFalse\u001b[39;00m, keep_unused, \u001b[38;5;241m*\u001b[39marg_specs)\n\u001b[1;32m    353\u001b[0m   allow_prop \u001b[38;5;241m=\u001b[39m [\u001b[38;5;28;01mTrue\u001b[39;00m] \u001b[38;5;241m*\u001b[39m \u001b[38;5;28mlen\u001b[39m(computation\u001b[38;5;241m.\u001b[39mcompile_args[\u001b[38;5;124m'\u001b[39m\u001b[38;5;124mglobal_out_avals\u001b[39m\u001b[38;5;124m'\u001b[39m])\n\u001b[0;32m--> 354\u001b[0m   \u001b[38;5;28;01mreturn\u001b[39;00m \u001b[43mcomputation\u001b[49m\u001b[38;5;241;43m.\u001b[39;49m\u001b[43mcompile\u001b[49m\u001b[43m(\u001b[49m\u001b[43m_allow_propagation_to_outputs\u001b[49m\u001b[38;5;241;43m=\u001b[39;49m\u001b[43mallow_prop\u001b[49m\u001b[43m)\u001b[49m\u001b[38;5;241m.\u001b[39munsafe_call\n\u001b[1;32m    355\u001b[0m \u001b[38;5;28;01melse\u001b[39;00m:\n\u001b[1;32m    356\u001b[0m   \u001b[38;5;28;01mreturn\u001b[39;00m lower_xla_callable(fun, device, backend, name, donated_invars, \u001b[38;5;28;01mFalse\u001b[39;00m,\n\u001b[1;32m    357\u001b[0m                             keep_unused, \u001b[38;5;241m*\u001b[39marg_specs)\u001b[38;5;241m.\u001b[39mcompile()\u001b[38;5;241m.\u001b[39munsafe_call\n",
      "File \u001b[0;32m/mnt/sw/nix/store/gpkc8q6zjnp3n3h3w9hbmbj6gjbxs85w-python-3.10.10-view/lib/python3.10/site-packages/jax/_src/interpreters/pxla.py:3203\u001b[0m, in \u001b[0;36mMeshComputation.compile\u001b[0;34m(self, _allow_propagation_to_outputs, _allow_compile_replicated)\u001b[0m\n\u001b[1;32m   3199\u001b[0m \u001b[38;5;28;01mdef\u001b[39;00m \u001b[38;5;21mcompile\u001b[39m(\u001b[38;5;28mself\u001b[39m,\n\u001b[1;32m   3200\u001b[0m             _allow_propagation_to_outputs: Optional[Sequence[\u001b[38;5;28mbool\u001b[39m]] \u001b[38;5;241m=\u001b[39m \u001b[38;5;28;01mNone\u001b[39;00m,\n\u001b[1;32m   3201\u001b[0m             _allow_compile_replicated: \u001b[38;5;28mbool\u001b[39m \u001b[38;5;241m=\u001b[39m \u001b[38;5;28;01mTrue\u001b[39;00m) \u001b[38;5;241m-\u001b[39m\u001b[38;5;241m>\u001b[39m MeshExecutable:\n\u001b[1;32m   3202\u001b[0m   \u001b[38;5;28;01mif\u001b[39;00m \u001b[38;5;28mself\u001b[39m\u001b[38;5;241m.\u001b[39m_executable \u001b[38;5;129;01mis\u001b[39;00m \u001b[38;5;28;01mNone\u001b[39;00m:\n\u001b[0;32m-> 3203\u001b[0m     executable \u001b[38;5;241m=\u001b[39m \u001b[38;5;28;43mself\u001b[39;49m\u001b[38;5;241;43m.\u001b[39;49m\u001b[43m_compile_unloaded\u001b[49m\u001b[43m(\u001b[49m\n\u001b[1;32m   3204\u001b[0m \u001b[43m        \u001b[49m\u001b[43m_allow_propagation_to_outputs\u001b[49m\u001b[43m,\u001b[49m\u001b[43m \u001b[49m\u001b[43m_allow_compile_replicated\u001b[49m\u001b[43m)\u001b[49m\n\u001b[1;32m   3205\u001b[0m     \u001b[38;5;28;01mif\u001b[39;00m \u001b[38;5;28misinstance\u001b[39m(executable, UnloadedMeshExecutable):\n\u001b[1;32m   3206\u001b[0m       executable \u001b[38;5;241m=\u001b[39m executable\u001b[38;5;241m.\u001b[39mload()\n",
      "File \u001b[0;32m/mnt/sw/nix/store/gpkc8q6zjnp3n3h3w9hbmbj6gjbxs85w-python-3.10.10-view/lib/python3.10/site-packages/jax/_src/interpreters/pxla.py:3174\u001b[0m, in \u001b[0;36mMeshComputation._compile_unloaded\u001b[0;34m(self, _allow_propagation_to_outputs, _allow_compile_replicated)\u001b[0m\n\u001b[1;32m   3172\u001b[0m   \u001b[38;5;28;01mreturn\u001b[39;00m MeshExecutable\u001b[38;5;241m.\u001b[39mfrom_trivial_jaxpr(\u001b[38;5;241m*\u001b[39m\u001b[38;5;241m*\u001b[39m\u001b[38;5;28mself\u001b[39m\u001b[38;5;241m.\u001b[39mcompile_args)\n\u001b[1;32m   3173\u001b[0m \u001b[38;5;28;01melse\u001b[39;00m:\n\u001b[0;32m-> 3174\u001b[0m   \u001b[38;5;28;01mreturn\u001b[39;00m \u001b[43mUnloadedMeshExecutable\u001b[49m\u001b[38;5;241;43m.\u001b[39;49m\u001b[43mfrom_hlo\u001b[49m\u001b[43m(\u001b[49m\n\u001b[1;32m   3175\u001b[0m \u001b[43m      \u001b[49m\u001b[38;5;28;43mself\u001b[39;49m\u001b[38;5;241;43m.\u001b[39;49m\u001b[43m_name\u001b[49m\u001b[43m,\u001b[49m\n\u001b[1;32m   3176\u001b[0m \u001b[43m      \u001b[49m\u001b[38;5;28;43mself\u001b[39;49m\u001b[38;5;241;43m.\u001b[39;49m\u001b[43m_hlo\u001b[49m\u001b[43m,\u001b[49m\n\u001b[1;32m   3177\u001b[0m \u001b[43m      \u001b[49m\u001b[38;5;241;43m*\u001b[39;49m\u001b[38;5;241;43m*\u001b[39;49m\u001b[38;5;28;43mself\u001b[39;49m\u001b[38;5;241;43m.\u001b[39;49m\u001b[43mcompile_args\u001b[49m\u001b[43m,\u001b[49m\n\u001b[1;32m   3178\u001b[0m \u001b[43m      \u001b[49m\u001b[43m_allow_propagation_to_outputs\u001b[49m\u001b[38;5;241;43m=\u001b[39;49m\u001b[43m_allow_propagation_to_outputs\u001b[49m\u001b[43m,\u001b[49m\n\u001b[1;32m   3179\u001b[0m \u001b[43m      \u001b[49m\u001b[43m_allow_compile_replicated\u001b[49m\u001b[38;5;241;43m=\u001b[39;49m\u001b[43m_allow_compile_replicated\u001b[49m\u001b[43m)\u001b[49m\n",
      "File \u001b[0;32m/mnt/sw/nix/store/gpkc8q6zjnp3n3h3w9hbmbj6gjbxs85w-python-3.10.10-view/lib/python3.10/site-packages/jax/_src/interpreters/pxla.py:3456\u001b[0m, in \u001b[0;36mUnloadedMeshExecutable.from_hlo\u001b[0;34m(name, computation, mesh, global_in_avals, global_out_avals, in_shardings, out_shardings, spmd_lowering, tuple_args, in_is_global, auto_spmd_lowering, _allow_propagation_to_outputs, _allow_compile_replicated, unordered_effects, ordered_effects, host_callbacks, keepalive, kept_var_idx, backend, device_assignment, committed, pmap_nreps)\u001b[0m\n\u001b[1;32m   3452\u001b[0m \u001b[38;5;28;01melse\u001b[39;00m:\n\u001b[1;32m   3453\u001b[0m   \u001b[38;5;28;01mwith\u001b[39;00m dispatch\u001b[38;5;241m.\u001b[39mlog_elapsed_time(\u001b[38;5;124mf\u001b[39m\u001b[38;5;124m\"\u001b[39m\u001b[38;5;124mFinished XLA compilation of \u001b[39m\u001b[38;5;132;01m{\u001b[39;00mname\u001b[38;5;132;01m}\u001b[39;00m\u001b[38;5;124m \u001b[39m\u001b[38;5;124m\"\u001b[39m\n\u001b[1;32m   3454\u001b[0m                                  \u001b[38;5;124m\"\u001b[39m\u001b[38;5;124min \u001b[39m\u001b[38;5;132;01m{elapsed_time}\u001b[39;00m\u001b[38;5;124m sec\u001b[39m\u001b[38;5;124m\"\u001b[39m,\n\u001b[1;32m   3455\u001b[0m                                  event\u001b[38;5;241m=\u001b[39mdispatch\u001b[38;5;241m.\u001b[39mBACKEND_COMPILE_EVENT):\n\u001b[0;32m-> 3456\u001b[0m     xla_executable \u001b[38;5;241m=\u001b[39m \u001b[43mdispatch\u001b[49m\u001b[38;5;241;43m.\u001b[39;49m\u001b[43mcompile_or_get_cached\u001b[49m\u001b[43m(\u001b[49m\n\u001b[1;32m   3457\u001b[0m \u001b[43m        \u001b[49m\u001b[43mbackend\u001b[49m\u001b[43m,\u001b[49m\u001b[43m \u001b[49m\u001b[43mcomputation\u001b[49m\u001b[43m,\u001b[49m\u001b[43m \u001b[49m\u001b[43mcompile_options\u001b[49m\u001b[43m,\u001b[49m\u001b[43m \u001b[49m\u001b[43mhost_callbacks\u001b[49m\u001b[43m)\u001b[49m\n\u001b[1;32m   3459\u001b[0m   \u001b[38;5;28;01mif\u001b[39;00m auto_spmd_lowering:\n\u001b[1;32m   3460\u001b[0m     \u001b[38;5;28;01massert\u001b[39;00m mesh \u001b[38;5;129;01mis\u001b[39;00m \u001b[38;5;129;01mnot\u001b[39;00m \u001b[38;5;28;01mNone\u001b[39;00m\n",
      "File \u001b[0;32m/mnt/sw/nix/store/gpkc8q6zjnp3n3h3w9hbmbj6gjbxs85w-python-3.10.10-view/lib/python3.10/site-packages/jax/_src/dispatch.py:1081\u001b[0m, in \u001b[0;36mcompile_or_get_cached\u001b[0;34m(backend, computation, compile_options, host_callbacks)\u001b[0m\n\u001b[1;32m   1077\u001b[0m     _cache_write(serialized_computation, compile_time, module_name,\n\u001b[1;32m   1078\u001b[0m                  compile_options, backend, compiled, host_callbacks)\n\u001b[1;32m   1079\u001b[0m     \u001b[38;5;28;01mreturn\u001b[39;00m compiled\n\u001b[0;32m-> 1081\u001b[0m \u001b[38;5;28;01mreturn\u001b[39;00m \u001b[43mbackend_compile\u001b[49m\u001b[43m(\u001b[49m\u001b[43mbackend\u001b[49m\u001b[43m,\u001b[49m\u001b[43m \u001b[49m\u001b[43mserialized_computation\u001b[49m\u001b[43m,\u001b[49m\u001b[43m \u001b[49m\u001b[43mcompile_options\u001b[49m\u001b[43m,\u001b[49m\n\u001b[1;32m   1082\u001b[0m \u001b[43m                       \u001b[49m\u001b[43mhost_callbacks\u001b[49m\u001b[43m)\u001b[49m\n",
      "File \u001b[0;32m/mnt/sw/nix/store/gpkc8q6zjnp3n3h3w9hbmbj6gjbxs85w-python-3.10.10-view/lib/python3.10/site-packages/jax/_src/profiler.py:314\u001b[0m, in \u001b[0;36mannotate_function.<locals>.wrapper\u001b[0;34m(*args, **kwargs)\u001b[0m\n\u001b[1;32m    311\u001b[0m \u001b[38;5;129m@wraps\u001b[39m(func)\n\u001b[1;32m    312\u001b[0m \u001b[38;5;28;01mdef\u001b[39;00m \u001b[38;5;21mwrapper\u001b[39m(\u001b[38;5;241m*\u001b[39margs, \u001b[38;5;241m*\u001b[39m\u001b[38;5;241m*\u001b[39mkwargs):\n\u001b[1;32m    313\u001b[0m   \u001b[38;5;28;01mwith\u001b[39;00m TraceAnnotation(name, \u001b[38;5;241m*\u001b[39m\u001b[38;5;241m*\u001b[39mdecorator_kwargs):\n\u001b[0;32m--> 314\u001b[0m     \u001b[38;5;28;01mreturn\u001b[39;00m \u001b[43mfunc\u001b[49m\u001b[43m(\u001b[49m\u001b[38;5;241;43m*\u001b[39;49m\u001b[43margs\u001b[49m\u001b[43m,\u001b[49m\u001b[43m \u001b[49m\u001b[38;5;241;43m*\u001b[39;49m\u001b[38;5;241;43m*\u001b[39;49m\u001b[43mkwargs\u001b[49m\u001b[43m)\u001b[49m\n\u001b[1;32m    315\u001b[0m   \u001b[38;5;28;01mreturn\u001b[39;00m wrapper\n",
      "File \u001b[0;32m/mnt/sw/nix/store/gpkc8q6zjnp3n3h3w9hbmbj6gjbxs85w-python-3.10.10-view/lib/python3.10/site-packages/jax/_src/dispatch.py:1026\u001b[0m, in \u001b[0;36mbackend_compile\u001b[0;34m(backend, built_c, options, host_callbacks)\u001b[0m\n\u001b[1;32m   1021\u001b[0m   \u001b[38;5;28;01mreturn\u001b[39;00m backend\u001b[38;5;241m.\u001b[39mcompile(built_c, compile_options\u001b[38;5;241m=\u001b[39moptions,\n\u001b[1;32m   1022\u001b[0m                          host_callbacks\u001b[38;5;241m=\u001b[39mhost_callbacks)\n\u001b[1;32m   1023\u001b[0m \u001b[38;5;66;03m# Some backends don't have `host_callbacks` option yet\u001b[39;00m\n\u001b[1;32m   1024\u001b[0m \u001b[38;5;66;03m# TODO(sharadmv): remove this fallback when all backends allow `compile`\u001b[39;00m\n\u001b[1;32m   1025\u001b[0m \u001b[38;5;66;03m# to take in `host_callbacks`\u001b[39;00m\n\u001b[0;32m-> 1026\u001b[0m \u001b[38;5;28;01mreturn\u001b[39;00m \u001b[43mbackend\u001b[49m\u001b[38;5;241;43m.\u001b[39;49m\u001b[43mcompile\u001b[49m\u001b[43m(\u001b[49m\u001b[43mbuilt_c\u001b[49m\u001b[43m,\u001b[49m\u001b[43m \u001b[49m\u001b[43mcompile_options\u001b[49m\u001b[38;5;241;43m=\u001b[39;49m\u001b[43moptions\u001b[49m\u001b[43m)\u001b[49m\n",
      "\u001b[0;31mKeyboardInterrupt\u001b[0m: "
     ]
    }
   ],
   "source": [
    "solver = jaxopt.LBFGS(fun=weight_objective, verbose=True)\n",
    "res = solver.run(jnp.array(initial_weight_guess))"
   ]
  }
 ],
 "metadata": {
  "kernelspec": {
   "display_name": "teeu-venv",
   "language": "python",
   "name": "teeu-venv"
  },
  "language_info": {
   "codemirror_mode": {
    "name": "ipython",
    "version": 3
   },
   "file_extension": ".py",
   "mimetype": "text/x-python",
   "name": "python",
   "nbconvert_exporter": "python",
   "pygments_lexer": "ipython3",
   "version": "3.10.10"
  }
 },
 "nbformat": 4,
 "nbformat_minor": 5
}
