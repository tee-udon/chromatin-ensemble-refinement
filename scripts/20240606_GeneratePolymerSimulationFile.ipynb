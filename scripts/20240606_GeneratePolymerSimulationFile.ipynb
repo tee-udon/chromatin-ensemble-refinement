{
 "cells": [
  {
   "cell_type": "code",
   "execution_count": 1,
   "metadata": {},
   "outputs": [],
   "source": [
    "from functions import *"
   ]
  },
  {
   "cell_type": "code",
   "execution_count": 2,
   "metadata": {},
   "outputs": [],
   "source": [
    "# Test generating polymers\n",
    "num_monomers = 333\n",
    "num_polymers = 1\n",
    "num_observations = 1 # per template\n",
    "num_lef = 33\n",
    "num_templates = 100\n",
    "save_folder = '/mnt/home/tudomlumleart/ceph/01_TetheringSimulation/LoopExtrusion_NoBE/'"
   ]
  },
  {
   "cell_type": "code",
   "execution_count": 4,
   "metadata": {},
   "outputs": [
    {
     "name": "stdout",
     "output_type": "stream",
     "text": [
      "[[0.003003 0.003003 0.003003 0.003003 0.003003 0.003003 0.003003 0.003003\n",
      "  0.003003 0.003003 0.003003 0.003003 0.003003 0.003003 0.003003 0.003003\n",
      "  0.003003 0.003003 0.003003 0.003003 0.003003 0.003003 0.003003 0.003003\n",
      "  0.003003 0.003003 0.003003 0.003003 0.003003 0.003003 0.003003 0.003003\n",
      "  0.003003 0.003003 0.003003 0.003003 0.003003 0.003003 0.003003 0.003003\n",
      "  0.003003 0.003003 0.003003 0.003003 0.003003 0.003003 0.003003 0.003003\n",
      "  0.003003 0.003003 0.003003 0.003003 0.003003 0.003003 0.003003 0.003003\n",
      "  0.003003 0.003003 0.003003 0.003003 0.003003 0.003003 0.003003 0.003003\n",
      "  0.003003 0.003003 0.003003 0.003003 0.003003 0.003003 0.003003 0.003003\n",
      "  0.003003 0.003003 0.003003 0.003003 0.003003 0.003003 0.003003 0.003003\n",
      "  0.003003 0.003003 0.003003 0.003003 0.003003 0.003003 0.003003 0.003003\n",
      "  0.003003 0.003003 0.003003 0.003003 0.003003 0.003003 0.003003 0.003003\n",
      "  0.003003 0.003003 0.003003 0.003003 0.003003 0.003003 0.003003 0.003003\n",
      "  0.003003 0.003003 0.003003 0.003003 0.003003 0.003003 0.003003 0.003003\n",
      "  0.003003 0.003003 0.003003 0.003003 0.003003 0.003003 0.003003 0.003003\n",
      "  0.003003 0.003003 0.003003 0.003003 0.003003 0.003003 0.003003 0.003003\n",
      "  0.003003 0.003003 0.003003 0.003003 0.003003 0.003003 0.003003 0.003003\n",
      "  0.003003 0.003003 0.003003 0.003003 0.003003 0.003003 0.003003 0.003003\n",
      "  0.003003 0.003003 0.003003 0.003003 0.003003 0.003003 0.003003 0.003003\n",
      "  0.003003 0.003003 0.003003 0.003003 0.003003 0.003003 0.003003 0.003003\n",
      "  0.003003 0.003003 0.003003 0.003003 0.003003 0.003003 0.003003 0.003003\n",
      "  0.003003 0.003003 0.003003 0.003003 0.003003 0.003003 0.003003 0.003003\n",
      "  0.003003 0.003003 0.003003 0.003003 0.003003 0.003003 0.003003 0.003003\n",
      "  0.003003 0.003003 0.003003 0.003003 0.003003 0.003003 0.003003 0.003003\n",
      "  0.003003 0.003003 0.003003 0.003003 0.003003 0.003003 0.003003 0.003003\n",
      "  0.003003 0.003003 0.003003 0.003003 0.003003 0.003003 0.003003 0.003003\n",
      "  0.003003 0.003003 0.003003 0.003003 0.003003 0.003003 0.003003 0.003003\n",
      "  0.003003 0.003003 0.003003 0.003003 0.003003 0.003003 0.003003 0.003003\n",
      "  0.003003 0.003003 0.003003 0.003003 0.003003 0.003003 0.003003 0.003003\n",
      "  0.003003 0.003003 0.003003 0.003003 0.003003 0.003003 0.003003 0.003003\n",
      "  0.003003 0.003003 0.003003 0.003003 0.003003 0.003003 0.003003 0.003003\n",
      "  0.003003 0.003003 0.003003 0.003003 0.003003 0.003003 0.003003 0.003003\n",
      "  0.003003 0.003003 0.003003 0.003003 0.003003 0.003003 0.003003 0.003003\n",
      "  0.003003 0.003003 0.003003 0.003003 0.003003 0.003003 0.003003 0.003003\n",
      "  0.003003 0.003003 0.003003 0.003003 0.003003 0.003003 0.003003 0.003003\n",
      "  0.003003 0.003003 0.003003 0.003003 0.003003 0.003003 0.003003 0.003003\n",
      "  0.003003 0.003003 0.003003 0.003003 0.003003 0.003003 0.003003 0.003003\n",
      "  0.003003 0.003003 0.003003 0.003003 0.003003 0.003003 0.003003 0.003003\n",
      "  0.003003 0.003003 0.003003 0.003003 0.003003 0.003003 0.003003 0.003003\n",
      "  0.003003 0.003003 0.003003 0.003003 0.003003 0.003003 0.003003 0.003003\n",
      "  0.003003 0.003003 0.003003 0.003003 0.003003 0.003003 0.003003 0.003003\n",
      "  0.003003 0.003003 0.003003 0.003003 0.003003]]\n",
      "LEF count: 33\n",
      "interaction matrix:\n",
      "[[0]]\n",
      "monomer types:\n",
      "[0 0 0 0 0 0 0 0 0 0 0 0 0 0 0 0 0 0 0 0 0 0 0 0 0 0 0 0 0 0 0 0 0 0 0 0 0\n",
      " 0 0 0 0 0 0 0 0 0 0 0 0 0 0 0 0 0 0 0 0 0 0 0 0 0 0 0 0 0 0 0 0 0 0 0 0 0\n",
      " 0 0 0 0 0 0 0 0 0 0 0 0 0 0 0 0 0 0 0 0 0 0 0 0 0 0 0 0 0 0 0 0 0 0 0 0 0\n",
      " 0 0 0 0 0 0 0 0 0 0 0 0 0 0 0 0 0 0 0 0 0 0 0 0 0 0 0 0 0 0 0 0 0 0 0 0 0\n",
      " 0 0 0 0 0 0 0 0 0 0 0 0 0 0 0 0 0 0 0 0 0 0 0 0 0 0 0 0 0 0 0 0 0 0 0 0 0\n",
      " 0 0 0 0 0 0 0 0 0 0 0 0 0 0 0 0 0 0 0 0 0 0 0 0 0 0 0 0 0 0 0 0 0 0 0 0 0\n",
      " 0 0 0 0 0 0 0 0 0 0 0 0 0 0 0 0 0 0 0 0 0 0 0 0 0 0 0 0 0 0 0 0 0 0 0 0 0\n",
      " 0 0 0 0 0 0 0 0 0 0 0 0 0 0 0 0 0 0 0 0 0 0 0 0 0 0 0 0 0 0 0 0 0 0 0 0 0\n",
      " 0 0 0 0 0 0 0 0 0 0 0 0 0 0 0 0 0 0 0 0 0 0 0 0 0 0 0 0 0 0 0 0 0 0 0 0 0]\n",
      "/mnt/home/tudomlumleart/ceph/01_TetheringSimulation/LoopExtrusion_NoBE/\n"
     ]
    },
    {
     "data": {
      "application/vnd.jupyter.widget-view+json": {
       "model_id": "d2b9aaebf8c94d07a74557419d61b5d9",
       "version_major": 2,
       "version_minor": 0
      },
      "text/plain": [
       "  0%|          | 0/100 [00:00<?, ?it/s]"
      ]
     },
     "metadata": {},
     "output_type": "display_data"
    },
    {
     "name": "stderr",
     "output_type": "stream",
     "text": [
      "INFO:root:Performing local energy minimization\n",
      "INFO:root:adding force harmonic_bonds 0\n",
      "INFO:root:adding force angle 1\n",
      "INFO:root:adding force heteropolymer_SSW 2\n"
     ]
    },
    {
     "name": "stdout",
     "output_type": "stream",
     "text": [
      "/mnt/home/tudomlumleart/ceph/01_TetheringSimulation/LoopExtrusion_NoBE/template_0/LEFPos.h5\n",
      "creating folder\n",
      "starting simulation with N LEFs=\n",
      "33\n",
      "Length of the saved trajectory: 100\n",
      "N_chain: 333\n",
      "N: 333\n",
      "N_traj: 333\n",
      "Nframes: 100\n",
      "simInitsTotal: 1\n",
      "Exclude neighbouring chain particles from heteropolymer_SSW\n",
      "Number of exceptions: 332\n"
     ]
    },
    {
     "name": "stderr",
     "output_type": "stream",
     "text": [
      "INFO:root:Particles loaded. Potential energy is 36.283729\n",
      "INFO:root:before minimization eK=1.5765218450760425, eP=36.28372928453784, time=0.0 ps\n",
      "INFO:root:Particles loaded. Potential energy is 0.616284\n",
      "INFO:root:after minimization eK=1.5765218450760425, eP=0.5042727255925548, time=0.0 ps\n",
      "INFO:root:block    0 pos[1]=[16.7 23.1 26.4] dr=10.96 t=9655.8ps kin=1.49 pot=1.80 Rg=7.924 SPS=26562 dt=121.8fs dx=33.24pm \n",
      "INFO:root:Performing local energy minimization\n",
      "INFO:root:adding force harmonic_bonds 0\n",
      "INFO:root:adding force angle 1\n",
      "INFO:root:adding force heteropolymer_SSW 2\n"
     ]
    },
    {
     "name": "stdout",
     "output_type": "stream",
     "text": [
      "/mnt/home/tudomlumleart/ceph/01_TetheringSimulation/LoopExtrusion_NoBE/template_1/LEFPos.h5\n",
      "creating folder\n",
      "starting simulation with N LEFs=\n",
      "33\n",
      "Length of the saved trajectory: 100\n",
      "N_chain: 333\n",
      "N: 333\n",
      "N_traj: 333\n",
      "Nframes: 100\n",
      "simInitsTotal: 1\n",
      "Exclude neighbouring chain particles from heteropolymer_SSW\n",
      "Number of exceptions: 332\n"
     ]
    },
    {
     "name": "stderr",
     "output_type": "stream",
     "text": [
      "INFO:root:Particles loaded. Potential energy is 25.287868\n",
      "INFO:root:before minimization eK=1.4205361710387754, eP=25.28786816844758, time=0.0 ps\n",
      "INFO:root:Particles loaded. Potential energy is 0.643138\n",
      "INFO:root:after minimization eK=1.4205361710387754, eP=0.5328872886665339, time=0.0 ps\n",
      "INFO:root:block    0 pos[1]=[21.5 1.7 21.4] dr=23.27 t=9677.8ps kin=1.42 pot=1.91 Rg=7.449 SPS=22963 dt=119.7fs dx=31.88pm \n"
     ]
    },
    {
     "name": "stdout",
     "output_type": "stream",
     "text": [
      "/mnt/home/tudomlumleart/ceph/01_TetheringSimulation/LoopExtrusion_NoBE/template_2/LEFPos.h5\n",
      "creating folder\n",
      "starting simulation with N LEFs=\n",
      "33\n",
      "Length of the saved trajectory: 100\n",
      "N_chain: 333\n",
      "N: 333\n",
      "N_traj: 333\n",
      "Nframes: 100\n",
      "simInitsTotal: 1\n"
     ]
    },
    {
     "name": "stderr",
     "output_type": "stream",
     "text": [
      "INFO:root:Performing local energy minimization\n",
      "INFO:root:adding force harmonic_bonds 0\n",
      "INFO:root:adding force angle 1\n",
      "INFO:root:adding force heteropolymer_SSW 2\n",
      "INFO:root:Particles loaded. Potential energy is 20.375010\n",
      "INFO:root:before minimization eK=1.4256282723930602, eP=20.375009906523804, time=0.0 ps\n"
     ]
    },
    {
     "name": "stdout",
     "output_type": "stream",
     "text": [
      "Exclude neighbouring chain particles from heteropolymer_SSW\n",
      "Number of exceptions: 332\n"
     ]
    },
    {
     "name": "stderr",
     "output_type": "stream",
     "text": [
      "INFO:root:Particles loaded. Potential energy is 0.637486\n",
      "INFO:root:after minimization eK=1.4256282723930602, eP=0.5086835165536163, time=0.0 ps\n",
      "INFO:root:block    0 pos[1]=[27.2 24.1 19.3] dr=10.69 t=9658.6ps kin=1.40 pot=1.87 Rg=8.949 SPS=24963 dt=123.4fs dx=32.66pm \n",
      "INFO:root:Performing local energy minimization\n",
      "INFO:root:adding force harmonic_bonds 0\n",
      "INFO:root:adding force angle 1\n",
      "INFO:root:adding force heteropolymer_SSW 2\n"
     ]
    },
    {
     "name": "stdout",
     "output_type": "stream",
     "text": [
      "/mnt/home/tudomlumleart/ceph/01_TetheringSimulation/LoopExtrusion_NoBE/template_3/LEFPos.h5\n",
      "creating folder\n",
      "starting simulation with N LEFs=\n",
      "33\n",
      "Length of the saved trajectory: 100\n",
      "N_chain: 333\n",
      "N: 333\n",
      "N_traj: 333\n",
      "Nframes: 100\n",
      "simInitsTotal: 1\n",
      "Exclude neighbouring chain particles from heteropolymer_SSW\n",
      "Number of exceptions: 332\n"
     ]
    },
    {
     "name": "stderr",
     "output_type": "stream",
     "text": [
      "INFO:root:Particles loaded. Potential energy is 21.490796\n",
      "INFO:root:before minimization eK=1.5255357672865932, eP=21.490796349360775, time=0.0 ps\n",
      "INFO:root:Particles loaded. Potential energy is 0.604112\n",
      "INFO:root:after minimization eK=1.5255357672865932, eP=0.4943047099701376, time=0.0 ps\n",
      "INFO:root:block    0 pos[1]=[38.5 10.6 26.8] dr=23.52 t=9684.1ps kin=1.55 pot=1.83 Rg=6.663 SPS=22383 dt=120.4fs dx=33.45pm \n",
      "INFO:root:Performing local energy minimization\n",
      "INFO:root:adding force harmonic_bonds 0\n",
      "INFO:root:adding force angle 1\n",
      "INFO:root:adding force heteropolymer_SSW 2\n"
     ]
    },
    {
     "name": "stdout",
     "output_type": "stream",
     "text": [
      "/mnt/home/tudomlumleart/ceph/01_TetheringSimulation/LoopExtrusion_NoBE/template_4/LEFPos.h5\n",
      "creating folder\n",
      "starting simulation with N LEFs=\n",
      "33\n",
      "Length of the saved trajectory: 100\n",
      "N_chain: 333\n",
      "N: 333\n",
      "N_traj: 333\n",
      "Nframes: 100\n",
      "simInitsTotal: 1\n",
      "Exclude neighbouring chain particles from heteropolymer_SSW\n",
      "Number of exceptions: 332\n"
     ]
    },
    {
     "name": "stderr",
     "output_type": "stream",
     "text": [
      "INFO:root:Particles loaded. Potential energy is 28.712649\n",
      "INFO:root:before minimization eK=1.4086199656522722, eP=28.712648828152993, time=0.0 ps\n",
      "INFO:root:Particles loaded. Potential energy is 0.623592\n",
      "INFO:root:after minimization eK=1.4086199656522722, eP=0.5085316454525438, time=0.0 ps\n",
      "INFO:root:block    0 pos[1]=[26.1 22.8 19.4] dr=9.15 t=9675.6ps kin=1.37 pot=1.74 Rg=7.197 SPS=22320 dt=123.6fs dx=32.31pm \n",
      "INFO:root:Performing local energy minimization\n",
      "INFO:root:adding force harmonic_bonds 0\n",
      "INFO:root:adding force angle 1\n",
      "INFO:root:adding force heteropolymer_SSW 2\n"
     ]
    },
    {
     "name": "stdout",
     "output_type": "stream",
     "text": [
      "/mnt/home/tudomlumleart/ceph/01_TetheringSimulation/LoopExtrusion_NoBE/template_5/LEFPos.h5\n",
      "creating folder\n",
      "starting simulation with N LEFs=\n",
      "33\n",
      "Length of the saved trajectory: 100\n",
      "N_chain: 333\n",
      "N: 333\n",
      "N_traj: 333\n",
      "Nframes: 100\n",
      "simInitsTotal: 1\n",
      "Exclude neighbouring chain particles from heteropolymer_SSW\n",
      "Number of exceptions: 332\n"
     ]
    },
    {
     "name": "stderr",
     "output_type": "stream",
     "text": [
      "INFO:root:Particles loaded. Potential energy is 18.505480\n",
      "INFO:root:before minimization eK=1.3917919741769886, eP=18.505480443086842, time=0.0 ps\n",
      "INFO:root:Particles loaded. Potential energy is 0.614728\n",
      "INFO:root:after minimization eK=1.3917919741769886, eP=0.49079227720799795, time=0.0 ps\n",
      "INFO:root:block    0 pos[1]=[41.6 14.2 27.2] dr=17.56 t=9689.6ps kin=1.59 pot=1.91 Rg=7.135 SPS=23196 dt=118.3fs dx=33.31pm \n",
      "INFO:root:Performing local energy minimization\n",
      "INFO:root:adding force harmonic_bonds 0\n",
      "INFO:root:adding force angle 1\n",
      "INFO:root:adding force heteropolymer_SSW 2\n"
     ]
    },
    {
     "name": "stdout",
     "output_type": "stream",
     "text": [
      "/mnt/home/tudomlumleart/ceph/01_TetheringSimulation/LoopExtrusion_NoBE/template_6/LEFPos.h5\n",
      "creating folder\n",
      "starting simulation with N LEFs=\n",
      "33\n",
      "Length of the saved trajectory: 100\n",
      "N_chain: 333\n",
      "N: 333\n",
      "N_traj: 333\n",
      "Nframes: 100\n",
      "simInitsTotal: 1\n",
      "Exclude neighbouring chain particles from heteropolymer_SSW\n",
      "Number of exceptions: 332\n"
     ]
    },
    {
     "name": "stderr",
     "output_type": "stream",
     "text": [
      "INFO:root:Particles loaded. Potential energy is 29.141163\n",
      "INFO:root:before minimization eK=1.4956020617166887, eP=29.141162929113403, time=0.0 ps\n",
      "INFO:root:Particles loaded. Potential energy is 0.581632\n",
      "INFO:root:after minimization eK=1.4956020617166887, eP=0.4710635049669118, time=0.0 ps\n",
      "INFO:root:block    0 pos[1]=[35.5 39.9 15.2] dr=18.85 t=9659.0ps kin=1.51 pot=1.73 Rg=6.147 SPS=23043 dt=126.1fs dx=34.65pm \n",
      "INFO:root:Performing local energy minimization\n",
      "INFO:root:adding force harmonic_bonds 0\n",
      "INFO:root:adding force angle 1\n",
      "INFO:root:adding force heteropolymer_SSW 2\n"
     ]
    },
    {
     "name": "stdout",
     "output_type": "stream",
     "text": [
      "/mnt/home/tudomlumleart/ceph/01_TetheringSimulation/LoopExtrusion_NoBE/template_7/LEFPos.h5\n",
      "creating folder\n",
      "starting simulation with N LEFs=\n",
      "33\n",
      "Length of the saved trajectory: 100\n",
      "N_chain: 333\n",
      "N: 333\n",
      "N_traj: 333\n",
      "Nframes: 100\n",
      "simInitsTotal: 1\n",
      "Exclude neighbouring chain particles from heteropolymer_SSW\n",
      "Number of exceptions: 332\n"
     ]
    },
    {
     "name": "stderr",
     "output_type": "stream",
     "text": [
      "INFO:root:Particles loaded. Potential energy is 24.797252\n",
      "INFO:root:before minimization eK=1.4228458888195714, eP=24.79725225948127, time=0.0 ps\n",
      "INFO:root:Particles loaded. Potential energy is 0.796787\n",
      "INFO:root:after minimization eK=1.4228458888195714, eP=0.6825155525044322, time=0.0 ps\n",
      "INFO:root:block    0 pos[1]=[18.6 18.4 24.5] dr=17.90 t=9655.2ps kin=1.51 pot=1.89 Rg=6.872 SPS=23728 dt=119.4fs dx=32.80pm \n"
     ]
    },
    {
     "name": "stdout",
     "output_type": "stream",
     "text": [
      "/mnt/home/tudomlumleart/ceph/01_TetheringSimulation/LoopExtrusion_NoBE/template_8/LEFPos.h5\n",
      "creating folder\n",
      "starting simulation with N LEFs=\n",
      "33\n",
      "Length of the saved trajectory: 100\n",
      "N_chain: 333\n",
      "N: 333\n",
      "N_traj: 333\n",
      "Nframes: 100\n",
      "simInitsTotal: 1\n"
     ]
    },
    {
     "name": "stderr",
     "output_type": "stream",
     "text": [
      "INFO:root:Performing local energy minimization\n",
      "INFO:root:adding force harmonic_bonds 0\n",
      "INFO:root:adding force angle 1\n",
      "INFO:root:adding force heteropolymer_SSW 2\n",
      "INFO:root:Particles loaded. Potential energy is 22.664768\n",
      "INFO:root:before minimization eK=1.5073899055705553, eP=22.664768276970552, time=0.0 ps\n"
     ]
    },
    {
     "name": "stdout",
     "output_type": "stream",
     "text": [
      "Exclude neighbouring chain particles from heteropolymer_SSW\n",
      "Number of exceptions: 332\n"
     ]
    },
    {
     "name": "stderr",
     "output_type": "stream",
     "text": [
      "INFO:root:Particles loaded. Potential energy is 0.619952\n",
      "INFO:root:after minimization eK=1.5073899055705553, eP=0.5153396700929579, time=0.0 ps\n",
      "INFO:root:block    0 pos[1]=[31.1 32.6 21.7] dr=11.46 t=9667.9ps kin=1.52 pot=1.84 Rg=8.273 SPS=22436 dt=119.1fs dx=32.75pm \n",
      "INFO:root:Performing local energy minimization\n",
      "INFO:root:adding force harmonic_bonds 0\n",
      "INFO:root:adding force angle 1\n",
      "INFO:root:adding force heteropolymer_SSW 2\n"
     ]
    },
    {
     "name": "stdout",
     "output_type": "stream",
     "text": [
      "/mnt/home/tudomlumleart/ceph/01_TetheringSimulation/LoopExtrusion_NoBE/template_9/LEFPos.h5\n",
      "creating folder\n",
      "starting simulation with N LEFs=\n",
      "33\n",
      "Length of the saved trajectory: 100\n",
      "N_chain: 333\n",
      "N: 333\n",
      "N_traj: 333\n",
      "Nframes: 100\n",
      "simInitsTotal: 1\n",
      "Exclude neighbouring chain particles from heteropolymer_SSW\n",
      "Number of exceptions: 332\n"
     ]
    },
    {
     "name": "stderr",
     "output_type": "stream",
     "text": [
      "INFO:root:Particles loaded. Potential energy is 26.980460\n",
      "INFO:root:before minimization eK=1.5178009450228018, eP=26.980459720007335, time=0.0 ps\n",
      "INFO:root:Particles loaded. Potential energy is 0.577116\n",
      "INFO:root:after minimization eK=1.5178009450228018, eP=0.47356356615111916, time=0.0 ps\n",
      "INFO:root:block    0 pos[1]=[12.2 24.8 32.6] dr=17.16 t=9675.1ps kin=1.56 pot=1.98 Rg=7.838 SPS=22830 dt=120.6fs dx=33.60pm \n",
      "INFO:root:Performing local energy minimization\n",
      "INFO:root:adding force harmonic_bonds 0\n",
      "INFO:root:adding force angle 1\n",
      "INFO:root:adding force heteropolymer_SSW 2\n"
     ]
    },
    {
     "name": "stdout",
     "output_type": "stream",
     "text": [
      "/mnt/home/tudomlumleart/ceph/01_TetheringSimulation/LoopExtrusion_NoBE/template_10/LEFPos.h5\n",
      "creating folder\n",
      "starting simulation with N LEFs=\n",
      "33\n",
      "Length of the saved trajectory: 100\n",
      "N_chain: 333\n",
      "N: 333\n",
      "N_traj: 333\n",
      "Nframes: 100\n",
      "simInitsTotal: 1\n",
      "Exclude neighbouring chain particles from heteropolymer_SSW\n",
      "Number of exceptions: 332\n"
     ]
    },
    {
     "name": "stderr",
     "output_type": "stream",
     "text": [
      "INFO:root:Particles loaded. Potential energy is 25.712863\n",
      "INFO:root:before minimization eK=1.5454260783216214, eP=25.712863408967404, time=0.0 ps\n",
      "INFO:root:Particles loaded. Potential energy is 0.605250\n",
      "INFO:root:after minimization eK=1.5454260783216214, eP=0.4979323219328442, time=0.0 ps\n",
      "INFO:root:block    0 pos[1]=[24.2 13.1 24.4] dr=21.80 t=9632.8ps kin=1.57 pot=1.72 Rg=7.131 SPS=22338 dt=121.8fs dx=34.13pm \n"
     ]
    },
    {
     "name": "stdout",
     "output_type": "stream",
     "text": [
      "/mnt/home/tudomlumleart/ceph/01_TetheringSimulation/LoopExtrusion_NoBE/template_11/LEFPos.h5\n",
      "creating folder\n",
      "starting simulation with N LEFs=\n",
      "33\n"
     ]
    },
    {
     "name": "stderr",
     "output_type": "stream",
     "text": [
      "INFO:root:Performing local energy minimization\n",
      "INFO:root:adding force harmonic_bonds 0\n",
      "INFO:root:adding force angle 1\n",
      "INFO:root:adding force heteropolymer_SSW 2\n"
     ]
    },
    {
     "name": "stdout",
     "output_type": "stream",
     "text": [
      "Length of the saved trajectory: 100\n",
      "N_chain: 333\n",
      "N: 333\n",
      "N_traj: 333\n",
      "Nframes: 100\n",
      "simInitsTotal: 1\n",
      "Exclude neighbouring chain particles from heteropolymer_SSW\n",
      "Number of exceptions: 332\n"
     ]
    },
    {
     "name": "stderr",
     "output_type": "stream",
     "text": [
      "INFO:root:Particles loaded. Potential energy is 24.008825\n",
      "INFO:root:before minimization eK=1.6131426836423544, eP=24.00882453636158, time=0.0 ps\n",
      "INFO:root:Particles loaded. Potential energy is 0.625878\n",
      "INFO:root:after minimization eK=1.6131426836423544, eP=0.5091229579716958, time=0.0 ps\n",
      "INFO:root:block    0 pos[1]=[21.4 26.5 11.5] dr=19.79 t=9658.2ps kin=1.54 pot=1.77 Rg=10.220 SPS=23121 dt=120.3fs dx=33.40pm \n",
      "INFO:root:Performing local energy minimization\n",
      "INFO:root:adding force harmonic_bonds 0\n",
      "INFO:root:adding force angle 1\n",
      "INFO:root:adding force heteropolymer_SSW 2\n"
     ]
    },
    {
     "name": "stdout",
     "output_type": "stream",
     "text": [
      "/mnt/home/tudomlumleart/ceph/01_TetheringSimulation/LoopExtrusion_NoBE/template_12/LEFPos.h5\n",
      "creating folder\n",
      "starting simulation with N LEFs=\n",
      "33\n",
      "Length of the saved trajectory: 100\n",
      "N_chain: 333\n",
      "N: 333\n",
      "N_traj: 333\n",
      "Nframes: 100\n",
      "simInitsTotal: 1\n",
      "Exclude neighbouring chain particles from heteropolymer_SSW\n",
      "Number of exceptions: 332\n"
     ]
    },
    {
     "name": "stderr",
     "output_type": "stream",
     "text": [
      "INFO:root:Particles loaded. Potential energy is 31.777368\n",
      "INFO:root:before minimization eK=1.517407734710281, eP=31.777368279279788, time=0.0 ps\n",
      "INFO:root:Particles loaded. Potential energy is 0.584009\n",
      "INFO:root:after minimization eK=1.517407734710281, eP=0.46533041509359985, time=0.0 ps\n",
      "INFO:root:block    0 pos[1]=[27.9 9.2 17.6] dr=13.00 t=9671.8ps kin=1.62 pot=1.78 Rg=6.350 SPS=22517 dt=120.2fs dx=34.12pm \n"
     ]
    },
    {
     "name": "stdout",
     "output_type": "stream",
     "text": [
      "/mnt/home/tudomlumleart/ceph/01_TetheringSimulation/LoopExtrusion_NoBE/template_13/LEFPos.h5\n",
      "creating folder\n",
      "starting simulation with N LEFs=\n",
      "33\n",
      "Length of the saved trajectory: 100\n",
      "N_chain: 333\n",
      "N: 333\n",
      "N_traj: 333\n",
      "Nframes: 100\n",
      "simInitsTotal: 1\n"
     ]
    },
    {
     "name": "stderr",
     "output_type": "stream",
     "text": [
      "INFO:root:Performing local energy minimization\n",
      "INFO:root:adding force harmonic_bonds 0\n",
      "INFO:root:adding force angle 1\n",
      "INFO:root:adding force heteropolymer_SSW 2\n",
      "INFO:root:Particles loaded. Potential energy is 29.181738\n",
      "INFO:root:before minimization eK=1.4974752832212168, eP=29.181737709123144, time=0.0 ps\n"
     ]
    },
    {
     "name": "stdout",
     "output_type": "stream",
     "text": [
      "Exclude neighbouring chain particles from heteropolymer_SSW\n",
      "Number of exceptions: 332\n"
     ]
    },
    {
     "name": "stderr",
     "output_type": "stream",
     "text": [
      "INFO:root:Particles loaded. Potential energy is 0.640898\n",
      "INFO:root:after minimization eK=1.4974752832212168, eP=0.5149894312761277, time=0.0 ps\n",
      "INFO:root:block    0 pos[1]=[41.0 28.5 15.4] dr=17.84 t=9665.3ps kin=1.43 pot=1.96 Rg=7.005 SPS=24265 dt=119.1fs dx=31.80pm \n"
     ]
    },
    {
     "name": "stdout",
     "output_type": "stream",
     "text": [
      "/mnt/home/tudomlumleart/ceph/01_TetheringSimulation/LoopExtrusion_NoBE/template_14/LEFPos.h5\n",
      "creating folder\n",
      "starting simulation with N LEFs=\n",
      "33\n",
      "Length of the saved trajectory: 100\n",
      "N_chain: 333\n",
      "N: 333\n",
      "N_traj: 333\n",
      "Nframes: 100\n",
      "simInitsTotal: 1\n"
     ]
    },
    {
     "name": "stderr",
     "output_type": "stream",
     "text": [
      "INFO:root:Performing local energy minimization\n",
      "INFO:root:adding force harmonic_bonds 0\n",
      "INFO:root:adding force angle 1\n",
      "INFO:root:adding force heteropolymer_SSW 2\n",
      "INFO:root:Particles loaded. Potential energy is 25.991873\n",
      "INFO:root:before minimization eK=1.4763439474826765, eP=25.991873139037626, time=0.0 ps\n"
     ]
    },
    {
     "name": "stdout",
     "output_type": "stream",
     "text": [
      "Exclude neighbouring chain particles from heteropolymer_SSW\n",
      "Number of exceptions: 332\n"
     ]
    },
    {
     "name": "stderr",
     "output_type": "stream",
     "text": [
      "INFO:root:Particles loaded. Potential energy is 0.643922\n",
      "INFO:root:after minimization eK=1.4763439474826765, eP=0.5232542173849474, time=0.0 ps\n",
      "INFO:root:block    0 pos[1]=[13.0 36.5 31.8] dr=18.97 t=9664.8ps kin=1.50 pot=1.90 Rg=8.465 SPS=25310 dt=123.9fs dx=33.83pm \n",
      "INFO:root:Performing local energy minimization\n",
      "INFO:root:adding force harmonic_bonds 0\n",
      "INFO:root:adding force angle 1\n",
      "INFO:root:adding force heteropolymer_SSW 2\n"
     ]
    },
    {
     "name": "stdout",
     "output_type": "stream",
     "text": [
      "/mnt/home/tudomlumleart/ceph/01_TetheringSimulation/LoopExtrusion_NoBE/template_15/LEFPos.h5\n",
      "creating folder\n",
      "starting simulation with N LEFs=\n",
      "33\n",
      "Length of the saved trajectory: 100\n",
      "N_chain: 333\n",
      "N: 333\n",
      "N_traj: 333\n",
      "Nframes: 100\n",
      "simInitsTotal: 1\n",
      "Exclude neighbouring chain particles from heteropolymer_SSW\n",
      "Number of exceptions: 332\n"
     ]
    },
    {
     "name": "stderr",
     "output_type": "stream",
     "text": [
      "INFO:root:Particles loaded. Potential energy is 31.514251\n",
      "INFO:root:before minimization eK=1.5359196482394386, eP=31.514251077273702, time=0.0 ps\n",
      "INFO:root:Particles loaded. Potential energy is 0.690628\n",
      "INFO:root:after minimization eK=1.5359196482394386, eP=0.5923888348474372, time=0.0 ps\n",
      "INFO:root:block    0 pos[1]=[30.8 29.0 35.8] dr=19.34 t=9688.0ps kin=1.48 pot=1.94 Rg=8.111 SPS=22398 dt=121.5fs dx=33.03pm \n",
      "INFO:root:Performing local energy minimization\n",
      "INFO:root:adding force harmonic_bonds 0\n",
      "INFO:root:adding force angle 1\n",
      "INFO:root:adding force heteropolymer_SSW 2\n"
     ]
    },
    {
     "name": "stdout",
     "output_type": "stream",
     "text": [
      "/mnt/home/tudomlumleart/ceph/01_TetheringSimulation/LoopExtrusion_NoBE/template_16/LEFPos.h5\n",
      "creating folder\n",
      "starting simulation with N LEFs=\n",
      "33\n",
      "Length of the saved trajectory: 100\n",
      "N_chain: 333\n",
      "N: 333\n",
      "N_traj: 333\n",
      "Nframes: 100\n",
      "simInitsTotal: 1\n",
      "Exclude neighbouring chain particles from heteropolymer_SSW\n",
      "Number of exceptions: 332\n"
     ]
    },
    {
     "name": "stderr",
     "output_type": "stream",
     "text": [
      "INFO:root:Particles loaded. Potential energy is 20.442765\n",
      "INFO:root:before minimization eK=1.5571393739151214, eP=20.442764739098276, time=0.0 ps\n",
      "INFO:root:Particles loaded. Potential energy is 0.675283\n",
      "INFO:root:after minimization eK=1.5571393739151214, eP=0.5465468108810022, time=0.0 ps\n",
      "INFO:root:block    0 pos[1]=[4.2 22.1 34.5] dr=16.58 t=9671.2ps kin=1.45 pot=1.84 Rg=7.648 SPS=22977 dt=121.4fs dx=32.61pm \n",
      "INFO:root:Performing local energy minimization\n",
      "INFO:root:adding force harmonic_bonds 0\n",
      "INFO:root:adding force angle 1\n",
      "INFO:root:adding force heteropolymer_SSW 2\n"
     ]
    },
    {
     "name": "stdout",
     "output_type": "stream",
     "text": [
      "/mnt/home/tudomlumleart/ceph/01_TetheringSimulation/LoopExtrusion_NoBE/template_17/LEFPos.h5\n",
      "creating folder\n",
      "starting simulation with N LEFs=\n",
      "33\n",
      "Length of the saved trajectory: 100\n",
      "N_chain: 333\n",
      "N: 333\n",
      "N_traj: 333\n",
      "Nframes: 100\n",
      "simInitsTotal: 1\n",
      "Exclude neighbouring chain particles from heteropolymer_SSW\n",
      "Number of exceptions: 332\n"
     ]
    },
    {
     "name": "stderr",
     "output_type": "stream",
     "text": [
      "INFO:root:Particles loaded. Potential energy is 20.467816\n",
      "INFO:root:before minimization eK=1.4648477661116925, eP=20.467815647009186, time=0.0 ps\n",
      "INFO:root:Particles loaded. Potential energy is 0.656163\n",
      "INFO:root:after minimization eK=1.4648477661116925, eP=0.5316473201878148, time=0.0 ps\n",
      "INFO:root:block    0 pos[1]=[7.4 11.2 16.3] dr=17.36 t=9677.4ps kin=1.48 pot=1.82 Rg=7.585 SPS=22116 dt=122.0fs dx=33.10pm \n",
      "INFO:root:Performing local energy minimization\n",
      "INFO:root:adding force harmonic_bonds 0\n",
      "INFO:root:adding force angle 1\n",
      "INFO:root:adding force heteropolymer_SSW 2\n"
     ]
    },
    {
     "name": "stdout",
     "output_type": "stream",
     "text": [
      "/mnt/home/tudomlumleart/ceph/01_TetheringSimulation/LoopExtrusion_NoBE/template_18/LEFPos.h5\n",
      "creating folder\n",
      "starting simulation with N LEFs=\n",
      "33\n",
      "Length of the saved trajectory: 100\n",
      "N_chain: 333\n",
      "N: 333\n",
      "N_traj: 333\n",
      "Nframes: 100\n",
      "simInitsTotal: 1\n",
      "Exclude neighbouring chain particles from heteropolymer_SSW\n",
      "Number of exceptions: 332\n"
     ]
    },
    {
     "name": "stderr",
     "output_type": "stream",
     "text": [
      "INFO:root:Particles loaded. Potential energy is 26.409242\n",
      "INFO:root:before minimization eK=1.4451394871450558, eP=26.409242366206616, time=0.0 ps\n",
      "INFO:root:Particles loaded. Potential energy is 0.615768\n",
      "INFO:root:after minimization eK=1.4451394871450558, eP=0.5106718743347413, time=0.0 ps\n",
      "INFO:root:block    0 pos[1]=[4.5 28.8 19.1] dr=22.91 t=9692.3ps kin=1.44 pot=1.86 Rg=6.469 SPS=23041 dt=120.6fs dx=32.31pm \n",
      "INFO:root:Performing local energy minimization\n",
      "INFO:root:adding force harmonic_bonds 0\n",
      "INFO:root:adding force angle 1\n",
      "INFO:root:adding force heteropolymer_SSW 2\n"
     ]
    },
    {
     "name": "stdout",
     "output_type": "stream",
     "text": [
      "/mnt/home/tudomlumleart/ceph/01_TetheringSimulation/LoopExtrusion_NoBE/template_19/LEFPos.h5\n",
      "creating folder\n",
      "starting simulation with N LEFs=\n",
      "33\n",
      "Length of the saved trajectory: 100\n",
      "N_chain: 333\n",
      "N: 333\n",
      "N_traj: 333\n",
      "Nframes: 100\n",
      "simInitsTotal: 1\n",
      "Exclude neighbouring chain particles from heteropolymer_SSW\n",
      "Number of exceptions: 332\n"
     ]
    },
    {
     "name": "stderr",
     "output_type": "stream",
     "text": [
      "INFO:root:Particles loaded. Potential energy is 21.035517\n",
      "INFO:root:before minimization eK=1.5805291323150756, eP=21.035516928002476, time=0.0 ps\n",
      "INFO:root:Particles loaded. Potential energy is 0.632531\n",
      "INFO:root:after minimization eK=1.5805291323150756, eP=0.5173913672293838, time=0.0 ps\n",
      "INFO:root:block    0 pos[1]=[13.4 35.4 9.6] dr=15.47 t=9664.7ps kin=1.42 pot=1.79 Rg=7.195 SPS=23927 dt=120.8fs dx=32.15pm \n",
      "INFO:root:Performing local energy minimization\n",
      "INFO:root:adding force harmonic_bonds 0\n",
      "INFO:root:adding force angle 1\n",
      "INFO:root:adding force heteropolymer_SSW 2\n"
     ]
    },
    {
     "name": "stdout",
     "output_type": "stream",
     "text": [
      "/mnt/home/tudomlumleart/ceph/01_TetheringSimulation/LoopExtrusion_NoBE/template_20/LEFPos.h5\n",
      "creating folder\n",
      "starting simulation with N LEFs=\n",
      "33\n",
      "Length of the saved trajectory: 100\n",
      "N_chain: 333\n",
      "N: 333\n",
      "N_traj: 333\n",
      "Nframes: 100\n",
      "simInitsTotal: 1\n",
      "Exclude neighbouring chain particles from heteropolymer_SSW\n",
      "Number of exceptions: 332\n"
     ]
    },
    {
     "name": "stderr",
     "output_type": "stream",
     "text": [
      "INFO:root:Particles loaded. Potential energy is 23.181717\n",
      "INFO:root:before minimization eK=1.5409828168166826, eP=23.18171670486917, time=0.0 ps\n",
      "INFO:root:Particles loaded. Potential energy is 0.649870\n",
      "INFO:root:after minimization eK=1.5409828168166826, eP=0.544777916104954, time=0.0 ps\n",
      "INFO:root:block    0 pos[1]=[17.0 20.8 32.9] dr=18.24 t=9684.9ps kin=1.52 pot=1.84 Rg=7.786 SPS=22532 dt=122.0fs dx=33.53pm \n",
      "INFO:root:Performing local energy minimization\n",
      "INFO:root:adding force harmonic_bonds 0\n",
      "INFO:root:adding force angle 1\n",
      "INFO:root:adding force heteropolymer_SSW 2\n"
     ]
    },
    {
     "name": "stdout",
     "output_type": "stream",
     "text": [
      "/mnt/home/tudomlumleart/ceph/01_TetheringSimulation/LoopExtrusion_NoBE/template_21/LEFPos.h5\n",
      "creating folder\n",
      "starting simulation with N LEFs=\n",
      "33\n",
      "Length of the saved trajectory: 100\n",
      "N_chain: 333\n",
      "N: 333\n",
      "N_traj: 333\n",
      "Nframes: 100\n",
      "simInitsTotal: 1\n",
      "Exclude neighbouring chain particles from heteropolymer_SSW\n",
      "Number of exceptions: 332\n"
     ]
    },
    {
     "name": "stderr",
     "output_type": "stream",
     "text": [
      "INFO:root:Particles loaded. Potential energy is 25.954540\n",
      "INFO:root:before minimization eK=1.4922494297846083, eP=25.954539852165926, time=0.0 ps\n",
      "INFO:root:Particles loaded. Potential energy is 0.618899\n",
      "INFO:root:after minimization eK=1.4922494297846083, eP=0.5043233548183238, time=0.0 ps\n",
      "INFO:root:block    0 pos[1]=[17.7 40.5 29.8] dr=14.20 t=9660.6ps kin=1.55 pot=1.76 Rg=7.333 SPS=22196 dt=120.8fs dx=33.61pm \n",
      "INFO:root:Performing local energy minimization\n",
      "INFO:root:adding force harmonic_bonds 0\n",
      "INFO:root:adding force angle 1\n",
      "INFO:root:adding force heteropolymer_SSW 2\n"
     ]
    },
    {
     "name": "stdout",
     "output_type": "stream",
     "text": [
      "/mnt/home/tudomlumleart/ceph/01_TetheringSimulation/LoopExtrusion_NoBE/template_22/LEFPos.h5\n",
      "creating folder\n",
      "starting simulation with N LEFs=\n",
      "33\n",
      "Length of the saved trajectory: 100\n",
      "N_chain: 333\n",
      "N: 333\n",
      "N_traj: 333\n",
      "Nframes: 100\n",
      "simInitsTotal: 1\n",
      "Exclude neighbouring chain particles from heteropolymer_SSW\n",
      "Number of exceptions: 332\n"
     ]
    },
    {
     "name": "stderr",
     "output_type": "stream",
     "text": [
      "INFO:root:Particles loaded. Potential energy is 17.880088\n",
      "INFO:root:before minimization eK=1.3968018103019877, eP=17.880087905653223, time=0.0 ps\n",
      "INFO:root:Particles loaded. Potential energy is 0.625985\n",
      "INFO:root:after minimization eK=1.3968018103019877, eP=0.5083353748425768, time=0.0 ps\n",
      "INFO:root:block    0 pos[1]=[16.4 26.1 8.4] dr=23.56 t=9676.9ps kin=1.54 pot=1.91 Rg=6.490 SPS=23623 dt=119.5fs dx=33.08pm \n"
     ]
    },
    {
     "name": "stdout",
     "output_type": "stream",
     "text": [
      "/mnt/home/tudomlumleart/ceph/01_TetheringSimulation/LoopExtrusion_NoBE/template_23/LEFPos.h5\n",
      "creating folder\n",
      "starting simulation with N LEFs=\n",
      "33\n",
      "Length of the saved trajectory: 100\n",
      "N_chain: 333\n",
      "N: 333\n",
      "N_traj: 333\n",
      "Nframes: 100\n",
      "simInitsTotal: 1\n"
     ]
    },
    {
     "name": "stderr",
     "output_type": "stream",
     "text": [
      "INFO:root:Performing local energy minimization\n",
      "INFO:root:adding force harmonic_bonds 0\n",
      "INFO:root:adding force angle 1\n",
      "INFO:root:adding force heteropolymer_SSW 2\n",
      "INFO:root:Particles loaded. Potential energy is 26.156963\n",
      "INFO:root:before minimization eK=1.4889215025006919, eP=26.15696335099529, time=0.0 ps\n"
     ]
    },
    {
     "name": "stdout",
     "output_type": "stream",
     "text": [
      "Exclude neighbouring chain particles from heteropolymer_SSW\n",
      "Number of exceptions: 332\n"
     ]
    },
    {
     "name": "stderr",
     "output_type": "stream",
     "text": [
      "INFO:root:Particles loaded. Potential energy is 0.641343\n",
      "INFO:root:after minimization eK=1.4889215025006919, eP=0.49706075571056446, time=0.0 ps\n",
      "INFO:root:block    0 pos[1]=[23.1 34.5 8.8] dr=22.93 t=9665.1ps kin=1.58 pot=1.86 Rg=7.435 SPS=24386 dt=120.2fs dx=33.78pm \n",
      "INFO:root:Performing local energy minimization\n",
      "INFO:root:adding force harmonic_bonds 0\n",
      "INFO:root:adding force angle 1\n",
      "INFO:root:adding force heteropolymer_SSW 2\n"
     ]
    },
    {
     "name": "stdout",
     "output_type": "stream",
     "text": [
      "/mnt/home/tudomlumleart/ceph/01_TetheringSimulation/LoopExtrusion_NoBE/template_24/LEFPos.h5\n",
      "creating folder\n",
      "starting simulation with N LEFs=\n",
      "33\n",
      "Length of the saved trajectory: 100\n",
      "N_chain: 333\n",
      "N: 333\n",
      "N_traj: 333\n",
      "Nframes: 100\n",
      "simInitsTotal: 1\n",
      "Exclude neighbouring chain particles from heteropolymer_SSW\n",
      "Number of exceptions: 332\n"
     ]
    },
    {
     "name": "stderr",
     "output_type": "stream",
     "text": [
      "INFO:root:Particles loaded. Potential energy is 35.205225\n",
      "INFO:root:before minimization eK=1.4522837096742935, eP=35.205225046175535, time=0.0 ps\n",
      "INFO:root:Particles loaded. Potential energy is 0.653250\n",
      "INFO:root:after minimization eK=1.4522837096742935, eP=0.5397723323356042, time=0.0 ps\n",
      "INFO:root:block    0 pos[1]=[20.6 17.6 35.8] dr=16.91 t=9683.8ps kin=1.53 pot=1.92 Rg=7.147 SPS=24313 dt=120.7fs dx=33.32pm \n",
      "INFO:root:Performing local energy minimization\n",
      "INFO:root:adding force harmonic_bonds 0\n",
      "INFO:root:adding force angle 1\n",
      "INFO:root:adding force heteropolymer_SSW 2\n"
     ]
    },
    {
     "name": "stdout",
     "output_type": "stream",
     "text": [
      "/mnt/home/tudomlumleart/ceph/01_TetheringSimulation/LoopExtrusion_NoBE/template_25/LEFPos.h5\n",
      "creating folder\n",
      "starting simulation with N LEFs=\n",
      "33\n",
      "Length of the saved trajectory: 100\n",
      "N_chain: 333\n",
      "N: 333\n",
      "N_traj: 333\n",
      "Nframes: 100\n",
      "simInitsTotal: 1\n",
      "Exclude neighbouring chain particles from heteropolymer_SSW\n",
      "Number of exceptions: 332\n"
     ]
    },
    {
     "name": "stderr",
     "output_type": "stream",
     "text": [
      "INFO:root:Particles loaded. Potential energy is 19.340317\n",
      "INFO:root:before minimization eK=1.4384314211116729, eP=19.34031682736805, time=0.0 ps\n",
      "INFO:root:Particles loaded. Potential energy is 0.613907\n",
      "INFO:root:after minimization eK=1.4384314211116729, eP=0.5079478052641002, time=0.0 ps\n",
      "INFO:root:block    0 pos[1]=[27.4 28.6 34.4] dr=19.18 t=9657.6ps kin=1.52 pot=1.86 Rg=8.150 SPS=25271 dt=121.9fs dx=33.58pm \n",
      "INFO:root:Performing local energy minimization\n",
      "INFO:root:adding force harmonic_bonds 0\n",
      "INFO:root:adding force angle 1\n",
      "INFO:root:adding force heteropolymer_SSW 2\n"
     ]
    },
    {
     "name": "stdout",
     "output_type": "stream",
     "text": [
      "/mnt/home/tudomlumleart/ceph/01_TetheringSimulation/LoopExtrusion_NoBE/template_26/LEFPos.h5\n",
      "creating folder\n",
      "starting simulation with N LEFs=\n",
      "33\n",
      "Length of the saved trajectory: 100\n",
      "N_chain: 333\n",
      "N: 333\n",
      "N_traj: 333\n",
      "Nframes: 100\n",
      "simInitsTotal: 1\n",
      "Exclude neighbouring chain particles from heteropolymer_SSW\n",
      "Number of exceptions: 332\n"
     ]
    },
    {
     "name": "stderr",
     "output_type": "stream",
     "text": [
      "INFO:root:Particles loaded. Potential energy is 20.552007\n",
      "INFO:root:before minimization eK=1.5866490692023663, eP=20.552006898726273, time=0.0 ps\n",
      "INFO:root:Particles loaded. Potential energy is 0.687701\n",
      "INFO:root:after minimization eK=1.5866490692023663, eP=0.5784612508277104, time=0.0 ps\n",
      "INFO:root:block    0 pos[1]=[34.2 25.2 29.3] dr=19.86 t=9680.8ps kin=1.66 pot=1.83 Rg=7.140 SPS=22759 dt=120.9fs dx=34.74pm \n",
      "INFO:root:Performing local energy minimization\n",
      "INFO:root:adding force harmonic_bonds 0\n",
      "INFO:root:adding force angle 1\n",
      "INFO:root:adding force heteropolymer_SSW 2\n"
     ]
    },
    {
     "name": "stdout",
     "output_type": "stream",
     "text": [
      "/mnt/home/tudomlumleart/ceph/01_TetheringSimulation/LoopExtrusion_NoBE/template_27/LEFPos.h5\n",
      "creating folder\n",
      "starting simulation with N LEFs=\n",
      "33\n",
      "Length of the saved trajectory: 100\n",
      "N_chain: 333\n",
      "N: 333\n",
      "N_traj: 333\n",
      "Nframes: 100\n",
      "simInitsTotal: 1\n",
      "Exclude neighbouring chain particles from heteropolymer_SSW\n",
      "Number of exceptions: 332\n"
     ]
    },
    {
     "name": "stderr",
     "output_type": "stream",
     "text": [
      "INFO:root:Particles loaded. Potential energy is 22.540236\n",
      "INFO:root:before minimization eK=1.4822246997477613, eP=22.540236484554693, time=0.0 ps\n",
      "INFO:root:Particles loaded. Potential energy is 0.640679\n",
      "INFO:root:after minimization eK=1.4822246997477613, eP=0.5389605405216893, time=0.0 ps\n",
      "INFO:root:block    0 pos[1]=[35.8 23.6 16.6] dr=12.29 t=9659.2ps kin=1.36 pot=1.86 Rg=6.745 SPS=24609 dt=127.1fs dx=33.16pm \n",
      "INFO:root:Performing local energy minimization\n",
      "INFO:root:adding force harmonic_bonds 0\n",
      "INFO:root:adding force angle 1\n",
      "INFO:root:adding force heteropolymer_SSW 2\n"
     ]
    },
    {
     "name": "stdout",
     "output_type": "stream",
     "text": [
      "/mnt/home/tudomlumleart/ceph/01_TetheringSimulation/LoopExtrusion_NoBE/template_28/LEFPos.h5\n",
      "creating folder\n",
      "starting simulation with N LEFs=\n",
      "33\n",
      "Length of the saved trajectory: 100\n",
      "N_chain: 333\n",
      "N: 333\n",
      "N_traj: 333\n",
      "Nframes: 100\n",
      "simInitsTotal: 1\n",
      "Exclude neighbouring chain particles from heteropolymer_SSW\n",
      "Number of exceptions: 332\n"
     ]
    },
    {
     "name": "stderr",
     "output_type": "stream",
     "text": [
      "INFO:root:Particles loaded. Potential energy is 25.911559\n",
      "INFO:root:before minimization eK=1.5273600568694277, eP=25.911559358326503, time=0.0 ps\n",
      "INFO:root:Particles loaded. Potential energy is 0.694838\n",
      "INFO:root:after minimization eK=1.5273600568694277, eP=0.5708332766237517, time=0.0 ps\n",
      "INFO:root:block    0 pos[1]=[12.1 20.8 26.6] dr=15.02 t=9678.1ps kin=1.44 pot=1.91 Rg=6.243 SPS=22181 dt=119.0fs dx=31.95pm \n",
      "INFO:root:Performing local energy minimization\n",
      "INFO:root:adding force harmonic_bonds 0\n",
      "INFO:root:adding force angle 1\n",
      "INFO:root:adding force heteropolymer_SSW 2\n"
     ]
    },
    {
     "name": "stdout",
     "output_type": "stream",
     "text": [
      "/mnt/home/tudomlumleart/ceph/01_TetheringSimulation/LoopExtrusion_NoBE/template_29/LEFPos.h5\n",
      "creating folder\n",
      "starting simulation with N LEFs=\n",
      "33\n",
      "Length of the saved trajectory: 100\n",
      "N_chain: 333\n",
      "N: 333\n",
      "N_traj: 333\n",
      "Nframes: 100\n",
      "simInitsTotal: 1\n",
      "Exclude neighbouring chain particles from heteropolymer_SSW\n",
      "Number of exceptions: 332\n"
     ]
    },
    {
     "name": "stderr",
     "output_type": "stream",
     "text": [
      "INFO:root:Particles loaded. Potential energy is 24.555872\n",
      "INFO:root:before minimization eK=1.5707335648094825, eP=24.55587227101949, time=0.0 ps\n",
      "INFO:root:Particles loaded. Potential energy is 0.601817\n",
      "INFO:root:after minimization eK=1.5707335648094825, eP=0.4957537590734458, time=0.0 ps\n",
      "INFO:root:block    0 pos[1]=[18.5 11.5 36.4] dr=22.01 t=9658.0ps kin=1.45 pot=1.84 Rg=5.953 SPS=22297 dt=120.0fs dx=32.24pm \n",
      "INFO:root:Performing local energy minimization\n",
      "INFO:root:adding force harmonic_bonds 0\n",
      "INFO:root:adding force angle 1\n",
      "INFO:root:adding force heteropolymer_SSW 2\n"
     ]
    },
    {
     "name": "stdout",
     "output_type": "stream",
     "text": [
      "/mnt/home/tudomlumleart/ceph/01_TetheringSimulation/LoopExtrusion_NoBE/template_30/LEFPos.h5\n",
      "creating folder\n",
      "starting simulation with N LEFs=\n",
      "33\n",
      "Length of the saved trajectory: 100\n",
      "N_chain: 333\n",
      "N: 333\n",
      "N_traj: 333\n",
      "Nframes: 100\n",
      "simInitsTotal: 1\n",
      "Exclude neighbouring chain particles from heteropolymer_SSW\n",
      "Number of exceptions: 332\n"
     ]
    },
    {
     "name": "stderr",
     "output_type": "stream",
     "text": [
      "INFO:root:Particles loaded. Potential energy is 28.578699\n",
      "INFO:root:before minimization eK=1.5085927920934414, eP=28.578698770946755, time=0.0 ps\n",
      "INFO:root:Particles loaded. Potential energy is 0.720126\n",
      "INFO:root:after minimization eK=1.5085927920934414, eP=0.6137256755320275, time=0.0 ps\n",
      "INFO:root:block    0 pos[1]=[35.5 35.6 24.3] dr=19.86 t=9660.0ps kin=1.42 pot=1.83 Rg=7.442 SPS=22909 dt=121.1fs dx=32.25pm \n",
      "INFO:root:Performing local energy minimization\n",
      "INFO:root:adding force harmonic_bonds 0\n",
      "INFO:root:adding force angle 1\n",
      "INFO:root:adding force heteropolymer_SSW 2\n"
     ]
    },
    {
     "name": "stdout",
     "output_type": "stream",
     "text": [
      "/mnt/home/tudomlumleart/ceph/01_TetheringSimulation/LoopExtrusion_NoBE/template_31/LEFPos.h5\n",
      "creating folder\n",
      "starting simulation with N LEFs=\n",
      "33\n",
      "Length of the saved trajectory: 100\n",
      "N_chain: 333\n",
      "N: 333\n",
      "N_traj: 333\n",
      "Nframes: 100\n",
      "simInitsTotal: 1\n",
      "Exclude neighbouring chain particles from heteropolymer_SSW\n",
      "Number of exceptions: 332\n"
     ]
    },
    {
     "name": "stderr",
     "output_type": "stream",
     "text": [
      "INFO:root:Particles loaded. Potential energy is 38.632438\n",
      "INFO:root:before minimization eK=1.5589746666565159, eP=38.632438433246506, time=0.0 ps\n",
      "INFO:root:Particles loaded. Potential energy is 0.585349\n",
      "INFO:root:after minimization eK=1.5589746666565159, eP=0.48855151994149754, time=0.0 ps\n",
      "INFO:root:block    0 pos[1]=[14.3 23.8 25.5] dr=19.50 t=9656.2ps kin=1.45 pot=1.75 Rg=7.283 SPS=22796 dt=123.4fs dx=33.16pm \n",
      "INFO:root:Performing local energy minimization\n",
      "INFO:root:adding force harmonic_bonds 0\n",
      "INFO:root:adding force angle 1\n",
      "INFO:root:adding force heteropolymer_SSW 2\n"
     ]
    },
    {
     "name": "stdout",
     "output_type": "stream",
     "text": [
      "/mnt/home/tudomlumleart/ceph/01_TetheringSimulation/LoopExtrusion_NoBE/template_32/LEFPos.h5\n",
      "creating folder\n",
      "starting simulation with N LEFs=\n",
      "33\n",
      "Length of the saved trajectory: 100\n",
      "N_chain: 333\n",
      "N: 333\n",
      "N_traj: 333\n",
      "Nframes: 100\n",
      "simInitsTotal: 1\n",
      "Exclude neighbouring chain particles from heteropolymer_SSW\n",
      "Number of exceptions: 332\n"
     ]
    },
    {
     "name": "stderr",
     "output_type": "stream",
     "text": [
      "INFO:root:Particles loaded. Potential energy is 19.013475\n",
      "INFO:root:before minimization eK=1.558493667952509, eP=19.0134751307791, time=0.0 ps\n",
      "INFO:root:Particles loaded. Potential energy is 0.625872\n",
      "INFO:root:after minimization eK=1.558493667952509, eP=0.5168163298342052, time=0.0 ps\n",
      "INFO:root:block    0 pos[1]=[20.3 26.5 35.3] dr=16.50 t=9673.0ps kin=1.55 pot=1.88 Rg=6.274 SPS=22902 dt=133.1fs dx=37.06pm \n",
      "INFO:root:Performing local energy minimization\n",
      "INFO:root:adding force harmonic_bonds 0\n",
      "INFO:root:adding force angle 1\n",
      "INFO:root:adding force heteropolymer_SSW 2\n"
     ]
    },
    {
     "name": "stdout",
     "output_type": "stream",
     "text": [
      "/mnt/home/tudomlumleart/ceph/01_TetheringSimulation/LoopExtrusion_NoBE/template_33/LEFPos.h5\n",
      "creating folder\n",
      "starting simulation with N LEFs=\n",
      "33\n",
      "Length of the saved trajectory: 100\n",
      "N_chain: 333\n",
      "N: 333\n",
      "N_traj: 333\n",
      "Nframes: 100\n",
      "simInitsTotal: 1\n",
      "Exclude neighbouring chain particles from heteropolymer_SSW\n",
      "Number of exceptions: 332\n"
     ]
    },
    {
     "name": "stderr",
     "output_type": "stream",
     "text": [
      "INFO:root:Particles loaded. Potential energy is 33.639661\n",
      "INFO:root:before minimization eK=1.5357280123217547, eP=33.63966143983467, time=0.0 ps\n",
      "INFO:root:Particles loaded. Potential energy is 0.682340\n",
      "INFO:root:after minimization eK=1.5357280123217547, eP=0.5673188145588296, time=0.0 ps\n",
      "INFO:root:block    0 pos[1]=[29.3 33.7 29.1] dr=17.03 t=9666.0ps kin=1.68 pot=1.95 Rg=6.712 SPS=25447 dt=120.3fs dx=34.83pm \n",
      "INFO:root:Performing local energy minimization\n",
      "INFO:root:adding force harmonic_bonds 0\n",
      "INFO:root:adding force angle 1\n",
      "INFO:root:adding force heteropolymer_SSW 2\n"
     ]
    },
    {
     "name": "stdout",
     "output_type": "stream",
     "text": [
      "/mnt/home/tudomlumleart/ceph/01_TetheringSimulation/LoopExtrusion_NoBE/template_34/LEFPos.h5\n",
      "creating folder\n",
      "starting simulation with N LEFs=\n",
      "33\n",
      "Length of the saved trajectory: 100\n",
      "N_chain: 333\n",
      "N: 333\n",
      "N_traj: 333\n",
      "Nframes: 100\n",
      "simInitsTotal: 1\n",
      "Exclude neighbouring chain particles from heteropolymer_SSW\n",
      "Number of exceptions: 332\n"
     ]
    },
    {
     "name": "stderr",
     "output_type": "stream",
     "text": [
      "INFO:root:Particles loaded. Potential energy is 17.353436\n",
      "INFO:root:before minimization eK=1.5427851767094911, eP=17.353435554260415, time=0.0 ps\n",
      "INFO:root:Particles loaded. Potential energy is 0.673029\n",
      "INFO:root:after minimization eK=1.5427851767094911, eP=0.5645636574633084, time=0.0 ps\n",
      "INFO:root:block    0 pos[1]=[25.2 32.7 11.4] dr=14.91 t=9679.2ps kin=1.47 pot=1.93 Rg=7.378 SPS=22652 dt=120.6fs dx=32.65pm \n",
      "INFO:root:Performing local energy minimization\n",
      "INFO:root:adding force harmonic_bonds 0\n",
      "INFO:root:adding force angle 1\n",
      "INFO:root:adding force heteropolymer_SSW 2\n"
     ]
    },
    {
     "name": "stdout",
     "output_type": "stream",
     "text": [
      "/mnt/home/tudomlumleart/ceph/01_TetheringSimulation/LoopExtrusion_NoBE/template_35/LEFPos.h5\n",
      "creating folder\n",
      "starting simulation with N LEFs=\n",
      "33\n",
      "Length of the saved trajectory: 100\n",
      "N_chain: 333\n",
      "N: 333\n",
      "N_traj: 333\n",
      "Nframes: 100\n",
      "simInitsTotal: 1\n",
      "Exclude neighbouring chain particles from heteropolymer_SSW\n",
      "Number of exceptions: 332\n"
     ]
    },
    {
     "name": "stderr",
     "output_type": "stream",
     "text": [
      "INFO:root:Particles loaded. Potential energy is 31.046835\n",
      "INFO:root:before minimization eK=1.4987773898697667, eP=31.046834654607927, time=0.0 ps\n",
      "INFO:root:Particles loaded. Potential energy is 0.615068\n",
      "INFO:root:after minimization eK=1.4987773898697667, eP=0.5022770610154691, time=0.0 ps\n",
      "INFO:root:block    0 pos[1]=[16.8 36.5 14.1] dr=17.35 t=9679.5ps kin=1.72 pot=1.83 Rg=6.635 SPS=23436 dt=119.5fs dx=34.96pm \n",
      "INFO:root:Performing local energy minimization\n",
      "INFO:root:adding force harmonic_bonds 0\n",
      "INFO:root:adding force angle 1\n",
      "INFO:root:adding force heteropolymer_SSW 2\n"
     ]
    },
    {
     "name": "stdout",
     "output_type": "stream",
     "text": [
      "/mnt/home/tudomlumleart/ceph/01_TetheringSimulation/LoopExtrusion_NoBE/template_36/LEFPos.h5\n",
      "creating folder\n",
      "starting simulation with N LEFs=\n",
      "33\n",
      "Length of the saved trajectory: 100\n",
      "N_chain: 333\n",
      "N: 333\n",
      "N_traj: 333\n",
      "Nframes: 100\n",
      "simInitsTotal: 1\n",
      "Exclude neighbouring chain particles from heteropolymer_SSW\n",
      "Number of exceptions: 332\n"
     ]
    },
    {
     "name": "stderr",
     "output_type": "stream",
     "text": [
      "INFO:root:Particles loaded. Potential energy is 30.292745\n",
      "INFO:root:before minimization eK=1.6084439967763606, eP=30.292744988614356, time=0.0 ps\n",
      "INFO:root:Particles loaded. Potential energy is 0.546911\n",
      "INFO:root:after minimization eK=1.6084439967763606, eP=0.44473787460565956, time=0.0 ps\n",
      "INFO:root:block    0 pos[1]=[27.2 14.9 14.6] dr=17.65 t=9660.5ps kin=1.47 pot=1.71 Rg=6.832 SPS=22345 dt=123.5fs dx=33.49pm \n",
      "INFO:root:Performing local energy minimization\n",
      "INFO:root:adding force harmonic_bonds 0\n",
      "INFO:root:adding force angle 1\n",
      "INFO:root:adding force heteropolymer_SSW 2\n"
     ]
    },
    {
     "name": "stdout",
     "output_type": "stream",
     "text": [
      "/mnt/home/tudomlumleart/ceph/01_TetheringSimulation/LoopExtrusion_NoBE/template_37/LEFPos.h5\n",
      "creating folder\n",
      "starting simulation with N LEFs=\n",
      "33\n",
      "Length of the saved trajectory: 100\n",
      "N_chain: 333\n",
      "N: 333\n",
      "N_traj: 333\n",
      "Nframes: 100\n",
      "simInitsTotal: 1\n",
      "Exclude neighbouring chain particles from heteropolymer_SSW\n",
      "Number of exceptions: 332\n"
     ]
    },
    {
     "name": "stderr",
     "output_type": "stream",
     "text": [
      "INFO:root:Particles loaded. Potential energy is 21.902555\n",
      "INFO:root:before minimization eK=1.4677468230296056, eP=21.902555422858136, time=0.0 ps\n",
      "INFO:root:Particles loaded. Potential energy is 0.617034\n",
      "INFO:root:after minimization eK=1.4677468230296056, eP=0.5162785254234792, time=0.0 ps\n",
      "INFO:root:block    0 pos[1]=[20.0 46.5 27.8] dr=23.43 t=9657.5ps kin=1.46 pot=1.87 Rg=9.249 SPS=23540 dt=122.4fs dx=33.09pm \n",
      "INFO:root:Performing local energy minimization\n",
      "INFO:root:adding force harmonic_bonds 0\n",
      "INFO:root:adding force angle 1\n",
      "INFO:root:adding force heteropolymer_SSW 2\n"
     ]
    },
    {
     "name": "stdout",
     "output_type": "stream",
     "text": [
      "/mnt/home/tudomlumleart/ceph/01_TetheringSimulation/LoopExtrusion_NoBE/template_38/LEFPos.h5\n",
      "creating folder\n",
      "starting simulation with N LEFs=\n",
      "33\n",
      "Length of the saved trajectory: 100\n",
      "N_chain: 333\n",
      "N: 333\n",
      "N_traj: 333\n",
      "Nframes: 100\n",
      "simInitsTotal: 1\n",
      "Exclude neighbouring chain particles from heteropolymer_SSW\n",
      "Number of exceptions: 332\n"
     ]
    },
    {
     "name": "stderr",
     "output_type": "stream",
     "text": [
      "INFO:root:Particles loaded. Potential energy is 23.003089\n",
      "INFO:root:before minimization eK=1.4895812688328283, eP=23.003088524583056, time=0.0 ps\n",
      "INFO:root:Particles loaded. Potential energy is 0.620005\n",
      "INFO:root:after minimization eK=1.4895812688328283, eP=0.5122068222837775, time=0.0 ps\n",
      "INFO:root:block    0 pos[1]=[34.8 9.4 21.1] dr=15.47 t=9691.2ps kin=1.60 pot=1.90 Rg=7.682 SPS=23731 dt=118.6fs dx=33.50pm \n",
      "INFO:root:Performing local energy minimization\n",
      "INFO:root:adding force harmonic_bonds 0\n",
      "INFO:root:adding force angle 1\n",
      "INFO:root:adding force heteropolymer_SSW 2\n"
     ]
    },
    {
     "name": "stdout",
     "output_type": "stream",
     "text": [
      "/mnt/home/tudomlumleart/ceph/01_TetheringSimulation/LoopExtrusion_NoBE/template_39/LEFPos.h5\n",
      "creating folder\n",
      "starting simulation with N LEFs=\n",
      "33\n",
      "Length of the saved trajectory: 100\n",
      "N_chain: 333\n",
      "N: 333\n",
      "N_traj: 333\n",
      "Nframes: 100\n",
      "simInitsTotal: 1\n",
      "Exclude neighbouring chain particles from heteropolymer_SSW\n",
      "Number of exceptions: 332\n"
     ]
    },
    {
     "name": "stderr",
     "output_type": "stream",
     "text": [
      "INFO:root:Particles loaded. Potential energy is 23.268545\n",
      "INFO:root:before minimization eK=1.4376316946352246, eP=23.268544866860694, time=0.0 ps\n",
      "INFO:root:Particles loaded. Potential energy is 0.611493\n",
      "INFO:root:after minimization eK=1.4376316946352246, eP=0.5040125514015198, time=0.0 ps\n",
      "INFO:root:block    0 pos[1]=[4.2 14.9 20.8] dr=17.63 t=9688.8ps kin=1.52 pot=1.85 Rg=6.880 SPS=23641 dt=120.3fs dx=33.11pm \n",
      "INFO:root:Performing local energy minimization\n",
      "INFO:root:adding force harmonic_bonds 0\n",
      "INFO:root:adding force angle 1\n",
      "INFO:root:adding force heteropolymer_SSW 2\n"
     ]
    },
    {
     "name": "stdout",
     "output_type": "stream",
     "text": [
      "/mnt/home/tudomlumleart/ceph/01_TetheringSimulation/LoopExtrusion_NoBE/template_40/LEFPos.h5\n",
      "creating folder\n",
      "starting simulation with N LEFs=\n",
      "33\n",
      "Length of the saved trajectory: 100\n",
      "N_chain: 333\n",
      "N: 333\n",
      "N_traj: 333\n",
      "Nframes: 100\n",
      "simInitsTotal: 1\n",
      "Exclude neighbouring chain particles from heteropolymer_SSW\n",
      "Number of exceptions: 332\n"
     ]
    },
    {
     "name": "stderr",
     "output_type": "stream",
     "text": [
      "INFO:root:Particles loaded. Potential energy is 31.422051\n",
      "INFO:root:before minimization eK=1.5214286841693934, eP=31.42205100719682, time=0.0 ps\n",
      "INFO:root:Particles loaded. Potential energy is 0.598560\n",
      "INFO:root:after minimization eK=1.5214286841693934, eP=0.4952899180862957, time=0.0 ps\n",
      "INFO:root:block    0 pos[1]=[38.7 -2.2 21.7] dr=28.18 t=9677.9ps kin=1.57 pot=1.89 Rg=7.218 SPS=22310 dt=118.5fs dx=33.18pm \n",
      "INFO:root:Performing local energy minimization\n",
      "INFO:root:adding force harmonic_bonds 0\n",
      "INFO:root:adding force angle 1\n",
      "INFO:root:adding force heteropolymer_SSW 2\n"
     ]
    },
    {
     "name": "stdout",
     "output_type": "stream",
     "text": [
      "/mnt/home/tudomlumleart/ceph/01_TetheringSimulation/LoopExtrusion_NoBE/template_41/LEFPos.h5\n",
      "creating folder\n",
      "starting simulation with N LEFs=\n",
      "33\n",
      "Length of the saved trajectory: 100\n",
      "N_chain: 333\n",
      "N: 333\n",
      "N_traj: 333\n",
      "Nframes: 100\n",
      "simInitsTotal: 1\n",
      "Exclude neighbouring chain particles from heteropolymer_SSW\n",
      "Number of exceptions: 332\n"
     ]
    },
    {
     "name": "stderr",
     "output_type": "stream",
     "text": [
      "INFO:root:Particles loaded. Potential energy is 23.160575\n",
      "INFO:root:before minimization eK=1.3731099346759288, eP=23.1605753477563, time=0.0 ps\n",
      "INFO:root:Particles loaded. Potential energy is 0.614623\n",
      "INFO:root:after minimization eK=1.3731099346759288, eP=0.5066128731699558, time=0.0 ps\n",
      "INFO:root:block    0 pos[1]=[31.6 23.3 5.0] dr=14.54 t=9679.7ps kin=1.50 pot=1.77 Rg=6.990 SPS=22463 dt=119.7fs dx=32.79pm \n",
      "INFO:root:Performing local energy minimization\n",
      "INFO:root:adding force harmonic_bonds 0\n",
      "INFO:root:adding force angle 1\n",
      "INFO:root:adding force heteropolymer_SSW 2\n"
     ]
    },
    {
     "name": "stdout",
     "output_type": "stream",
     "text": [
      "/mnt/home/tudomlumleart/ceph/01_TetheringSimulation/LoopExtrusion_NoBE/template_42/LEFPos.h5\n",
      "creating folder\n",
      "starting simulation with N LEFs=\n",
      "33\n",
      "Length of the saved trajectory: 100\n",
      "N_chain: 333\n",
      "N: 333\n",
      "N_traj: 333\n",
      "Nframes: 100\n",
      "simInitsTotal: 1\n",
      "Exclude neighbouring chain particles from heteropolymer_SSW\n",
      "Number of exceptions: 332\n"
     ]
    },
    {
     "name": "stderr",
     "output_type": "stream",
     "text": [
      "INFO:root:Particles loaded. Potential energy is 24.931140\n",
      "INFO:root:before minimization eK=1.5023445532402013, eP=24.93113957455088, time=0.0 ps\n",
      "INFO:root:Particles loaded. Potential energy is 0.630058\n",
      "INFO:root:after minimization eK=1.5023445532402013, eP=0.5127577170955099, time=0.0 ps\n",
      "INFO:root:block    0 pos[1]=[23.8 34.6 32.3] dr=16.06 t=9670.8ps kin=1.51 pot=1.89 Rg=7.090 SPS=22462 dt=119.9fs dx=32.93pm \n",
      "INFO:root:Performing local energy minimization\n",
      "INFO:root:adding force harmonic_bonds 0\n",
      "INFO:root:adding force angle 1\n",
      "INFO:root:adding force heteropolymer_SSW 2\n"
     ]
    },
    {
     "name": "stdout",
     "output_type": "stream",
     "text": [
      "/mnt/home/tudomlumleart/ceph/01_TetheringSimulation/LoopExtrusion_NoBE/template_43/LEFPos.h5\n",
      "creating folder\n",
      "starting simulation with N LEFs=\n",
      "33\n",
      "Length of the saved trajectory: 100\n",
      "N_chain: 333\n",
      "N: 333\n",
      "N_traj: 333\n",
      "Nframes: 100\n",
      "simInitsTotal: 1\n",
      "Exclude neighbouring chain particles from heteropolymer_SSW\n",
      "Number of exceptions: 332\n"
     ]
    },
    {
     "name": "stderr",
     "output_type": "stream",
     "text": [
      "INFO:root:Particles loaded. Potential energy is 14.815323\n",
      "INFO:root:before minimization eK=1.549486617748154, eP=14.815322649926262, time=0.0 ps\n",
      "INFO:root:Particles loaded. Potential energy is 0.694337\n",
      "INFO:root:after minimization eK=1.549486617748154, eP=0.5789585993165783, time=0.0 ps\n",
      "INFO:root:block    0 pos[1]=[33.0 14.9 17.6] dr=17.23 t=9668.0ps kin=1.55 pot=1.85 Rg=8.622 SPS=22273 dt=119.7fs dx=33.28pm \n"
     ]
    },
    {
     "name": "stdout",
     "output_type": "stream",
     "text": [
      "/mnt/home/tudomlumleart/ceph/01_TetheringSimulation/LoopExtrusion_NoBE/template_44/LEFPos.h5\n",
      "creating folder\n",
      "starting simulation with N LEFs=\n",
      "33\n",
      "Length of the saved trajectory: 100\n",
      "N_chain: 333\n",
      "N: 333\n",
      "N_traj: 333\n",
      "Nframes: 100\n",
      "simInitsTotal: 1\n"
     ]
    },
    {
     "name": "stderr",
     "output_type": "stream",
     "text": [
      "INFO:root:Performing local energy minimization\n",
      "INFO:root:adding force harmonic_bonds 0\n",
      "INFO:root:adding force angle 1\n",
      "INFO:root:adding force heteropolymer_SSW 2\n"
     ]
    },
    {
     "name": "stdout",
     "output_type": "stream",
     "text": [
      "Exclude neighbouring chain particles from heteropolymer_SSW\n",
      "Number of exceptions: 332\n"
     ]
    },
    {
     "name": "stderr",
     "output_type": "stream",
     "text": [
      "INFO:root:Particles loaded. Potential energy is 24.392909\n",
      "INFO:root:before minimization eK=1.4056428897292732, eP=24.39290915903844, time=0.0 ps\n",
      "INFO:root:Particles loaded. Potential energy is 0.601824\n",
      "INFO:root:after minimization eK=1.4056428897292732, eP=0.48422415791073875, time=0.0 ps\n",
      "INFO:root:block    0 pos[1]=[35.2 29.5 27.9] dr=16.86 t=9673.5ps kin=1.57 pot=1.84 Rg=7.201 SPS=24354 dt=119.3fs dx=33.39pm \n",
      "INFO:root:Performing local energy minimization\n",
      "INFO:root:adding force harmonic_bonds 0\n",
      "INFO:root:adding force angle 1\n",
      "INFO:root:adding force heteropolymer_SSW 2\n"
     ]
    },
    {
     "name": "stdout",
     "output_type": "stream",
     "text": [
      "/mnt/home/tudomlumleart/ceph/01_TetheringSimulation/LoopExtrusion_NoBE/template_45/LEFPos.h5\n",
      "creating folder\n",
      "starting simulation with N LEFs=\n",
      "33\n",
      "Length of the saved trajectory: 100\n",
      "N_chain: 333\n",
      "N: 333\n",
      "N_traj: 333\n",
      "Nframes: 100\n",
      "simInitsTotal: 1\n",
      "Exclude neighbouring chain particles from heteropolymer_SSW\n",
      "Number of exceptions: 332\n"
     ]
    },
    {
     "name": "stderr",
     "output_type": "stream",
     "text": [
      "INFO:root:Particles loaded. Potential energy is 20.740185\n",
      "INFO:root:before minimization eK=1.4649947768633802, eP=20.740184617148323, time=0.0 ps\n",
      "INFO:root:Particles loaded. Potential energy is 0.607219\n",
      "INFO:root:after minimization eK=1.4649947768633802, eP=0.4963902892864354, time=0.0 ps\n",
      "INFO:root:block    0 pos[1]=[33.4 29.8 31.2] dr=14.75 t=9670.0ps kin=1.45 pot=1.81 Rg=7.304 SPS=22517 dt=121.2fs dx=32.59pm \n",
      "INFO:root:Performing local energy minimization\n",
      "INFO:root:adding force harmonic_bonds 0\n",
      "INFO:root:adding force angle 1\n",
      "INFO:root:adding force heteropolymer_SSW 2\n"
     ]
    },
    {
     "name": "stdout",
     "output_type": "stream",
     "text": [
      "/mnt/home/tudomlumleart/ceph/01_TetheringSimulation/LoopExtrusion_NoBE/template_46/LEFPos.h5\n",
      "creating folder\n",
      "starting simulation with N LEFs=\n",
      "33\n",
      "Length of the saved trajectory: 100\n",
      "N_chain: 333\n",
      "N: 333\n",
      "N_traj: 333\n",
      "Nframes: 100\n",
      "simInitsTotal: 1\n",
      "Exclude neighbouring chain particles from heteropolymer_SSW\n",
      "Number of exceptions: 332\n"
     ]
    },
    {
     "name": "stderr",
     "output_type": "stream",
     "text": [
      "INFO:root:Particles loaded. Potential energy is 23.738708\n",
      "INFO:root:before minimization eK=1.584479256771897, eP=23.738707912917768, time=0.0 ps\n",
      "INFO:root:Particles loaded. Potential energy is 0.607948\n",
      "INFO:root:after minimization eK=1.584479256771897, eP=0.5141497936621995, time=0.0 ps\n",
      "INFO:root:block    0 pos[1]=[19.6 20.0 37.0] dr=22.16 t=9673.4ps kin=1.61 pot=1.76 Rg=8.047 SPS=22866 dt=120.2fs dx=34.07pm \n",
      "INFO:root:Performing local energy minimization\n",
      "INFO:root:adding force harmonic_bonds 0\n",
      "INFO:root:adding force angle 1\n",
      "INFO:root:adding force heteropolymer_SSW 2\n"
     ]
    },
    {
     "name": "stdout",
     "output_type": "stream",
     "text": [
      "/mnt/home/tudomlumleart/ceph/01_TetheringSimulation/LoopExtrusion_NoBE/template_47/LEFPos.h5\n",
      "creating folder\n",
      "starting simulation with N LEFs=\n",
      "33\n",
      "Length of the saved trajectory: 100\n",
      "N_chain: 333\n",
      "N: 333\n",
      "N_traj: 333\n",
      "Nframes: 100\n",
      "simInitsTotal: 1\n",
      "Exclude neighbouring chain particles from heteropolymer_SSW\n",
      "Number of exceptions: 332\n"
     ]
    },
    {
     "name": "stderr",
     "output_type": "stream",
     "text": [
      "INFO:root:Particles loaded. Potential energy is 27.381805\n",
      "INFO:root:before minimization eK=1.4379124096675586, eP=27.381805046023576, time=0.0 ps\n",
      "INFO:root:Particles loaded. Potential energy is 0.636716\n",
      "INFO:root:after minimization eK=1.4379124096675586, eP=0.5177693908167266, time=0.0 ps\n",
      "INFO:root:block    0 pos[1]=[27.8 24.5 25.6] dr=11.64 t=9654.1ps kin=1.61 pot=1.90 Rg=6.630 SPS=22488 dt=119.2fs dx=33.82pm \n",
      "INFO:root:Performing local energy minimization\n",
      "INFO:root:adding force harmonic_bonds 0\n",
      "INFO:root:adding force angle 1\n",
      "INFO:root:adding force heteropolymer_SSW 2\n"
     ]
    },
    {
     "name": "stdout",
     "output_type": "stream",
     "text": [
      "/mnt/home/tudomlumleart/ceph/01_TetheringSimulation/LoopExtrusion_NoBE/template_48/LEFPos.h5\n",
      "creating folder\n",
      "starting simulation with N LEFs=\n",
      "33\n",
      "Length of the saved trajectory: 100\n",
      "N_chain: 333\n",
      "N: 333\n",
      "N_traj: 333\n",
      "Nframes: 100\n",
      "simInitsTotal: 1\n",
      "Exclude neighbouring chain particles from heteropolymer_SSW\n",
      "Number of exceptions: 332\n"
     ]
    },
    {
     "name": "stderr",
     "output_type": "stream",
     "text": [
      "INFO:root:Particles loaded. Potential energy is 29.438967\n",
      "INFO:root:before minimization eK=1.4910235571723156, eP=29.438966694347616, time=0.0 ps\n",
      "INFO:root:Particles loaded. Potential energy is 0.637830\n",
      "INFO:root:after minimization eK=1.4910235571723156, eP=0.5335412301928202, time=0.0 ps\n",
      "INFO:root:block    0 pos[1]=[32.7 22.2 15.6] dr=19.10 t=9656.7ps kin=1.43 pot=1.99 Rg=7.562 SPS=22499 dt=120.5fs dx=32.23pm \n",
      "INFO:root:Performing local energy minimization\n",
      "INFO:root:adding force harmonic_bonds 0\n",
      "INFO:root:adding force angle 1\n",
      "INFO:root:adding force heteropolymer_SSW 2\n"
     ]
    },
    {
     "name": "stdout",
     "output_type": "stream",
     "text": [
      "/mnt/home/tudomlumleart/ceph/01_TetheringSimulation/LoopExtrusion_NoBE/template_49/LEFPos.h5\n",
      "creating folder\n",
      "starting simulation with N LEFs=\n",
      "33\n",
      "Length of the saved trajectory: 100\n",
      "N_chain: 333\n",
      "N: 333\n",
      "N_traj: 333\n",
      "Nframes: 100\n",
      "simInitsTotal: 1\n",
      "Exclude neighbouring chain particles from heteropolymer_SSW\n",
      "Number of exceptions: 332\n"
     ]
    },
    {
     "name": "stderr",
     "output_type": "stream",
     "text": [
      "INFO:root:Particles loaded. Potential energy is 29.151258\n",
      "INFO:root:before minimization eK=1.5686903612250256, eP=29.151258278574044, time=0.0 ps\n",
      "INFO:root:Particles loaded. Potential energy is 0.619015\n",
      "INFO:root:after minimization eK=1.5686903612250256, eP=0.5073656579496332, time=0.0 ps\n",
      "INFO:root:block    0 pos[1]=[36.4 11.2 24.6] dr=14.11 t=9666.5ps kin=1.59 pot=1.88 Rg=7.719 SPS=23129 dt=120.4fs dx=33.94pm \n",
      "INFO:root:Performing local energy minimization\n",
      "INFO:root:adding force harmonic_bonds 0\n",
      "INFO:root:adding force angle 1\n",
      "INFO:root:adding force heteropolymer_SSW 2\n"
     ]
    },
    {
     "name": "stdout",
     "output_type": "stream",
     "text": [
      "/mnt/home/tudomlumleart/ceph/01_TetheringSimulation/LoopExtrusion_NoBE/template_50/LEFPos.h5\n",
      "creating folder\n",
      "starting simulation with N LEFs=\n",
      "33\n",
      "Length of the saved trajectory: 100\n",
      "N_chain: 333\n",
      "N: 333\n",
      "N_traj: 333\n",
      "Nframes: 100\n",
      "simInitsTotal: 1\n",
      "Exclude neighbouring chain particles from heteropolymer_SSW\n",
      "Number of exceptions: 332\n"
     ]
    },
    {
     "name": "stderr",
     "output_type": "stream",
     "text": [
      "INFO:root:Particles loaded. Potential energy is 22.028348\n",
      "INFO:root:before minimization eK=1.4788533864437223, eP=22.02834843092958, time=0.0 ps\n",
      "INFO:root:Particles loaded. Potential energy is 0.672718\n",
      "INFO:root:after minimization eK=1.4788533864437223, eP=0.5618927042686167, time=0.0 ps\n",
      "INFO:root:block    0 pos[1]=[19.2 20.6 11.1] dr=24.75 t=9666.3ps kin=1.51 pot=1.86 Rg=7.422 SPS=22799 dt=122.2fs dx=33.57pm \n",
      "INFO:root:Performing local energy minimization\n",
      "INFO:root:adding force harmonic_bonds 0\n",
      "INFO:root:adding force angle 1\n",
      "INFO:root:adding force heteropolymer_SSW 2\n"
     ]
    },
    {
     "name": "stdout",
     "output_type": "stream",
     "text": [
      "/mnt/home/tudomlumleart/ceph/01_TetheringSimulation/LoopExtrusion_NoBE/template_51/LEFPos.h5\n",
      "creating folder\n",
      "starting simulation with N LEFs=\n",
      "33\n",
      "Length of the saved trajectory: 100\n",
      "N_chain: 333\n",
      "N: 333\n",
      "N_traj: 333\n",
      "Nframes: 100\n",
      "simInitsTotal: 1\n",
      "Exclude neighbouring chain particles from heteropolymer_SSW\n",
      "Number of exceptions: 332\n"
     ]
    },
    {
     "name": "stderr",
     "output_type": "stream",
     "text": [
      "INFO:root:Particles loaded. Potential energy is 22.776209\n",
      "INFO:root:before minimization eK=1.5166564586261715, eP=22.776208954459033, time=0.0 ps\n",
      "INFO:root:Particles loaded. Potential energy is 0.562334\n",
      "INFO:root:after minimization eK=1.5166564586261715, eP=0.45227755410659115, time=0.0 ps\n",
      "INFO:root:block    0 pos[1]=[18.1 24.5 21.9] dr=13.81 t=9661.5ps kin=1.58 pot=1.79 Rg=6.906 SPS=22128 dt=119.2fs dx=33.51pm \n",
      "INFO:root:Performing local energy minimization\n",
      "INFO:root:adding force harmonic_bonds 0\n",
      "INFO:root:adding force angle 1\n",
      "INFO:root:adding force heteropolymer_SSW 2\n"
     ]
    },
    {
     "name": "stdout",
     "output_type": "stream",
     "text": [
      "/mnt/home/tudomlumleart/ceph/01_TetheringSimulation/LoopExtrusion_NoBE/template_52/LEFPos.h5\n",
      "creating folder\n",
      "starting simulation with N LEFs=\n",
      "33\n",
      "Length of the saved trajectory: 100\n",
      "N_chain: 333\n",
      "N: 333\n",
      "N_traj: 333\n",
      "Nframes: 100\n",
      "simInitsTotal: 1\n",
      "Exclude neighbouring chain particles from heteropolymer_SSW\n",
      "Number of exceptions: 332\n"
     ]
    },
    {
     "name": "stderr",
     "output_type": "stream",
     "text": [
      "INFO:root:Particles loaded. Potential energy is 20.319599\n",
      "INFO:root:before minimization eK=1.4644002097600952, eP=20.319599387069307, time=0.0 ps\n",
      "INFO:root:Particles loaded. Potential energy is 0.643492\n",
      "INFO:root:after minimization eK=1.4644002097600952, eP=0.522803661375103, time=0.0 ps\n",
      "INFO:root:block    0 pos[1]=[17.1 20.3 13.7] dr=14.99 t=9651.9ps kin=1.50 pot=1.82 Rg=7.425 SPS=23842 dt=120.9fs dx=33.05pm \n",
      "INFO:root:Performing local energy minimization\n",
      "INFO:root:adding force harmonic_bonds 0\n",
      "INFO:root:adding force angle 1\n",
      "INFO:root:adding force heteropolymer_SSW 2\n"
     ]
    },
    {
     "name": "stdout",
     "output_type": "stream",
     "text": [
      "/mnt/home/tudomlumleart/ceph/01_TetheringSimulation/LoopExtrusion_NoBE/template_53/LEFPos.h5\n",
      "creating folder\n",
      "starting simulation with N LEFs=\n",
      "33\n",
      "Length of the saved trajectory: 100\n",
      "N_chain: 333\n",
      "N: 333\n",
      "N_traj: 333\n",
      "Nframes: 100\n",
      "simInitsTotal: 1\n",
      "Exclude neighbouring chain particles from heteropolymer_SSW\n",
      "Number of exceptions: 332\n"
     ]
    },
    {
     "name": "stderr",
     "output_type": "stream",
     "text": [
      "INFO:root:Particles loaded. Potential energy is 22.801994\n",
      "INFO:root:before minimization eK=1.4457176121155255, eP=22.801993740116206, time=0.0 ps\n",
      "INFO:root:Particles loaded. Potential energy is 0.570112\n",
      "INFO:root:after minimization eK=1.4457176121155255, eP=0.46538564408831, time=0.0 ps\n",
      "INFO:root:block    0 pos[1]=[38.5 25.4 27.1] dr=17.44 t=9695.7ps kin=1.57 pot=1.79 Rg=6.941 SPS=24183 dt=120.7fs dx=33.78pm \n",
      "INFO:root:Performing local energy minimization\n",
      "INFO:root:adding force harmonic_bonds 0\n",
      "INFO:root:adding force angle 1\n",
      "INFO:root:adding force heteropolymer_SSW 2\n"
     ]
    },
    {
     "name": "stdout",
     "output_type": "stream",
     "text": [
      "/mnt/home/tudomlumleart/ceph/01_TetheringSimulation/LoopExtrusion_NoBE/template_54/LEFPos.h5\n",
      "creating folder\n",
      "starting simulation with N LEFs=\n",
      "33\n",
      "Length of the saved trajectory: 100\n",
      "N_chain: 333\n",
      "N: 333\n",
      "N_traj: 333\n",
      "Nframes: 100\n",
      "simInitsTotal: 1\n",
      "Exclude neighbouring chain particles from heteropolymer_SSW\n",
      "Number of exceptions: 332\n"
     ]
    },
    {
     "name": "stderr",
     "output_type": "stream",
     "text": [
      "INFO:root:Particles loaded. Potential energy is 21.559529\n",
      "INFO:root:before minimization eK=1.3658916696139651, eP=21.559529034746394, time=0.0 ps\n",
      "INFO:root:Particles loaded. Potential energy is 0.623964\n",
      "INFO:root:after minimization eK=1.3658916696139651, eP=0.5062508949057719, time=0.0 ps\n",
      "INFO:root:block    0 pos[1]=[9.2 12.3 11.5] dr=21.66 t=9667.1ps kin=1.48 pot=1.90 Rg=7.251 SPS=22772 dt=122.5fs dx=33.27pm \n",
      "INFO:root:Performing local energy minimization\n",
      "INFO:root:adding force harmonic_bonds 0\n",
      "INFO:root:adding force angle 1\n",
      "INFO:root:adding force heteropolymer_SSW 2\n"
     ]
    },
    {
     "name": "stdout",
     "output_type": "stream",
     "text": [
      "/mnt/home/tudomlumleart/ceph/01_TetheringSimulation/LoopExtrusion_NoBE/template_55/LEFPos.h5\n",
      "creating folder\n",
      "starting simulation with N LEFs=\n",
      "33\n",
      "Length of the saved trajectory: 100\n",
      "N_chain: 333\n",
      "N: 333\n",
      "N_traj: 333\n",
      "Nframes: 100\n",
      "simInitsTotal: 1\n",
      "Exclude neighbouring chain particles from heteropolymer_SSW\n",
      "Number of exceptions: 332\n"
     ]
    },
    {
     "name": "stderr",
     "output_type": "stream",
     "text": [
      "INFO:root:Particles loaded. Potential energy is 24.144095\n",
      "INFO:root:before minimization eK=1.4779858522464824, eP=24.144094677043878, time=0.0 ps\n",
      "INFO:root:Particles loaded. Potential energy is 0.630305\n",
      "INFO:root:after minimization eK=1.4779858522464824, eP=0.5043410759740306, time=0.0 ps\n",
      "INFO:root:block    0 pos[1]=[33.6 20.0 24.9] dr=14.58 t=9672.3ps kin=1.51 pot=1.80 Rg=5.991 SPS=24866 dt=122.6fs dx=33.68pm \n",
      "INFO:root:Performing local energy minimization\n",
      "INFO:root:adding force harmonic_bonds 0\n",
      "INFO:root:adding force angle 1\n",
      "INFO:root:adding force heteropolymer_SSW 2\n"
     ]
    },
    {
     "name": "stdout",
     "output_type": "stream",
     "text": [
      "/mnt/home/tudomlumleart/ceph/01_TetheringSimulation/LoopExtrusion_NoBE/template_56/LEFPos.h5\n",
      "creating folder\n",
      "starting simulation with N LEFs=\n",
      "33\n",
      "Length of the saved trajectory: 100\n",
      "N_chain: 333\n",
      "N: 333\n",
      "N_traj: 333\n",
      "Nframes: 100\n",
      "simInitsTotal: 1\n",
      "Exclude neighbouring chain particles from heteropolymer_SSW\n",
      "Number of exceptions: 332\n"
     ]
    },
    {
     "name": "stderr",
     "output_type": "stream",
     "text": [
      "INFO:root:Particles loaded. Potential energy is 40.965654\n",
      "INFO:root:before minimization eK=1.4941771018433292, eP=40.965653704975296, time=0.0 ps\n",
      "INFO:root:Particles loaded. Potential energy is 0.596706\n",
      "INFO:root:after minimization eK=1.4941771018433292, eP=0.5004716531551617, time=0.0 ps\n",
      "INFO:root:block    0 pos[1]=[8.5 34.6 32.7] dr=17.91 t=9671.1ps kin=1.48 pot=1.79 Rg=7.033 SPS=24929 dt=120.8fs dx=32.78pm \n",
      "INFO:root:Performing local energy minimization\n",
      "INFO:root:adding force harmonic_bonds 0\n",
      "INFO:root:adding force angle 1\n",
      "INFO:root:adding force heteropolymer_SSW 2\n"
     ]
    },
    {
     "name": "stdout",
     "output_type": "stream",
     "text": [
      "/mnt/home/tudomlumleart/ceph/01_TetheringSimulation/LoopExtrusion_NoBE/template_57/LEFPos.h5\n",
      "creating folder\n",
      "starting simulation with N LEFs=\n",
      "33\n",
      "Length of the saved trajectory: 100\n",
      "N_chain: 333\n",
      "N: 333\n",
      "N_traj: 333\n",
      "Nframes: 100\n",
      "simInitsTotal: 1\n",
      "Exclude neighbouring chain particles from heteropolymer_SSW\n",
      "Number of exceptions: 332\n"
     ]
    },
    {
     "name": "stderr",
     "output_type": "stream",
     "text": [
      "INFO:root:Particles loaded. Potential energy is 21.674299\n",
      "INFO:root:before minimization eK=1.539203513095099, eP=21.674299294662877, time=0.0 ps\n",
      "INFO:root:Particles loaded. Potential energy is 0.651251\n",
      "INFO:root:after minimization eK=1.539203513095099, eP=0.5263494603281712, time=0.0 ps\n",
      "INFO:root:block    0 pos[1]=[24.3 29.2 25.4] dr=17.47 t=9680.8ps kin=1.44 pot=1.83 Rg=7.506 SPS=22746 dt=122.8fs dx=32.97pm \n",
      "INFO:root:Performing local energy minimization\n",
      "INFO:root:adding force harmonic_bonds 0\n",
      "INFO:root:adding force angle 1\n",
      "INFO:root:adding force heteropolymer_SSW 2\n"
     ]
    },
    {
     "name": "stdout",
     "output_type": "stream",
     "text": [
      "/mnt/home/tudomlumleart/ceph/01_TetheringSimulation/LoopExtrusion_NoBE/template_58/LEFPos.h5\n",
      "creating folder\n",
      "starting simulation with N LEFs=\n",
      "33\n",
      "Length of the saved trajectory: 100\n",
      "N_chain: 333\n",
      "N: 333\n",
      "N_traj: 333\n",
      "Nframes: 100\n",
      "simInitsTotal: 1\n",
      "Exclude neighbouring chain particles from heteropolymer_SSW\n",
      "Number of exceptions: 332\n"
     ]
    },
    {
     "name": "stderr",
     "output_type": "stream",
     "text": [
      "INFO:root:Particles loaded. Potential energy is 24.824832\n",
      "INFO:root:before minimization eK=1.4729349320233682, eP=24.82483244688011, time=0.0 ps\n",
      "INFO:root:Particles loaded. Potential energy is 0.602739\n",
      "INFO:root:after minimization eK=1.4729349320233682, eP=0.48681070156783723, time=0.0 ps\n",
      "INFO:root:block    0 pos[1]=[20.2 31.5 17.6] dr=14.59 t=9670.5ps kin=1.53 pot=1.77 Rg=9.355 SPS=22197 dt=120.1fs dx=33.16pm \n",
      "INFO:root:Performing local energy minimization\n",
      "INFO:root:adding force harmonic_bonds 0\n",
      "INFO:root:adding force angle 1\n",
      "INFO:root:adding force heteropolymer_SSW 2\n"
     ]
    },
    {
     "name": "stdout",
     "output_type": "stream",
     "text": [
      "/mnt/home/tudomlumleart/ceph/01_TetheringSimulation/LoopExtrusion_NoBE/template_59/LEFPos.h5\n",
      "creating folder\n",
      "starting simulation with N LEFs=\n",
      "33\n",
      "Length of the saved trajectory: 100\n",
      "N_chain: 333\n",
      "N: 333\n",
      "N_traj: 333\n",
      "Nframes: 100\n",
      "simInitsTotal: 1\n",
      "Exclude neighbouring chain particles from heteropolymer_SSW\n",
      "Number of exceptions: 332\n"
     ]
    },
    {
     "name": "stderr",
     "output_type": "stream",
     "text": [
      "INFO:root:Particles loaded. Potential energy is 25.707840\n",
      "INFO:root:before minimization eK=1.5178174030625726, eP=25.70784019515224, time=0.0 ps\n",
      "INFO:root:Particles loaded. Potential energy is 0.651292\n",
      "INFO:root:after minimization eK=1.5178174030625726, eP=0.5245604471770614, time=0.0 ps\n",
      "INFO:root:block    0 pos[1]=[22.2 0.9 16.0] dr=31.61 t=9682.1ps kin=1.43 pot=1.88 Rg=7.533 SPS=23003 dt=119.1fs dx=31.80pm \n",
      "INFO:root:Performing local energy minimization\n",
      "INFO:root:adding force harmonic_bonds 0\n",
      "INFO:root:adding force angle 1\n",
      "INFO:root:adding force heteropolymer_SSW 2\n"
     ]
    },
    {
     "name": "stdout",
     "output_type": "stream",
     "text": [
      "/mnt/home/tudomlumleart/ceph/01_TetheringSimulation/LoopExtrusion_NoBE/template_60/LEFPos.h5\n",
      "creating folder\n",
      "starting simulation with N LEFs=\n",
      "33\n",
      "Length of the saved trajectory: 100\n",
      "N_chain: 333\n",
      "N: 333\n",
      "N_traj: 333\n",
      "Nframes: 100\n",
      "simInitsTotal: 1\n",
      "Exclude neighbouring chain particles from heteropolymer_SSW\n",
      "Number of exceptions: 332\n"
     ]
    },
    {
     "name": "stderr",
     "output_type": "stream",
     "text": [
      "INFO:root:Particles loaded. Potential energy is 29.178337\n",
      "INFO:root:before minimization eK=1.3687711857429263, eP=29.178337075544658, time=0.0 ps\n",
      "INFO:root:Particles loaded. Potential energy is 0.656426\n",
      "INFO:root:after minimization eK=1.3687711857429263, eP=0.5368955626237436, time=0.0 ps\n",
      "INFO:root:block    0 pos[1]=[9.3 32.1 23.5] dr=20.09 t=9672.9ps kin=1.60 pot=1.88 Rg=6.819 SPS=22801 dt=119.5fs dx=33.78pm \n",
      "INFO:root:Performing local energy minimization\n",
      "INFO:root:adding force harmonic_bonds 0\n",
      "INFO:root:adding force angle 1\n",
      "INFO:root:adding force heteropolymer_SSW 2\n"
     ]
    },
    {
     "name": "stdout",
     "output_type": "stream",
     "text": [
      "/mnt/home/tudomlumleart/ceph/01_TetheringSimulation/LoopExtrusion_NoBE/template_61/LEFPos.h5\n",
      "creating folder\n",
      "starting simulation with N LEFs=\n",
      "33\n",
      "Length of the saved trajectory: 100\n",
      "N_chain: 333\n",
      "N: 333\n",
      "N_traj: 333\n",
      "Nframes: 100\n",
      "simInitsTotal: 1\n",
      "Exclude neighbouring chain particles from heteropolymer_SSW\n",
      "Number of exceptions: 332\n"
     ]
    },
    {
     "name": "stderr",
     "output_type": "stream",
     "text": [
      "INFO:root:Particles loaded. Potential energy is 21.686090\n",
      "INFO:root:before minimization eK=1.4263387643977354, eP=21.686089643505813, time=0.0 ps\n",
      "INFO:root:Particles loaded. Potential energy is 0.655043\n",
      "INFO:root:after minimization eK=1.4263387643977354, eP=0.5206028963094016, time=0.0 ps\n",
      "INFO:root:block    0 pos[1]=[20.9 24.6 47.0] dr=21.23 t=9679.9ps kin=1.57 pot=1.78 Rg=7.499 SPS=23639 dt=121.9fs dx=34.18pm \n",
      "INFO:root:Performing local energy minimization\n",
      "INFO:root:adding force harmonic_bonds 0\n",
      "INFO:root:adding force angle 1\n",
      "INFO:root:adding force heteropolymer_SSW 2\n"
     ]
    },
    {
     "name": "stdout",
     "output_type": "stream",
     "text": [
      "/mnt/home/tudomlumleart/ceph/01_TetheringSimulation/LoopExtrusion_NoBE/template_62/LEFPos.h5\n",
      "creating folder\n",
      "starting simulation with N LEFs=\n",
      "33\n",
      "Length of the saved trajectory: 100\n",
      "N_chain: 333\n",
      "N: 333\n",
      "N_traj: 333\n",
      "Nframes: 100\n",
      "simInitsTotal: 1\n",
      "Exclude neighbouring chain particles from heteropolymer_SSW\n",
      "Number of exceptions: 332\n"
     ]
    },
    {
     "name": "stderr",
     "output_type": "stream",
     "text": [
      "INFO:root:Particles loaded. Potential energy is 24.332552\n",
      "INFO:root:before minimization eK=1.5284141406055476, eP=24.33255239639439, time=0.0 ps\n",
      "INFO:root:Particles loaded. Potential energy is 0.578046\n",
      "INFO:root:after minimization eK=1.5284141406055476, eP=0.48226644240554534, time=0.0 ps\n",
      "INFO:root:block    0 pos[1]=[18.6 36.7 34.7] dr=18.93 t=9647.0ps kin=1.49 pot=1.87 Rg=7.243 SPS=23293 dt=120.1fs dx=32.80pm \n",
      "INFO:root:Performing local energy minimization\n",
      "INFO:root:adding force harmonic_bonds 0\n",
      "INFO:root:adding force angle 1\n",
      "INFO:root:adding force heteropolymer_SSW 2\n"
     ]
    },
    {
     "name": "stdout",
     "output_type": "stream",
     "text": [
      "/mnt/home/tudomlumleart/ceph/01_TetheringSimulation/LoopExtrusion_NoBE/template_63/LEFPos.h5\n",
      "creating folder\n",
      "starting simulation with N LEFs=\n",
      "33\n",
      "Length of the saved trajectory: 100\n",
      "N_chain: 333\n",
      "N: 333\n",
      "N_traj: 333\n",
      "Nframes: 100\n",
      "simInitsTotal: 1\n",
      "Exclude neighbouring chain particles from heteropolymer_SSW\n",
      "Number of exceptions: 332\n"
     ]
    },
    {
     "name": "stderr",
     "output_type": "stream",
     "text": [
      "INFO:root:Particles loaded. Potential energy is 29.265832\n",
      "INFO:root:before minimization eK=1.4685099136556943, eP=29.265831609384406, time=0.0 ps\n",
      "INFO:root:Particles loaded. Potential energy is 0.699761\n",
      "INFO:root:after minimization eK=1.4685099136556943, eP=0.5875269853858154, time=0.0 ps\n",
      "INFO:root:block    0 pos[1]=[26.5 35.8 12.4] dr=16.52 t=9690.7ps kin=1.50 pot=1.87 Rg=7.114 SPS=22919 dt=121.4fs dx=33.24pm \n",
      "INFO:root:Performing local energy minimization\n",
      "INFO:root:adding force harmonic_bonds 0\n",
      "INFO:root:adding force angle 1\n",
      "INFO:root:adding force heteropolymer_SSW 2\n"
     ]
    },
    {
     "name": "stdout",
     "output_type": "stream",
     "text": [
      "/mnt/home/tudomlumleart/ceph/01_TetheringSimulation/LoopExtrusion_NoBE/template_64/LEFPos.h5\n",
      "creating folder\n",
      "starting simulation with N LEFs=\n",
      "33\n",
      "Length of the saved trajectory: 100\n",
      "N_chain: 333\n",
      "N: 333\n",
      "N_traj: 333\n",
      "Nframes: 100\n",
      "simInitsTotal: 1\n",
      "Exclude neighbouring chain particles from heteropolymer_SSW\n",
      "Number of exceptions: 332\n"
     ]
    },
    {
     "name": "stderr",
     "output_type": "stream",
     "text": [
      "INFO:root:Particles loaded. Potential energy is 25.677332\n",
      "INFO:root:before minimization eK=1.4307177544943508, eP=25.677331681158293, time=0.0 ps\n",
      "INFO:root:Particles loaded. Potential energy is 0.614235\n",
      "INFO:root:after minimization eK=1.4307177544943508, eP=0.49844663232169484, time=0.0 ps\n",
      "INFO:root:block    0 pos[1]=[24.1 21.3 25.5] dr=10.86 t=9679.7ps kin=1.44 pot=1.89 Rg=6.846 SPS=24181 dt=123.3fs dx=33.08pm \n",
      "INFO:root:Performing local energy minimization\n",
      "INFO:root:adding force harmonic_bonds 0\n",
      "INFO:root:adding force angle 1\n",
      "INFO:root:adding force heteropolymer_SSW 2\n"
     ]
    },
    {
     "name": "stdout",
     "output_type": "stream",
     "text": [
      "/mnt/home/tudomlumleart/ceph/01_TetheringSimulation/LoopExtrusion_NoBE/template_65/LEFPos.h5\n",
      "creating folder\n",
      "starting simulation with N LEFs=\n",
      "33\n",
      "Length of the saved trajectory: 100\n",
      "N_chain: 333\n",
      "N: 333\n",
      "N_traj: 333\n",
      "Nframes: 100\n",
      "simInitsTotal: 1\n",
      "Exclude neighbouring chain particles from heteropolymer_SSW\n",
      "Number of exceptions: 332\n"
     ]
    },
    {
     "name": "stderr",
     "output_type": "stream",
     "text": [
      "INFO:root:Particles loaded. Potential energy is 21.250343\n",
      "INFO:root:before minimization eK=1.579549153272527, eP=21.25034254428397, time=0.0 ps\n",
      "INFO:root:Particles loaded. Potential energy is 0.592185\n",
      "INFO:root:after minimization eK=1.579549153272527, eP=0.48543801505640016, time=0.0 ps\n",
      "INFO:root:block    0 pos[1]=[7.1 15.8 13.9] dr=20.25 t=9668.0ps kin=1.53 pot=1.85 Rg=8.189 SPS=24099 dt=122.3fs dx=33.79pm \n",
      "INFO:root:Performing local energy minimization\n",
      "INFO:root:adding force harmonic_bonds 0\n",
      "INFO:root:adding force angle 1\n",
      "INFO:root:adding force heteropolymer_SSW 2\n"
     ]
    },
    {
     "name": "stdout",
     "output_type": "stream",
     "text": [
      "/mnt/home/tudomlumleart/ceph/01_TetheringSimulation/LoopExtrusion_NoBE/template_66/LEFPos.h5\n",
      "creating folder\n",
      "starting simulation with N LEFs=\n",
      "33\n",
      "Length of the saved trajectory: 100\n",
      "N_chain: 333\n",
      "N: 333\n",
      "N_traj: 333\n",
      "Nframes: 100\n",
      "simInitsTotal: 1\n",
      "Exclude neighbouring chain particles from heteropolymer_SSW\n",
      "Number of exceptions: 332\n"
     ]
    },
    {
     "name": "stderr",
     "output_type": "stream",
     "text": [
      "INFO:root:Particles loaded. Potential energy is 19.829034\n",
      "INFO:root:before minimization eK=1.6265815148583835, eP=19.82903408286258, time=0.0 ps\n",
      "INFO:root:Particles loaded. Potential energy is 0.600588\n",
      "INFO:root:after minimization eK=1.6265815148583835, eP=0.49426908112425355, time=0.0 ps\n",
      "INFO:root:block    0 pos[1]=[4.0 30.2 34.9] dr=26.07 t=9657.3ps kin=1.53 pot=1.95 Rg=6.870 SPS=22365 dt=121.4fs dx=33.50pm \n",
      "INFO:root:Performing local energy minimization\n",
      "INFO:root:adding force harmonic_bonds 0\n",
      "INFO:root:adding force angle 1\n",
      "INFO:root:adding force heteropolymer_SSW 2\n"
     ]
    },
    {
     "name": "stdout",
     "output_type": "stream",
     "text": [
      "/mnt/home/tudomlumleart/ceph/01_TetheringSimulation/LoopExtrusion_NoBE/template_67/LEFPos.h5\n",
      "creating folder\n",
      "starting simulation with N LEFs=\n",
      "33\n",
      "Length of the saved trajectory: 100\n",
      "N_chain: 333\n",
      "N: 333\n",
      "N_traj: 333\n",
      "Nframes: 100\n",
      "simInitsTotal: 1\n",
      "Exclude neighbouring chain particles from heteropolymer_SSW\n",
      "Number of exceptions: 332\n"
     ]
    },
    {
     "name": "stderr",
     "output_type": "stream",
     "text": [
      "INFO:root:Particles loaded. Potential energy is 36.131018\n",
      "INFO:root:before minimization eK=1.5430929143980785, eP=36.13101772499804, time=0.0 ps\n",
      "INFO:root:Particles loaded. Potential energy is 0.603066\n",
      "INFO:root:after minimization eK=1.5430929143980785, eP=0.4910813270468283, time=0.0 ps\n",
      "INFO:root:block    0 pos[1]=[12.1 24.6 29.2] dr=18.50 t=9663.2ps kin=1.54 pot=1.82 Rg=7.223 SPS=22936 dt=122.6fs dx=33.96pm \n",
      "INFO:root:Performing local energy minimization\n",
      "INFO:root:adding force harmonic_bonds 0\n",
      "INFO:root:adding force angle 1\n",
      "INFO:root:adding force heteropolymer_SSW 2\n"
     ]
    },
    {
     "name": "stdout",
     "output_type": "stream",
     "text": [
      "/mnt/home/tudomlumleart/ceph/01_TetheringSimulation/LoopExtrusion_NoBE/template_68/LEFPos.h5\n",
      "creating folder\n",
      "starting simulation with N LEFs=\n",
      "33\n",
      "Length of the saved trajectory: 100\n",
      "N_chain: 333\n",
      "N: 333\n",
      "N_traj: 333\n",
      "Nframes: 100\n",
      "simInitsTotal: 1\n",
      "Exclude neighbouring chain particles from heteropolymer_SSW\n",
      "Number of exceptions: 332\n"
     ]
    },
    {
     "name": "stderr",
     "output_type": "stream",
     "text": [
      "INFO:root:Particles loaded. Potential energy is 21.453728\n",
      "INFO:root:before minimization eK=1.4684075536447918, eP=21.45372838976032, time=0.0 ps\n",
      "INFO:root:Particles loaded. Potential energy is 0.683791\n",
      "INFO:root:after minimization eK=1.4684075536447918, eP=0.5756433402837853, time=0.0 ps\n",
      "INFO:root:block    0 pos[1]=[31.2 19.6 13.5] dr=24.08 t=9670.9ps kin=1.45 pot=1.83 Rg=7.866 SPS=24278 dt=120.4fs dx=32.35pm \n",
      "INFO:root:Performing local energy minimization\n",
      "INFO:root:adding force harmonic_bonds 0\n",
      "INFO:root:adding force angle 1\n",
      "INFO:root:adding force heteropolymer_SSW 2\n"
     ]
    },
    {
     "name": "stdout",
     "output_type": "stream",
     "text": [
      "/mnt/home/tudomlumleart/ceph/01_TetheringSimulation/LoopExtrusion_NoBE/template_69/LEFPos.h5\n",
      "creating folder\n",
      "starting simulation with N LEFs=\n",
      "33\n",
      "Length of the saved trajectory: 100\n",
      "N_chain: 333\n",
      "N: 333\n",
      "N_traj: 333\n",
      "Nframes: 100\n",
      "simInitsTotal: 1\n",
      "Exclude neighbouring chain particles from heteropolymer_SSW\n",
      "Number of exceptions: 332\n"
     ]
    },
    {
     "name": "stderr",
     "output_type": "stream",
     "text": [
      "INFO:root:Particles loaded. Potential energy is 42.258737\n",
      "INFO:root:before minimization eK=1.5903183547819066, eP=42.25873688665419, time=0.0 ps\n",
      "INFO:root:Particles loaded. Potential energy is 0.582277\n",
      "INFO:root:after minimization eK=1.5903183547819066, eP=0.47539265534212755, time=0.0 ps\n",
      "INFO:root:block    0 pos[1]=[35.0 33.6 5.5] dr=21.36 t=9655.2ps kin=1.53 pot=1.77 Rg=8.800 SPS=22648 dt=121.6fs dx=33.60pm \n",
      "INFO:root:Performing local energy minimization\n",
      "INFO:root:adding force harmonic_bonds 0\n",
      "INFO:root:adding force angle 1\n",
      "INFO:root:adding force heteropolymer_SSW 2\n"
     ]
    },
    {
     "name": "stdout",
     "output_type": "stream",
     "text": [
      "/mnt/home/tudomlumleart/ceph/01_TetheringSimulation/LoopExtrusion_NoBE/template_70/LEFPos.h5\n",
      "creating folder\n",
      "starting simulation with N LEFs=\n",
      "33\n",
      "Length of the saved trajectory: 100\n",
      "N_chain: 333\n",
      "N: 333\n",
      "N_traj: 333\n",
      "Nframes: 100\n",
      "simInitsTotal: 1\n",
      "Exclude neighbouring chain particles from heteropolymer_SSW\n",
      "Number of exceptions: 332\n"
     ]
    },
    {
     "name": "stderr",
     "output_type": "stream",
     "text": [
      "INFO:root:Particles loaded. Potential energy is 21.718405\n",
      "INFO:root:before minimization eK=1.4891263288591154, eP=21.718405135889622, time=0.0 ps\n",
      "INFO:root:Particles loaded. Potential energy is 0.630226\n",
      "INFO:root:after minimization eK=1.4891263288591154, eP=0.521359125432194, time=0.0 ps\n",
      "INFO:root:block    0 pos[1]=[13.2 38.9 24.9] dr=18.81 t=9669.0ps kin=1.51 pot=1.87 Rg=6.528 SPS=22945 dt=121.0fs dx=33.16pm \n",
      "INFO:root:Performing local energy minimization\n",
      "INFO:root:adding force harmonic_bonds 0\n",
      "INFO:root:adding force angle 1\n",
      "INFO:root:adding force heteropolymer_SSW 2\n"
     ]
    },
    {
     "name": "stdout",
     "output_type": "stream",
     "text": [
      "/mnt/home/tudomlumleart/ceph/01_TetheringSimulation/LoopExtrusion_NoBE/template_71/LEFPos.h5\n",
      "creating folder\n",
      "starting simulation with N LEFs=\n",
      "33\n",
      "Length of the saved trajectory: 100\n",
      "N_chain: 333\n",
      "N: 333\n",
      "N_traj: 333\n",
      "Nframes: 100\n",
      "simInitsTotal: 1\n",
      "Exclude neighbouring chain particles from heteropolymer_SSW\n",
      "Number of exceptions: 332\n"
     ]
    },
    {
     "name": "stderr",
     "output_type": "stream",
     "text": [
      "INFO:root:Particles loaded. Potential energy is 25.112145\n",
      "INFO:root:before minimization eK=1.4362344002902254, eP=25.112144650126346, time=0.0 ps\n",
      "INFO:root:Particles loaded. Potential energy is 0.655065\n",
      "INFO:root:after minimization eK=1.4362344002902254, eP=0.5453707067541875, time=0.0 ps\n",
      "INFO:root:block    0 pos[1]=[21.0 21.1 45.7] dr=22.92 t=9667.1ps kin=1.61 pot=1.90 Rg=7.685 SPS=24287 dt=120.3fs dx=34.03pm \n",
      "INFO:root:Performing local energy minimization\n",
      "INFO:root:adding force harmonic_bonds 0\n",
      "INFO:root:adding force angle 1\n",
      "INFO:root:adding force heteropolymer_SSW 2\n"
     ]
    },
    {
     "name": "stdout",
     "output_type": "stream",
     "text": [
      "/mnt/home/tudomlumleart/ceph/01_TetheringSimulation/LoopExtrusion_NoBE/template_72/LEFPos.h5\n",
      "creating folder\n",
      "starting simulation with N LEFs=\n",
      "33\n",
      "Length of the saved trajectory: 100\n",
      "N_chain: 333\n",
      "N: 333\n",
      "N_traj: 333\n",
      "Nframes: 100\n",
      "simInitsTotal: 1\n",
      "Exclude neighbouring chain particles from heteropolymer_SSW\n",
      "Number of exceptions: 332\n"
     ]
    },
    {
     "name": "stderr",
     "output_type": "stream",
     "text": [
      "INFO:root:Particles loaded. Potential energy is 42.906802\n",
      "INFO:root:before minimization eK=1.440895506421855, eP=42.906802163322006, time=0.0 ps\n",
      "INFO:root:Particles loaded. Potential energy is 0.602912\n",
      "INFO:root:after minimization eK=1.440895506421855, eP=0.4875415302015905, time=0.0 ps\n",
      "INFO:root:block    0 pos[1]=[39.1 29.5 22.5] dr=15.55 t=9674.7ps kin=1.53 pot=1.86 Rg=7.627 SPS=22475 dt=123.8fs dx=34.22pm \n",
      "INFO:root:Performing local energy minimization\n",
      "INFO:root:adding force harmonic_bonds 0\n",
      "INFO:root:adding force angle 1\n",
      "INFO:root:adding force heteropolymer_SSW 2\n"
     ]
    },
    {
     "name": "stdout",
     "output_type": "stream",
     "text": [
      "/mnt/home/tudomlumleart/ceph/01_TetheringSimulation/LoopExtrusion_NoBE/template_73/LEFPos.h5\n",
      "creating folder\n",
      "starting simulation with N LEFs=\n",
      "33\n",
      "Length of the saved trajectory: 100\n",
      "N_chain: 333\n",
      "N: 333\n",
      "N_traj: 333\n",
      "Nframes: 100\n",
      "simInitsTotal: 1\n",
      "Exclude neighbouring chain particles from heteropolymer_SSW\n",
      "Number of exceptions: 332\n"
     ]
    },
    {
     "name": "stderr",
     "output_type": "stream",
     "text": [
      "INFO:root:Particles loaded. Potential energy is 23.211663\n",
      "INFO:root:before minimization eK=1.3933157111371377, eP=23.211663176451648, time=0.0 ps\n",
      "INFO:root:Particles loaded. Potential energy is 0.646210\n",
      "INFO:root:after minimization eK=1.3933157111371377, eP=0.518394740757828, time=0.0 ps\n",
      "INFO:root:block    0 pos[1]=[9.7 12.2 10.2] dr=15.73 t=9660.9ps kin=1.46 pot=1.76 Rg=8.314 SPS=24318 dt=118.8fs dx=32.08pm \n",
      "INFO:root:Performing local energy minimization\n",
      "INFO:root:adding force harmonic_bonds 0\n",
      "INFO:root:adding force angle 1\n",
      "INFO:root:adding force heteropolymer_SSW 2\n"
     ]
    },
    {
     "name": "stdout",
     "output_type": "stream",
     "text": [
      "/mnt/home/tudomlumleart/ceph/01_TetheringSimulation/LoopExtrusion_NoBE/template_74/LEFPos.h5\n",
      "creating folder\n",
      "starting simulation with N LEFs=\n",
      "33\n",
      "Length of the saved trajectory: 100\n",
      "N_chain: 333\n",
      "N: 333\n",
      "N_traj: 333\n",
      "Nframes: 100\n",
      "simInitsTotal: 1\n",
      "Exclude neighbouring chain particles from heteropolymer_SSW\n",
      "Number of exceptions: 332\n"
     ]
    },
    {
     "name": "stderr",
     "output_type": "stream",
     "text": [
      "INFO:root:Particles loaded. Potential energy is 17.939523\n",
      "INFO:root:before minimization eK=1.6187494428506484, eP=17.939522928943642, time=0.0 ps\n",
      "INFO:root:Particles loaded. Potential energy is 0.627809\n",
      "INFO:root:after minimization eK=1.6187494428506484, eP=0.5205267301625374, time=0.0 ps\n",
      "INFO:root:block    0 pos[1]=[31.6 29.7 45.1] dr=30.49 t=9683.4ps kin=1.50 pot=1.88 Rg=8.283 SPS=24298 dt=122.5fs dx=33.50pm \n",
      "INFO:root:Performing local energy minimization\n",
      "INFO:root:adding force harmonic_bonds 0\n",
      "INFO:root:adding force angle 1\n",
      "INFO:root:adding force heteropolymer_SSW 2\n"
     ]
    },
    {
     "name": "stdout",
     "output_type": "stream",
     "text": [
      "/mnt/home/tudomlumleart/ceph/01_TetheringSimulation/LoopExtrusion_NoBE/template_75/LEFPos.h5\n",
      "creating folder\n",
      "starting simulation with N LEFs=\n",
      "33\n",
      "Length of the saved trajectory: 100\n",
      "N_chain: 333\n",
      "N: 333\n",
      "N_traj: 333\n",
      "Nframes: 100\n",
      "simInitsTotal: 1\n",
      "Exclude neighbouring chain particles from heteropolymer_SSW\n",
      "Number of exceptions: 332\n"
     ]
    },
    {
     "name": "stderr",
     "output_type": "stream",
     "text": [
      "INFO:root:Particles loaded. Potential energy is 32.273150\n",
      "INFO:root:before minimization eK=1.4668338814706818, eP=32.27314973362558, time=0.0 ps\n",
      "INFO:root:Particles loaded. Potential energy is 0.607227\n",
      "INFO:root:after minimization eK=1.4668338814706818, eP=0.49908412527826684, time=0.0 ps\n",
      "INFO:root:block    0 pos[1]=[23.1 17.8 28.9] dr=16.24 t=9663.3ps kin=1.49 pot=1.76 Rg=6.323 SPS=22547 dt=119.4fs dx=32.58pm \n"
     ]
    },
    {
     "name": "stdout",
     "output_type": "stream",
     "text": [
      "/mnt/home/tudomlumleart/ceph/01_TetheringSimulation/LoopExtrusion_NoBE/template_76/LEFPos.h5\n",
      "creating folder\n",
      "starting simulation with N LEFs=\n",
      "33\n"
     ]
    },
    {
     "name": "stderr",
     "output_type": "stream",
     "text": [
      "INFO:root:Performing local energy minimization\n",
      "INFO:root:adding force harmonic_bonds 0\n",
      "INFO:root:adding force angle 1\n",
      "INFO:root:adding force heteropolymer_SSW 2\n"
     ]
    },
    {
     "name": "stdout",
     "output_type": "stream",
     "text": [
      "Length of the saved trajectory: 100\n",
      "N_chain: 333\n",
      "N: 333\n",
      "N_traj: 333\n",
      "Nframes: 100\n",
      "simInitsTotal: 1\n",
      "Exclude neighbouring chain particles from heteropolymer_SSW\n",
      "Number of exceptions: 332\n"
     ]
    },
    {
     "name": "stderr",
     "output_type": "stream",
     "text": [
      "INFO:root:Particles loaded. Potential energy is 22.636726\n",
      "INFO:root:before minimization eK=1.5807975162981558, eP=22.636726115323427, time=0.0 ps\n",
      "INFO:root:Particles loaded. Potential energy is 0.623052\n",
      "INFO:root:after minimization eK=1.5807975162981558, eP=0.5039253113762818, time=0.0 ps\n",
      "INFO:root:block    0 pos[1]=[13.4 7.2 28.1] dr=22.12 t=9658.5ps kin=1.44 pot=1.79 Rg=7.282 SPS=23936 dt=122.0fs dx=32.68pm \n",
      "INFO:root:Performing local energy minimization\n",
      "INFO:root:adding force harmonic_bonds 0\n",
      "INFO:root:adding force angle 1\n",
      "INFO:root:adding force heteropolymer_SSW 2\n"
     ]
    },
    {
     "name": "stdout",
     "output_type": "stream",
     "text": [
      "/mnt/home/tudomlumleart/ceph/01_TetheringSimulation/LoopExtrusion_NoBE/template_77/LEFPos.h5\n",
      "creating folder\n",
      "starting simulation with N LEFs=\n",
      "33\n",
      "Length of the saved trajectory: 100\n",
      "N_chain: 333\n",
      "N: 333\n",
      "N_traj: 333\n",
      "Nframes: 100\n",
      "simInitsTotal: 1\n",
      "Exclude neighbouring chain particles from heteropolymer_SSW\n",
      "Number of exceptions: 332\n"
     ]
    },
    {
     "name": "stderr",
     "output_type": "stream",
     "text": [
      "INFO:root:Particles loaded. Potential energy is 28.802368\n",
      "INFO:root:before minimization eK=1.7086542147906447, eP=28.802368081385886, time=0.0 ps\n",
      "INFO:root:Particles loaded. Potential energy is 0.623872\n",
      "INFO:root:after minimization eK=1.7086542147906447, eP=0.5219675469119902, time=0.0 ps\n",
      "INFO:root:block    0 pos[1]=[30.3 28.7 10.8] dr=14.17 t=9701.1ps kin=1.50 pot=1.86 Rg=6.863 SPS=22815 dt=122.3fs dx=33.42pm \n",
      "INFO:root:Performing local energy minimization\n",
      "INFO:root:adding force harmonic_bonds 0\n",
      "INFO:root:adding force angle 1\n",
      "INFO:root:adding force heteropolymer_SSW 2\n"
     ]
    },
    {
     "name": "stdout",
     "output_type": "stream",
     "text": [
      "/mnt/home/tudomlumleart/ceph/01_TetheringSimulation/LoopExtrusion_NoBE/template_78/LEFPos.h5\n",
      "creating folder\n",
      "starting simulation with N LEFs=\n",
      "33\n",
      "Length of the saved trajectory: 100\n",
      "N_chain: 333\n",
      "N: 333\n",
      "N_traj: 333\n",
      "Nframes: 100\n",
      "simInitsTotal: 1\n",
      "Exclude neighbouring chain particles from heteropolymer_SSW\n",
      "Number of exceptions: 332\n"
     ]
    },
    {
     "name": "stderr",
     "output_type": "stream",
     "text": [
      "INFO:root:Particles loaded. Potential energy is 24.906105\n",
      "INFO:root:before minimization eK=1.6312689600562185, eP=24.90610549773881, time=0.0 ps\n",
      "INFO:root:Particles loaded. Potential energy is 0.629140\n",
      "INFO:root:after minimization eK=1.6312689600562185, eP=0.5260539140591302, time=0.0 ps\n",
      "INFO:root:block    0 pos[1]=[28.0 18.9 34.0] dr=23.03 t=9676.2ps kin=1.50 pot=1.84 Rg=7.370 SPS=22304 dt=122.9fs dx=33.59pm \n",
      "INFO:root:Performing local energy minimization\n",
      "INFO:root:adding force harmonic_bonds 0\n",
      "INFO:root:adding force angle 1\n",
      "INFO:root:adding force heteropolymer_SSW 2\n"
     ]
    },
    {
     "name": "stdout",
     "output_type": "stream",
     "text": [
      "/mnt/home/tudomlumleart/ceph/01_TetheringSimulation/LoopExtrusion_NoBE/template_79/LEFPos.h5\n",
      "creating folder\n",
      "starting simulation with N LEFs=\n",
      "33\n",
      "Length of the saved trajectory: 100\n",
      "N_chain: 333\n",
      "N: 333\n",
      "N_traj: 333\n",
      "Nframes: 100\n",
      "simInitsTotal: 1\n",
      "Exclude neighbouring chain particles from heteropolymer_SSW\n",
      "Number of exceptions: 332\n"
     ]
    },
    {
     "name": "stderr",
     "output_type": "stream",
     "text": [
      "INFO:root:Particles loaded. Potential energy is 20.629663\n",
      "INFO:root:before minimization eK=1.4578217999357919, eP=20.629663476849686, time=0.0 ps\n",
      "INFO:root:Particles loaded. Potential energy is 0.643518\n",
      "INFO:root:after minimization eK=1.4578217999357919, eP=0.5189664140365626, time=0.0 ps\n",
      "INFO:root:block    0 pos[1]=[23.7 36.0 16.5] dr=8.78 t=9679.7ps kin=1.42 pot=1.89 Rg=9.302 SPS=26361 dt=121.3fs dx=32.26pm \n",
      "INFO:root:Performing local energy minimization\n",
      "INFO:root:adding force harmonic_bonds 0\n",
      "INFO:root:adding force angle 1\n",
      "INFO:root:adding force heteropolymer_SSW 2\n"
     ]
    },
    {
     "name": "stdout",
     "output_type": "stream",
     "text": [
      "/mnt/home/tudomlumleart/ceph/01_TetheringSimulation/LoopExtrusion_NoBE/template_80/LEFPos.h5\n",
      "creating folder\n",
      "starting simulation with N LEFs=\n",
      "33\n",
      "Length of the saved trajectory: 100\n",
      "N_chain: 333\n",
      "N: 333\n",
      "N_traj: 333\n",
      "Nframes: 100\n",
      "simInitsTotal: 1\n",
      "Exclude neighbouring chain particles from heteropolymer_SSW\n",
      "Number of exceptions: 332\n"
     ]
    },
    {
     "name": "stderr",
     "output_type": "stream",
     "text": [
      "INFO:root:Particles loaded. Potential energy is 27.256009\n",
      "INFO:root:before minimization eK=1.5032795147873477, eP=27.256009243326307, time=0.0 ps\n",
      "INFO:root:Particles loaded. Potential energy is 0.622499\n",
      "INFO:root:after minimization eK=1.5032795147873477, eP=0.5093981900625139, time=0.0 ps\n",
      "INFO:root:block    0 pos[1]=[11.9 22.6 21.1] dr=17.45 t=9665.5ps kin=1.54 pot=1.85 Rg=6.708 SPS=22341 dt=120.2fs dx=33.29pm \n",
      "INFO:root:Performing local energy minimization\n",
      "INFO:root:adding force harmonic_bonds 0\n",
      "INFO:root:adding force angle 1\n",
      "INFO:root:adding force heteropolymer_SSW 2\n"
     ]
    },
    {
     "name": "stdout",
     "output_type": "stream",
     "text": [
      "/mnt/home/tudomlumleart/ceph/01_TetheringSimulation/LoopExtrusion_NoBE/template_81/LEFPos.h5\n",
      "creating folder\n",
      "starting simulation with N LEFs=\n",
      "33\n",
      "Length of the saved trajectory: 100\n",
      "N_chain: 333\n",
      "N: 333\n",
      "N_traj: 333\n",
      "Nframes: 100\n",
      "simInitsTotal: 1\n",
      "Exclude neighbouring chain particles from heteropolymer_SSW\n",
      "Number of exceptions: 332\n"
     ]
    },
    {
     "name": "stderr",
     "output_type": "stream",
     "text": [
      "INFO:root:Particles loaded. Potential energy is 20.514510\n",
      "INFO:root:before minimization eK=1.5365333633494265, eP=20.5145102613923, time=0.0 ps\n",
      "INFO:root:Particles loaded. Potential energy is 0.636718\n",
      "INFO:root:after minimization eK=1.5365333633494265, eP=0.5157339546492724, time=0.0 ps\n",
      "INFO:root:block    0 pos[1]=[39.3 24.9 16.0] dr=16.03 t=9674.2ps kin=1.35 pot=1.81 Rg=6.299 SPS=23135 dt=122.8fs dx=31.91pm \n",
      "INFO:root:Performing local energy minimization\n",
      "INFO:root:adding force harmonic_bonds 0\n",
      "INFO:root:adding force angle 1\n",
      "INFO:root:adding force heteropolymer_SSW 2\n"
     ]
    },
    {
     "name": "stdout",
     "output_type": "stream",
     "text": [
      "/mnt/home/tudomlumleart/ceph/01_TetheringSimulation/LoopExtrusion_NoBE/template_82/LEFPos.h5\n",
      "creating folder\n",
      "starting simulation with N LEFs=\n",
      "33\n",
      "Length of the saved trajectory: 100\n",
      "N_chain: 333\n",
      "N: 333\n",
      "N_traj: 333\n",
      "Nframes: 100\n",
      "simInitsTotal: 1\n",
      "Exclude neighbouring chain particles from heteropolymer_SSW\n",
      "Number of exceptions: 332\n"
     ]
    },
    {
     "name": "stderr",
     "output_type": "stream",
     "text": [
      "INFO:root:Particles loaded. Potential energy is 25.966861\n",
      "INFO:root:before minimization eK=1.4682169646824803, eP=25.966861003592225, time=0.0 ps\n",
      "INFO:root:Particles loaded. Potential energy is 0.612735\n",
      "INFO:root:after minimization eK=1.4682169646824803, eP=0.5053660231313262, time=0.0 ps\n",
      "INFO:root:block    0 pos[1]=[12.1 36.2 10.4] dr=13.94 t=9659.7ps kin=1.63 pot=1.85 Rg=7.493 SPS=24866 dt=119.0fs dx=33.96pm \n",
      "INFO:root:Performing local energy minimization\n",
      "INFO:root:adding force harmonic_bonds 0\n",
      "INFO:root:adding force angle 1\n",
      "INFO:root:adding force heteropolymer_SSW 2\n"
     ]
    },
    {
     "name": "stdout",
     "output_type": "stream",
     "text": [
      "/mnt/home/tudomlumleart/ceph/01_TetheringSimulation/LoopExtrusion_NoBE/template_83/LEFPos.h5\n",
      "creating folder\n",
      "starting simulation with N LEFs=\n",
      "33\n",
      "Length of the saved trajectory: 100\n",
      "N_chain: 333\n",
      "N: 333\n",
      "N_traj: 333\n",
      "Nframes: 100\n",
      "simInitsTotal: 1\n",
      "Exclude neighbouring chain particles from heteropolymer_SSW\n",
      "Number of exceptions: 332\n"
     ]
    },
    {
     "name": "stderr",
     "output_type": "stream",
     "text": [
      "INFO:root:Particles loaded. Potential energy is 24.978807\n",
      "INFO:root:before minimization eK=1.4665346517101328, eP=24.978806782551455, time=0.0 ps\n",
      "INFO:root:Particles loaded. Potential energy is 0.646500\n",
      "INFO:root:after minimization eK=1.4665346517101328, eP=0.5331047362582271, time=0.0 ps\n",
      "INFO:root:block    0 pos[1]=[28.1 32.3 16.5] dr=11.50 t=9683.1ps kin=1.49 pot=1.89 Rg=7.437 SPS=24224 dt=119.4fs dx=32.60pm \n",
      "INFO:root:Performing local energy minimization\n",
      "INFO:root:adding force harmonic_bonds 0\n",
      "INFO:root:adding force angle 1\n",
      "INFO:root:adding force heteropolymer_SSW 2\n"
     ]
    },
    {
     "name": "stdout",
     "output_type": "stream",
     "text": [
      "/mnt/home/tudomlumleart/ceph/01_TetheringSimulation/LoopExtrusion_NoBE/template_84/LEFPos.h5\n",
      "creating folder\n",
      "starting simulation with N LEFs=\n",
      "33\n",
      "Length of the saved trajectory: 100\n",
      "N_chain: 333\n",
      "N: 333\n",
      "N_traj: 333\n",
      "Nframes: 100\n",
      "simInitsTotal: 1\n",
      "Exclude neighbouring chain particles from heteropolymer_SSW\n",
      "Number of exceptions: 332\n"
     ]
    },
    {
     "name": "stderr",
     "output_type": "stream",
     "text": [
      "INFO:root:Particles loaded. Potential energy is 20.954094\n",
      "INFO:root:before minimization eK=1.3152774659296242, eP=20.95409371241177, time=0.0 ps\n",
      "INFO:root:Particles loaded. Potential energy is 0.666361\n",
      "INFO:root:after minimization eK=1.3152774659296242, eP=0.547903239037887, time=0.0 ps\n",
      "INFO:root:block    0 pos[1]=[1.1 46.8 23.1] dr=25.58 t=9678.7ps kin=1.51 pot=1.83 Rg=7.540 SPS=23051 dt=120.6fs dx=33.10pm \n",
      "INFO:root:Performing local energy minimization\n",
      "INFO:root:adding force harmonic_bonds 0\n",
      "INFO:root:adding force angle 1\n",
      "INFO:root:adding force heteropolymer_SSW 2\n"
     ]
    },
    {
     "name": "stdout",
     "output_type": "stream",
     "text": [
      "/mnt/home/tudomlumleart/ceph/01_TetheringSimulation/LoopExtrusion_NoBE/template_85/LEFPos.h5\n",
      "creating folder\n",
      "starting simulation with N LEFs=\n",
      "33\n",
      "Length of the saved trajectory: 100\n",
      "N_chain: 333\n",
      "N: 333\n",
      "N_traj: 333\n",
      "Nframes: 100\n",
      "simInitsTotal: 1\n",
      "Exclude neighbouring chain particles from heteropolymer_SSW\n",
      "Number of exceptions: 332\n"
     ]
    },
    {
     "name": "stderr",
     "output_type": "stream",
     "text": [
      "INFO:root:Particles loaded. Potential energy is 19.357536\n",
      "INFO:root:before minimization eK=1.5287068666493642, eP=19.357536339132245, time=0.0 ps\n",
      "INFO:root:Particles loaded. Potential energy is 0.649942\n",
      "INFO:root:after minimization eK=1.5287068666493642, eP=0.5319360646871323, time=0.0 ps\n",
      "INFO:root:block    0 pos[1]=[29.5 14.3 24.4] dr=17.10 t=9665.2ps kin=1.50 pot=1.87 Rg=6.722 SPS=26910 dt=121.0fs dx=33.09pm \n",
      "INFO:root:Performing local energy minimization\n",
      "INFO:root:adding force harmonic_bonds 0\n",
      "INFO:root:adding force angle 1\n",
      "INFO:root:adding force heteropolymer_SSW 2\n"
     ]
    },
    {
     "name": "stdout",
     "output_type": "stream",
     "text": [
      "/mnt/home/tudomlumleart/ceph/01_TetheringSimulation/LoopExtrusion_NoBE/template_86/LEFPos.h5\n",
      "creating folder\n",
      "starting simulation with N LEFs=\n",
      "33\n",
      "Length of the saved trajectory: 100\n",
      "N_chain: 333\n",
      "N: 333\n",
      "N_traj: 333\n",
      "Nframes: 100\n",
      "simInitsTotal: 1\n",
      "Exclude neighbouring chain particles from heteropolymer_SSW\n",
      "Number of exceptions: 332\n"
     ]
    },
    {
     "name": "stderr",
     "output_type": "stream",
     "text": [
      "INFO:root:Particles loaded. Potential energy is 23.782796\n",
      "INFO:root:before minimization eK=1.5202550399074535, eP=23.78279600176, time=0.0 ps\n",
      "INFO:root:Particles loaded. Potential energy is 0.561630\n",
      "INFO:root:after minimization eK=1.5202550399074535, eP=0.43333218674586427, time=0.0 ps\n",
      "INFO:root:block    0 pos[1]=[22.7 17.0 15.5] dr=13.35 t=9653.0ps kin=1.42 pot=1.79 Rg=6.424 SPS=24178 dt=125.6fs dx=33.38pm \n",
      "INFO:root:Performing local energy minimization\n",
      "INFO:root:adding force harmonic_bonds 0\n",
      "INFO:root:adding force angle 1\n",
      "INFO:root:adding force heteropolymer_SSW 2\n"
     ]
    },
    {
     "name": "stdout",
     "output_type": "stream",
     "text": [
      "/mnt/home/tudomlumleart/ceph/01_TetheringSimulation/LoopExtrusion_NoBE/template_87/LEFPos.h5\n",
      "creating folder\n",
      "starting simulation with N LEFs=\n",
      "33\n",
      "Length of the saved trajectory: 100\n",
      "N_chain: 333\n",
      "N: 333\n",
      "N_traj: 333\n",
      "Nframes: 100\n",
      "simInitsTotal: 1\n",
      "Exclude neighbouring chain particles from heteropolymer_SSW\n",
      "Number of exceptions: 332\n"
     ]
    },
    {
     "name": "stderr",
     "output_type": "stream",
     "text": [
      "INFO:root:Particles loaded. Potential energy is 24.753086\n",
      "INFO:root:before minimization eK=1.5884144971062761, eP=24.75308624338848, time=0.0 ps\n",
      "INFO:root:Particles loaded. Potential energy is 0.636114\n",
      "INFO:root:after minimization eK=1.5884144971062761, eP=0.5098939430727218, time=0.0 ps\n",
      "INFO:root:block    0 pos[1]=[13.9 25.9 49.5] dr=27.44 t=9667.7ps kin=1.51 pot=1.79 Rg=7.729 SPS=24816 dt=121.3fs dx=33.26pm \n",
      "INFO:root:Performing local energy minimization\n",
      "INFO:root:adding force harmonic_bonds 0\n",
      "INFO:root:adding force angle 1\n",
      "INFO:root:adding force heteropolymer_SSW 2\n"
     ]
    },
    {
     "name": "stdout",
     "output_type": "stream",
     "text": [
      "/mnt/home/tudomlumleart/ceph/01_TetheringSimulation/LoopExtrusion_NoBE/template_88/LEFPos.h5\n",
      "creating folder\n",
      "starting simulation with N LEFs=\n",
      "33\n",
      "Length of the saved trajectory: 100\n",
      "N_chain: 333\n",
      "N: 333\n",
      "N_traj: 333\n",
      "Nframes: 100\n",
      "simInitsTotal: 1\n",
      "Exclude neighbouring chain particles from heteropolymer_SSW\n",
      "Number of exceptions: 332\n"
     ]
    },
    {
     "name": "stderr",
     "output_type": "stream",
     "text": [
      "INFO:root:Particles loaded. Potential energy is 29.146871\n",
      "INFO:root:before minimization eK=1.403399151856988, eP=29.1468711684369, time=0.0 ps\n",
      "INFO:root:Particles loaded. Potential energy is 0.600517\n",
      "INFO:root:after minimization eK=1.403399151856988, eP=0.48614313144398635, time=0.0 ps\n",
      "INFO:root:block    0 pos[1]=[19.6 34.4 22.1] dr=19.85 t=9671.4ps kin=1.39 pot=1.82 Rg=6.377 SPS=22323 dt=123.5fs dx=32.49pm \n",
      "INFO:root:Performing local energy minimization\n",
      "INFO:root:adding force harmonic_bonds 0\n",
      "INFO:root:adding force angle 1\n",
      "INFO:root:adding force heteropolymer_SSW 2\n"
     ]
    },
    {
     "name": "stdout",
     "output_type": "stream",
     "text": [
      "/mnt/home/tudomlumleart/ceph/01_TetheringSimulation/LoopExtrusion_NoBE/template_89/LEFPos.h5\n",
      "creating folder\n",
      "starting simulation with N LEFs=\n",
      "33\n",
      "Length of the saved trajectory: 100\n",
      "N_chain: 333\n",
      "N: 333\n",
      "N_traj: 333\n",
      "Nframes: 100\n",
      "simInitsTotal: 1\n",
      "Exclude neighbouring chain particles from heteropolymer_SSW\n",
      "Number of exceptions: 332\n"
     ]
    },
    {
     "name": "stderr",
     "output_type": "stream",
     "text": [
      "INFO:root:Particles loaded. Potential energy is 26.154878\n",
      "INFO:root:before minimization eK=1.449409821327872, eP=26.154877587406613, time=0.0 ps\n",
      "INFO:root:Particles loaded. Potential energy is 0.617840\n",
      "INFO:root:after minimization eK=1.449409821327872, eP=0.5100128626772991, time=0.0 ps\n",
      "INFO:root:block    0 pos[1]=[36.5 24.4 11.7] dr=23.75 t=9679.7ps kin=1.44 pot=1.77 Rg=7.276 SPS=25202 dt=125.0fs dx=33.51pm \n",
      "INFO:root:Performing local energy minimization\n",
      "INFO:root:adding force harmonic_bonds 0\n",
      "INFO:root:adding force angle 1\n",
      "INFO:root:adding force heteropolymer_SSW 2\n"
     ]
    },
    {
     "name": "stdout",
     "output_type": "stream",
     "text": [
      "/mnt/home/tudomlumleart/ceph/01_TetheringSimulation/LoopExtrusion_NoBE/template_90/LEFPos.h5\n",
      "creating folder\n",
      "starting simulation with N LEFs=\n",
      "33\n",
      "Length of the saved trajectory: 100\n",
      "N_chain: 333\n",
      "N: 333\n",
      "N_traj: 333\n",
      "Nframes: 100\n",
      "simInitsTotal: 1\n",
      "Exclude neighbouring chain particles from heteropolymer_SSW\n",
      "Number of exceptions: 332\n"
     ]
    },
    {
     "name": "stderr",
     "output_type": "stream",
     "text": [
      "INFO:root:Particles loaded. Potential energy is 24.811821\n",
      "INFO:root:before minimization eK=1.58777762037085, eP=24.81182057000902, time=0.0 ps\n",
      "INFO:root:Particles loaded. Potential energy is 0.625874\n",
      "INFO:root:after minimization eK=1.58777762037085, eP=0.5052215518712988, time=0.0 ps\n",
      "INFO:root:block    0 pos[1]=[27.0 24.9 25.8] dr=14.94 t=9659.4ps kin=1.52 pot=1.86 Rg=6.423 SPS=23063 dt=119.5fs dx=32.86pm \n",
      "INFO:root:Performing local energy minimization\n",
      "INFO:root:adding force harmonic_bonds 0\n",
      "INFO:root:adding force angle 1\n",
      "INFO:root:adding force heteropolymer_SSW 2\n"
     ]
    },
    {
     "name": "stdout",
     "output_type": "stream",
     "text": [
      "/mnt/home/tudomlumleart/ceph/01_TetheringSimulation/LoopExtrusion_NoBE/template_91/LEFPos.h5\n",
      "creating folder\n",
      "starting simulation with N LEFs=\n",
      "33\n",
      "Length of the saved trajectory: 100\n",
      "N_chain: 333\n",
      "N: 333\n",
      "N_traj: 333\n",
      "Nframes: 100\n",
      "simInitsTotal: 1\n",
      "Exclude neighbouring chain particles from heteropolymer_SSW\n",
      "Number of exceptions: 332\n"
     ]
    },
    {
     "name": "stderr",
     "output_type": "stream",
     "text": [
      "INFO:root:Particles loaded. Potential energy is 31.481042\n",
      "INFO:root:before minimization eK=1.54509987392646, eP=31.481041751309746, time=0.0 ps\n",
      "INFO:root:Particles loaded. Potential energy is 0.653257\n",
      "INFO:root:after minimization eK=1.54509987392646, eP=0.5392144772360362, time=0.0 ps\n",
      "INFO:root:block    0 pos[1]=[33.0 23.4 14.1] dr=18.72 t=9669.6ps kin=1.61 pot=1.87 Rg=7.279 SPS=22608 dt=119.9fs dx=34.00pm \n",
      "INFO:root:Performing local energy minimization\n",
      "INFO:root:adding force harmonic_bonds 0\n",
      "INFO:root:adding force angle 1\n",
      "INFO:root:adding force heteropolymer_SSW 2\n"
     ]
    },
    {
     "name": "stdout",
     "output_type": "stream",
     "text": [
      "/mnt/home/tudomlumleart/ceph/01_TetheringSimulation/LoopExtrusion_NoBE/template_92/LEFPos.h5\n",
      "creating folder\n",
      "starting simulation with N LEFs=\n",
      "33\n",
      "Length of the saved trajectory: 100\n",
      "N_chain: 333\n",
      "N: 333\n",
      "N_traj: 333\n",
      "Nframes: 100\n",
      "simInitsTotal: 1\n",
      "Exclude neighbouring chain particles from heteropolymer_SSW\n",
      "Number of exceptions: 332\n"
     ]
    },
    {
     "name": "stderr",
     "output_type": "stream",
     "text": [
      "INFO:root:Particles loaded. Potential energy is 25.828618\n",
      "INFO:root:before minimization eK=1.3578541626703602, eP=25.828617741248028, time=0.0 ps\n",
      "INFO:root:Particles loaded. Potential energy is 0.678091\n",
      "INFO:root:after minimization eK=1.3578541626703602, eP=0.5444445219642053, time=0.0 ps\n",
      "INFO:root:block    0 pos[1]=[31.8 20.9 37.7] dr=19.23 t=9683.1ps kin=1.53 pot=1.84 Rg=6.669 SPS=23608 dt=119.1fs dx=32.85pm \n",
      "INFO:root:Performing local energy minimization\n",
      "INFO:root:adding force harmonic_bonds 0\n",
      "INFO:root:adding force angle 1\n",
      "INFO:root:adding force heteropolymer_SSW 2\n"
     ]
    },
    {
     "name": "stdout",
     "output_type": "stream",
     "text": [
      "/mnt/home/tudomlumleart/ceph/01_TetheringSimulation/LoopExtrusion_NoBE/template_93/LEFPos.h5\n",
      "creating folder\n",
      "starting simulation with N LEFs=\n",
      "33\n",
      "Length of the saved trajectory: 100\n",
      "N_chain: 333\n",
      "N: 333\n",
      "N_traj: 333\n",
      "Nframes: 100\n",
      "simInitsTotal: 1\n",
      "Exclude neighbouring chain particles from heteropolymer_SSW\n",
      "Number of exceptions: 332\n"
     ]
    },
    {
     "name": "stderr",
     "output_type": "stream",
     "text": [
      "INFO:root:Particles loaded. Potential energy is 47.497979\n",
      "INFO:root:before minimization eK=1.441193009426933, eP=47.49797941671087, time=0.0 ps\n",
      "INFO:root:Particles loaded. Potential energy is 0.601729\n",
      "INFO:root:after minimization eK=1.441193009426933, eP=0.5038035183894823, time=0.0 ps\n",
      "INFO:root:block    0 pos[1]=[28.2 39.8 31.8] dr=15.88 t=9650.3ps kin=1.47 pot=1.92 Rg=8.698 SPS=24431 dt=120.1fs dx=32.55pm \n",
      "INFO:root:Performing local energy minimization\n",
      "INFO:root:adding force harmonic_bonds 0\n",
      "INFO:root:adding force angle 1\n",
      "INFO:root:adding force heteropolymer_SSW 2\n"
     ]
    },
    {
     "name": "stdout",
     "output_type": "stream",
     "text": [
      "/mnt/home/tudomlumleart/ceph/01_TetheringSimulation/LoopExtrusion_NoBE/template_94/LEFPos.h5\n",
      "creating folder\n",
      "starting simulation with N LEFs=\n",
      "33\n",
      "Length of the saved trajectory: 100\n",
      "N_chain: 333\n",
      "N: 333\n",
      "N_traj: 333\n",
      "Nframes: 100\n",
      "simInitsTotal: 1\n",
      "Exclude neighbouring chain particles from heteropolymer_SSW\n",
      "Number of exceptions: 332\n"
     ]
    },
    {
     "name": "stderr",
     "output_type": "stream",
     "text": [
      "INFO:root:Particles loaded. Potential energy is 16.697884\n",
      "INFO:root:before minimization eK=1.504381641586471, eP=16.697883564510242, time=0.0 ps\n",
      "INFO:root:Particles loaded. Potential energy is 0.677791\n",
      "INFO:root:after minimization eK=1.504381641586471, eP=0.5640054139567181, time=0.0 ps\n",
      "INFO:root:block    0 pos[1]=[21.5 26.7 25.4] dr=13.88 t=9661.1ps kin=1.47 pot=1.77 Rg=7.277 SPS=22753 dt=121.8fs dx=32.94pm \n",
      "INFO:root:Performing local energy minimization\n",
      "INFO:root:adding force harmonic_bonds 0\n",
      "INFO:root:adding force angle 1\n",
      "INFO:root:adding force heteropolymer_SSW 2\n"
     ]
    },
    {
     "name": "stdout",
     "output_type": "stream",
     "text": [
      "/mnt/home/tudomlumleart/ceph/01_TetheringSimulation/LoopExtrusion_NoBE/template_95/LEFPos.h5\n",
      "creating folder\n",
      "starting simulation with N LEFs=\n",
      "33\n",
      "Length of the saved trajectory: 100\n",
      "N_chain: 333\n",
      "N: 333\n",
      "N_traj: 333\n",
      "Nframes: 100\n",
      "simInitsTotal: 1\n",
      "Exclude neighbouring chain particles from heteropolymer_SSW\n",
      "Number of exceptions: 332\n"
     ]
    },
    {
     "name": "stderr",
     "output_type": "stream",
     "text": [
      "INFO:root:Particles loaded. Potential energy is 23.245529\n",
      "INFO:root:before minimization eK=1.4640659662025637, eP=23.245528613153308, time=0.0 ps\n",
      "INFO:root:Particles loaded. Potential energy is 0.582661\n",
      "INFO:root:after minimization eK=1.4640659662025637, eP=0.48212326758617374, time=0.0 ps\n",
      "INFO:root:block    0 pos[1]=[26.9 28.5 25.2] dr=11.43 t=9655.5ps kin=1.56 pot=1.82 Rg=6.575 SPS=22645 dt=121.5fs dx=33.87pm \n",
      "INFO:root:Performing local energy minimization\n",
      "INFO:root:adding force harmonic_bonds 0\n",
      "INFO:root:adding force angle 1\n",
      "INFO:root:adding force heteropolymer_SSW 2\n"
     ]
    },
    {
     "name": "stdout",
     "output_type": "stream",
     "text": [
      "/mnt/home/tudomlumleart/ceph/01_TetheringSimulation/LoopExtrusion_NoBE/template_96/LEFPos.h5\n",
      "creating folder\n",
      "starting simulation with N LEFs=\n",
      "33\n",
      "Length of the saved trajectory: 100\n",
      "N_chain: 333\n",
      "N: 333\n",
      "N_traj: 333\n",
      "Nframes: 100\n",
      "simInitsTotal: 1\n",
      "Exclude neighbouring chain particles from heteropolymer_SSW\n",
      "Number of exceptions: 332\n"
     ]
    },
    {
     "name": "stderr",
     "output_type": "stream",
     "text": [
      "INFO:root:Particles loaded. Potential energy is 30.037367\n",
      "INFO:root:before minimization eK=1.5118958812284309, eP=30.037367363589382, time=0.0 ps\n",
      "INFO:root:Particles loaded. Potential energy is 0.646314\n",
      "INFO:root:after minimization eK=1.5118958812284309, eP=0.5427938448359917, time=0.0 ps\n",
      "INFO:root:block    0 pos[1]=[45.4 43.6 14.0] dr=23.46 t=9675.2ps kin=1.58 pot=1.96 Rg=8.641 SPS=22647 dt=119.7fs dx=33.64pm \n",
      "INFO:root:Performing local energy minimization\n",
      "INFO:root:adding force harmonic_bonds 0\n",
      "INFO:root:adding force angle 1\n",
      "INFO:root:adding force heteropolymer_SSW 2\n"
     ]
    },
    {
     "name": "stdout",
     "output_type": "stream",
     "text": [
      "/mnt/home/tudomlumleart/ceph/01_TetheringSimulation/LoopExtrusion_NoBE/template_97/LEFPos.h5\n",
      "creating folder\n",
      "starting simulation with N LEFs=\n",
      "33\n",
      "Length of the saved trajectory: 100\n",
      "N_chain: 333\n",
      "N: 333\n",
      "N_traj: 333\n",
      "Nframes: 100\n",
      "simInitsTotal: 1\n",
      "Exclude neighbouring chain particles from heteropolymer_SSW\n",
      "Number of exceptions: 332\n"
     ]
    },
    {
     "name": "stderr",
     "output_type": "stream",
     "text": [
      "INFO:root:Particles loaded. Potential energy is 30.144989\n",
      "INFO:root:before minimization eK=1.4346045895747463, eP=30.144988626856808, time=0.0 ps\n",
      "INFO:root:Particles loaded. Potential energy is 0.576420\n",
      "INFO:root:after minimization eK=1.4346045895747463, eP=0.48625057228733104, time=0.0 ps\n",
      "INFO:root:block    0 pos[1]=[45.3 36.0 37.4] dr=26.39 t=9654.1ps kin=1.50 pot=1.85 Rg=7.010 SPS=22641 dt=122.1fs dx=33.37pm \n",
      "INFO:root:Performing local energy minimization\n",
      "INFO:root:adding force harmonic_bonds 0\n",
      "INFO:root:adding force angle 1\n",
      "INFO:root:adding force heteropolymer_SSW 2\n"
     ]
    },
    {
     "name": "stdout",
     "output_type": "stream",
     "text": [
      "/mnt/home/tudomlumleart/ceph/01_TetheringSimulation/LoopExtrusion_NoBE/template_98/LEFPos.h5\n",
      "creating folder\n",
      "starting simulation with N LEFs=\n",
      "33\n",
      "Length of the saved trajectory: 100\n",
      "N_chain: 333\n",
      "N: 333\n",
      "N_traj: 333\n",
      "Nframes: 100\n",
      "simInitsTotal: 1\n",
      "Exclude neighbouring chain particles from heteropolymer_SSW\n",
      "Number of exceptions: 332\n"
     ]
    },
    {
     "name": "stderr",
     "output_type": "stream",
     "text": [
      "INFO:root:Particles loaded. Potential energy is 34.043718\n",
      "INFO:root:before minimization eK=1.477275301880084, eP=34.04371798780706, time=0.0 ps\n",
      "INFO:root:Particles loaded. Potential energy is 0.581524\n",
      "INFO:root:after minimization eK=1.477275301880084, eP=0.47004743158397866, time=0.0 ps\n",
      "INFO:root:block    0 pos[1]=[36.5 23.6 42.0] dr=20.39 t=9656.5ps kin=1.46 pot=1.85 Rg=6.769 SPS=22626 dt=119.7fs dx=32.27pm \n",
      "INFO:root:Performing local energy minimization\n",
      "INFO:root:adding force harmonic_bonds 0\n",
      "INFO:root:adding force angle 1\n",
      "INFO:root:adding force heteropolymer_SSW 2\n"
     ]
    },
    {
     "name": "stdout",
     "output_type": "stream",
     "text": [
      "/mnt/home/tudomlumleart/ceph/01_TetheringSimulation/LoopExtrusion_NoBE/template_99/LEFPos.h5\n",
      "creating folder\n",
      "starting simulation with N LEFs=\n",
      "33\n",
      "Length of the saved trajectory: 100\n",
      "N_chain: 333\n",
      "N: 333\n",
      "N_traj: 333\n",
      "Nframes: 100\n",
      "simInitsTotal: 1\n",
      "Exclude neighbouring chain particles from heteropolymer_SSW\n",
      "Number of exceptions: 332\n"
     ]
    },
    {
     "name": "stderr",
     "output_type": "stream",
     "text": [
      "INFO:root:Particles loaded. Potential energy is 26.212812\n",
      "INFO:root:before minimization eK=1.5401415231842874, eP=26.212811897880925, time=0.0 ps\n",
      "INFO:root:Particles loaded. Potential energy is 0.571281\n",
      "INFO:root:after minimization eK=1.5401415231842874, eP=0.46526532170523943, time=0.0 ps\n",
      "INFO:root:block    0 pos[1]=[19.5 15.0 33.4] dr=18.38 t=9650.1ps kin=1.49 pot=1.72 Rg=9.326 SPS=23290 dt=119.7fs dx=32.63pm \n"
     ]
    }
   ],
   "source": [
    "generate_polymer_chain(num_monomers, num_polymers, \n",
    "                       num_observations, save_folder,\n",
    "                       num_lef = num_lef,\n",
    "                       num_templates=num_templates)"
   ]
  }
 ],
 "metadata": {
  "kernelspec": {
   "display_name": "jupyter-gpu-openmm",
   "language": "python",
   "name": "jupyter-gpu-openmm"
  },
  "language_info": {
   "codemirror_mode": {
    "name": "ipython",
    "version": 3
   },
   "file_extension": ".py",
   "mimetype": "text/x-python",
   "name": "python",
   "nbconvert_exporter": "python",
   "pygments_lexer": "ipython3",
   "version": "3.10.10"
  }
 },
 "nbformat": 4,
 "nbformat_minor": 2
}
