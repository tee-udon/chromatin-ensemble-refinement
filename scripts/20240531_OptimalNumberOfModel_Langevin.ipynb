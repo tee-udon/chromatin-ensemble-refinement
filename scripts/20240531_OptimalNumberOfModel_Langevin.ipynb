{
 "cells": [
  {
   "cell_type": "code",
   "execution_count": 1,
   "metadata": {},
   "outputs": [
    {
     "ename": "ModuleNotFoundError",
     "evalue": "No module named 'umap'",
     "output_type": "error",
     "traceback": [
      "\u001b[0;31m---------------------------------------------------------------------------\u001b[0m",
      "\u001b[0;31mModuleNotFoundError\u001b[0m                       Traceback (most recent call last)",
      "Cell \u001b[0;32mIn[1], line 2\u001b[0m\n\u001b[1;32m      1\u001b[0m \u001b[38;5;28;01mfrom\u001b[39;00m \u001b[38;5;21;01mfunctions\u001b[39;00m \u001b[38;5;28;01mimport\u001b[39;00m \u001b[38;5;241m*\u001b[39m\n\u001b[0;32m----> 2\u001b[0m \u001b[38;5;28;01mimport\u001b[39;00m \u001b[38;5;21;01mumap\u001b[39;00m\n",
      "\u001b[0;31mModuleNotFoundError\u001b[0m: No module named 'umap'"
     ]
    }
   ],
   "source": [
    "from functions import *\n",
    "import umap"
   ]
  },
  {
   "cell_type": "code",
   "execution_count": 2,
   "metadata": {},
   "outputs": [],
   "source": [
    "polymer_directory_list = {'SARW': r\"/mnt/home/tudomlumleart/ceph/01_TetheringSimulation/SelfAvoidingRandomWalk/\"} \\\n",
    "    | {'LE{}'.format(i): r\"/mnt/home/tudomlumleart/ceph/01_TetheringSimulation/LoopExtrusion_{}/\".format(i) for i in range(4)}"
   ]
  },
  {
   "cell_type": "code",
   "execution_count": 3,
   "metadata": {},
   "outputs": [],
   "source": [
    "polys_dict = {}\n",
    "dmaps_dict = {}\n",
    "for key, val in polymer_directory_list.items():\n",
    "    polys, dmaps = load_polymer_hdf5(val)\n",
    "    polys_dict[key] = polys\n",
    "    dmaps_dict[key] = dmaps"
   ]
  },
  {
   "cell_type": "code",
   "execution_count": 5,
   "metadata": {},
   "outputs": [],
   "source": [
    "measurement_error = 1\n",
    "num_probes = 100"
   ]
  },
  {
   "cell_type": "code",
   "execution_count": null,
   "metadata": {},
   "outputs": [],
   "source": [
    "torch.cuda.empty_cache()\n",
    "\n",
    "template_input = template_chain_list_with_new[:i]\n",
    "uniform_array = random.uniform(subkey, shape=(1, i)) \n",
    "uniform_array = uniform_array / jnp.sum(uniform_array) * 100\n",
    "pg = ProjectedGradient(fun=weight_neg_objective_parallelize_for_multiple, projection=projection_simplex, \n",
    "                       implicit_diff=True, implicit_diff_solve=True)\n",
    "pg_sol = pg.run(uniform_array[1, :], hyperparams_proj=sum(num_observation_list))\n",
    "pg_sol.params"
   ]
  }
 ],
 "metadata": {
  "kernelspec": {
   "display_name": "jupyter-gpu-openmm",
   "language": "python",
   "name": "jupyter-gpu-openmm"
  },
  "language_info": {
   "codemirror_mode": {
    "name": "ipython",
    "version": 3
   },
   "file_extension": ".py",
   "mimetype": "text/x-python",
   "name": "python",
   "nbconvert_exporter": "python",
   "pygments_lexer": "ipython3",
   "version": "3.10.10"
  }
 },
 "nbformat": 4,
 "nbformat_minor": 2
}
