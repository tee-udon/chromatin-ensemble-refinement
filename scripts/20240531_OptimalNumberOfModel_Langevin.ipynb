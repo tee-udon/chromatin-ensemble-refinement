{
 "cells": [
  {
   "cell_type": "code",
   "execution_count": null,
   "metadata": {},
   "outputs": [],
   "source": [
    "from functions import *"
   ]
  },
  {
   "cell_type": "code",
   "execution_count": null,
   "metadata": {},
   "outputs": [],
   "source": [
    "polymer_directory_list = {'SARW': r\"/mnt/home/tudomlumleart/ceph/01_TetheringSimulation/SelfAvoidingRandomWalk/\"} \\\n",
    "    | {'LE{}'.format(i): r\"/mnt/home/tudomlumleart/ceph/01_TetheringSimulation/LoopExtrusion_{}/\".format(i) for i in range(4)}"
   ]
  },
  {
   "cell_type": "code",
   "execution_count": null,
   "metadata": {},
   "outputs": [],
   "source": []
  }
 ],
 "metadata": {
  "language_info": {
   "name": "python"
  }
 },
 "nbformat": 4,
 "nbformat_minor": 2
}
