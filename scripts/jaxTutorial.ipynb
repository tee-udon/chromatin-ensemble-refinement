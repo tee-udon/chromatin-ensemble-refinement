{
 "cells": [
  {
   "cell_type": "markdown",
   "metadata": {},
   "source": [
    "# Chromatin Ensemble Refinement \n",
    "## 1. Objective \n",
    "* Infer the ensemble of chromatin structures $X = {x_m}$ and their weights $\\alpha_m$ with $m \\in {1, ..., M}$.\n",
    "  * $M$ is the toal number of structures. This is a predefined hyperparameter. This variable affects the accuracy and the stability of the ensemble refinement.\n",
    "* Infer $X$ from a set of single-cell distance matrix $D_n$ with $n \\in {1, ..., N}$.\n",
    "  * \\mathcal{D} = {D_n} is the full sety of single-cell observations.\n",
    "\n",
    "## 2. Forward Model \n",
    "* Each structure $x_m = \\{\\vec{r_i}\\}_{i=1}^{N_{\\text{probes}}}$.\n",
    "  * $\\vec{r_i}$ is a row vector with 3 columns represent a 3D position of probe $i$. \n",
    "* Assume that each chromatin is a polymer chain and a Gaussian noise for the measurements. \n",
    "  * If the distance matrix is complete, then there is a one-to-one correspondence between 3D structure and the distance matrix $$x \\longleftrightarrow D$$\n",
    "where $D_{ij} = \\lVert \\vec{r_i} - \\vec{r_j} \\rVert _2$\n",
    "  \n",
    "\n",
    "## 3. Posterior\n",
    "* We will build on the methods developed for single-particle cryo-EM to develop the chromatin ensemble refinement pipeline.\n",
    "* Posterior can be written as $$ p(\\alpha, X| \\mathcal{D}) \\propto \\prod_{n=1}^N \\left[\\sum_{m=1}^M \\alpha_m \\, p(D_n|x_m) \\, p(\\alpha_m) \\, p(x_m) \\right]$$\n",
    "\n",
    "where $X = {x_m}$ is the ensemble of $M$ chromatin structures. \n",
    "\n",
    "* Here we assume that all single-cell measurements, the priors over weights $p(\\alpha)* and structures $p(x_m)$ are independent.\n",
    "* Under the Gaussian noise model, we assume that all distance observations are i.i.d, so we can write $$p(D_n|x_m) = \\prod_{i=1}^{N_{\\text{probes}}}\\prod_{j=1}^{N_{\\text{probes}}}\\frac{1}{\\sqrt{2\\pi}\\sigma}\\exp{\\frac{(D_n^{ij}-D_m^{ij})^2}{2\\sigma^2}} = \\frac{1}{(\\sqrt{2\\pi}\\sigma)^{N^2_{\\text{probes}}}}\\exp{\\frac{-\\lVert D_n - D_m \\rVert _2^2}{2\\sigma^2}}$$"
   ]
  },
  {
   "cell_type": "code",
   "execution_count": 8,
   "metadata": {},
   "outputs": [],
   "source": [
    "import jax \n",
    "import scipy\n",
    "import jax.numpy as jnp\n",
    "import numpy as np\n",
    "import matplotlib.pyplot as plt\n",
    "from mpl_toolkits.mplot3d import Axes3D"
   ]
  },
  {
   "cell_type": "code",
   "execution_count": 4,
   "metadata": {},
   "outputs": [],
   "source": [
    "# define some helper functions \n",
    "\n",
    "def generate_gaussian_chain(num_monomers: int, \n",
    "                            mean_bond_length: float, \n",
    "                            std_bond_length: float):\n",
    "    \"\"\"Generate a Gaussian chain polymer \n",
    "    \n",
    "    Parameters\n",
    "    ----------\n",
    "    num_monomers\n",
    "    mean_bond_length\n",
    "    std_bond_length\n",
    "    \n",
    "    Return\n",
    "    ------\n",
    "    np.array \n",
    "    \n",
    "    Notes\n",
    "    -----\n",
    "    \"\"\" \n",
    "    # Generate steps: each step is a 3D vector \n",
    "    steps = np.random.normal(mean_bond_length, std_bond_length, size=(num_monomers, 3))\n",
    "    \n",
    "    # Compute positions by cumulative sum of steps\n",
    "    positions = np.cumsum(steps, axis=0)\n",
    "    \n",
    "    return positions"
   ]
  },
  {
   "cell_type": "code",
   "execution_count": null,
   "metadata": {},
   "outputs": [],
   "source": [
    "def visualize_polymer()"
   ]
  },
  {
   "cell_type": "code",
   "execution_count": 5,
   "metadata": {},
   "outputs": [],
   "source": [
    "# Example of a gaussian chain \n",
    "# with 1000 monomers, mean bond length = 10, and std bond length = 1\n",
    "num_monomers = 1000\n",
    "mean_bond_length = 10 \n",
    "std_bond_length = 1\n",
    "\n",
    "chain = generate_gaussian_chain(num_monomers, mean_bond_length, std_bond_length)"
   ]
  },
  {
   "cell_type": "code",
   "execution_count": 6,
   "metadata": {},
   "outputs": [
    {
     "data": {
      "text/plain": [
       "[<matplotlib.lines.Line2D at 0x14e57d5e0>,\n",
       " <matplotlib.lines.Line2D at 0x14e57d5b0>,\n",
       " <matplotlib.lines.Line2D at 0x14e57d6d0>]"
      ]
     },
     "execution_count": 6,
     "metadata": {},
     "output_type": "execute_result"
    },
    {
     "data": {
      "image/png": "[encoded data removed]",
      "text/plain": [
       "<Figure size 432x288 with 1 Axes>"
      ]
     },
     "metadata": {
      "needs_background": "light"
     },
     "output_type": "display_data"
    }
   ],
   "source": []
  }
 ],
 "metadata": {
  "kernelspec": {
   "display_name": "venv",
   "language": "python",
   "name": "python3"
  },
  "language_info": {
   "codemirror_mode": {
    "name": "ipython",
    "version": 3
   },
   "file_extension": ".py",
   "mimetype": "text/x-python",
   "name": "python",
   "nbconvert_exporter": "python",
   "pygments_lexer": "ipython3",
   "version": "3.9.19"
  }
 },
 "nbformat": 4,
 "nbformat_minor": 2
}
