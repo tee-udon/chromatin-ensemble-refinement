{
 "cells": [
  {
   "cell_type": "markdown",
   "metadata": {},
   "source": [
    "# Chromatin Ensemble Refinement \n",
    "## 1. Objective \n",
    "* Infer the ensemble of chromatin structures $X = {x_m}$ and their weights $\\alpha_m$ with $m \\in {1, ..., M}$.\n",
    "  * $M$ is the total number of structures. This is a predefined hyperparameter. This variable affects the accuracy and the stability of the ensemble refinement.\n",
    "* Infer $X$ from a set of single-cell distance matrix $D_n$ with $n \\in {1, ..., N}$.\n",
    "  * $\\mathcal{D} = {D_n}$ is the full sety of single-cell observations.\n",
    "\n",
    "## 2. Forward Model \n",
    "* Each structure $x_m = \\{\\vec{r_i}\\}_{i=1}^{N_{\\text{probes}}}$.\n",
    "  * $\\vec{r_i}$ is a row vector with 3 columns represent a 3D position of probe $i$. \n",
    "* Assume that each chromatin is a polymer chain and a Gaussian noise for the measurements. \n",
    "  * If the distance matrix is complete, then there is a one-to-one correspondence between 3D structure and the distance matrix $$x \\longleftrightarrow D$$\n",
    "where $D_{ij} = \\lVert \\vec{r_i} - \\vec{r_j} \\rVert _2$\n",
    "  \n",
    "\n",
    "## 3. Posterior\n",
    "* We will build on the methods developed for single-particle cryo-EM to develop the chromatin ensemble refinement pipeline.\n",
    "* Posterior can be written as $$ p(\\alpha, X| \\mathcal{D}) \\propto \\prod_{n=1}^N \\left[\\sum_{m=1}^M \\alpha_m \\, p(D_n|x_m) \\, p(\\alpha_m) \\, p(x_m) \\right]$$\n",
    "\n",
    "where $X = {x_m}$ is the ensemble of $M$ chromatin structures. \n",
    "\n",
    "* Here we assume that all single-cell measurements, the priors over weights $p(\\alpha)$ and structures $p(x_m)$ are independent.\n",
    "* Under the Gaussian noise model, we assume that all distance observations are i.i.d, so we can write $$p(D_n|x_m) = \\prod_{i=1}^{N_{\\text{probes}}}\\prod_{j=1}^{N_{\\text{probes}}}\\frac{1}{\\sqrt{2\\pi}\\sigma}\\exp{\\frac{(D_n^{ij}-D_m^{ij})^2}{2\\sigma^2}} = \\frac{1}{(\\sqrt{2\\pi}\\sigma)^{N^2_{\\text{probes}}}}\\exp{\\frac{-\\lVert D_n - D_m \\rVert _2^2}{2\\sigma^2}}$$"
   ]
  },
  {
   "cell_type": "code",
   "execution_count": 1,
   "metadata": {},
   "outputs": [],
   "source": [
    "import jax \n",
    "import scipy\n",
    "import jax.numpy as jnp\n",
    "import numpy as np\n",
    "import matplotlib.pyplot as plt\n",
    "from scipy.optimize import minimize \n",
    "from jax import grad, jit, vmap\n",
    "from jax import random\n",
    "from matplotlib import cm \n",
    "from mpl_toolkits.mplot3d import Axes3D\n",
    "from scipy.interpolate import CubicSpline\n",
    "from scipy.spatial.distance import pdist, squareform"
   ]
  },
  {
   "cell_type": "code",
   "execution_count": 2,
   "metadata": {},
   "outputs": [],
   "source": [
    "# define some helper functions \n",
    "\n",
    "def generate_gaussian_chain(num_monomers: int, \n",
    "                            mean_bond_length: float, \n",
    "                            std_bond_length: float):\n",
    "    \"\"\"Generate a Gaussian chain polymer \n",
    "    \n",
    "    Parameters\n",
    "    ----------\n",
    "    num_monomers\n",
    "    mean_bond_length\n",
    "    std_bond_length\n",
    "    \n",
    "    Return\n",
    "    ------\n",
    "    np.array \n",
    "    \n",
    "    Notes\n",
    "    -----\n",
    "    \"\"\" \n",
    "    # Generate steps: each step is a 3D vector \n",
    "    steps = np.random.normal(mean_bond_length, std_bond_length, size=(num_monomers, 3))\n",
    "    \n",
    "    # Compute positions by cumulative sum of steps\n",
    "    positions = np.cumsum(steps, axis=0)\n",
    "    \n",
    "    return positions"
   ]
  },
  {
   "cell_type": "code",
   "execution_count": 3,
   "metadata": {},
   "outputs": [],
   "source": [
    "def visualize_polymer(polymer_chain):\n",
    "    \"\"\"Plot a polymer chain in 3D space\n",
    "    \n",
    "    Parameters\n",
    "    ----------\n",
    "    polymer_chain\n",
    "    \n",
    "    Return\n",
    "    ------\n",
    "    \n",
    "    \"\"\"\n",
    "    # Extract each coordinate of this polymer chain \n",
    "    x = polymer_chain[:, 0]\n",
    "    y = polymer_chain[:, 1]\n",
    "    z = polymer_chain[:, 2]\n",
    "    \n",
    "    # Intepolate path between monomer to show connectivity within the polymer\n",
    "    # Parameterize by cumulative distance along the points\n",
    "    t = np.zeros(x.shape)\n",
    "    t[1:] = np.sqrt((x[1:] - x[:-1])**2 + (y[1:] - y[:-1])**2 + (z[1:] - z[:-1])**2)\n",
    "    t = np.cumsum(t)\n",
    "    \n",
    "    # Create a cubic spline interpolation for each dimension\n",
    "    cs_x = CubicSpline(t, x)\n",
    "    cs_y = CubicSpline(t, y)\n",
    "    cs_z = CubicSpline(t, z)\n",
    "    \n",
    "    # Normalize the monomer number \n",
    "    num_monomers = polymer_chain.shape[0] \n",
    "    norm_monomer_number = np.arange(0, num_monomers) / num_monomers\n",
    "    monomer_colors = cm.rainbow(norm_monomer_number)\n",
    "\n",
    "    # Generate fine samples for a smooth curve\n",
    "    t_fine = np.linspace(t[0], t[-1], 500)\n",
    "    x_fine = cs_x(t_fine)\n",
    "    y_fine = cs_y(t_fine)\n",
    "    z_fine = cs_z(t_fine)\n",
    "\n",
    "    # Create a new matplotlib figure and an axes instance (the 3d part)\n",
    "    fig = plt.figure()\n",
    "    ax = fig.add_subplot(111, projection='3d')\n",
    "\n",
    "    # Plot using scatter\n",
    "    ax.plot(x_fine, y_fine, z_fine, 'gray', label='Interpolated Path')\n",
    "    for i in range(num_monomers):\n",
    "        ax.scatter(x[i], y[i], z[i], color=monomer_colors[i], s=50, alpha=0.75) \n",
    "\n",
    "    # Labeling the axes (optional but recommended for clarity)\n",
    "    ax.set_xlabel('x')\n",
    "    ax.set_ylabel('y')\n",
    "    ax.set_zlabel('z')\n",
    "    \n",
    "    # Create a ScalarMappable with the same colormap and normalization as the scatter\n",
    "    # sm = cm.ScalarMappable(cmap='rainbow', norm=norm_monomer_number)\n",
    "    # sm.set_array([]) \n",
    "    \n",
    "    # Add colorbar\n",
    "    # cbar = plt.colorbar(sm, ax=ax)\n",
    "    # cbar.set_label('Monomer number')\n",
    "    \n",
    "    ax.legend()\n",
    "    plt.show()\n"
   ]
  },
  {
   "cell_type": "code",
   "execution_count": null,
   "metadata": {},
   "outputs": [],
   "source": [
    "def compare_distance_maps(chain1, chain2):\n",
    "    \"\"\" Plot distance maps of chain1 and chain2 side-by-side\n",
    "    \n",
    "    Parameters\n",
    "    ----------\n",
    "    chain1\n",
    "    chain2 \n",
    "\n",
    "    \"\"\"\n",
    "    # Calculate pairwise distance maps\n",
    "    distance_map1 = squareform(pdist(chain1))\n",
    "    distance_map2 = squareform(pdist(chain2))\n",
    "    \n",
    "    # "
   ]
  },
  {
   "cell_type": "code",
   "execution_count": 4,
   "metadata": {},
   "outputs": [],
   "source": [
    "# Example of a gaussian chain \n",
    "# with 1000 monomers, mean bond length = 10, and std bond length = 1\n",
    "num_monomers = 20\n",
    "mean_bond_length = 1\n",
    "std_bond_length = 2\n",
    "\n",
    "chain = generate_gaussian_chain(num_monomers, mean_bond_length, std_bond_length)"
   ]
  },
  {
   "cell_type": "code",
   "execution_count": 5,
   "metadata": {},
   "outputs": [
    {
     "data": {
      "image/png": "[encoded data removed]",
      "text/plain": [
       "<Figure size 432x288 with 1 Axes>"
      ]
     },
     "metadata": {
      "needs_background": "light"
     },
     "output_type": "display_data"
    }
   ],
   "source": [
    "visualize_polymer(chain)"
   ]
  },
  {
   "cell_type": "code",
   "execution_count": 6,
   "metadata": {},
   "outputs": [],
   "source": [
    "def calculate_gaussian_chain_conformation_prob(gaussian_polymer_chain):\n",
    "    \"\"\"Calculate the probability of a particular gaussian chain\n",
    "    \n",
    "    Parameters\n",
    "    ----------\n",
    "    gaussian_polymer_chain\n",
    "    \n",
    "    Return\n",
    "    ------\n",
    "    \n",
    "    \n",
    "    Notes\n",
    "    -----\n",
    "    \"\"\"\n",
    "    # Calculate square end-to-end distance of this gaussian chain\n",
    "    end_to_end_distance_sq = jnp.sum((gaussian_polymer_chain[0, :] - gaussian_polymer_chain[-1, :])**2)\n",
    "    \n",
    "    # Calculate Kuhn length or average bond length of this gaussian chain\n",
    "    mean_bond_length = jnp.mean(jnp.sum(jnp.diff(gaussian_polymer_chain, n=1, axis=0)**2, 1))\n",
    "    \n",
    "    # Calculate the number of monomers in this polymer chain\n",
    "    num_monomers = gaussian_polymer_chain.shape[0]\n",
    "    \n",
    "    # Calculate probability according to the theory note \n",
    "    prob = ((3/(2*np.pi*num_monomers*mean_bond_length**2)) ** 1.5) * jnp.exp(-3*end_to_end_distance_sq/(2*num_monomers*mean_bond_length**2))\n",
    "    \n",
    "    return prob    \n",
    "    \n",
    "    "
   ]
  },
  {
   "cell_type": "code",
   "execution_count": 7,
   "metadata": {},
   "outputs": [
    {
     "data": {
      "text/plain": [
       "Array(7.989756e-07, dtype=float32)"
      ]
     },
     "execution_count": 7,
     "metadata": {},
     "output_type": "execute_result"
    }
   ],
   "source": [
    "calculate_gaussian_chain_conformation_prob(chain)"
   ]
  },
  {
   "cell_type": "code",
   "execution_count": 8,
   "metadata": {},
   "outputs": [],
   "source": [
    "# This is the likelihood function\n",
    "def calculate_distance_map_prob_given_gaussian_chain(theta):\n",
    "    \"\"\"Calculate the probability of observing a particular distance map given a \n",
    "    simulated gaussian chain and the standard deviation of measurement error \n",
    "    \n",
    "    Parameters\n",
    "    ----------\n",
    "    theta\n",
    "    sim_distance_map\n",
    "    num_probes\n",
    "    \n",
    "    Return\n",
    "    ------\n",
    "    \n",
    "    \n",
    "    Notes\n",
    "    -----\n",
    "    \"\"\"\n",
    "    \n",
    "    sim_distance_map_flat = theta[:-1]\n",
    "    measurement_error_std = jnp.exp(theta[-1])\n",
    "    \n",
    "    # Find the subtraction between empirical and simulated distance maps\n",
    "    subtraction_map = empirical_distance_map_flat - sim_distance_map_flat\n",
    "    subtraction_map_sq = subtraction_map ** 2\n",
    "    \n",
    "    # Calculate the normalization factor \n",
    "    # See the theory note\n",
    "    normalization_factor = 1/((jnp.sqrt(2*np.pi)*measurement_error_std)**((num_probes)**2))\n",
    "    \n",
    "    # Calculate the exponential decay term \n",
    "    # See the theory note\n",
    "    gaussian_term = jnp.exp(-(subtraction_map_sq)/(2*measurement_error_std**2))\n",
    "    \n",
    "    return normalization_factor * gaussian_term"
   ]
  },
  {
   "cell_type": "code",
   "execution_count": 9,
   "metadata": {},
   "outputs": [],
   "source": [
    "# This is the likelihood function\n",
    "def calculate_negative_loglikelihood(theta):\n",
    "    \"\"\"Calculate the probability of observing a particular distance map given a \n",
    "    simulated gaussian chain and the standard deviation of measurement error \n",
    "    \n",
    "    Parameters\n",
    "    ----------\n",
    "    theta\n",
    "    sim_distance_map\n",
    "    num_probes\n",
    "    \n",
    "    Return\n",
    "    ------\n",
    "    \n",
    "    \n",
    "    Notes\n",
    "    -----\n",
    "    \"\"\"\n",
    "    # Currently, learning measurement error does not work \n",
    "    \n",
    "    sim_distance_map_flat = theta[:-1]\n",
    "    measurement_error_std = jnp.exp(theta[-1])\n",
    "    \n",
    "    # Find the subtraction between empirical and simulated distance maps\n",
    "    subtraction_map = jnp.reshape(empirical_distance_map_flat, [-1, 1]) - jnp.reshape(sim_distance_map_flat, [-1, 1])\n",
    "    subtraction_map_sq = subtraction_map ** 2\n",
    "    \n",
    "    ll = (-0.5 * num_probes**2) * jnp.log(2*jnp.pi*measurement_error_std**2) - jnp.sum(subtraction_map_sq/(2*measurement_error_std**2))\n",
    "    return -ll / (num_probes ** 2)"
   ]
  },
  {
   "cell_type": "code",
   "execution_count": 10,
   "metadata": {},
   "outputs": [],
   "source": [
    "empirical_distance_map_flat = jnp.reshape(squareform(pdist(chain)), [-1, 1])\n",
    "num_probes = num_monomers"
   ]
  },
  {
   "cell_type": "code",
   "execution_count": 11,
   "metadata": {},
   "outputs": [],
   "source": [
    "jacobian = jax.jacfwd(calculate_negative_loglikelihood)\n",
    "hessian = jax.hessian(calculate_negative_loglikelihood)"
   ]
  },
  {
   "cell_type": "code",
   "execution_count": 12,
   "metadata": {},
   "outputs": [],
   "source": [
    "simulated_chain =  generate_gaussian_chain(num_monomers, mean_bond_length, std_bond_length)"
   ]
  },
  {
   "cell_type": "code",
   "execution_count": 13,
   "metadata": {},
   "outputs": [
    {
     "data": {
      "image/png": "[encoded data removed]",
      "text/plain": [
       "<Figure size 432x288 with 1 Axes>"
      ]
     },
     "metadata": {
      "needs_background": "light"
     },
     "output_type": "display_data"
    }
   ],
   "source": [
    "visualize_polymer(simulated_chain)"
   ]
  },
  {
   "cell_type": "code",
   "execution_count": 14,
   "metadata": {},
   "outputs": [],
   "source": [
    "simulated_map_flatten = jnp.reshape(squareform(pdist(simulated_chain)), [-1, 1])"
   ]
  },
  {
   "cell_type": "code",
   "execution_count": 299,
   "metadata": {},
   "outputs": [
    {
     "name": "stdout",
     "output_type": "stream",
     "text": [
      "Jacobian: [ 0.00000000e+00 -8.29199096e-04 -8.74058343e-04 ... -1.17741394e-04\n",
      "  0.00000000e+00 -6.78292297e+02]\n",
      "\n",
      "Hessian: [[9.9999997e-05 0.0000000e+00 0.0000000e+00 ... 0.0000000e+00\n",
      "  0.0000000e+00 0.0000000e+00]\n",
      " [0.0000000e+00 9.9999997e-05 0.0000000e+00 ... 0.0000000e+00\n",
      "  0.0000000e+00 1.6583982e-03]\n",
      " [0.0000000e+00 0.0000000e+00 9.9999997e-05 ... 0.0000000e+00\n",
      "  0.0000000e+00 1.7481167e-03]\n",
      " ...\n",
      " [0.0000000e+00 0.0000000e+00 0.0000000e+00 ... 9.9999997e-05\n",
      "  0.0000000e+00 2.3548279e-04]\n",
      " [0.0000000e+00 0.0000000e+00 0.0000000e+00 ... 0.0000000e+00\n",
      "  9.9999997e-05 0.0000000e+00]\n",
      " [0.0000000e+00 1.6583982e-03 1.7481167e-03 ... 2.3548279e-04\n",
      "  0.0000000e+00 1.3585847e+03]]\n",
      "\n"
     ]
    }
   ],
   "source": [
    "theta = jnp.append(simulated_map_flatten, 0)\n",
    "print(f'Jacobian: {jacobian(theta)}\\n')\n",
    "print(f'Hessian: {hessian(theta)}\\n')"
   ]
  },
  {
   "cell_type": "code",
   "execution_count": 300,
   "metadata": {},
   "outputs": [],
   "source": [
    "theta_start = theta\n",
    "result_distance_map = minimize(calculate_negative_loglikelihood, theta_start, method='BFGS',\n",
    "                               options={'disp': True, 'gtol':1e-6*num_monomers**2}, jac=jacobian)\n",
    "\n",
    "print(\"Convergence Achieved: \", result_distance_map.success)\n",
    "print(\"Number of Function Evaluations: \", result_distance_map.nfev)"
   ]
  },
  {
   "cell_type": "code",
   "execution_count": 273,
   "metadata": {},
   "outputs": [
    {
     "data": {
      "text/plain": [
       "(10,)"
      ]
     },
     "execution_count": 273,
     "metadata": {},
     "output_type": "execute_result"
    }
   ],
   "source": [
    "theta_start.shape"
   ]
  },
  {
   "cell_type": "code",
   "execution_count": 283,
   "metadata": {},
   "outputs": [
    {
     "data": {
      "text/plain": [
       "  message: Desired error not necessarily achieved due to precision loss.\n",
       "  success: False\n",
       "   status: 2\n",
       "      fun: -11.358270645141602\n",
       "        x: [ 0.000e+00  1.794e+01  3.544e+01  1.794e+01  0.000e+00\n",
       "             1.766e+01  3.544e+01  1.766e+01  0.000e+00 -1.261e+01]\n",
       "      nit: 39\n",
       "      jac: [ 0.000e+00 -1.913e+04  3.826e+04 -1.913e+04  0.000e+00\n",
       "            -3.826e+04  3.826e+04 -3.826e+04  0.000e+00  3.432e-01]\n",
       " hess_inv: [[ 1.000e+00  0.000e+00 ...  0.000e+00  0.000e+00]\n",
       "            [ 0.000e+00  5.000e-01 ...  0.000e+00  1.232e-05]\n",
       "            ...\n",
       "            [ 0.000e+00  0.000e+00 ...  1.000e+00  0.000e+00]\n",
       "            [ 0.000e+00  1.232e-05 ...  0.000e+00  4.138e+00]]\n",
       "     nfev: 148\n",
       "     njev: 138"
      ]
     },
     "execution_count": 283,
     "metadata": {},
     "output_type": "execute_result"
    }
   ],
   "source": [
    "result_distance_map"
   ]
  },
  {
   "cell_type": "code",
   "execution_count": 275,
   "metadata": {},
   "outputs": [
    {
     "data": {
      "text/plain": [
       "Array([ 0.       , 19.166332 , 35.33705  , 19.166332 ,  0.       ,\n",
       "       16.262133 , 35.33705  , 16.262133 ,  0.       ,  0.6931472],      dtype=float32)"
      ]
     },
     "execution_count": 275,
     "metadata": {},
     "output_type": "execute_result"
    }
   ],
   "source": [
    "theta_start"
   ]
  },
  {
   "cell_type": "code",
   "execution_count": 277,
   "metadata": {},
   "outputs": [
    {
     "data": {
      "text/plain": [
       "array([[ 0.        , 17.94279567, 35.44184994],\n",
       "       [17.94279567,  0.        , 17.66108298],\n",
       "       [35.44184994, 17.66108298,  0.        ]])"
      ]
     },
     "execution_count": 277,
     "metadata": {},
     "output_type": "execute_result"
    }
   ],
   "source": [
    "result_distance_map.x[:-1].reshape(3, 3)"
   ]
  },
  {
   "cell_type": "code",
   "execution_count": 253,
   "metadata": {},
   "outputs": [
    {
     "data": {
      "text/plain": [
       "array([[ 0.        ],\n",
       "       [17.94279372],\n",
       "       [35.44185007],\n",
       "       [17.94279372],\n",
       "       [ 0.        ],\n",
       "       [17.66108385],\n",
       "       [35.44185007],\n",
       "       [17.66108385],\n",
       "       [ 0.        ]])"
      ]
     },
     "execution_count": 253,
     "metadata": {},
     "output_type": "execute_result"
    }
   ],
   "source": [
    "empirical_distance_map_flat"
   ]
  },
  {
   "cell_type": "code",
   "execution_count": 285,
   "metadata": {},
   "outputs": [
    {
     "data": {
      "text/plain": [
       "3.3282838396819694e-06"
      ]
     },
     "execution_count": 285,
     "metadata": {},
     "output_type": "execute_result"
    }
   ],
   "source": [
    "np.exp(result_distance_map.x[-1])"
   ]
  },
  {
   "cell_type": "markdown",
   "metadata": {},
   "source": [
    "## Maximum Likelihood Estimation using Jax\n",
    "\n",
    "The following part of this notebook will provide a brief introduction to Jax and how to use automatic differentiation (AD) to perform maximum likelihood estimation (MLE). "
   ]
  },
  {
   "cell_type": "code",
   "execution_count": 1,
   "metadata": {},
   "outputs": [],
   "source": [
    "# import packages \n",
    "import jax\n",
    "import numpy as np \n",
    "import jax.numpy as jnp\n",
    "from scipy.optimize import minimize \n",
    "from jax.scipy import  optimize "
   ]
  },
  {
   "cell_type": "markdown",
   "metadata": {},
   "source": [
    "Then we generate data such that we can use Maximum Likelihood to estimate the parameters "
   ]
  },
  {
   "cell_type": "code",
   "execution_count": 3,
   "metadata": {},
   "outputs": [],
   "source": [
    "# Number of observations \n",
    "N = 5000 \n",
    "\n",
    "# Number of parameters \n",
    "K = 2 \n",
    "\n",
    "# True parameter values \n",
    "# beta = 2 * np.random.randn(K)\n",
    "beta = 2 * np.ones(K) # np.array([2, 2])\n",
    "\n",
    "# True error standard deviation \n",
    "sigma = 0.5\n",
    "\n",
    "def datagen(N, beta, sigma):\n",
    "    \"\"\"\n",
    "    Generates data for OLS regression \n",
    "    N: number of observations \n",
    "    beta: K x 1 true parameter values \n",
    "    sigma: standard deviation of error \n",
    "    \"\"\"\n",
    "    \n",
    "    K = beta.shape[0]\n",
    "    x_= 10 + 2 * np.random.randn(N, K-1)\n",
    "    \n",
    "    # x is the N x K data matrix with column of ones \n",
    "    # the first column estimates a constant\n",
    "    x = np.c_[np.ones(N), x_]\n",
    "    \n",
    "    # y is the N x 1 vector of dependent variables \n",
    "    y = x.dot(beta) + sigma*np.random.randn(N)\n",
    "    \n",
    "    return y,x \n",
    "\n",
    "y, x = datagen(N, beta, sigma)"
   ]
  },
  {
   "cell_type": "markdown",
   "metadata": {},
   "source": [
    "The following block of code defines the negative log-likelihood function. We have altered the return opf the likelihood function with the following code: \n",
    "\n",
    "```python\n",
    "return (-1 * ll)/N\n",
    "```\n",
    "\n",
    "This rescaled likelihood function can help with the convergence of the optimization routine. \n",
    "\n",
    "Here the model is \n",
    "$$ Y = \\beta^TX + \\epsilon$$\n",
    "where $\\epsilon \\approx \\mathcal{N}(0, \\sigma^2)$.\n",
    "\n",
    "Therefore, $Y - \\beta^TX$ should be normally distributed around 0 with standard deviation = $\\sigma$.\n",
    "\n",
    "The likelihood function for this estimation can then be written as \n",
    "$$\\mathcal{L}(Y; X, \\beta, \\epsilon) = \\prod_{i=1}^N\\left(\\frac{1}{\\sqrt{2\\pi\\sigma^2}}\\right)\\exp\\left[\\frac{-(Y_i - \\beta^TX_i)^2}{2\\sigma^2} \\right]\n",
    "$$\n",
    "\n",
    "The negative log-likehood then equals to \n",
    "$$\n",
    "\\mathcal{l}(Y; X, \\beta, \\epsilon) = \\sum_{i=1}^N\\left\\{\\left[\\frac{1}{2}\\log \\left(2\\pi\\sigma^2\\right)\\right] + \\left[ \\frac{(Y_i - \\beta^TX_i)^2}{2\\sigma^2}\\right]\\right\\}\n",
    "$$\n"
   ]
  },
  {
   "cell_type": "code",
   "execution_count": 7,
   "metadata": {},
   "outputs": [],
   "source": [
    "def neg_loglike(theta):\n",
    "    beta = theta[:-1]\n",
    "    \n",
    "    # transform theta[-1]\n",
    "    # so that sigma > 0\n",
    "    sigma = jnp.exp(theta[-1])\n",
    "    mu = jnp.dot(x, beta)\n",
    "    ll = jnp.sum(jax.scipy.stats.norm.logpdf(y, loc=mu, scale=sigma))\n",
    "    return -1*ll/N"
   ]
  },
  {
   "cell_type": "code",
   "execution_count": 8,
   "metadata": {},
   "outputs": [],
   "source": [
    "jacobian = jax.jacfwd(neg_loglike)\n",
    "hessian = jax.hessian(neg_loglike)"
   ]
  },
  {
   "cell_type": "markdown",
   "metadata": {},
   "source": [
    "The next code block append $\\beta$ and $\\sigma$ to a vector called `theta`. Then the Jacobian and Hessians are evaluated at these values."
   ]
  },
  {
   "cell_type": "code",
   "execution_count": 9,
   "metadata": {},
   "outputs": [
    {
     "name": "stdout",
     "output_type": "stream",
     "text": [
      "Jacobian: [-0.0241592  -0.22509116 -0.0174517 ]\n",
      "\n",
      "Hessian:[[3.9997649e+00 3.9954449e+01 4.8318282e-02]\n",
      " [3.9954449e+01 4.1551447e+02 4.5018262e-01]\n",
      " [4.8318401e-02 4.5018226e-01 2.0349033e+00]]\n"
     ]
    }
   ],
   "source": [
    "theta = jnp.append(beta, jnp.log(sigma))\n",
    "print(f'Jacobian: {jacobian(theta)}\\n')\n",
    "print(f'Hessian:{hessian(theta)}')"
   ]
  },
  {
   "cell_type": "markdown",
   "metadata": {},
   "source": [
    "The next code block uses `scipy` minimize function to minimize the negative log-likelihood function. The method we use is `BFGS` and we add a tolerance option `gtol = 1e-7*N` to help with convergence. "
   ]
  },
  {
   "cell_type": "code",
   "execution_count": 11,
   "metadata": {},
   "outputs": [
    {
     "name": "stdout",
     "output_type": "stream",
     "text": [
      "Optimization terminated successfully.\n",
      "         Current function value: 0.734362\n",
      "         Iterations: 22\n",
      "         Function evaluations: 31\n",
      "         Gradient evaluations: 31\n",
      "Convergence Achieved:  True\n",
      "Number of Function Evaluations:  31\n"
     ]
    }
   ],
   "source": [
    "theta_start = jnp.append(jnp.zeros(beta.shape[0]), 0.0)\n",
    "res1 = minimize(neg_loglike, theta_start, method='BFGS',\n",
    "                options={'disp': True, 'gtol': 1e-7*N}, jac=jacobian)\n",
    "print(\"Convergence Achieved: \", res1.success)\n",
    "print(\"Number of Function Evaluations: \", res1.nfev)"
   ]
  },
  {
   "cell_type": "code",
   "execution_count": 12,
   "metadata": {},
   "outputs": [
    {
     "name": "stdout",
     "output_type": "stream",
     "text": [
      "  message: Optimization terminated successfully.\n",
      "  success: True\n",
      "   status: 0\n",
      "      fun: 0.7343624234199524\n",
      "        x: [ 2.016e+00  1.999e+00 -6.846e-01]\n",
      "      nit: 22\n",
      "      jac: [ 1.535e-05  1.686e-04  1.609e-05]\n",
      " hess_inv: [[ 6.486e+00 -6.248e-01  1.275e-02]\n",
      "            [-6.248e-01  6.273e-02 -3.590e-04]\n",
      "            [ 1.275e-02 -3.590e-04  5.165e-01]]\n",
      "     nfev: 31\n",
      "     njev: 31\n"
     ]
    }
   ],
   "source": [
    "print(res1)"
   ]
  },
  {
   "cell_type": "code",
   "execution_count": 13,
   "metadata": {},
   "outputs": [
    {
     "name": "stdout",
     "output_type": "stream",
     "text": [
      "Coefficient estimates: 2.0159018869766436, 1.9990130838020947\n",
      "Original sigma: 0.5043079494440934\n"
     ]
    }
   ],
   "source": [
    "print(f'Coefficient estimates: {res1.x[0]}, {res1.x[1]}')\n",
    "\n",
    "new_sigma = np.exp(res1.x[-1])\n",
    "\n",
    "print(f'Original sigma: {new_sigma}')"
   ]
  },
  {
   "cell_type": "markdown",
   "metadata": {},
   "source": [
    "Jax also has a built in minimization routine, which can be called with the next block of code. Note that the method option is restricted to BFGS at the time of writing."
   ]
  },
  {
   "cell_type": "code",
   "execution_count": 21,
   "metadata": {},
   "outputs": [],
   "source": [
    "res2 = jax.scipy.optimize.minimize(neg_loglike, theta_start, method='BFGS')"
   ]
  },
  {
   "cell_type": "code",
   "execution_count": 22,
   "metadata": {},
   "outputs": [
    {
     "name": "stdout",
     "output_type": "stream",
     "text": [
      "OptimizeResults(x=Array([ 0.59089136,  6.0974116 , -1.4891586 ], dtype=float32), success=Array(False, dtype=bool), status=Array(3, dtype=int32, weak_type=True), fun=Array(27.809149, dtype=float32), jac=Array([ -2.8311038, -29.31316  , -50.94435  ], dtype=float32), hess_inv=Array([[ 0.9984788 , -0.01576467, -0.03561225],\n",
      "       [-0.01576467,  0.8366276 , -0.3690555 ],\n",
      "       [-0.03561225, -0.3690555 ,  0.1670806 ]], dtype=float32), nfev=Array(6, dtype=int32, weak_type=True), njev=Array(6, dtype=int32, weak_type=True), nit=Array(2, dtype=int32, weak_type=True))\n"
     ]
    }
   ],
   "source": [
    "print(res2)"
   ]
  }
 ],
 "metadata": {
  "kernelspec": {
   "display_name": "venv",
   "language": "python",
   "name": "python3"
  },
  "language_info": {
   "codemirror_mode": {
    "name": "ipython",
    "version": 3
   },
   "file_extension": ".py",
   "mimetype": "text/x-python",
   "name": "python",
   "nbconvert_exporter": "python",
   "pygments_lexer": "ipython3",
   "version": "3.9.19"
  }
 },
 "nbformat": 4,
 "nbformat_minor": 2
}
