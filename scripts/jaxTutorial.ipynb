{
 "cells": [
  {
   "cell_type": "markdown",
   "metadata": {},
   "source": [
    "# Chromatin Ensemble Refinement \n",
    "## 1. Objective \n",
    "* Infer the ensemble of chromatin structures $X = {x_m}$ and their weights $\\alpha_m$ with $m \\in {1, ..., M}$.\n",
    "  * $M$ is the total number of structures. This is a predefined hyperparameter. This variable affects the accuracy and the stability of the ensemble refinement.\n",
    "* Infer $X$ from a set of single-cell distance matrix $D_n$ with $n \\in {1, ..., N}$.\n",
    "  * $\\mathcal{D} = {D_n}$ is the full sety of single-cell observations.\n",
    "\n",
    "## 2. Forward Model \n",
    "* Each structure $x_m = \\{\\vec{r_i}\\}_{i=1}^{N_{\\text{probes}}}$.\n",
    "  * $\\vec{r_i}$ is a row vector with 3 columns represent a 3D position of probe $i$. \n",
    "* Assume that each chromatin is a polymer chain and a Gaussian noise for the measurements. \n",
    "  * If the distance matrix is complete, then there is a one-to-one correspondence between 3D structure and the distance matrix $$x \\longleftrightarrow D$$\n",
    "where $D_{ij} = \\lVert \\vec{r_i} - \\vec{r_j} \\rVert _2$\n",
    "  \n",
    "\n",
    "## 3. Posterior\n",
    "* We will build on the methods developed for single-particle cryo-EM to develop the chromatin ensemble refinement pipeline.\n",
    "* Posterior can be written as $$ p(\\alpha, X| \\mathcal{D}) \\propto \\prod_{n=1}^N \\left[\\sum_{m=1}^M \\alpha_m \\, p(D_n|x_m) \\, p(\\alpha_m) \\, p(x_m) \\right]$$\n",
    "\n",
    "where $X = {x_m}$ is the ensemble of $M$ chromatin structures. \n",
    "\n",
    "* Here we assume that all single-cell measurements, the priors over weights $p(\\alpha)$ and structures $p(x_m)$ are independent.\n",
    "* Under the Gaussian noise model, we assume that all distance observations are i.i.d, so we can write $$p(D_n|x_m) = \\prod_{i=1}^{N_{\\text{probes}}}\\prod_{j=1}^{N_{\\text{probes}}}\\frac{1}{\\sqrt{2\\pi}\\sigma}\\exp{\\frac{(D_n^{ij}-D_m^{ij})^2}{2\\sigma^2}} = \\frac{1}{(\\sqrt{2\\pi}\\sigma)^{N^2_{\\text{probes}}}}\\exp{\\frac{-\\lVert D_n - D_m \\rVert _2^2}{2\\sigma^2}}$$"
   ]
  },
  {
   "cell_type": "code",
   "execution_count": 116,
   "metadata": {},
   "outputs": [],
   "source": [
    "import jax \n",
    "import scipy\n",
    "import jax.numpy as jnp\n",
    "import numpy as np\n",
    "import matplotlib.pyplot as plt\n",
    "from tqdm.notebook import tqdm\n",
    "from scipy.optimize import minimize \n",
    "from jax import grad, jit, vmap\n",
    "from jax import random\n",
    "from matplotlib import cm \n",
    "from mpl_toolkits.mplot3d import Axes3D\n",
    "from scipy.interpolate import CubicSpline\n",
    "from scipy.spatial.distance import pdist, squareform"
   ]
  },
  {
   "cell_type": "code",
   "execution_count": 5,
   "metadata": {},
   "outputs": [],
   "source": [
    "# define some helper functions \n",
    "\n",
    "def generate_gaussian_chain(num_monomers: int, \n",
    "                            mean_bond_length: float, \n",
    "                            std_bond_length: float):\n",
    "    \"\"\"Generate a Gaussian chain polymer \n",
    "    \n",
    "    Parameters\n",
    "    ----------\n",
    "    num_monomers\n",
    "    mean_bond_length\n",
    "    std_bond_length\n",
    "    \n",
    "    Return\n",
    "    ------\n",
    "    np.array \n",
    "    \n",
    "    Notes\n",
    "    -----\n",
    "    \"\"\" \n",
    "    # Generate steps: each step is a 3D vector \n",
    "    steps = np.random.normal(mean_bond_length, std_bond_length, size=(num_monomers, 3))\n",
    "    \n",
    "    # Compute positions by cumulative sum of steps\n",
    "    positions = np.cumsum(steps, axis=0)\n",
    "    \n",
    "    return positions"
   ]
  },
  {
   "cell_type": "code",
   "execution_count": 6,
   "metadata": {},
   "outputs": [],
   "source": [
    "def visualize_polymer(polymer_chain):\n",
    "    \"\"\"Plot a polymer chain in 3D space\n",
    "    \n",
    "    Parameters\n",
    "    ----------\n",
    "    polymer_chain\n",
    "    \n",
    "    Return\n",
    "    ------\n",
    "    \n",
    "    \"\"\"\n",
    "    # Extract each coordinate of this polymer chain \n",
    "    x = polymer_chain[:, 0]\n",
    "    y = polymer_chain[:, 1]\n",
    "    z = polymer_chain[:, 2]\n",
    "    \n",
    "    # Intepolate path between monomer to show connectivity within the polymer\n",
    "    # Parameterize by cumulative distance along the points\n",
    "    t = np.zeros(x.shape)\n",
    "    t[1:] = np.sqrt((x[1:] - x[:-1])**2 + (y[1:] - y[:-1])**2 + (z[1:] - z[:-1])**2)\n",
    "    t = np.cumsum(t)\n",
    "    \n",
    "    # Create a cubic spline interpolation for each dimension\n",
    "    cs_x = CubicSpline(t, x)\n",
    "    cs_y = CubicSpline(t, y)\n",
    "    cs_z = CubicSpline(t, z)\n",
    "    \n",
    "    # Normalize the monomer number \n",
    "    num_monomers = polymer_chain.shape[0] \n",
    "    norm_monomer_number = np.arange(0, num_monomers) / num_monomers\n",
    "    monomer_colors = cm.rainbow(norm_monomer_number)\n",
    "\n",
    "    # Generate fine samples for a smooth curve\n",
    "    t_fine = np.linspace(t[0], t[-1], 500)\n",
    "    x_fine = cs_x(t_fine)\n",
    "    y_fine = cs_y(t_fine)\n",
    "    z_fine = cs_z(t_fine)\n",
    "\n",
    "    # Create a new matplotlib figure and an axes instance (the 3d part)\n",
    "    fig = plt.figure()\n",
    "    ax = fig.add_subplot(111, projection='3d')\n",
    "\n",
    "    # Plot using scatter\n",
    "    ax.plot(x_fine, y_fine, z_fine, 'gray', label='Interpolated Path')\n",
    "    for i in range(num_monomers):\n",
    "        ax.scatter(x[i], y[i], z[i], color=monomer_colors[i], s=50, alpha=0.75) \n",
    "\n",
    "    # Labeling the axes (optional but recommended for clarity)\n",
    "    ax.set_xlabel('x')\n",
    "    ax.set_ylabel('y')\n",
    "    ax.set_zlabel('z')\n",
    "    \n",
    "    # Create a ScalarMappable with the same colormap and normalization as the scatter\n",
    "    # sm = cm.ScalarMappable(cmap='rainbow', norm=norm_monomer_number)\n",
    "    # sm.set_array([]) \n",
    "    \n",
    "    # Add colorbar\n",
    "    # cbar = plt.colorbar(sm, ax=ax)\n",
    "    # cbar.set_label('Monomer number')\n",
    "    \n",
    "    ax.legend()\n",
    "    plt.show()\n"
   ]
  },
  {
   "cell_type": "code",
   "execution_count": 186,
   "metadata": {},
   "outputs": [],
   "source": [
    "def compare_distance_maps(chain1, chain2, type1='polymer', type2='polymer'):\n",
    "    \"\"\" Plot distance maps of chain1 and chain2 side-by-side\n",
    "    \n",
    "    Parameters\n",
    "    ----------\n",
    "    chain1\n",
    "    chain2 \n",
    "    type1\n",
    "    type2\n",
    "\n",
    "    \"\"\"\n",
    "    assert type1 in ('polymer', 'distance_map', 'flatten_distance_map')\n",
    "    assert type2 in ('polymer', 'distance_map', 'flatten_distance_map')\n",
    "    # Calculate pairwise distance maps\n",
    "    if type1 == 'polymer':\n",
    "        distance_map1 = squareform(pdist(chain1))\n",
    "    elif type1 == 'flatten_distance_map':\n",
    "        distance_map1 = np.reshape(chain1, [round(np.sqrt(chain1.shape[0])), round(np.sqrt(chain1.shape[0]))])\n",
    "    else:\n",
    "        distance_map1 = chain1\n",
    "        \n",
    "    if type2 == 'polymer':\n",
    "        distance_map2 = squareform(pdist(chain2)) \n",
    "    elif type2 == 'flatten_distance_map':\n",
    "        distance_map2 = np.reshape(chain2, [round(np.sqrt(chain2.shape[0])), round(np.sqrt(chain2.shape[0]))])\n",
    "    else:\n",
    "        distance_map2 = chain2\n",
    "    \n",
    "    # Determine the scale of colorbars\n",
    "    # Both colorbars show data in the same range \n",
    "    cm_min = 0\n",
    "    cm_max = np.max([np.max(distance_map1), np.max(distance_map2)])\n",
    "    \n",
    "    # Initialize new figure\n",
    "    fig, (ax1, ax2) = plt.subplots(1, 2, figsize=(12, 5))\n",
    "    \n",
    "    # Plot distance maps \n",
    "    heatmap1 = ax1.imshow(distance_map1, cmap='hot', aspect='auto', vmin=cm_min, vmax=cm_max)\n",
    "    ax1.set_title('Chain 1')\n",
    "    cb1 = fig.colorbar(heatmap1, ax=ax1)\n",
    "    cb1.set_label('Euclidean distance [a.u.]')\n",
    "    \n",
    "    heatmap2 = ax2.imshow(distance_map2, cmap='hot', aspect='auto', vmin=cm_min, vmax=cm_max)\n",
    "    ax2.set_title('Chain 2')\n",
    "    cb2 = fig.colorbar(heatmap2, ax=ax2)\n",
    "    cb2.set_label('Euclidean distance [a.u.]')\n",
    "    \n",
    "    # Display the figure\n",
    "    plt.tight_layout()\n",
    "    plt.show()"
   ]
  },
  {
   "cell_type": "code",
   "execution_count": 107,
   "metadata": {},
   "outputs": [],
   "source": [
    "def generate_flatten_distance_map(chain):\n",
    "    \"\"\" \n",
    "    \"\"\"\n",
    "    return jnp.squeeze(jnp.reshape(squareform(pdist(chain)), [1, -1]))"
   ]
  },
  {
   "cell_type": "code",
   "execution_count": 86,
   "metadata": {},
   "outputs": [],
   "source": [
    "# Example of a gaussian chain \n",
    "# with 1000 monomers, mean bond length = 10, and std bond length = 1\n",
    "num_monomers = 20\n",
    "mean_bond_length = 1\n",
    "std_bond_length = 20\n",
    "\n",
    "chain = generate_gaussian_chain(num_monomers, mean_bond_length, std_bond_length)"
   ]
  },
  {
   "cell_type": "code",
   "execution_count": 87,
   "metadata": {},
   "outputs": [
    {
     "data": {
      "image/png": "[encoded data removed]",
      "text/plain": [
       "<Figure size 432x288 with 1 Axes>"
      ]
     },
     "metadata": {
      "needs_background": "light"
     },
     "output_type": "display_data"
    }
   ],
   "source": [
    "visualize_polymer(chain)"
   ]
  },
  {
   "cell_type": "code",
   "execution_count": 11,
   "metadata": {},
   "outputs": [],
   "source": [
    "def calculate_gaussian_chain_conformation_prob(gaussian_polymer_chain):\n",
    "    \"\"\"Calculate the probability of a particular gaussian chain\n",
    "    \n",
    "    Parameters\n",
    "    ----------\n",
    "    gaussian_polymer_chain\n",
    "    \n",
    "    Return\n",
    "    ------\n",
    "    \n",
    "    \n",
    "    Notes\n",
    "    -----\n",
    "    \"\"\"\n",
    "    # Calculate square end-to-end distance of this gaussian chain\n",
    "    end_to_end_distance_sq = jnp.sum((gaussian_polymer_chain[0, :] - gaussian_polymer_chain[-1, :])**2)\n",
    "    \n",
    "    # Calculate Kuhn length or average bond length of this gaussian chain\n",
    "    mean_bond_length = jnp.mean(jnp.sum(jnp.diff(gaussian_polymer_chain, n=1, axis=0)**2, 1))\n",
    "    \n",
    "    # Calculate the number of monomers in this polymer chain\n",
    "    num_monomers = gaussian_polymer_chain.shape[0]\n",
    "    \n",
    "    # Calculate probability according to the theory note \n",
    "    prob = ((3/(2*np.pi*num_monomers*mean_bond_length**2)) ** 1.5) * jnp.exp(-3*end_to_end_distance_sq/(2*num_monomers*mean_bond_length**2))\n",
    "    \n",
    "    return prob    \n",
    "    \n",
    "    "
   ]
  },
  {
   "cell_type": "code",
   "execution_count": 12,
   "metadata": {},
   "outputs": [
    {
     "data": {
      "text/plain": [
       "Array(1.0311762e-06, dtype=float32)"
      ]
     },
     "execution_count": 12,
     "metadata": {},
     "output_type": "execute_result"
    }
   ],
   "source": [
    "calculate_gaussian_chain_conformation_prob(chain)"
   ]
  },
  {
   "cell_type": "code",
   "execution_count": 13,
   "metadata": {},
   "outputs": [],
   "source": [
    "# This is the likelihood function\n",
    "def calculate_distance_map_prob_given_gaussian_chain(theta):\n",
    "    \"\"\"Calculate the probability of observing a particular distance map given a \n",
    "    simulated gaussian chain and the standard deviation of measurement error \n",
    "    \n",
    "    Parameters\n",
    "    ----------\n",
    "    theta\n",
    "    sim_distance_map\n",
    "    num_probes\n",
    "    \n",
    "    Return\n",
    "    ------\n",
    "    \n",
    "    \n",
    "    Notes\n",
    "    -----\n",
    "    \"\"\"\n",
    "    \n",
    "    sim_distance_map_flat = theta[:-1]\n",
    "    measurement_error_std = jnp.exp(theta[-1])\n",
    "    \n",
    "    # Find the subtraction between empirical and simulated distance maps\n",
    "    subtraction_map = empirical_distance_map_flat - sim_distance_map_flat\n",
    "    subtraction_map_sq = subtraction_map ** 2\n",
    "    \n",
    "    # Calculate the normalization factor \n",
    "    # See the theory note\n",
    "    normalization_factor = 1/((jnp.sqrt(2*np.pi)*measurement_error_std)**((num_probes)**2))\n",
    "    \n",
    "    # Calculate the exponential decay term \n",
    "    # See the theory note\n",
    "    gaussian_term = jnp.exp(-(subtraction_map_sq)/(2*measurement_error_std**2))\n",
    "    \n",
    "    return normalization_factor * gaussian_term"
   ]
  },
  {
   "cell_type": "code",
   "execution_count": 51,
   "metadata": {},
   "outputs": [],
   "source": [
    "# This is the likelihood function\n",
    "def calculate_negative_loglikelihood(theta):\n",
    "    \"\"\"Calculate the probability of observing a particular distance map given a \n",
    "    simulated gaussian chain and the standard deviation of measurement error \n",
    "    \n",
    "    Parameters\n",
    "    ----------\n",
    "    theta\n",
    "    sim_distance_map\n",
    "    num_probes\n",
    "    \n",
    "    Return\n",
    "    ------\n",
    "    \n",
    "    \n",
    "    Notes\n",
    "    -----\n",
    "    \"\"\"\n",
    "    # Currently, learning measurement error does not work \n",
    "    # sim_distance_map_flat = theta[:-1]\n",
    "    # measurement_error_std = jnp.exp(theta[-1])\n",
    "    sim_distance_map_flat = theta\n",
    "    \n",
    "    # Find the subtraction between empirical and simulated distance maps\n",
    "    subtraction_map = jnp.squeeze(jnp.reshape(empirical_distance_map_flat, [1, -1])) - jnp.squeeze(jnp.reshape(sim_distance_map_flat, [1, -1]))\n",
    "    subtraction_map_sq = subtraction_map ** 2\n",
    "    \n",
    "    ll = (-0.5 * num_probes**2) * jnp.log(2*jnp.pi*measurement_error_std**2) - jnp.sum(subtraction_map_sq/(2*measurement_error_std**2))\n",
    "    return -ll / (num_probes ** 2)"
   ]
  },
  {
   "cell_type": "code",
   "execution_count": 88,
   "metadata": {},
   "outputs": [],
   "source": [
    "empirical_distance_map_flat = jnp.reshape(squareform(pdist(chain)), [1, -1])\n",
    "num_probes = num_monomers\n",
    "measurement_error_std = 1e-3"
   ]
  },
  {
   "cell_type": "code",
   "execution_count": 89,
   "metadata": {},
   "outputs": [],
   "source": [
    "jacobian = jax.jacfwd(calculate_negative_loglikelihood)\n",
    "hessian = jax.hessian(calculate_negative_loglikelihood)"
   ]
  },
  {
   "cell_type": "code",
   "execution_count": 90,
   "metadata": {},
   "outputs": [],
   "source": [
    "simulated_chain =  generate_gaussian_chain(num_monomers, mean_bond_length, std_bond_length)"
   ]
  },
  {
   "cell_type": "code",
   "execution_count": 91,
   "metadata": {},
   "outputs": [
    {
     "data": {
      "image/png": "[encoded data removed]",
      "text/plain": [
       "<Figure size 432x288 with 1 Axes>"
      ]
     },
     "metadata": {
      "needs_background": "light"
     },
     "output_type": "display_data"
    }
   ],
   "source": [
    "visualize_polymer(simulated_chain)"
   ]
  },
  {
   "cell_type": "code",
   "execution_count": 92,
   "metadata": {},
   "outputs": [
    {
     "data": {
      "image/png": "[encoded data removed]",
      "text/plain": [
       "<Figure size 864x360 with 4 Axes>"
      ]
     },
     "metadata": {
      "needs_background": "light"
     },
     "output_type": "display_data"
    }
   ],
   "source": [
    "compare_distance_maps(chain, simulated_chain)"
   ]
  },
  {
   "cell_type": "code",
   "execution_count": 93,
   "metadata": {},
   "outputs": [],
   "source": [
    "simulated_map_flatten = jnp.squeeze(jnp.reshape(squareform(pdist(simulated_chain)), [1, -1]))"
   ]
  },
  {
   "cell_type": "code",
   "execution_count": 94,
   "metadata": {},
   "outputs": [
    {
     "data": {
      "text/plain": [
       "(400,)"
      ]
     },
     "execution_count": 94,
     "metadata": {},
     "output_type": "execute_result"
    }
   ],
   "source": [
    "simulated_map_flatten.shape"
   ]
  },
  {
   "cell_type": "code",
   "execution_count": 95,
   "metadata": {},
   "outputs": [
    {
     "name": "stdout",
     "output_type": "stream",
     "text": [
      "Jacobian: [ 0.0000000e+00 -3.6907863e+04 -7.9861797e+04  3.2019988e+04\n",
      " -3.5788488e+04  2.3472500e+04 -4.9926680e+04 -1.1585119e+05\n",
      " -1.1906346e+05 -4.8642676e+04 -8.7697867e+04  7.8845405e+03\n",
      "  7.9799117e+04  7.3237417e+03  6.3794230e+04  3.9239215e+04\n",
      "  3.0884990e+04  5.9464824e+04  4.2293301e+04  1.0104584e+05\n",
      " -3.6907863e+04  0.0000000e+00 -4.8290352e+04  5.3491109e+04\n",
      "  4.5598555e+04  1.3209025e+05  7.1901562e+04 -2.9923793e+04\n",
      " -1.8070412e+04  5.8159641e+04  1.5353394e+03  6.9092062e+04\n",
      "  1.5593759e+05  6.4406816e+04  1.5673752e+05  1.0778030e+05\n",
      "  3.0641061e+04  5.6514273e+04  7.0899773e+04  5.6916664e+04\n",
      " -7.9861797e+04 -4.8290352e+04  0.0000000e+00 -1.8209721e+04\n",
      " -3.3450379e+04  1.0649889e+05  6.3600074e+04 -1.9825734e+04\n",
      " -3.9877039e+04  3.0722008e+04 -1.7773266e+04  4.0432168e+04\n",
      "  1.3417891e+05  2.4649867e+04  9.2341844e+04  7.5927492e+04\n",
      "  2.9227217e+04  5.9896816e+04  5.1290551e+04  3.6919387e+04\n",
      "  3.2019988e+04  5.3491109e+04 -1.8209721e+04  0.0000000e+00\n",
      "  7.2589078e+04  8.7825492e+04  3.1213035e+04 -8.0378531e+04\n",
      " -2.1886893e+04  4.6806431e+03 -6.5023020e+04 -8.7537773e+03\n",
      "  7.9073695e+04 -2.9389954e+03  1.1362578e+05  1.1653973e+05\n",
      "  3.1651840e+04  9.0517930e+04  1.1741592e+05  6.0427445e+04\n",
      " -3.5788488e+04  4.5598555e+04 -3.3450379e+04  7.2589078e+04\n",
      "  0.0000000e+00  5.7915004e+04  2.3803711e+01 -8.2062492e+04\n",
      " -6.1753727e+04 -2.0071887e+03 -4.8131234e+04  4.3099520e+04\n",
      "  1.2073081e+05  3.8763523e+04  1.0418797e+05  6.7234219e+04\n",
      " -7.3819731e+03  3.3427391e+04  4.9413738e+04  4.6428641e+04\n",
      "  2.3472500e+04  1.3209025e+05  1.0649889e+05  8.7825492e+04\n",
      "  5.7915004e+04  0.0000000e+00 -6.8371258e+04 -1.0811310e+05\n",
      "  8.8975328e+04  3.2682586e+04 -6.2746904e+03  4.1775285e+04\n",
      "  1.1347631e+05  6.0041143e+03 -9.2897510e+03 -1.5708646e+04\n",
      " -1.2376112e+05 -1.3479004e+04  2.0657900e+04 -7.2903508e+04\n",
      " -4.9926680e+04  7.1901562e+04  6.3600074e+04  3.1213035e+04\n",
      "  2.3803711e+01 -6.8371258e+04  0.0000000e+00  1.2278104e+04\n",
      "  1.0756744e+05  9.3204141e+04  7.7596781e+04  1.2484599e+05\n",
      "  1.8835234e+05  3.6127461e+04 -5.3726434e+04 -7.8712281e+04\n",
      " -1.7504723e+05 -7.8838023e+04 -3.9553090e+04 -1.2272855e+05\n",
      " -1.1585119e+05 -2.9923793e+04 -1.9825734e+04 -8.0378531e+04\n",
      " -8.2062492e+04 -1.0811310e+05  1.2278104e+04  0.0000000e+00\n",
      "  2.6459418e+04  8.0244443e+03 -9.6660039e+03  3.1336795e+04\n",
      "  1.0549118e+05 -4.7281809e+04 -6.6860977e+04 -8.1099164e+04\n",
      " -1.2847363e+05 -7.4022234e+04 -3.3936484e+04 -1.3323167e+05\n",
      " -1.1906346e+05 -1.8070412e+04 -3.9877039e+04 -2.1886893e+04\n",
      " -6.1753727e+04  8.8975328e+04  1.0756744e+05  2.6459418e+04\n",
      "  0.0000000e+00  6.7303703e+04  9.1139316e+03  9.5004523e+04\n",
      "  1.8598522e+05  7.2738266e+04  9.7304422e+04  4.1316031e+04\n",
      " -8.7994189e+03  1.2161446e+04  1.9748248e+04  1.4280510e+04\n",
      " -4.8642676e+04  5.8159641e+04  3.0722008e+04  4.6806431e+03\n",
      " -2.0071887e+03  3.2682586e+04  9.3204141e+04  8.0244443e+03\n",
      "  6.7303703e+04  0.0000000e+00 -4.0461609e+04  6.9415656e+04\n",
      "  1.3659138e+05  3.2415867e+03 -1.6386689e+04  1.5962238e+04\n",
      " -5.6398695e+04  1.3717441e+04  3.3440418e+04 -1.0791397e+04\n",
      " -8.7697867e+04  1.5353394e+03 -1.7773266e+04 -6.5023020e+04\n",
      " -4.8131234e+04 -6.2746904e+03  7.7596781e+04 -9.6660039e+03\n",
      "  9.1139316e+03 -4.0461609e+04  0.0000000e+00  4.6379395e+04\n",
      "  2.8682428e+04 -9.3025023e+04 -7.5327781e+04 -3.0588475e+04\n",
      " -1.0851194e+05 -3.2505436e+04 -1.0311928e+04 -7.3271180e+04\n",
      "  7.8845405e+03  6.9092062e+04  4.0432168e+04 -8.7537773e+03\n",
      "  4.3099520e+04  4.1775285e+04  1.2484599e+05  3.1336795e+04\n",
      "  9.5004523e+04  6.9415656e+04  4.6379395e+04  0.0000000e+00\n",
      "  2.4551726e+03 -2.5932072e+04  1.4965410e+04  5.0627309e+04\n",
      " -3.8993777e+04  3.8915672e+04  8.4926641e+04 -2.1770477e+04\n",
      "  7.9799117e+04  1.5593759e+05  1.3417891e+05  7.9073695e+04\n",
      "  1.2073081e+05  1.1347631e+05  1.8835234e+05  1.0549118e+05\n",
      "  1.8598522e+05  1.3659138e+05  2.8682428e+04  2.4551726e+03\n",
      "  0.0000000e+00  5.7422613e+04  6.3920785e+04  1.3085699e+05\n",
      "  4.4218922e+04  1.2895641e+05  1.6406798e+05  7.0592977e+04\n",
      "  7.3237417e+03  6.4406816e+04  2.4649867e+04 -2.9389954e+03\n",
      "  3.8763523e+04  6.0041143e+03  3.6127461e+04 -4.7281809e+04\n",
      "  7.2738266e+04  3.2415867e+03 -9.3025023e+04 -2.5932072e+04\n",
      "  5.7422613e+04  0.0000000e+00  5.6446480e+04  7.1768328e+04\n",
      "  2.1858215e+01  6.2289316e+04  1.0925846e+05  2.1422652e+04\n",
      "  6.3794230e+04  1.5673752e+05  9.2341844e+04  1.1362578e+05\n",
      "  1.0418797e+05 -9.2897510e+03 -5.3726434e+04 -6.6860977e+04\n",
      "  9.7304422e+04 -1.6386689e+04 -7.5327781e+04  1.4965410e+04\n",
      "  6.3920785e+04  5.6446480e+04  0.0000000e+00  6.8114555e+04\n",
      " -3.2123508e+04  6.4670297e+04  1.0397230e+05  4.1843406e+04\n",
      "  3.9239215e+04  1.0778030e+05  7.5927492e+04  1.1653973e+05\n",
      "  6.7234219e+04 -1.5708646e+04 -7.8712281e+04 -8.1099164e+04\n",
      "  4.1316031e+04  1.5962238e+04 -3.0588475e+04  5.0627309e+04\n",
      "  1.3085699e+05  7.1768328e+04  6.8114555e+04  0.0000000e+00\n",
      " -7.1095312e+04 -3.5128687e+03  3.6062594e+04  1.8035773e+04\n",
      "  3.0884990e+04  3.0641061e+04  2.9227217e+04  3.1651840e+04\n",
      " -7.3819731e+03 -1.2376112e+05 -1.7504723e+05 -1.2847363e+05\n",
      " -8.7994189e+03 -5.6398695e+04 -1.0851194e+05 -3.8993777e+04\n",
      "  4.4218922e+04  2.1858215e+01 -3.2123508e+04 -7.1095312e+04\n",
      "  0.0000000e+00  3.5052105e+04  9.1870062e+04  3.8405466e+03\n",
      "  5.9464824e+04  5.6514273e+04  5.9896816e+04  9.0517930e+04\n",
      "  3.3427391e+04 -1.3479004e+04 -7.8838023e+04 -7.4022234e+04\n",
      "  1.2161446e+04  1.3717441e+04 -3.2505436e+04  3.8915672e+04\n",
      "  1.2895641e+05  6.2289316e+04  6.4670297e+04 -3.5128687e+03\n",
      "  3.5052105e+04  0.0000000e+00  2.1510711e+04  5.5196945e+04\n",
      "  4.2293301e+04  7.0899773e+04  5.1290551e+04  1.1741592e+05\n",
      "  4.9413738e+04  2.0657900e+04 -3.9553090e+04 -3.3936484e+04\n",
      "  1.9748248e+04  3.3440418e+04 -1.0311928e+04  8.4926641e+04\n",
      "  1.6406798e+05  1.0925846e+05  1.0397230e+05  3.6062594e+04\n",
      "  9.1870062e+04  2.1510711e+04  0.0000000e+00  1.5851955e+05\n",
      "  1.0104584e+05  5.6916664e+04  3.6919387e+04  6.0427445e+04\n",
      "  4.6428641e+04 -7.2903508e+04 -1.2272855e+05 -1.3323167e+05\n",
      "  1.4280510e+04 -1.0791397e+04 -7.3271180e+04 -2.1770477e+04\n",
      "  7.0592977e+04  2.1422652e+04  4.1843406e+04  1.8035773e+04\n",
      "  3.8405466e+03  5.5196945e+04  1.5851955e+05  0.0000000e+00]\n",
      "\n",
      "Hessian: [[2500.    0.    0. ...    0.    0.    0.]\n",
      " [   0. 2500.    0. ...    0.    0.    0.]\n",
      " [   0.    0. 2500. ...    0.    0.    0.]\n",
      " ...\n",
      " [   0.    0.    0. ... 2500.    0.    0.]\n",
      " [   0.    0.    0. ...    0. 2500.    0.]\n",
      " [   0.    0.    0. ...    0.    0. 2500.]]\n",
      "\n"
     ]
    }
   ],
   "source": [
    "theta = simulated_map_flatten\n",
    "print(f'Jacobian: {jacobian(theta)}\\n')\n",
    "print(f'Hessian: {hessian(theta)}\\n')"
   ]
  },
  {
   "cell_type": "code",
   "execution_count": 96,
   "metadata": {},
   "outputs": [
    {
     "name": "stdout",
     "output_type": "stream",
     "text": [
      "         Current function value: -5.964406\n",
      "         Iterations: 12\n",
      "         Function evaluations: 168\n",
      "         Gradient evaluations: 147\n",
      "Convergence Achieved:  False\n",
      "Number of Function Evaluations:  168\n"
     ]
    },
    {
     "name": "stderr",
     "output_type": "stream",
     "text": [
      "/Users/teeu/venv/lib/python3.9/site-packages/scipy/optimize/_minimize.py:708: OptimizeWarning: Desired error not necessarily achieved due to precision loss.\n",
      "  res = _minimize_bfgs(fun, x0, args, jac, callback, **options)\n"
     ]
    }
   ],
   "source": [
    "theta_start = theta\n",
    "result_distance_map = minimize(calculate_negative_loglikelihood, theta_start, method='BFGS',\n",
    "                               options={'disp': True, 'gtol':1e-3*num_monomers**2}, jac=jacobian)\n",
    "# Notice here that tolerance is 1e-3 \n",
    "\n",
    "print(\"Convergence Achieved: \", result_distance_map.success)\n",
    "print(\"Number of Function Evaluations: \", result_distance_map.nfev)"
   ]
  },
  {
   "cell_type": "code",
   "execution_count": 97,
   "metadata": {},
   "outputs": [
    {
     "data": {
      "text/plain": [
       "(400,)"
      ]
     },
     "execution_count": 97,
     "metadata": {},
     "output_type": "execute_result"
    }
   ],
   "source": [
    "theta_start.shape"
   ]
  },
  {
   "cell_type": "code",
   "execution_count": 98,
   "metadata": {},
   "outputs": [
    {
     "data": {
      "text/plain": [
       "  message: Desired error not necessarily achieved due to precision loss.\n",
       "  success: False\n",
       "   status: 2\n",
       "      fun: -5.964405536651611\n",
       "        x: [ 0.000e+00  5.526e+01 ...  1.164e+01  0.000e+00]\n",
       "      nit: 12\n",
       "      jac: [ 0.000e+00  3.719e-01 ... -8.225e-01  0.000e+00]\n",
       " hess_inv: [[ 1.000e+00  0.000e+00 ...  0.000e+00  0.000e+00]\n",
       "            [ 0.000e+00  9.981e-01 ...  7.813e-04  0.000e+00]\n",
       "            ...\n",
       "            [ 0.000e+00  7.813e-04 ...  9.787e-01  0.000e+00]\n",
       "            [ 0.000e+00  0.000e+00 ...  0.000e+00  1.000e+00]]\n",
       "     nfev: 168\n",
       "     njev: 147"
      ]
     },
     "execution_count": 98,
     "metadata": {},
     "output_type": "execute_result"
    }
   ],
   "source": [
    "result_distance_map"
   ]
  },
  {
   "cell_type": "code",
   "execution_count": 99,
   "metadata": {},
   "outputs": [
    {
     "data": {
      "text/plain": [
       "array([ 0.        ,  0.37193298,  0.51498413,  0.00953674,  0.14305115,\n",
       "       -0.4196167 ,  0.5340576 ,  0.93460083,  0.8773804 ,  0.5912781 ,\n",
       "        0.4196167 ,  0.11444092, -0.5340576 ,  0.45776367, -0.45776367,\n",
       "       -0.2193451 , -0.8773804 , -0.25749207, -0.31471252, -0.34332275,\n",
       "        0.37193298,  0.        ,  0.3528595 , -0.5209446 , -0.33140182,\n",
       "       -0.8249283 , -0.51498413,  0.17166138,  0.18119812, -0.69618225,\n",
       "        0.24795532, -0.49591064, -1.8596649 , -0.61035156, -1.039505  ,\n",
       "       -1.1062622 ,  0.2670288 , -0.93460083,  0.11444092, -0.04768372,\n",
       "        0.51498413,  0.3528595 ,  0.        ,  0.14305115,  0.1335144 ,\n",
       "       -0.71525574, -0.7343292 ,  0.03814697,  0.34332275, -0.2861023 ,\n",
       "        0.5531311 , -0.8010864 , -0.05722046, -0.0667572 , -0.56266785,\n",
       "       -0.5245209 , -0.4386902 , -0.25749207, -0.34332275, -0.62942505,\n",
       "        0.00953674, -0.5209446 ,  0.14305115,  0.        , -0.39935112,\n",
       "       -0.6866455 , -0.42915344, -0.17166138,  0.09536743,  0.45776367,\n",
       "       -0.07629395, -0.32424927, -0.34332275, -0.07629395, -0.8773804 ,\n",
       "       -1.0633469 , -0.24795532, -0.9441376 , -0.5722046 , -0.45776367,\n",
       "        0.14305115, -0.33140182,  0.1335144 , -0.39935112,  0.        ,\n",
       "       -0.1335144 , -0.01907349,  0.36239624,  0.89645386,  0.15258789,\n",
       "       -0.2861023 , -0.19073486, -0.4863739 ,  0.12397766, -0.6532669 ,\n",
       "       -0.46253204,  0.17166138,  0.10490417, -0.44822693, -0.2193451 ,\n",
       "       -0.4196167 , -0.8249283 , -0.71525574, -0.6866455 , -0.1335144 ,\n",
       "        0.        ,  0.38146973,  0.6008148 , -1.1587143 , -0.32424927,\n",
       "       -0.36239624, -0.20980835, -0.5912781 , -0.03814697,  0.01907349,\n",
       "        0.2670288 ,  0.7247925 ,  0.667572  , -0.47683716,  0.38146973,\n",
       "        0.5340576 , -0.51498413, -0.7343292 , -0.42915344, -0.01907349,\n",
       "        0.38146973,  0.        , -0.1001358 , -0.7724762 , -0.57697296,\n",
       "       -0.29087067, -1.0633469 , -1.3399124 , -0.30517578,  0.45776367,\n",
       "        0.8583069 ,  1.5258789 ,  0.4386902 ,  0.4386902 ,  1.5449524 ,\n",
       "        0.93460083,  0.17166138,  0.03814697, -0.17166138,  0.36239624,\n",
       "        0.6008148 , -0.1001358 ,  0.        , -0.14305115, -0.01907349,\n",
       "        0.11444092, -0.31471252, -0.4386902 ,  0.7247925 ,  0.39100647,\n",
       "        0.01907349,  0.32424927,  0.1335144 , -0.22888184,  0.91552734,\n",
       "        0.8773804 ,  0.18119812,  0.34332275,  0.09536743,  0.89645386,\n",
       "       -1.1587143 , -0.7724762 , -0.14305115,  0.        , -0.52928925,\n",
       "        0.00953674, -1.2111664 , -1.6355515 , -0.705719  , -0.19073486,\n",
       "       -0.25749207,  0.30517578,  0.5722046 ,  0.15258789,  0.17166138,\n",
       "        0.5912781 , -0.69618225, -0.2861023 ,  0.45776367,  0.15258789,\n",
       "       -0.32424927, -0.57697296, -0.01907349, -0.52928925,  0.        ,\n",
       "        0.07629395, -0.41007996, -0.8773804 , -0.05722046,  0.31471252,\n",
       "       -0.2861023 ,  0.1335144 , -0.4005432 , -0.2670288 ,  0.09536743,\n",
       "        0.4196167 ,  0.24795532,  0.5531311 , -0.07629395, -0.2861023 ,\n",
       "       -0.36239624, -0.29087067,  0.11444092,  0.00953674,  0.07629395,\n",
       "        0.        , -0.42915344, -0.22888184,  0.78201294,  0.20980835,\n",
       "       -0.22888184,  1.1444092 , -0.2670288 ,  0.22888184,  0.667572  ,\n",
       "        0.11444092, -0.49591064, -0.8010864 , -0.32424927, -0.19073486,\n",
       "       -0.20980835, -1.0633469 , -0.31471252, -1.2111664 , -0.41007996,\n",
       "       -0.42915344,  0.        ,  0.04768372,  0.03814697, -0.20980835,\n",
       "       -0.6866455 ,  0.51498413, -0.2861023 , -0.05722046,  0.51498413,\n",
       "       -0.5340576 , -1.8596649 , -0.05722046, -0.34332275, -0.4863739 ,\n",
       "       -0.5912781 , -1.3399124 , -0.4386902 , -1.6355515 , -0.8773804 ,\n",
       "       -0.22888184,  0.04768372,  0.        , -0.23841858, -0.6580353 ,\n",
       "       -0.62942505, -0.4386902 , -0.9918213 , -0.9727478 , -0.78201294,\n",
       "        0.45776367, -0.61035156, -0.0667572 , -0.07629395,  0.12397766,\n",
       "       -0.03814697, -0.30517578,  0.7247925 , -0.705719  , -0.05722046,\n",
       "        0.78201294,  0.03814697, -0.23841858,  0.        , -0.39577484,\n",
       "       -0.6008148 , -0.78201294,  0.30517578, -0.19073486, -0.8583069 ,\n",
       "       -0.45776367, -1.039505  , -0.56266785, -0.8773804 , -0.6532669 ,\n",
       "        0.01907349,  0.45776367,  0.39100647, -0.19073486,  0.31471252,\n",
       "        0.20980835, -0.20980835, -0.6580353 , -0.39577484,  0.        ,\n",
       "       -0.47683716,  0.4196167 , -0.9727478 ,  0.        , -0.4863739 ,\n",
       "       -0.2193451 , -1.1062622 , -0.5245209 , -1.0633469 , -0.46253204,\n",
       "        0.2670288 ,  0.8583069 ,  0.01907349, -0.25749207, -0.2861023 ,\n",
       "       -0.22888184, -0.6866455 , -0.62942505, -0.6008148 , -0.47683716,\n",
       "        0.        ,  0.27656555,  0.02861023, -0.2193451 , -0.17166138,\n",
       "       -0.8773804 ,  0.2670288 , -0.4386902 , -0.24795532,  0.17166138,\n",
       "        0.7247925 ,  1.5258789 ,  0.32424927,  0.30517578,  0.1335144 ,\n",
       "        1.1444092 ,  0.51498413, -0.4386902 , -0.78201294,  0.4196167 ,\n",
       "        0.27656555,  0.        , -0.5531311 , -0.81062317,  0.1335144 ,\n",
       "       -0.25749207, -0.93460083, -0.25749207, -0.9441376 ,  0.10490417,\n",
       "        0.667572  ,  0.4386902 ,  0.1335144 ,  0.5722046 , -0.4005432 ,\n",
       "       -0.2670288 , -0.2861023 , -0.9918213 ,  0.30517578, -0.9727478 ,\n",
       "        0.02861023, -0.5531311 ,  0.        , -0.11920929, -0.5531311 ,\n",
       "       -0.31471252,  0.11444092, -0.34332275, -0.5722046 , -0.44822693,\n",
       "       -0.47683716,  0.4386902 , -0.22888184,  0.15258789, -0.2670288 ,\n",
       "        0.22888184, -0.05722046, -0.9727478 , -0.19073486,  0.        ,\n",
       "       -0.2193451 , -0.81062317, -0.11920929,  0.        , -0.8225441 ,\n",
       "       -0.34332275, -0.04768372, -0.62942505, -0.45776367, -0.2193451 ,\n",
       "        0.38146973,  1.5449524 ,  0.91552734,  0.17166138,  0.09536743,\n",
       "        0.667572  ,  0.51498413, -0.78201294, -0.8583069 , -0.4863739 ,\n",
       "       -0.17166138,  0.1335144 , -0.5531311 , -0.8225441 ,  0.        ],\n",
       "      dtype=float32)"
      ]
     },
     "execution_count": 99,
     "metadata": {},
     "output_type": "execute_result"
    }
   ],
   "source": [
    "result_distance_map.jac"
   ]
  },
  {
   "cell_type": "code",
   "execution_count": 100,
   "metadata": {},
   "outputs": [
    {
     "data": {
      "text/plain": [
       "array([[  0.        ,  55.25820922,  68.96009928,  50.12019373,\n",
       "         48.69980089,  74.85177933, 111.82326429, 123.96116852,\n",
       "         86.62041057, 100.06727739, 128.83427261, 121.35518242,\n",
       "        104.44945914,  85.57119665,  69.24915533,  48.90004167,\n",
       "         70.63464795,  46.81625205,  48.63467023,  45.14790313],\n",
       "       [ 55.25820922,   0.        ,  29.96662909,   5.91262422,\n",
       "          9.77558755,  21.01954135,  57.15133424,  72.70947257,\n",
       "         34.32872174,  45.23510451,  73.99443475,  67.75220353,\n",
       "         49.77560322,  38.17157212,  23.53223999,  28.32581973,\n",
       "         75.07840189,  63.86790265,  65.56611889,  55.59943282],\n",
       "       [ 68.96009928,  29.96662909,   0.        ,  34.2172003 ,\n",
       "         34.89130963,  27.46207996,  56.12122251,  65.39981786,\n",
       "         33.03131511,  48.21063463,  74.93379569,  76.34803954,\n",
       "         53.56436704,  50.00090252,  42.86720757,  37.95445184,\n",
       "         73.18125607,  62.57179055,  71.71236234,  64.95498401],\n",
       "       [ 50.12019373,   5.91262422,  34.2172003 ,   0.        ,\n",
       "          6.74980383,  26.55514704,  62.48395961,  77.96881806,\n",
       "         39.69163316,  50.42283371,  79.00948912,  71.91556052,\n",
       "         54.78161683,  41.33108665,  25.47637531,  27.25139571,\n",
       "         74.04430619,  61.74232474,  62.70262328,  52.61896791],\n",
       "       [ 48.69980089,   9.77558755,  34.89130963,   6.74980383,\n",
       "          0.        ,  30.31898375,  63.40661288,  77.1176712 ,\n",
       "         39.27471488,  51.55464966,  81.94682197,  73.98508371,\n",
       "         55.8219448 ,  39.04112835,  22.79275896,  20.89644074,\n",
       "         67.79297659,  56.73607155,  56.71761613,  46.4397307 ],\n",
       "       [ 74.85177933,  21.01954135,  27.46207996,  26.55514704,\n",
       "         30.31898375,   0.        ,  41.15886268,  59.69057303,\n",
       "         24.41314252,  30.24845224,  55.09109433,  53.33188569,\n",
       "         35.20710513,  37.48604342,  30.81676545,  44.76491153,\n",
       "         88.95043446,  80.04274451,  83.56306358,  73.98734639],\n",
       "       [111.82326429,  57.15133424,  56.12122251,  62.48395961,\n",
       "         63.40661288,  41.15886268,   0.        ,  25.19184395,\n",
       "         27.27795975,  12.456163  ,  29.05272197,  28.2150865 ,\n",
       "         10.12400765,  36.57422511,  47.60065727,  70.5060875 ,\n",
       "        105.38959835, 106.65132774, 107.29827283,  97.83053386],\n",
       "       [123.96116852,  72.70947257,  65.39981786,  77.96881806,\n",
       "         77.1176712 ,  59.69057303,  25.19184395,   0.        ,\n",
       "         38.453034  ,  34.35044534,  48.18865   ,  48.5906388 ,\n",
       "         32.9083492 ,  46.18627675,  60.23116052,  77.69918286,\n",
       "        102.21594499, 109.07657829, 109.82997838, 101.88947542],\n",
       "       [ 86.62041057,  34.32872174,  33.03131511,  39.69163316,\n",
       "         39.27471488,  24.41314252,  27.27795975,  38.453034  ,\n",
       "          0.        ,  18.96528974,  52.38797613,  48.39980121,\n",
       "         23.55374197,  22.63294685,  26.99768286,  43.87435006,\n",
       "         80.52039195,  79.55828392,  81.10958248,  71.93646561],\n",
       "       [100.06727739,  45.23510451,  48.21063463,  50.42283371,\n",
       "         51.55464966,  30.24845224,  12.456163  ,  34.35044534,\n",
       "         18.96528974,   0.        ,  34.68351414,  29.8054012 ,\n",
       "          5.39146765,  27.97795357,  36.38045023,  60.31940522,\n",
       "         98.3681634 ,  97.71780318,  98.00172565,  88.11506163],\n",
       "       [128.83427261,  73.99443475,  74.93379569,  79.00948912,\n",
       "         81.94682197,  55.09109433,  29.05272197,  48.18865   ,\n",
       "         52.38797613,  34.68351414,   0.        ,  22.66496353,\n",
       "         31.96483369,  60.88485036,  69.03073227,  93.84740924,\n",
       "        132.71312967, 130.92853547, 132.22326102, 122.20027667],\n",
       "       [121.35518242,  67.75220353,  76.34803954,  71.91556052,\n",
       "         73.98508371,  53.33188569,  28.2150865 ,  48.5906388 ,\n",
       "         48.39980121,  29.8054012 ,  22.66496353,   0.        ,\n",
       "         25.37275611,  48.00844277,  57.38377752,  85.73518905,\n",
       "        124.76328   , 124.78119774, 122.68149578, 111.970914  ],\n",
       "       [104.44945914,  49.77560322,  53.56436704,  54.78161683,\n",
       "         55.8219448 ,  35.20710513,  10.12400765,  32.9083492 ,\n",
       "         23.55374197,   5.39146765,  31.96483369,  25.37275611,\n",
       "          0.        ,  29.39231699,  39.38194697,  64.45981233,\n",
       "        101.8578177 , 102.10917429, 101.72347297,  91.7302064 ],\n",
       "       [ 85.57119665,  38.17157212,  50.00090252,  41.33108665,\n",
       "         39.04112835,  37.48604342,  36.57422511,  46.18627675,\n",
       "         22.63294685,  27.97795357,  60.88485036,  48.00844277,\n",
       "         29.39231699,   0.        ,  16.88045919,  42.2490446 ,\n",
       "         77.58178215,  80.3099648 ,  76.04448798,  65.69417523],\n",
       "       [ 69.24915533,  23.53223999,  42.86720757,  25.4763753 ,\n",
       "         22.79275896,  30.81676545,  47.60065727,  60.23116052,\n",
       "         26.99768286,  36.38045023,  69.03073227,  57.38377752,\n",
       "         39.38194697,  16.88045919,   0.        ,  29.90920742,\n",
       "         71.88483328,  69.55805435,  65.78860945,  54.83210178],\n",
       "       [ 48.90004167,  28.32581973,  37.95445184,  27.25139571,\n",
       "         20.89644074,  44.76491153,  70.5060875 ,  77.69918286,\n",
       "         43.87435006,  60.31940522,  93.84740924,  85.73518905,\n",
       "         64.45981233,  42.2490446 ,  29.90920742,   0.        ,\n",
       "         47.04325801,  39.75712633,  39.08100814,  29.56161953],\n",
       "       [ 70.63464795,  75.07840189,  73.18125607,  74.04430619,\n",
       "         67.79297659,  88.95043446, 105.38959835, 102.21594499,\n",
       "         80.52039195,  98.3681634 , 132.71312967, 124.76328   ,\n",
       "        101.8578177 ,  77.58178215,  71.88483328,  47.04325801,\n",
       "          0.        ,  28.28133126,  24.99694995,  30.7859708 ],\n",
       "       [ 46.81625205,  63.86790265,  62.57179055,  61.74232474,\n",
       "         56.73607155,  80.04274451, 106.65132774, 109.07657829,\n",
       "         79.55828392,  97.71780318, 130.92853547, 124.78119774,\n",
       "        102.10917429,  80.3099648 ,  69.55805435,  39.75712633,\n",
       "         28.28133126,   0.        ,  20.52085658,  26.00917107],\n",
       "       [ 48.63467023,  65.56611889,  71.71236234,  62.70262328,\n",
       "         56.71761613,  83.56306358, 107.29827283, 109.82997838,\n",
       "         81.10958248,  98.00172565, 132.22326102, 122.68149578,\n",
       "        101.72347297,  76.04448798,  65.78860945,  39.08100814,\n",
       "         24.99694995,  20.52085658,   0.        ,  11.63573725],\n",
       "       [ 45.14790313,  55.59943282,  64.95498401,  52.61896791,\n",
       "         46.4397307 ,  73.98734639,  97.83053386, 101.88947542,\n",
       "         71.93646561,  88.11506163, 122.20027667, 111.970914  ,\n",
       "         91.7302064 ,  65.69417523,  54.83210178,  29.56161953,\n",
       "         30.7859708 ,  26.00917107,  11.63573725,   0.        ]])"
      ]
     },
     "execution_count": 100,
     "metadata": {},
     "output_type": "execute_result"
    }
   ],
   "source": [
    "result_distance_map.x.reshape([num_monomers, num_monomers])"
   ]
  },
  {
   "cell_type": "code",
   "execution_count": 101,
   "metadata": {},
   "outputs": [
    {
     "data": {
      "text/plain": [
       "(1, 400)"
      ]
     },
     "execution_count": 101,
     "metadata": {},
     "output_type": "execute_result"
    }
   ],
   "source": [
    "empirical_distance_map_flat.shape"
   ]
  },
  {
   "cell_type": "code",
   "execution_count": 102,
   "metadata": {},
   "outputs": [
    {
     "data": {
      "image/png": "[encoded data removed]",
      "text/plain": [
       "<Figure size 864x360 with 4 Axes>"
      ]
     },
     "metadata": {
      "needs_background": "light"
     },
     "output_type": "display_data"
    }
   ],
   "source": [
    "compare_distance_maps(chain, result_distance_map.x.reshape([num_monomers, num_monomers]), type2='distance_map')"
   ]
  },
  {
   "cell_type": "markdown",
   "metadata": {},
   "source": [
    "## Finding the likelihood curve \n",
    "Here I will generate a number of polymer chains, calculate their likelihood values, optimize them to see if they converge to the \"true\" polymer chain. "
   ]
  },
  {
   "cell_type": "code",
   "execution_count": 103,
   "metadata": {},
   "outputs": [],
   "source": [
    "num_simulated_chains = 100\n",
    "\n",
    "simulated_chain_list = [generate_gaussian_chain(num_monomers, mean_bond_length, std_bond_length) for i in range(num_simulated_chains)]"
   ]
  },
  {
   "cell_type": "code",
   "execution_count": 108,
   "metadata": {},
   "outputs": [],
   "source": [
    "simulated_map_flat_list = [generate_flatten_distance_map(poly) for poly in simulated_chain_list]"
   ]
  },
  {
   "cell_type": "code",
   "execution_count": 110,
   "metadata": {},
   "outputs": [],
   "source": [
    "nll_list = [calculate_negative_loglikelihood(f_map) for f_map in simulated_map_flat_list]"
   ]
  },
  {
   "cell_type": "code",
   "execution_count": 111,
   "metadata": {},
   "outputs": [],
   "source": [
    "nll_empirical = calculate_negative_loglikelihood(empirical_distance_map_flat)"
   ]
  },
  {
   "cell_type": "code",
   "execution_count": null,
   "metadata": {},
   "outputs": [],
   "source": [
    "optimized_nll_list = [minimize(calculate_negative_loglikelihood, theta_start, method='BFGS',\n",
    "                               options={'disp': False, 'gtol':1e-3*num_monomers**2}, jac=jacobian) for theta_start in simulated_map_flat_list]"
   ]
  },
  {
   "cell_type": "code",
   "execution_count": 153,
   "metadata": {},
   "outputs": [],
   "source": [
    "# Define a class to keep track of optimization paths \n",
    "class OptimizationTracker:\n",
    "    def __init__(self):\n",
    "        self.runs = []\n",
    "\n",
    "    def add_run(self, x0, result):\n",
    "        # Stores each run information in a dictionary\n",
    "        self.runs.append({\n",
    "            'initial': x0,\n",
    "            'history': np.array(result['history']),\n",
    "            'final': result['final']\n",
    "        })\n",
    "\n",
    "    def plot_runs(self):\n",
    "        # Plot the path of each optimization run\n",
    "        plt.figure(figsize=(12, 6))\n",
    "        for index, run in enumerate(self.runs):\n",
    "            history = run['history']\n",
    "            plt.plot(np.arange(len(history)), history, 'o-', label='Run {}'.format(index))\n",
    "            plt.plot(len(history), run['final'], 'rx')  # Mark the final point\n",
    "        plt.title('Paths of Multiple Optimization Runs')\n",
    "        plt.xlabel('Iteration')\n",
    "        plt.ylabel('Negative log-likelihood')\n",
    "        plt.legend()\n",
    "        plt.grid(True)\n",
    "        plt.show()\n"
   ]
  },
  {
   "cell_type": "code",
   "execution_count": 158,
   "metadata": {},
   "outputs": [
    {
     "data": {
      "application/vnd.jupyter.widget-view+json": {
       "model_id": "747a1808cb5842f98a5c7715ddae5fe9",
       "version_major": 2,
       "version_minor": 0
      },
      "text/plain": [
       "  0%|          | 0/100 [00:00<?, ?it/s]"
      ]
     },
     "metadata": {},
     "output_type": "display_data"
    }
   ],
   "source": [
    "# Run multiple optimizations\n",
    "tracker = OptimizationTracker()\n",
    "\n",
    "for theta_start in tqdm(simulated_map_flat_list):\n",
    "    history = []\n",
    "    def callback(x):\n",
    "        history.append(calculate_negative_loglikelihood(x))\n",
    "\n",
    "    res = minimize(calculate_negative_loglikelihood, theta_start, method='BFGS', callback=callback,\n",
    "                               options={'disp': False, 'gtol':1e-3*num_monomers**2}, jac=jacobian) \n",
    "    tracker.add_run(calculate_negative_loglikelihood(theta_start), {'history': history, 'final': res.fun})\n"
   ]
  },
  {
   "cell_type": "code",
   "execution_count": 159,
   "metadata": {},
   "outputs": [
    {
     "name": "stderr",
     "output_type": "stream",
     "text": [
      "No artists with labels found to put in legend.  Note that artists whose label start with an underscore are ignored when legend() is called with no argument.\n"
     ]
    },
    {
     "data": {
      "image/png": "[encoded data removed]",
      "text/plain": [
       "<Figure size 864x432 with 1 Axes>"
      ]
     },
     "metadata": {
      "needs_background": "light"
     },
     "output_type": "display_data"
    }
   ],
   "source": [
    "tracker.plot_runs() # This show that all these simulations converge to global minimum "
   ]
  },
  {
   "cell_type": "code",
   "execution_count": 174,
   "metadata": {},
   "outputs": [
    {
     "data": {
      "text/plain": [
       "Text(0.5, 1.0, 'Histogram of Negative Log-likelihood')"
      ]
     },
     "execution_count": 174,
     "metadata": {},
     "output_type": "execute_result"
    },
    {
     "data": {
      "image/png": "[encoded data removed]",
      "text/plain": [
       "<Figure size 432x288 with 1 Axes>"
      ]
     },
     "metadata": {
      "needs_background": "light"
     },
     "output_type": "display_data"
    }
   ],
   "source": [
    "plt.hist([x.fun for x in optimized_nll_list], bins=50)\n",
    "plt.axvline(nll_empirical, color='r', linestyle='--', label='True NLL')\n",
    "plt.xlabel('Negative log-likelihood')\n",
    "plt.ylabel('Count')\n",
    "plt.title('Histogram of Negative Log-likelihood')"
   ]
  },
  {
   "cell_type": "code",
   "execution_count": 192,
   "metadata": {},
   "outputs": [
    {
     "data": {
      "image/png": "[encoded data removed]",
      "text/plain": [
       "<Figure size 864x360 with 4 Axes>"
      ]
     },
     "metadata": {
      "needs_background": "light"
     },
     "output_type": "display_data"
    }
   ],
   "source": [
    "compare_distance_maps(chain, optimized_nll_list[80].x, type2='flatten_distance_map')"
   ]
  },
  {
   "cell_type": "code",
   "execution_count": 193,
   "metadata": {},
   "outputs": [
    {
     "data": {
      "image/png": "[encoded data removed]",
      "text/plain": [
       "<Figure size 432x288 with 1 Axes>"
      ]
     },
     "metadata": {
      "needs_background": "light"
     },
     "output_type": "display_data"
    }
   ],
   "source": [
    "visualize_polymer(chain)"
   ]
  },
  {
   "cell_type": "code",
   "execution_count": 164,
   "metadata": {},
   "outputs": [
    {
     "data": {
      "text/plain": [
       "Array(-5.9888167, dtype=float32)"
      ]
     },
     "execution_count": 164,
     "metadata": {},
     "output_type": "execute_result"
    }
   ],
   "source": [
    "nll_empirical"
   ]
  },
  {
   "cell_type": "markdown",
   "metadata": {},
   "source": [
    "## Maximum Likelihood Estimation using Jax\n",
    "\n",
    "The following part of this notebook will provide a brief introduction to Jax and how to use automatic differentiation (AD) to perform maximum likelihood estimation (MLE). "
   ]
  },
  {
   "cell_type": "code",
   "execution_count": 1,
   "metadata": {},
   "outputs": [],
   "source": [
    "# import packages \n",
    "import jax\n",
    "import numpy as np \n",
    "import jax.numpy as jnp\n",
    "from scipy.optimize import minimize \n",
    "from jax.scipy import  optimize "
   ]
  },
  {
   "cell_type": "markdown",
   "metadata": {},
   "source": [
    "Then we generate data such that we can use Maximum Likelihood to estimate the parameters "
   ]
  },
  {
   "cell_type": "code",
   "execution_count": 3,
   "metadata": {},
   "outputs": [],
   "source": [
    "# Number of observations \n",
    "N = 5000 \n",
    "\n",
    "# Number of parameters \n",
    "K = 2 \n",
    "\n",
    "# True parameter values \n",
    "# beta = 2 * np.random.randn(K)\n",
    "beta = 2 * np.ones(K) # np.array([2, 2])\n",
    "\n",
    "# True error standard deviation \n",
    "sigma = 0.5\n",
    "\n",
    "def datagen(N, beta, sigma):\n",
    "    \"\"\"\n",
    "    Generates data for OLS regression \n",
    "    N: number of observations \n",
    "    beta: K x 1 true parameter values \n",
    "    sigma: standard deviation of error \n",
    "    \"\"\"\n",
    "    \n",
    "    K = beta.shape[0]\n",
    "    x_= 10 + 2 * np.random.randn(N, K-1)\n",
    "    \n",
    "    # x is the N x K data matrix with column of ones \n",
    "    # the first column estimates a constant\n",
    "    x = np.c_[np.ones(N), x_]\n",
    "    \n",
    "    # y is the N x 1 vector of dependent variables \n",
    "    y = x.dot(beta) + sigma*np.random.randn(N)\n",
    "    \n",
    "    return y,x \n",
    "\n",
    "y, x = datagen(N, beta, sigma)"
   ]
  },
  {
   "cell_type": "markdown",
   "metadata": {},
   "source": [
    "The following block of code defines the negative log-likelihood function. We have altered the return opf the likelihood function with the following code: \n",
    "\n",
    "```python\n",
    "return (-1 * ll)/N\n",
    "```\n",
    "\n",
    "This rescaled likelihood function can help with the convergence of the optimization routine. \n",
    "\n",
    "Here the model is \n",
    "$$ Y = \\beta^TX + \\epsilon$$\n",
    "where $\\epsilon \\approx \\mathcal{N}(0, \\sigma^2)$.\n",
    "\n",
    "Therefore, $Y - \\beta^TX$ should be normally distributed around 0 with standard deviation = $\\sigma$.\n",
    "\n",
    "The likelihood function for this estimation can then be written as \n",
    "$$\\mathcal{L}(Y; X, \\beta, \\epsilon) = \\prod_{i=1}^N\\left(\\frac{1}{\\sqrt{2\\pi\\sigma^2}}\\right)\\exp\\left[\\frac{-(Y_i - \\beta^TX_i)^2}{2\\sigma^2} \\right]\n",
    "$$\n",
    "\n",
    "The negative log-likehood then equals to \n",
    "$$\n",
    "\\mathcal{l}(Y; X, \\beta, \\epsilon) = \\sum_{i=1}^N\\left\\{\\left[\\frac{1}{2}\\log \\left(2\\pi\\sigma^2\\right)\\right] + \\left[ \\frac{(Y_i - \\beta^TX_i)^2}{2\\sigma^2}\\right]\\right\\}\n",
    "$$\n"
   ]
  },
  {
   "cell_type": "code",
   "execution_count": 7,
   "metadata": {},
   "outputs": [],
   "source": [
    "def neg_loglike(theta):\n",
    "    beta = theta[:-1]\n",
    "    \n",
    "    # transform theta[-1]\n",
    "    # so that sigma > 0\n",
    "    sigma = jnp.exp(theta[-1])\n",
    "    mu = jnp.dot(x, beta)\n",
    "    ll = jnp.sum(jax.scipy.stats.norm.logpdf(y, loc=mu, scale=sigma))\n",
    "    return -1*ll/N"
   ]
  },
  {
   "cell_type": "code",
   "execution_count": 8,
   "metadata": {},
   "outputs": [],
   "source": [
    "jacobian = jax.jacfwd(neg_loglike)\n",
    "hessian = jax.hessian(neg_loglike)"
   ]
  },
  {
   "cell_type": "markdown",
   "metadata": {},
   "source": [
    "The next code block append $\\beta$ and $\\sigma$ to a vector called `theta`. Then the Jacobian and Hessians are evaluated at these values."
   ]
  },
  {
   "cell_type": "code",
   "execution_count": 9,
   "metadata": {},
   "outputs": [
    {
     "name": "stdout",
     "output_type": "stream",
     "text": [
      "Jacobian: [-0.0241592  -0.22509116 -0.0174517 ]\n",
      "\n",
      "Hessian:[[3.9997649e+00 3.9954449e+01 4.8318282e-02]\n",
      " [3.9954449e+01 4.1551447e+02 4.5018262e-01]\n",
      " [4.8318401e-02 4.5018226e-01 2.0349033e+00]]\n"
     ]
    }
   ],
   "source": [
    "theta = jnp.append(beta, jnp.log(sigma))\n",
    "print(f'Jacobian: {jacobian(theta)}\\n')\n",
    "print(f'Hessian:{hessian(theta)}')"
   ]
  },
  {
   "cell_type": "markdown",
   "metadata": {},
   "source": [
    "The next code block uses `scipy` minimize function to minimize the negative log-likelihood function. The method we use is `BFGS` and we add a tolerance option `gtol = 1e-7*N` to help with convergence. "
   ]
  },
  {
   "cell_type": "code",
   "execution_count": 11,
   "metadata": {},
   "outputs": [
    {
     "name": "stdout",
     "output_type": "stream",
     "text": [
      "Optimization terminated successfully.\n",
      "         Current function value: 0.734362\n",
      "         Iterations: 22\n",
      "         Function evaluations: 31\n",
      "         Gradient evaluations: 31\n",
      "Convergence Achieved:  True\n",
      "Number of Function Evaluations:  31\n"
     ]
    }
   ],
   "source": [
    "theta_start = jnp.append(jnp.zeros(beta.shape[0]), 0.0)\n",
    "res1 = minimize(neg_loglike, theta_start, method='BFGS',\n",
    "                options={'disp': True, 'gtol': 1e-7*N}, jac=jacobian)\n",
    "print(\"Convergence Achieved: \", res1.success)\n",
    "print(\"Number of Function Evaluations: \", res1.nfev)"
   ]
  },
  {
   "cell_type": "code",
   "execution_count": 12,
   "metadata": {},
   "outputs": [
    {
     "name": "stdout",
     "output_type": "stream",
     "text": [
      "  message: Optimization terminated successfully.\n",
      "  success: True\n",
      "   status: 0\n",
      "      fun: 0.7343624234199524\n",
      "        x: [ 2.016e+00  1.999e+00 -6.846e-01]\n",
      "      nit: 22\n",
      "      jac: [ 1.535e-05  1.686e-04  1.609e-05]\n",
      " hess_inv: [[ 6.486e+00 -6.248e-01  1.275e-02]\n",
      "            [-6.248e-01  6.273e-02 -3.590e-04]\n",
      "            [ 1.275e-02 -3.590e-04  5.165e-01]]\n",
      "     nfev: 31\n",
      "     njev: 31\n"
     ]
    }
   ],
   "source": [
    "print(res1)"
   ]
  },
  {
   "cell_type": "code",
   "execution_count": 13,
   "metadata": {},
   "outputs": [
    {
     "name": "stdout",
     "output_type": "stream",
     "text": [
      "Coefficient estimates: 2.0159018869766436, 1.9990130838020947\n",
      "Original sigma: 0.5043079494440934\n"
     ]
    }
   ],
   "source": [
    "print(f'Coefficient estimates: {res1.x[0]}, {res1.x[1]}')\n",
    "\n",
    "new_sigma = np.exp(res1.x[-1])\n",
    "\n",
    "print(f'Original sigma: {new_sigma}')"
   ]
  },
  {
   "cell_type": "markdown",
   "metadata": {},
   "source": [
    "Jax also has a built in minimization routine, which can be called with the next block of code. Note that the method option is restricted to BFGS at the time of writing."
   ]
  },
  {
   "cell_type": "code",
   "execution_count": 21,
   "metadata": {},
   "outputs": [],
   "source": [
    "res2 = jax.scipy.optimize.minimize(neg_loglike, theta_start, method='BFGS')"
   ]
  },
  {
   "cell_type": "code",
   "execution_count": 22,
   "metadata": {},
   "outputs": [
    {
     "name": "stdout",
     "output_type": "stream",
     "text": [
      "OptimizeResults(x=Array([ 0.59089136,  6.0974116 , -1.4891586 ], dtype=float32), success=Array(False, dtype=bool), status=Array(3, dtype=int32, weak_type=True), fun=Array(27.809149, dtype=float32), jac=Array([ -2.8311038, -29.31316  , -50.94435  ], dtype=float32), hess_inv=Array([[ 0.9984788 , -0.01576467, -0.03561225],\n",
      "       [-0.01576467,  0.8366276 , -0.3690555 ],\n",
      "       [-0.03561225, -0.3690555 ,  0.1670806 ]], dtype=float32), nfev=Array(6, dtype=int32, weak_type=True), njev=Array(6, dtype=int32, weak_type=True), nit=Array(2, dtype=int32, weak_type=True))\n"
     ]
    }
   ],
   "source": [
    "print(res2)"
   ]
  }
 ],
 "metadata": {
  "kernelspec": {
   "display_name": "venv",
   "language": "python",
   "name": "python3"
  },
  "language_info": {
   "codemirror_mode": {
    "name": "ipython",
    "version": 3
   },
   "file_extension": ".py",
   "mimetype": "text/x-python",
   "name": "python",
   "nbconvert_exporter": "python",
   "pygments_lexer": "ipython3",
   "version": "3.9.19"
  }
 },
 "nbformat": 4,
 "nbformat_minor": 2
}
