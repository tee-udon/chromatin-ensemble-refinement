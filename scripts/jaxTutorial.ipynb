{
 "cells": [
  {
   "cell_type": "markdown",
   "metadata": {},
   "source": [
    "# Chromatin Ensemble Refinement \n",
    "## 1. Objective \n",
    "* Infer the ensemble of chromatin structures $X = {x_m}$ and their weights $\\alpha_m$ with $m \\in {1, ..., M}$.\n",
    "  * $M$ is the total number of structures. This is a predefined hyperparameter. This variable affects the accuracy and the stability of the ensemble refinement.\n",
    "* Infer $X$ from a set of single-cell distance matrix $D_n$ with $n \\in {1, ..., N}$.\n",
    "  * $\\mathcal{D} = {D_n}$ is the full sety of single-cell observations.\n",
    "\n",
    "## 2. Forward Model \n",
    "* Each structure $x_m = \\{\\vec{r_i}\\}_{i=1}^{N_{\\text{probes}}}$.\n",
    "  * $\\vec{r_i}$ is a row vector with 3 columns represent a 3D position of probe $i$. \n",
    "* Assume that each chromatin is a polymer chain and a Gaussian noise for the measurements. \n",
    "  * If the distance matrix is complete, then there is a one-to-one correspondence between 3D structure and the distance matrix $$x \\longleftrightarrow D$$\n",
    "where $D_{ij} = \\lVert \\vec{r_i} - \\vec{r_j} \\rVert _2$\n",
    "  \n",
    "\n",
    "## 3. Posterior\n",
    "* We will build on the methods developed for single-particle cryo-EM to develop the chromatin ensemble refinement pipeline.\n",
    "* Posterior can be written as $$ p(\\alpha, X| \\mathcal{D}) \\propto \\prod_{n=1}^N \\left[\\sum_{m=1}^M \\alpha_m \\, p(D_n|x_m) \\, p(\\alpha_m) \\, p(x_m) \\right]$$\n",
    "\n",
    "where $X = {x_m}$ is the ensemble of $M$ chromatin structures. \n",
    "\n",
    "* Here we assume that all single-cell measurements, the priors over weights $p(\\alpha)$ and structures $p(x_m)$ are independent.\n",
    "* Under the Gaussian noise model, we assume that all distance observations are i.i.d, so we can write $$p(D_n|x_m) = \\prod_{i=1}^{N_{\\text{probes}}}\\prod_{j=1}^{N_{\\text{probes}}}\\frac{1}{\\sqrt{2\\pi}\\sigma}\\exp{\\frac{(D_n^{ij}-D_m^{ij})^2}{2\\sigma^2}} = \\frac{1}{(\\sqrt{2\\pi}\\sigma)^{N^2_{\\text{probes}}}}\\exp{\\frac{-\\lVert D_n - D_m \\rVert _2^2}{2\\sigma^2}}$$"
   ]
  },
  {
   "cell_type": "code",
   "execution_count": 4,
   "metadata": {},
   "outputs": [],
   "source": [
    "import jax \n",
    "import scipy\n",
    "import jax.numpy as jnp\n",
    "import numpy as np\n",
    "import matplotlib.pyplot as plt\n",
    "from scipy.optimize import minimize \n",
    "from jax import grad, jit, vmap\n",
    "from jax import random\n",
    "from matplotlib import cm \n",
    "from mpl_toolkits.mplot3d import Axes3D\n",
    "from scipy.interpolate import CubicSpline\n",
    "from scipy.spatial.distance import pdist, squareform"
   ]
  },
  {
   "cell_type": "code",
   "execution_count": 5,
   "metadata": {},
   "outputs": [],
   "source": [
    "# define some helper functions \n",
    "\n",
    "def generate_gaussian_chain(num_monomers: int, \n",
    "                            mean_bond_length: float, \n",
    "                            std_bond_length: float):\n",
    "    \"\"\"Generate a Gaussian chain polymer \n",
    "    \n",
    "    Parameters\n",
    "    ----------\n",
    "    num_monomers\n",
    "    mean_bond_length\n",
    "    std_bond_length\n",
    "    \n",
    "    Return\n",
    "    ------\n",
    "    np.array \n",
    "    \n",
    "    Notes\n",
    "    -----\n",
    "    \"\"\" \n",
    "    # Generate steps: each step is a 3D vector \n",
    "    steps = np.random.normal(mean_bond_length, std_bond_length, size=(num_monomers, 3))\n",
    "    \n",
    "    # Compute positions by cumulative sum of steps\n",
    "    positions = np.cumsum(steps, axis=0)\n",
    "    \n",
    "    return positions"
   ]
  },
  {
   "cell_type": "code",
   "execution_count": 6,
   "metadata": {},
   "outputs": [],
   "source": [
    "def visualize_polymer(polymer_chain):\n",
    "    \"\"\"Plot a polymer chain in 3D space\n",
    "    \n",
    "    Parameters\n",
    "    ----------\n",
    "    polymer_chain\n",
    "    \n",
    "    Return\n",
    "    ------\n",
    "    \n",
    "    \"\"\"\n",
    "    # Extract each coordinate of this polymer chain \n",
    "    x = polymer_chain[:, 0]\n",
    "    y = polymer_chain[:, 1]\n",
    "    z = polymer_chain[:, 2]\n",
    "    \n",
    "    # Intepolate path between monomer to show connectivity within the polymer\n",
    "    # Parameterize by cumulative distance along the points\n",
    "    t = np.zeros(x.shape)\n",
    "    t[1:] = np.sqrt((x[1:] - x[:-1])**2 + (y[1:] - y[:-1])**2 + (z[1:] - z[:-1])**2)\n",
    "    t = np.cumsum(t)\n",
    "    \n",
    "    # Create a cubic spline interpolation for each dimension\n",
    "    cs_x = CubicSpline(t, x)\n",
    "    cs_y = CubicSpline(t, y)\n",
    "    cs_z = CubicSpline(t, z)\n",
    "    \n",
    "    # Normalize the monomer number \n",
    "    num_monomers = polymer_chain.shape[0] \n",
    "    norm_monomer_number = np.arange(0, num_monomers) / num_monomers\n",
    "    monomer_colors = cm.rainbow(norm_monomer_number)\n",
    "\n",
    "    # Generate fine samples for a smooth curve\n",
    "    t_fine = np.linspace(t[0], t[-1], 500)\n",
    "    x_fine = cs_x(t_fine)\n",
    "    y_fine = cs_y(t_fine)\n",
    "    z_fine = cs_z(t_fine)\n",
    "\n",
    "    # Create a new matplotlib figure and an axes instance (the 3d part)\n",
    "    fig = plt.figure()\n",
    "    ax = fig.add_subplot(111, projection='3d')\n",
    "\n",
    "    # Plot using scatter\n",
    "    ax.plot(x_fine, y_fine, z_fine, 'gray', label='Interpolated Path')\n",
    "    for i in range(num_monomers):\n",
    "        ax.scatter(x[i], y[i], z[i], color=monomer_colors[i], s=50, alpha=0.75) \n",
    "\n",
    "    # Labeling the axes (optional but recommended for clarity)\n",
    "    ax.set_xlabel('x')\n",
    "    ax.set_ylabel('y')\n",
    "    ax.set_zlabel('z')\n",
    "    \n",
    "    # Create a ScalarMappable with the same colormap and normalization as the scatter\n",
    "    # sm = cm.ScalarMappable(cmap='rainbow', norm=norm_monomer_number)\n",
    "    # sm.set_array([]) \n",
    "    \n",
    "    # Add colorbar\n",
    "    # cbar = plt.colorbar(sm, ax=ax)\n",
    "    # cbar.set_label('Monomer number')\n",
    "    \n",
    "    ax.legend()\n",
    "    plt.show()\n"
   ]
  },
  {
   "cell_type": "code",
   "execution_count": 24,
   "metadata": {},
   "outputs": [],
   "source": [
    "def compare_distance_maps(chain1, chain2, type1='polymer', type2='polymer'):\n",
    "    \"\"\" Plot distance maps of chain1 and chain2 side-by-side\n",
    "    \n",
    "    Parameters\n",
    "    ----------\n",
    "    chain1\n",
    "    chain2 \n",
    "    type1\n",
    "    type2\n",
    "\n",
    "    \"\"\"\n",
    "    assert type1 in ('polymer', 'distance_map')\n",
    "    assert type2 in ('polymer', 'distance_map')\n",
    "    # Calculate pairwise distance maps\n",
    "    if type1 == 'polymer':\n",
    "        distance_map1 = squareform(pdist(chain1))\n",
    "    else:\n",
    "        distance_map1 = chain1\n",
    "        \n",
    "    if type2 == 'polymer':\n",
    "        distance_map2 = squareform(pdist(chain2))\n",
    "    else:\n",
    "        distance_map2 = chain2\n",
    "    \n",
    "    # Determine the scale of colorbars\n",
    "    # Both colorbars show data in the same range \n",
    "    cm_min = 0\n",
    "    cm_max = np.max([np.max(distance_map1), np.max(distance_map2)])\n",
    "    \n",
    "    # Initialize new figure\n",
    "    fig, (ax1, ax2) = plt.subplots(1, 2, figsize=(12, 5))\n",
    "    \n",
    "    # Plot distance maps \n",
    "    heatmap1 = ax1.imshow(distance_map1, cmap='hot', aspect='auto', vmin=cm_min, vmax=cm_max)\n",
    "    ax1.set_title('Chain 1')\n",
    "    cb1 = fig.colorbar(heatmap1, ax=ax1)\n",
    "    cb1.set_label('Euclidean distance [a.u.]')\n",
    "    \n",
    "    heatmap2 = ax2.imshow(distance_map2, cmap='hot', aspect='auto', vmin=cm_min, vmax=cm_max)\n",
    "    ax2.set_title('Chain 2')\n",
    "    cb2 = fig.colorbar(heatmap2, ax=ax2)\n",
    "    cb2.set_label('Euclidean distance [a.u.]')\n",
    "    \n",
    "    # Display the figure\n",
    "    plt.tight_layout()\n",
    "    plt.show()"
   ]
  },
  {
   "cell_type": "code",
   "execution_count": 9,
   "metadata": {},
   "outputs": [],
   "source": [
    "# Example of a gaussian chain \n",
    "# with 1000 monomers, mean bond length = 10, and std bond length = 1\n",
    "num_monomers = 20\n",
    "mean_bond_length = 1\n",
    "std_bond_length = 2\n",
    "\n",
    "chain = generate_gaussian_chain(num_monomers, mean_bond_length, std_bond_length)"
   ]
  },
  {
   "cell_type": "code",
   "execution_count": 10,
   "metadata": {},
   "outputs": [
    {
     "data": {
      "image/png": "[encoded data removed]",
      "text/plain": [
       "<Figure size 432x288 with 1 Axes>"
      ]
     },
     "metadata": {
      "needs_background": "light"
     },
     "output_type": "display_data"
    }
   ],
   "source": [
    "visualize_polymer(chain)"
   ]
  },
  {
   "cell_type": "code",
   "execution_count": 11,
   "metadata": {},
   "outputs": [],
   "source": [
    "def calculate_gaussian_chain_conformation_prob(gaussian_polymer_chain):\n",
    "    \"\"\"Calculate the probability of a particular gaussian chain\n",
    "    \n",
    "    Parameters\n",
    "    ----------\n",
    "    gaussian_polymer_chain\n",
    "    \n",
    "    Return\n",
    "    ------\n",
    "    \n",
    "    \n",
    "    Notes\n",
    "    -----\n",
    "    \"\"\"\n",
    "    # Calculate square end-to-end distance of this gaussian chain\n",
    "    end_to_end_distance_sq = jnp.sum((gaussian_polymer_chain[0, :] - gaussian_polymer_chain[-1, :])**2)\n",
    "    \n",
    "    # Calculate Kuhn length or average bond length of this gaussian chain\n",
    "    mean_bond_length = jnp.mean(jnp.sum(jnp.diff(gaussian_polymer_chain, n=1, axis=0)**2, 1))\n",
    "    \n",
    "    # Calculate the number of monomers in this polymer chain\n",
    "    num_monomers = gaussian_polymer_chain.shape[0]\n",
    "    \n",
    "    # Calculate probability according to the theory note \n",
    "    prob = ((3/(2*np.pi*num_monomers*mean_bond_length**2)) ** 1.5) * jnp.exp(-3*end_to_end_distance_sq/(2*num_monomers*mean_bond_length**2))\n",
    "    \n",
    "    return prob    \n",
    "    \n",
    "    "
   ]
  },
  {
   "cell_type": "code",
   "execution_count": 12,
   "metadata": {},
   "outputs": [
    {
     "data": {
      "text/plain": [
       "Array(1.0311762e-06, dtype=float32)"
      ]
     },
     "execution_count": 12,
     "metadata": {},
     "output_type": "execute_result"
    }
   ],
   "source": [
    "calculate_gaussian_chain_conformation_prob(chain)"
   ]
  },
  {
   "cell_type": "code",
   "execution_count": 13,
   "metadata": {},
   "outputs": [],
   "source": [
    "# This is the likelihood function\n",
    "def calculate_distance_map_prob_given_gaussian_chain(theta):\n",
    "    \"\"\"Calculate the probability of observing a particular distance map given a \n",
    "    simulated gaussian chain and the standard deviation of measurement error \n",
    "    \n",
    "    Parameters\n",
    "    ----------\n",
    "    theta\n",
    "    sim_distance_map\n",
    "    num_probes\n",
    "    \n",
    "    Return\n",
    "    ------\n",
    "    \n",
    "    \n",
    "    Notes\n",
    "    -----\n",
    "    \"\"\"\n",
    "    \n",
    "    sim_distance_map_flat = theta[:-1]\n",
    "    measurement_error_std = jnp.exp(theta[-1])\n",
    "    \n",
    "    # Find the subtraction between empirical and simulated distance maps\n",
    "    subtraction_map = empirical_distance_map_flat - sim_distance_map_flat\n",
    "    subtraction_map_sq = subtraction_map ** 2\n",
    "    \n",
    "    # Calculate the normalization factor \n",
    "    # See the theory note\n",
    "    normalization_factor = 1/((jnp.sqrt(2*np.pi)*measurement_error_std)**((num_probes)**2))\n",
    "    \n",
    "    # Calculate the exponential decay term \n",
    "    # See the theory note\n",
    "    gaussian_term = jnp.exp(-(subtraction_map_sq)/(2*measurement_error_std**2))\n",
    "    \n",
    "    return normalization_factor * gaussian_term"
   ]
  },
  {
   "cell_type": "code",
   "execution_count": 51,
   "metadata": {},
   "outputs": [],
   "source": [
    "# This is the likelihood function\n",
    "def calculate_negative_loglikelihood(theta):\n",
    "    \"\"\"Calculate the probability of observing a particular distance map given a \n",
    "    simulated gaussian chain and the standard deviation of measurement error \n",
    "    \n",
    "    Parameters\n",
    "    ----------\n",
    "    theta\n",
    "    sim_distance_map\n",
    "    num_probes\n",
    "    \n",
    "    Return\n",
    "    ------\n",
    "    \n",
    "    \n",
    "    Notes\n",
    "    -----\n",
    "    \"\"\"\n",
    "    # Currently, learning measurement error does not work \n",
    "    # sim_distance_map_flat = theta[:-1]\n",
    "    # measurement_error_std = jnp.exp(theta[-1])\n",
    "    sim_distance_map_flat = theta\n",
    "    \n",
    "    # Find the subtraction between empirical and simulated distance maps\n",
    "    subtraction_map = jnp.squeeze(jnp.reshape(empirical_distance_map_flat, [1, -1])) - jnp.squeeze(jnp.reshape(sim_distance_map_flat, [1, -1]))\n",
    "    subtraction_map_sq = subtraction_map ** 2\n",
    "    \n",
    "    ll = (-0.5 * num_probes**2) * jnp.log(2*jnp.pi*measurement_error_std**2) - jnp.sum(subtraction_map_sq/(2*measurement_error_std**2))\n",
    "    return -ll / (num_probes ** 2)"
   ]
  },
  {
   "cell_type": "code",
   "execution_count": 52,
   "metadata": {},
   "outputs": [],
   "source": [
    "empirical_distance_map_flat = jnp.reshape(squareform(pdist(chain)), [1, -1])\n",
    "num_probes = num_monomers\n",
    "measurement_error_std = 1e-3"
   ]
  },
  {
   "cell_type": "code",
   "execution_count": 53,
   "metadata": {},
   "outputs": [],
   "source": [
    "jacobian = jax.jacfwd(calculate_negative_loglikelihood)\n",
    "hessian = jax.hessian(calculate_negative_loglikelihood)"
   ]
  },
  {
   "cell_type": "code",
   "execution_count": 54,
   "metadata": {},
   "outputs": [],
   "source": [
    "simulated_chain =  generate_gaussian_chain(num_monomers, mean_bond_length, std_bond_length)"
   ]
  },
  {
   "cell_type": "code",
   "execution_count": 55,
   "metadata": {},
   "outputs": [
    {
     "data": {
      "image/png": "[encoded data removed]",
      "text/plain": [
       "<Figure size 432x288 with 1 Axes>"
      ]
     },
     "metadata": {
      "needs_background": "light"
     },
     "output_type": "display_data"
    }
   ],
   "source": [
    "visualize_polymer(simulated_chain)"
   ]
  },
  {
   "cell_type": "code",
   "execution_count": 56,
   "metadata": {},
   "outputs": [
    {
     "data": {
      "image/png": "[encoded data removed]",
      "text/plain": [
       "<Figure size 864x360 with 4 Axes>"
      ]
     },
     "metadata": {
      "needs_background": "light"
     },
     "output_type": "display_data"
    }
   ],
   "source": [
    "compare_distance_maps(chain, simulated_chain)"
   ]
  },
  {
   "cell_type": "code",
   "execution_count": 60,
   "metadata": {},
   "outputs": [],
   "source": [
    "simulated_map_flatten = jnp.squeeze(jnp.reshape(squareform(pdist(simulated_chain)), [1, -1]))"
   ]
  },
  {
   "cell_type": "code",
   "execution_count": 61,
   "metadata": {},
   "outputs": [
    {
     "data": {
      "text/plain": [
       "(400,)"
      ]
     },
     "execution_count": 61,
     "metadata": {},
     "output_type": "execute_result"
    }
   ],
   "source": [
    "simulated_map_flatten.shape"
   ]
  },
  {
   "cell_type": "code",
   "execution_count": 62,
   "metadata": {},
   "outputs": [
    {
     "name": "stdout",
     "output_type": "stream",
     "text": [
      "Jacobian: [ 0.00000000e+00 -1.71422302e+03  5.30591113e+03  2.01416846e+03\n",
      "  1.98732246e+04  2.41045566e+04  1.34700342e+04  2.37457344e+04\n",
      "  2.18059492e+04  2.11447383e+04  1.98267676e+04  1.45231572e+04\n",
      "  2.06795234e+04  1.81045293e+04  2.46743770e+04  3.06593750e+04\n",
      "  3.31746523e+04  3.04123457e+04  2.99784434e+04  2.18773184e+04\n",
      " -1.71422302e+03  0.00000000e+00  4.54314453e+03 -6.43495703e+03\n",
      "  2.77869458e+03  1.06581953e+04  6.20788916e+03  1.27065508e+04\n",
      "  1.30177471e+04  1.23363848e+04  1.07185938e+04  4.10057764e+03\n",
      "  1.16129111e+04  8.88797754e+03  1.46473838e+04  2.12624824e+04\n",
      "  2.46362598e+04  2.30373848e+04  2.21149922e+04  1.44857021e+04\n",
      "  5.30591113e+03  4.54314453e+03  0.00000000e+00  1.84679858e+03\n",
      "  1.12451963e+04  1.49338721e+04  5.28631445e+03  1.28061279e+04\n",
      "  1.12834150e+04  1.03877334e+04  7.00130420e+03 -1.69160370e+02\n",
      "  8.13847998e+03  5.81940186e+03  1.16490410e+04  1.85734609e+04\n",
      "  2.11363555e+04  1.96405371e+04  1.83981895e+04  1.16966299e+04\n",
      "  2.01416846e+03 -6.43495703e+03  1.84679858e+03  0.00000000e+00\n",
      "  3.80421753e+03  5.51898145e+03 -7.47469824e+03  5.13615625e+03\n",
      "  2.07090869e+03  2.89607520e+03 -4.37178589e+02 -6.53671240e+03\n",
      "  4.24375549e+02 -2.09155078e+03  4.75874414e+03  1.03580234e+04\n",
      "  1.24565547e+04  1.00877998e+04  9.43745605e+03  2.16280933e+03\n",
      "  1.98732246e+04  2.77869458e+03  1.12451963e+04  3.80421753e+03\n",
      "  0.00000000e+00  9.93503906e+02 -9.65123242e+03  1.07859248e+04\n",
      "  5.46611084e+03  7.20420605e+03  3.20802222e+03 -2.38220947e+03\n",
      "  2.78839819e+03 -9.74068665e+02  6.39057178e+03  1.10056924e+04\n",
      "  1.24928379e+04  9.98543262e+03  1.03306533e+04  3.29000000e+03\n",
      "  2.41045566e+04  1.06581953e+04  1.49338721e+04  5.51898145e+03\n",
      "  9.93503906e+02  0.00000000e+00 -8.72208105e+03  9.06547266e+03\n",
      "  5.32298828e+03  7.13626611e+03  1.33610974e+03 -5.79730518e+03\n",
      "  3.92346375e+02 -3.59061719e+03  3.16201221e+03  7.99523828e+03\n",
      "  9.81255566e+03  7.92767480e+03  7.48725439e+03  9.83853333e+02\n",
      "  1.34700342e+04  6.20788916e+03  5.28631445e+03 -7.47469824e+03\n",
      " -9.65123242e+03 -8.72208105e+03  0.00000000e+00  2.31448169e+03\n",
      "  5.98049365e+03  5.17553809e+03  6.32771875e+03  9.47016479e+02\n",
      "  6.37796875e+03  2.84943091e+03  8.52988477e+03  1.50930400e+04\n",
      "  1.85704512e+04  1.67201367e+04  1.64916133e+04  9.08625586e+03\n",
      "  2.37457344e+04  1.27065508e+04  1.28061279e+04  5.13615625e+03\n",
      "  1.07859248e+04  9.06547266e+03  2.31448169e+03  0.00000000e+00\n",
      " -3.47717065e+03 -4.25608936e+03 -2.03360669e+03 -2.69843677e+03\n",
      " -2.54380933e+03 -5.27919043e+03  1.56431433e+03  6.93376562e+03\n",
      "  9.22322754e+03  5.36709326e+03  5.28339355e+03 -2.68925659e+03\n",
      "  2.18059492e+04  1.30177471e+04  1.12834150e+04  2.07090869e+03\n",
      "  5.46611084e+03  5.32298828e+03  5.98049365e+03 -3.47717065e+03\n",
      "  0.00000000e+00 -1.01058600e+03  7.35521317e+00 -3.43610278e+03\n",
      " -6.52694702e+02 -3.39190723e+03  2.62087817e+03  8.64740625e+03\n",
      "  1.16570049e+04  8.64191602e+03  7.54505176e+03  8.10146332e+01\n",
      "  2.11447383e+04  1.23363848e+04  1.03877334e+04  2.89607520e+03\n",
      "  7.20420605e+03  7.13626611e+03  5.17553809e+03 -4.25608936e+03\n",
      " -1.01058600e+03  0.00000000e+00 -1.38660144e+03 -4.47915430e+03\n",
      " -1.12371558e+03 -2.66340259e+03  3.09257739e+03  8.75721973e+03\n",
      "  1.15702988e+04  8.32098926e+03  6.12375244e+03 -9.77501892e+02\n",
      "  1.98267676e+04  1.07185938e+04  7.00130420e+03 -4.37178589e+02\n",
      "  3.20802222e+03  1.33610974e+03  6.32771875e+03 -2.03360669e+03\n",
      "  7.35521317e+00 -1.38660144e+03  0.00000000e+00 -2.28227588e+03\n",
      "  1.18719336e+03 -9.65796692e+02  4.58690869e+03  1.19462959e+04\n",
      "  1.41905117e+04  1.16952822e+04  1.05546816e+04  4.75638867e+03\n",
      "  1.45231572e+04  4.10057764e+03 -1.69160370e+02 -6.53671240e+03\n",
      " -2.38220947e+03 -5.79730518e+03  9.47016479e+02 -2.69843677e+03\n",
      " -3.43610278e+03 -4.47915430e+03 -2.28227588e+03  0.00000000e+00\n",
      "  4.28402979e+03  2.82345532e+03  9.56842871e+03  1.77847969e+04\n",
      "  1.84625312e+04  1.61212666e+04  1.73076992e+04  1.23842861e+04\n",
      "  2.06795234e+04  1.16129111e+04  8.13847998e+03  4.24375549e+02\n",
      "  2.78839819e+03  3.92346375e+02  6.37796875e+03 -2.54380933e+03\n",
      " -6.52694702e+02 -1.12371558e+03  1.18719336e+03  4.28402979e+03\n",
      "  0.00000000e+00 -2.11386328e+03  3.00845020e+03  1.06672314e+04\n",
      "  1.28298574e+04  1.00491260e+04  8.79865234e+03  3.66948120e+03\n",
      "  1.81045293e+04  8.88797754e+03  5.81940186e+03 -2.09155078e+03\n",
      " -9.74068665e+02 -3.59061719e+03  2.84943091e+03 -5.27919043e+03\n",
      " -3.39190723e+03 -2.66340259e+03 -9.65796692e+02  2.82345532e+03\n",
      " -2.11386328e+03  0.00000000e+00  2.19285425e+03  1.10818096e+04\n",
      "  1.33901240e+04  1.04797061e+04  8.49857520e+03  5.15457617e+03\n",
      "  2.46743770e+04  1.46473838e+04  1.16490410e+04  4.75874414e+03\n",
      "  6.39057178e+03  3.16201221e+03  8.52988477e+03  1.56431433e+03\n",
      "  2.62087817e+03  3.09257739e+03  4.58690869e+03  9.56842871e+03\n",
      "  3.00845020e+03  2.19285425e+03  0.00000000e+00  5.21232666e+03\n",
      "  4.15478467e+03  1.25159021e+03  8.32457581e+02 -2.94134613e+02\n",
      "  3.06593750e+04  2.12624824e+04  1.85734609e+04  1.03580234e+04\n",
      "  1.10056924e+04  7.99523828e+03  1.50930400e+04  6.93376562e+03\n",
      "  8.64740625e+03  8.75721973e+03  1.19462959e+04  1.77847969e+04\n",
      "  1.06672314e+04  1.10818096e+04  5.21232666e+03  0.00000000e+00\n",
      " -6.05750084e+01 -4.98772754e+03 -3.18732373e+03 -3.65855688e+03\n",
      "  3.31746523e+04  2.46362598e+04  2.11363555e+04  1.24565547e+04\n",
      "  1.24928379e+04  9.81255566e+03  1.85704512e+04  9.22322754e+03\n",
      "  1.16570049e+04  1.15702988e+04  1.41905117e+04  1.84625312e+04\n",
      "  1.28298574e+04  1.33901240e+04  4.15478467e+03 -6.05750084e+01\n",
      "  0.00000000e+00  8.17331665e+02 -1.01767303e+03  1.67869202e+03\n",
      "  3.04123457e+04  2.30373848e+04  1.96405371e+04  1.00877998e+04\n",
      "  9.98543262e+03  7.92767480e+03  1.67201367e+04  5.36709326e+03\n",
      "  8.64191602e+03  8.32098926e+03  1.16952822e+04  1.61212666e+04\n",
      "  1.00491260e+04  1.04797061e+04  1.25159021e+03 -4.98772754e+03\n",
      "  8.17331665e+02  0.00000000e+00 -6.53125244e+03 -3.50322510e+03\n",
      "  2.99784434e+04  2.21149922e+04  1.83981895e+04  9.43745605e+03\n",
      "  1.03306533e+04  7.48725439e+03  1.64916133e+04  5.28339355e+03\n",
      "  7.54505176e+03  6.12375244e+03  1.05546816e+04  1.73076992e+04\n",
      "  8.79865234e+03  8.49857520e+03  8.32457581e+02 -3.18732373e+03\n",
      " -1.01767303e+03 -6.53125244e+03  0.00000000e+00  2.79193945e+03\n",
      "  2.18773184e+04  1.44857021e+04  1.16966299e+04  2.16280933e+03\n",
      "  3.29000000e+03  9.83853333e+02  9.08625586e+03 -2.68925659e+03\n",
      "  8.10146332e+01 -9.77501892e+02  4.75638867e+03  1.23842861e+04\n",
      "  3.66948120e+03  5.15457617e+03 -2.94134613e+02 -3.65855688e+03\n",
      "  1.67869202e+03 -3.50322510e+03  2.79193945e+03  0.00000000e+00]\n",
      "\n",
      "Hessian: [[2500.    0.    0. ...    0.    0.    0.]\n",
      " [   0. 2500.    0. ...    0.    0.    0.]\n",
      " [   0.    0. 2500. ...    0.    0.    0.]\n",
      " ...\n",
      " [   0.    0.    0. ... 2500.    0.    0.]\n",
      " [   0.    0.    0. ...    0. 2500.    0.]\n",
      " [   0.    0.    0. ...    0.    0. 2500.]]\n",
      "\n"
     ]
    }
   ],
   "source": [
    "theta = simulated_map_flatten\n",
    "print(f'Jacobian: {jacobian(theta)}\\n')\n",
    "print(f'Hessian: {hessian(theta)}\\n')"
   ]
  },
  {
   "cell_type": "code",
   "execution_count": 63,
   "metadata": {},
   "outputs": [
    {
     "name": "stdout",
     "output_type": "stream",
     "text": [
      "         Current function value: -5.988151\n",
      "         Iterations: 33\n",
      "         Function evaluations: 187\n",
      "         Gradient evaluations: 174\n",
      "Convergence Achieved:  False\n",
      "Number of Function Evaluations:  187\n"
     ]
    },
    {
     "name": "stderr",
     "output_type": "stream",
     "text": [
      "/Users/teeu/venv/lib/python3.9/site-packages/scipy/optimize/_minimize.py:708: OptimizeWarning: Desired error not necessarily achieved due to precision loss.\n",
      "  res = _minimize_bfgs(fun, x0, args, jac, callback, **options)\n"
     ]
    }
   ],
   "source": [
    "theta_start = theta\n",
    "result_distance_map = minimize(calculate_negative_loglikelihood, theta_start, method='BFGS',\n",
    "                               options={'disp': True, 'gtol':1e-6*num_monomers**2}, jac=jacobian)\n",
    "\n",
    "print(\"Convergence Achieved: \", result_distance_map.success)\n",
    "print(\"Number of Function Evaluations: \", result_distance_map.nfev)"
   ]
  },
  {
   "cell_type": "code",
   "execution_count": 64,
   "metadata": {},
   "outputs": [
    {
     "data": {
      "text/plain": [
       "(400,)"
      ]
     },
     "execution_count": 64,
     "metadata": {},
     "output_type": "execute_result"
    }
   ],
   "source": [
    "theta_start.shape"
   ]
  },
  {
   "cell_type": "code",
   "execution_count": 65,
   "metadata": {},
   "outputs": [
    {
     "data": {
      "text/plain": [
       "  message: Desired error not necessarily achieved due to precision loss.\n",
       "  success: False\n",
       "   status: 2\n",
       "      fun: -5.9881510734558105\n",
       "        x: [ 0.000e+00  4.167e+00 ...  3.557e+00  0.000e+00]\n",
       "      nit: 33\n",
       "      jac: [ 0.000e+00  1.788e-02 ... -2.265e-02  0.000e+00]\n",
       " hess_inv: [[ 1.000e+00  0.000e+00 ...  0.000e+00  0.000e+00]\n",
       "            [ 0.000e+00  9.941e-01 ... -9.612e-04  0.000e+00]\n",
       "            ...\n",
       "            [ 0.000e+00 -9.612e-04 ...  9.961e-01  0.000e+00]\n",
       "            [ 0.000e+00  0.000e+00 ...  0.000e+00  1.000e+00]]\n",
       "     nfev: 187\n",
       "     njev: 174"
      ]
     },
     "execution_count": 65,
     "metadata": {},
     "output_type": "execute_result"
    }
   ],
   "source": [
    "result_distance_map"
   ]
  },
  {
   "cell_type": "code",
   "execution_count": 73,
   "metadata": {},
   "outputs": [
    {
     "data": {
      "text/plain": [
       "array([ 0.        ,  0.01788139, -0.05722046,  0.00596046, -0.12755394,\n",
       "       -0.15437603, -0.10371208, -0.16212463, -0.20980835, -0.12636185,\n",
       "       -0.07867813, -0.1001358 , -0.23126602,  0.00476837, -0.23841858,\n",
       "       -0.30517578, -0.32901764, -0.0667572 , -0.24795532, -0.2193451 ,\n",
       "        0.01788139,  0.        , -0.04529953,  0.05125999, -0.03695488,\n",
       "       -0.05364418, -0.0500679 , -0.07867813,  0.03814697, -0.02145767,\n",
       "       -0.10251999,  0.02384186, -0.09536743, -0.00476837, -0.17166138,\n",
       "       -0.16212463, -0.23365021, -0.166893  , -0.07629395, -0.06198883,\n",
       "       -0.05722046, -0.04529953,  0.        , -0.01788139, -0.08046627,\n",
       "       -0.14066696, -0.08583069, -0.12636185, -0.06914139, -0.07152557,\n",
       "       -0.07390976, -0.08583069, -0.10490417, -0.04768372, -0.14305115,\n",
       "       -0.10967255, -0.24318695, -0.00476837, -0.20980835, -0.2002716 ,\n",
       "        0.00596046,  0.05125999, -0.01788139,  0.        , -0.02145767,\n",
       "       -0.00476837,  0.09298325, -0.08583069, -0.00476837, -0.00476837,\n",
       "       -0.05960464,  0.0667572 ,  0.0333786 ,  0.04291534,  0.08106232,\n",
       "       -0.02861023, -0.08106232, -0.05722046,  0.01907349,  0.04768372,\n",
       "       -0.12755394, -0.03695488, -0.08046627, -0.02145767,  0.        ,\n",
       "       -0.0166893 ,  0.07867813, -0.06198883, -0.05602837, -0.10728836,\n",
       "        0.0333786 , -0.0333786 ,  0.01192093, -0.02384186, -0.04768372,\n",
       "       -0.07629395,  0.05722046, -0.02384186, -0.14781952, -0.07152557,\n",
       "       -0.15437603, -0.05364418, -0.14066696, -0.00476837, -0.0166893 ,\n",
       "        0.        ,  0.03457069, -0.05245209, -0.05960464, -0.05125999,\n",
       "       -0.01907349,  0.0500679 ,  0.00953674,  0.14305115, -0.19550323,\n",
       "       -0.09059906, -0.10967255, -0.08583069,  0.04291534,  0.0333786 ,\n",
       "       -0.10371208, -0.0500679 , -0.08583069,  0.09298325,  0.07867813,\n",
       "        0.03457069,  0.        , -0.01788139, -0.04053116, -0.0500679 ,\n",
       "       -0.05602837, -0.05841255, -0.03576279, -0.05722046, -0.08106232,\n",
       "       -0.1335144 , -0.11920929, -0.04291534, -0.20980835, -0.16212463,\n",
       "       -0.16212463, -0.07867813, -0.12636185, -0.08583069, -0.06198883,\n",
       "       -0.05245209, -0.01788139,  0.        ,  0.02503395,  0.03814697,\n",
       "        0.00238419,  0.00357628,  0.05960464,  0.05245209, -0.02384186,\n",
       "       -0.10490417, -0.00953674, -0.00953674, -0.16212463,  0.07152557,\n",
       "       -0.20980835,  0.03814697, -0.06914139, -0.00476837, -0.05602837,\n",
       "       -0.05960464, -0.04053116,  0.02503395,  0.        ,  0.01192093,\n",
       "        0.00953674,  0.01311302,  0.00119209,  0.10728836, -0.09059906,\n",
       "        0.01192093, -0.09536743,  0.05722046, -0.00476837,  0.02384186,\n",
       "       -0.12636185, -0.02145767, -0.07152557, -0.00476837, -0.10728836,\n",
       "       -0.05125999, -0.0500679 ,  0.03814697,  0.01192093,  0.        ,\n",
       "        0.00596046,  0.01788139, -0.00119209, -0.02145767,  0.00476837,\n",
       "       -0.02145767, -0.02145767, -0.16212463, -0.166893  ,  0.01907349,\n",
       "       -0.07867813, -0.10251999, -0.07390976, -0.05960464,  0.0333786 ,\n",
       "       -0.01907349, -0.05602837,  0.00238419,  0.00953674,  0.00596046,\n",
       "        0.        ,  0.03576279, -0.00715256,  0.02384186, -0.00953674,\n",
       "       -0.09059906, -0.15258789, -0.04529953, -0.09059906, -0.00476837,\n",
       "       -0.1001358 ,  0.02384186, -0.08583069,  0.0667572 , -0.0333786 ,\n",
       "        0.0500679 , -0.05841255,  0.00357628,  0.01311302,  0.01788139,\n",
       "        0.03576279,  0.        , -0.02503395,  0.01430511, -0.08106232,\n",
       "       -0.03099442, -0.1001358 , -0.14543533, -0.09059906, -0.0667572 ,\n",
       "       -0.23126602, -0.09536743, -0.10490417,  0.0333786 ,  0.01192093,\n",
       "        0.00953674, -0.03576279,  0.05960464,  0.00119209, -0.00119209,\n",
       "       -0.00715256, -0.02503395,  0.        ,  0.03099442, -0.00953674,\n",
       "       -0.05245209, -0.04053116, -0.04768372, -0.08583069, -0.0834465 ,\n",
       "        0.00476837, -0.00476837, -0.04768372,  0.04291534, -0.02384186,\n",
       "        0.14305115, -0.05722046,  0.05245209,  0.10728836, -0.02145767,\n",
       "        0.02384186,  0.01430511,  0.03099442,  0.        , -0.01132488,\n",
       "       -0.08106232, -0.05125999, -0.07390976, -0.04768372, -0.01907349,\n",
       "       -0.23841858, -0.17166138, -0.14305115,  0.08106232, -0.04768372,\n",
       "       -0.19550323, -0.08106232, -0.02384186, -0.09059906,  0.00476837,\n",
       "       -0.00953674, -0.08106232, -0.00953674, -0.01132488,  0.        ,\n",
       "       -0.03159046, -0.0166893 , -0.0500679 , -0.01430511, -0.00715256,\n",
       "       -0.30517578, -0.16212463, -0.10967255, -0.02861023, -0.07629395,\n",
       "       -0.09059906, -0.1335144 , -0.10490417,  0.01192093, -0.02145767,\n",
       "       -0.09059906, -0.03099442, -0.05245209, -0.08106232, -0.03159046,\n",
       "        0.        ,  0.00357628,  0.02980232,  0.03457069,  0.02861023,\n",
       "       -0.32901764, -0.23365021, -0.24318695, -0.08106232,  0.05722046,\n",
       "       -0.10967255, -0.11920929, -0.00953674, -0.09536743, -0.02145767,\n",
       "       -0.15258789, -0.1001358 , -0.04053116, -0.05125999, -0.0166893 ,\n",
       "        0.00357628,  0.        , -0.0166893 ,  0.00119209,  0.02980232,\n",
       "       -0.0667572 , -0.166893  , -0.00476837, -0.05722046, -0.02384186,\n",
       "       -0.08583069, -0.04291534, -0.00953674,  0.05722046, -0.16212463,\n",
       "       -0.04529953, -0.14543533, -0.04768372, -0.07390976, -0.0500679 ,\n",
       "        0.02980232, -0.0166893 ,  0.        ,  0.05841255,  0.02026558,\n",
       "       -0.24795532, -0.07629395, -0.20980835,  0.01907349, -0.14781952,\n",
       "        0.04291534, -0.20980835, -0.16212463, -0.00476837, -0.166893  ,\n",
       "       -0.09059906, -0.09059906, -0.08583069, -0.04768372, -0.01430511,\n",
       "        0.03457069,  0.00119209,  0.05841255,  0.        , -0.02264977,\n",
       "       -0.2193451 , -0.06198883, -0.2002716 ,  0.04768372, -0.07152557,\n",
       "        0.0333786 , -0.16212463,  0.07152557,  0.02384186,  0.01907349,\n",
       "       -0.00476837, -0.0667572 , -0.0834465 , -0.01907349, -0.00715256,\n",
       "        0.02861023,  0.02980232,  0.02026558, -0.02264977,  0.        ],\n",
       "      dtype=float32)"
      ]
     },
     "execution_count": 73,
     "metadata": {},
     "output_type": "execute_result"
    }
   ],
   "source": [
    "result_distance_map.jac"
   ]
  },
  {
   "cell_type": "code",
   "execution_count": 69,
   "metadata": {},
   "outputs": [
    {
     "data": {
      "text/plain": [
       "array([[ 0.        ,  4.16682679,  3.19403851,  4.14172688,  1.56482924,\n",
       "         2.47650997,  6.67699319,  5.05907367,  6.93220502,  8.60459026,\n",
       "        10.75404752, 11.98748196, 14.20828585, 19.04627398, 19.40913952,\n",
       "        21.20270641, 22.98489675, 25.20962266, 26.00054278, 29.47585207],\n",
       "       [ 4.16682679,  0.        ,  2.67303514,  5.50047616,  5.47999165,\n",
       "         5.00792837,  7.25370164,  8.35050566,  8.97192575, 10.86969874,\n",
       "        12.78461964, 14.35562736, 16.13313221, 20.87732375, 21.64265048,\n",
       "        23.12054112, 24.41580477, 26.32839432, 27.45541373, 30.98350672],\n",
       "       [ 3.19403851,  2.67303514,  0.        ,  2.9275606 ,  3.84329026,\n",
       "         4.05620174,  8.52110712,  8.05860787,  9.28100396, 10.78490028,\n",
       "        13.16946691, 14.75164822, 16.60086203, 21.36525052, 21.91386898,\n",
       "        23.69057312, 25.23637444, 27.31647042, 28.43747035, 31.95740247],\n",
       "       [ 4.14172688,  5.50047616,  2.9275606 ,  0.        ,  3.70973724,\n",
       "         5.20521922, 10.61936635,  8.74797783, 10.68138331, 11.86364657,\n",
       "        14.45609243, 15.82689713, 17.88536126, 22.63146364, 22.91354902,\n",
       "        24.92120693, 26.7476871 , 28.9919368 , 29.94863446, 33.42379494],\n",
       "       [ 1.56482924,  5.47999165,  3.84329026,  3.70973724,  0.        ,\n",
       "         2.58848059,  7.69252628,  5.0464962 ,  7.26899477,  8.55954429,\n",
       "        10.95039992, 12.15560719, 14.37316747, 19.1542102 , 19.3669411 ,\n",
       "        21.33992706, 23.27224159, 25.58991167, 26.37057088, 29.82034922],\n",
       "       [ 2.47650997,  5.00792837,  4.05620174,  5.20521922,  2.58848059,\n",
       "         0.        ,  6.09043585,  4.61209108,  5.62182432,  6.81849359,\n",
       "         9.40856971, 11.11583777, 12.82545545, 17.5523735 , 17.99529504,\n",
       "        19.92282595, 21.61824042, 23.82628405, 24.96014349, 28.46225214],\n",
       "       [ 6.67699319,  7.25370164,  8.52110712, 10.61936635,  7.69252628,\n",
       "         6.09043585,  0.        ,  5.09808328,  3.45760753,  5.88344387,\n",
       "         6.26302028,  7.71722606,  9.32635344, 14.01542755, 14.90820229,\n",
       "        16.06256114, 17.30866395, 19.25470056, 20.20498441, 23.73030628],\n",
       "       [ 5.05907367,  8.35050566,  8.05860787,  8.74797783,  5.0464962 ,\n",
       "         4.61209108,  5.09808328,  0.        ,  3.32307459,  4.82982758,\n",
       "         6.33933519,  7.13883316,  9.66743804, 14.473212  , 14.60524888,\n",
       "        16.45908709, 18.52697956, 20.93707521, 21.44618895, 24.85889304],\n",
       "       [ 6.93220502,  8.97192575,  9.28100396, 10.68138331,  7.26899477,\n",
       "         5.62182432,  3.45760753,  3.32307459,  0.        ,  2.60168303,\n",
       "         3.89656219,  5.77692369,  7.33987986, 12.16287909, 12.71991114,\n",
       "        14.41151592, 16.09099322, 18.34034288, 19.33869281, 22.8414749 ],\n",
       "       [ 8.60459026, 10.86969874, 10.78490028, 11.86364657,  8.55954429,\n",
       "         6.81849359,  5.88344387,  4.82982758,  2.60168303,  0.        ,\n",
       "         3.28892651,  5.69148105,  6.31767767, 10.84298748, 11.27659486,\n",
       "        13.34564905, 15.13308165, 17.47948047, 18.76599135, 22.22359024],\n",
       "       [10.75404752, 12.78461964, 13.16946691, 14.45609243, 10.95039992,\n",
       "         9.40856971,  6.26302028,  6.33933519,  3.89656219,  3.28892651,\n",
       "         0.        ,  2.90431671,  3.45645096,  8.30449568,  8.86322577,\n",
       "        10.5303292 , 12.32671402, 14.70556468, 15.66652702, 19.14254908],\n",
       "       [11.98748196, 14.35562736, 14.75164822, 15.82689713, 12.15560719,\n",
       "        11.11583777,  7.71722606,  7.13883316,  5.77692369,  5.69148105,\n",
       "         2.90431671,  0.        ,  3.65193448,  8.00591895,  8.08297303,\n",
       "         9.50197678, 11.74198613, 14.27687636, 14.38755347, 17.7547926 ],\n",
       "       [14.20828585, 16.13313221, 16.60086203, 17.88536126, 14.37316747,\n",
       "        12.82545545,  9.32635344,  9.66743804,  7.33987986,  6.31767767,\n",
       "         3.45645096,  3.65193448,  0.        ,  4.87364083,  5.60519449,\n",
       "         7.1216843 ,  8.96192108, 11.45564494, 12.47265828, 15.91201114],\n",
       "       [19.04627398, 20.87732375, 21.36525052, 22.63146364, 19.1542102 ,\n",
       "        17.5523735 , 14.01542755, 14.473212  , 12.16287909, 10.84298748,\n",
       "         8.30449568,  8.00591895,  4.87364083,  0.        ,  2.3160435 ,\n",
       "         3.05027589,  4.73508213,  7.40604909,  8.85825439, 12.04833783],\n",
       "       [19.40913952, 21.64265048, 21.91386898, 22.91354902, 19.3669411 ,\n",
       "        17.99529504, 14.90820229, 14.60524888, 12.71991114, 11.27659486,\n",
       "         8.86322577,  8.08297303,  5.60519449,  2.3160435 ,  0.        ,\n",
       "         3.07354969,  5.91000597,  8.70268467,  9.30762773, 12.21490068],\n",
       "       [21.20270641, 23.12054112, 23.69057312, 24.92120693, 21.33992706,\n",
       "        19.92282595, 16.06256114, 16.45908709, 14.41151592, 13.34564905,\n",
       "        10.5303292 ,  9.50197678,  7.1216843 ,  3.05027589,  3.07354969,\n",
       "         0.        ,  3.33193463,  6.12223505,  6.25048562,  9.29413392],\n",
       "       [22.98489675, 24.41580477, 25.23637444, 26.7476871 , 23.27224159,\n",
       "        21.61824042, 17.30866395, 18.52697956, 16.09099322, 15.13308165,\n",
       "        12.32671402, 11.74198613,  8.96192108,  4.73508213,  5.91000597,\n",
       "         3.33193463,  0.        ,  2.84353029,  4.80172908,  7.87570278],\n",
       "       [25.20962266, 26.32839432, 27.31647042, 28.9919368 , 25.58991167,\n",
       "        23.82628405, 19.25470056, 20.93707521, 18.34034288, 17.47948047,\n",
       "        14.70556468, 14.27687636, 11.45564494,  7.40604909,  8.70268467,\n",
       "         6.12223505,  2.84353029,  0.        ,  4.57715747,  6.94186234],\n",
       "       [26.00054278, 27.45541373, 28.43747035, 29.94863446, 26.37057088,\n",
       "        24.96014349, 20.20498441, 21.44618895, 19.33869281, 18.76599135,\n",
       "        15.66652702, 14.38755347, 12.47265828,  8.85825439,  9.30762773,\n",
       "         6.25048562,  4.80172908,  4.57715747,  0.        ,  3.55697328],\n",
       "       [29.47585207, 30.98350672, 31.95740247, 33.42379494, 29.82034922,\n",
       "        28.46225214, 23.73030628, 24.85889304, 22.8414749 , 22.22359024,\n",
       "        19.14254908, 17.7547926 , 15.91201114, 12.04833783, 12.21490068,\n",
       "         9.29413392,  7.87570278,  6.94186234,  3.55697328,  0.        ]])"
      ]
     },
     "execution_count": 69,
     "metadata": {},
     "output_type": "execute_result"
    }
   ],
   "source": [
    "result_distance_map.x.reshape([num_monomers, num_monomers])"
   ]
  },
  {
   "cell_type": "code",
   "execution_count": 71,
   "metadata": {},
   "outputs": [
    {
     "data": {
      "text/plain": [
       "(1, 400)"
      ]
     },
     "execution_count": 71,
     "metadata": {},
     "output_type": "execute_result"
    }
   ],
   "source": [
    "empirical_distance_map_flat.shape"
   ]
  },
  {
   "cell_type": "code",
   "execution_count": 72,
   "metadata": {},
   "outputs": [
    {
     "data": {
      "image/png": "[encoded data removed]",
      "text/plain": [
       "<Figure size 864x360 with 4 Axes>"
      ]
     },
     "metadata": {
      "needs_background": "light"
     },
     "output_type": "display_data"
    }
   ],
   "source": [
    "compare_distance_maps(chain, result_distance_map.x.reshape([num_monomers, num_monomers]), type2='distance_map')"
   ]
  },
  {
   "cell_type": "markdown",
   "metadata": {},
   "source": [
    "## Maximum Likelihood Estimation using Jax\n",
    "\n",
    "The following part of this notebook will provide a brief introduction to Jax and how to use automatic differentiation (AD) to perform maximum likelihood estimation (MLE). "
   ]
  },
  {
   "cell_type": "code",
   "execution_count": 1,
   "metadata": {},
   "outputs": [],
   "source": [
    "# import packages \n",
    "import jax\n",
    "import numpy as np \n",
    "import jax.numpy as jnp\n",
    "from scipy.optimize import minimize \n",
    "from jax.scipy import  optimize "
   ]
  },
  {
   "cell_type": "markdown",
   "metadata": {},
   "source": [
    "Then we generate data such that we can use Maximum Likelihood to estimate the parameters "
   ]
  },
  {
   "cell_type": "code",
   "execution_count": 3,
   "metadata": {},
   "outputs": [],
   "source": [
    "# Number of observations \n",
    "N = 5000 \n",
    "\n",
    "# Number of parameters \n",
    "K = 2 \n",
    "\n",
    "# True parameter values \n",
    "# beta = 2 * np.random.randn(K)\n",
    "beta = 2 * np.ones(K) # np.array([2, 2])\n",
    "\n",
    "# True error standard deviation \n",
    "sigma = 0.5\n",
    "\n",
    "def datagen(N, beta, sigma):\n",
    "    \"\"\"\n",
    "    Generates data for OLS regression \n",
    "    N: number of observations \n",
    "    beta: K x 1 true parameter values \n",
    "    sigma: standard deviation of error \n",
    "    \"\"\"\n",
    "    \n",
    "    K = beta.shape[0]\n",
    "    x_= 10 + 2 * np.random.randn(N, K-1)\n",
    "    \n",
    "    # x is the N x K data matrix with column of ones \n",
    "    # the first column estimates a constant\n",
    "    x = np.c_[np.ones(N), x_]\n",
    "    \n",
    "    # y is the N x 1 vector of dependent variables \n",
    "    y = x.dot(beta) + sigma*np.random.randn(N)\n",
    "    \n",
    "    return y,x \n",
    "\n",
    "y, x = datagen(N, beta, sigma)"
   ]
  },
  {
   "cell_type": "markdown",
   "metadata": {},
   "source": [
    "The following block of code defines the negative log-likelihood function. We have altered the return opf the likelihood function with the following code: \n",
    "\n",
    "```python\n",
    "return (-1 * ll)/N\n",
    "```\n",
    "\n",
    "This rescaled likelihood function can help with the convergence of the optimization routine. \n",
    "\n",
    "Here the model is \n",
    "$$ Y = \\beta^TX + \\epsilon$$\n",
    "where $\\epsilon \\approx \\mathcal{N}(0, \\sigma^2)$.\n",
    "\n",
    "Therefore, $Y - \\beta^TX$ should be normally distributed around 0 with standard deviation = $\\sigma$.\n",
    "\n",
    "The likelihood function for this estimation can then be written as \n",
    "$$\\mathcal{L}(Y; X, \\beta, \\epsilon) = \\prod_{i=1}^N\\left(\\frac{1}{\\sqrt{2\\pi\\sigma^2}}\\right)\\exp\\left[\\frac{-(Y_i - \\beta^TX_i)^2}{2\\sigma^2} \\right]\n",
    "$$\n",
    "\n",
    "The negative log-likehood then equals to \n",
    "$$\n",
    "\\mathcal{l}(Y; X, \\beta, \\epsilon) = \\sum_{i=1}^N\\left\\{\\left[\\frac{1}{2}\\log \\left(2\\pi\\sigma^2\\right)\\right] + \\left[ \\frac{(Y_i - \\beta^TX_i)^2}{2\\sigma^2}\\right]\\right\\}\n",
    "$$\n"
   ]
  },
  {
   "cell_type": "code",
   "execution_count": 7,
   "metadata": {},
   "outputs": [],
   "source": [
    "def neg_loglike(theta):\n",
    "    beta = theta[:-1]\n",
    "    \n",
    "    # transform theta[-1]\n",
    "    # so that sigma > 0\n",
    "    sigma = jnp.exp(theta[-1])\n",
    "    mu = jnp.dot(x, beta)\n",
    "    ll = jnp.sum(jax.scipy.stats.norm.logpdf(y, loc=mu, scale=sigma))\n",
    "    return -1*ll/N"
   ]
  },
  {
   "cell_type": "code",
   "execution_count": 8,
   "metadata": {},
   "outputs": [],
   "source": [
    "jacobian = jax.jacfwd(neg_loglike)\n",
    "hessian = jax.hessian(neg_loglike)"
   ]
  },
  {
   "cell_type": "markdown",
   "metadata": {},
   "source": [
    "The next code block append $\\beta$ and $\\sigma$ to a vector called `theta`. Then the Jacobian and Hessians are evaluated at these values."
   ]
  },
  {
   "cell_type": "code",
   "execution_count": 9,
   "metadata": {},
   "outputs": [
    {
     "name": "stdout",
     "output_type": "stream",
     "text": [
      "Jacobian: [-0.0241592  -0.22509116 -0.0174517 ]\n",
      "\n",
      "Hessian:[[3.9997649e+00 3.9954449e+01 4.8318282e-02]\n",
      " [3.9954449e+01 4.1551447e+02 4.5018262e-01]\n",
      " [4.8318401e-02 4.5018226e-01 2.0349033e+00]]\n"
     ]
    }
   ],
   "source": [
    "theta = jnp.append(beta, jnp.log(sigma))\n",
    "print(f'Jacobian: {jacobian(theta)}\\n')\n",
    "print(f'Hessian:{hessian(theta)}')"
   ]
  },
  {
   "cell_type": "markdown",
   "metadata": {},
   "source": [
    "The next code block uses `scipy` minimize function to minimize the negative log-likelihood function. The method we use is `BFGS` and we add a tolerance option `gtol = 1e-7*N` to help with convergence. "
   ]
  },
  {
   "cell_type": "code",
   "execution_count": 11,
   "metadata": {},
   "outputs": [
    {
     "name": "stdout",
     "output_type": "stream",
     "text": [
      "Optimization terminated successfully.\n",
      "         Current function value: 0.734362\n",
      "         Iterations: 22\n",
      "         Function evaluations: 31\n",
      "         Gradient evaluations: 31\n",
      "Convergence Achieved:  True\n",
      "Number of Function Evaluations:  31\n"
     ]
    }
   ],
   "source": [
    "theta_start = jnp.append(jnp.zeros(beta.shape[0]), 0.0)\n",
    "res1 = minimize(neg_loglike, theta_start, method='BFGS',\n",
    "                options={'disp': True, 'gtol': 1e-7*N}, jac=jacobian)\n",
    "print(\"Convergence Achieved: \", res1.success)\n",
    "print(\"Number of Function Evaluations: \", res1.nfev)"
   ]
  },
  {
   "cell_type": "code",
   "execution_count": 12,
   "metadata": {},
   "outputs": [
    {
     "name": "stdout",
     "output_type": "stream",
     "text": [
      "  message: Optimization terminated successfully.\n",
      "  success: True\n",
      "   status: 0\n",
      "      fun: 0.7343624234199524\n",
      "        x: [ 2.016e+00  1.999e+00 -6.846e-01]\n",
      "      nit: 22\n",
      "      jac: [ 1.535e-05  1.686e-04  1.609e-05]\n",
      " hess_inv: [[ 6.486e+00 -6.248e-01  1.275e-02]\n",
      "            [-6.248e-01  6.273e-02 -3.590e-04]\n",
      "            [ 1.275e-02 -3.590e-04  5.165e-01]]\n",
      "     nfev: 31\n",
      "     njev: 31\n"
     ]
    }
   ],
   "source": [
    "print(res1)"
   ]
  },
  {
   "cell_type": "code",
   "execution_count": 13,
   "metadata": {},
   "outputs": [
    {
     "name": "stdout",
     "output_type": "stream",
     "text": [
      "Coefficient estimates: 2.0159018869766436, 1.9990130838020947\n",
      "Original sigma: 0.5043079494440934\n"
     ]
    }
   ],
   "source": [
    "print(f'Coefficient estimates: {res1.x[0]}, {res1.x[1]}')\n",
    "\n",
    "new_sigma = np.exp(res1.x[-1])\n",
    "\n",
    "print(f'Original sigma: {new_sigma}')"
   ]
  },
  {
   "cell_type": "markdown",
   "metadata": {},
   "source": [
    "Jax also has a built in minimization routine, which can be called with the next block of code. Note that the method option is restricted to BFGS at the time of writing."
   ]
  },
  {
   "cell_type": "code",
   "execution_count": 21,
   "metadata": {},
   "outputs": [],
   "source": [
    "res2 = jax.scipy.optimize.minimize(neg_loglike, theta_start, method='BFGS')"
   ]
  },
  {
   "cell_type": "code",
   "execution_count": 22,
   "metadata": {},
   "outputs": [
    {
     "name": "stdout",
     "output_type": "stream",
     "text": [
      "OptimizeResults(x=Array([ 0.59089136,  6.0974116 , -1.4891586 ], dtype=float32), success=Array(False, dtype=bool), status=Array(3, dtype=int32, weak_type=True), fun=Array(27.809149, dtype=float32), jac=Array([ -2.8311038, -29.31316  , -50.94435  ], dtype=float32), hess_inv=Array([[ 0.9984788 , -0.01576467, -0.03561225],\n",
      "       [-0.01576467,  0.8366276 , -0.3690555 ],\n",
      "       [-0.03561225, -0.3690555 ,  0.1670806 ]], dtype=float32), nfev=Array(6, dtype=int32, weak_type=True), njev=Array(6, dtype=int32, weak_type=True), nit=Array(2, dtype=int32, weak_type=True))\n"
     ]
    }
   ],
   "source": [
    "print(res2)"
   ]
  }
 ],
 "metadata": {
  "kernelspec": {
   "display_name": "venv",
   "language": "python",
   "name": "python3"
  },
  "language_info": {
   "codemirror_mode": {
    "name": "ipython",
    "version": 3
   },
   "file_extension": ".py",
   "mimetype": "text/x-python",
   "name": "python",
   "nbconvert_exporter": "python",
   "pygments_lexer": "ipython3",
   "version": "3.9.19"
  }
 },
 "nbformat": 4,
 "nbformat_minor": 2
}
