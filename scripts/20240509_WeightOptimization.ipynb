{
 "cells": [
  {
   "cell_type": "code",
   "execution_count": 17,
   "id": "f52dc27c-13b6-46bd-9cdf-c2cac7b62b91",
   "metadata": {
    "tags": []
   },
   "outputs": [],
   "source": [
    "from functions import *\n",
    "from decimal import Decimal, getcontext\n",
    "\n",
    "# Set the precision for decimal operations\n",
    "getcontext().prec = 50"
   ]
  },
  {
   "cell_type": "code",
   "execution_count": 63,
   "id": "651a091f-be81-46d7-ae8e-b838bbafb02b",
   "metadata": {},
   "outputs": [],
   "source": [
    "def likelihood(dmap_flat, ref_dmap_flat, measurement_error, num_probes):\n",
    "    \"\"\" \n",
    "    \"\"\"\n",
    "    return jnp.prod(likelihood_(dmap_flat, ref_dmap_flat, measurement_error, num_probes))\n",
    "    "
   ]
  },
  {
   "cell_type": "code",
   "execution_count": 59,
   "id": "7e390844-2773-45fd-af93-b82b133ea0dc",
   "metadata": {
    "tags": []
   },
   "outputs": [],
   "source": [
    "def likelihood_(dmap_flat, ref_dmap_flat, measurement_error, num_probes):\n",
    "    \"\"\"\n",
    "    \"\"\"\n",
    "    # Calculate the difference between distance map and reference \n",
    "    # distance map\n",
    "    subtraction_map_sq = (dmap_flat - ref_dmap_flat)**2\n",
    "    sum_subtraction_map_sq = jnp.sum(subtraction_map_sq)\n",
    "    \n",
    "    # Calculate the normalization factor\n",
    "    normalization_factor = 1/((jnp.sqrt(2*np.pi)*measurement_error)**((num_probes)**2))\n",
    "    \n",
    "    # Calculate the gaussian term \n",
    "    gaussian_term = jnp.exp(-jnp.sum(sum_subtraction_map_sq)/(2*measurement_error**2))\n",
    "    \n",
    "    print('Scaling factor = {}'.format(normalization_factor))\n",
    "    print('Gaussian term = {}'.format(gaussian_term))\n",
    "    \n",
    "    return normalization_factor, gaussian_term"
   ]
  },
  {
   "cell_type": "code",
   "execution_count": 68,
   "id": "dd4c5f54-d39e-4b94-a883-e6fbb203ca9a",
   "metadata": {
    "tags": []
   },
   "outputs": [],
   "source": [
    "def loglikelihood(dmap_flat, ref_dmap_flat, measurement_error, num_probes):\n",
    "    \"\"\"\n",
    "    \"\"\"\n",
    "    return jnp.sum(jnp.array(loglikelihood_(dmap_flat, ref_dmap_flat, measurement_error, num_probes)))"
   ]
  },
  {
   "cell_type": "code",
   "execution_count": 69,
   "id": "9de869ab-c896-4cb6-b350-06d7e0e99b51",
   "metadata": {
    "tags": []
   },
   "outputs": [],
   "source": [
    "def loglikelihood_(dmap_flat, ref_dmap_flat, measurement_error, num_probes):\n",
    "    \"\"\" \n",
    "    \"\"\"\n",
    "    # Calculate the difference between distance map and reference \n",
    "    # distance map\n",
    "    subtraction_map_sq = (dmap_flat - ref_dmap_flat)**2\n",
    "    sum_subtraction_map_sq = jnp.sum(subtraction_map_sq)\n",
    "    \n",
    "    # Calculate the normalization factor\n",
    "    normalization_factor = -num_probes**2 * jnp.log(jnp.sqrt(2*np.pi*measurement_error**2))\n",
    "    \n",
    "    # Calculate the gaussian term \n",
    "    gaussian_term = -jnp.sum(sum_subtraction_map_sq)/(2*measurement_error**2)\n",
    "    \n",
    "    print('Scaling factor = {}'.format(normalization_factor))\n",
    "    print('Gaussian term = {}'.format(gaussian_term))\n",
    "    \n",
    "    return normalization_factor, gaussian_term"
   ]
  },
  {
   "cell_type": "code",
   "execution_count": 73,
   "id": "824cba62-6682-46ad-9744-ca33836e2f5e",
   "metadata": {
    "tags": []
   },
   "outputs": [],
   "source": [
    "def prior(dmap_flat, num_probes):\n",
    "    \"\"\"\n",
    "    \"\"\"\n",
    "    return jnp.prod(jnp.array(prior_(dmap_flat, num_probes)))"
   ]
  },
  {
   "cell_type": "code",
   "execution_count": 75,
   "id": "e6ab1ff2-167f-4c66-b3af-260f8ef8dd6c",
   "metadata": {
    "tags": []
   },
   "outputs": [],
   "source": [
    "def prior_(dmap_flat, num_probes):\n",
    "    \"\"\"\n",
    "    \"\"\"\n",
    "    # Get 2D map back to simplify the expression \n",
    "    dmap = np.reshape(dmap_flat, [num_probes, num_probes])\n",
    "    \n",
    "    # Calculate the squared end-to-end distance \n",
    "    R_sq = dmap[0][-1] ** 2\n",
    "    \n",
    "    # Calculate the average bond length\n",
    "    b = np.mean(np.diag(dmap, 1))\n",
    "    \n",
    "    N = num_probes\n",
    "    \n",
    "    # Calculate the probability\n",
    "    scaling_factor = (3/(2*np.pi*N*b**2)) ** 1.5\n",
    "    gaussian_term = jnp.exp(-3*R_sq/(2*N*b**2))\n",
    "    \n",
    "    print('Scaling factor = {}'.format(scaling_factor))\n",
    "    print('Gaussian term = {}'.format(gaussian_term))\n",
    "    \n",
    "    return scaling_factor, gaussian_term "
   ]
  },
  {
   "cell_type": "code",
   "execution_count": 2,
   "id": "c9e99e66-7ed4-415d-beb1-7ab6a02836b3",
   "metadata": {
    "tags": []
   },
   "outputs": [],
   "source": [
    "num_monomers = 20\n",
    "mean_bond_length = 1\n",
    "std_bond_length = 20\n",
    "\n",
    "template_chain = generate_gaussian_chain(num_monomers, mean_bond_length, std_bond_length)"
   ]
  },
  {
   "cell_type": "code",
   "execution_count": 5,
   "id": "1dbdc162-a744-4fcb-acfb-9c5a8c6b4d82",
   "metadata": {
    "tags": []
   },
   "outputs": [],
   "source": [
    "num_observations = 10\n",
    "gaussian_noise_std = 10\n",
    "\n",
    "observations = generate_observations(template_chain, num_observations, gaussian_noise_std)"
   ]
  },
  {
   "cell_type": "code",
   "execution_count": 42,
   "id": "da5c3c3d-e124-4469-a93b-7becb83ee0bf",
   "metadata": {
    "tags": []
   },
   "outputs": [],
   "source": [
    "template_chain_flatten = generate_flatten_distance_map(template_chain)\n",
    "observations_flatten = [generate_flatten_distance_map(c) for c in observations]"
   ]
  },
  {
   "cell_type": "code",
   "execution_count": 71,
   "id": "f74aa710-46de-4093-8d34-ca1a5c0763be",
   "metadata": {
    "tags": []
   },
   "outputs": [
    {
     "name": "stdout",
     "output_type": "stream",
     "text": [
      "Normalization factor = -1288.609375\n",
      "Gaussian term = -0.0\n"
     ]
    }
   ],
   "source": [
    "measurement_error = 10\n",
    "num_probes = num_monomers\n",
    "\n",
    "ll_template = loglikelihood(template_chain_flatten, template_chain_flatten, measurement_error, num_probes)"
   ]
  },
  {
   "cell_type": "code",
   "execution_count": 70,
   "id": "324fcdd4-ecf5-4409-b915-ee13add4e8f5",
   "metadata": {
    "tags": []
   },
   "outputs": [
    {
     "name": "stdout",
     "output_type": "stream",
     "text": [
      "Normalization factor = -1288.609375\n",
      "Gaussian term = -347.5065612792969\n",
      "Normalization factor = -1288.609375\n",
      "Gaussian term = -311.9415588378906\n",
      "Normalization factor = -1288.609375\n",
      "Gaussian term = -315.6540222167969\n",
      "Normalization factor = -1288.609375\n",
      "Gaussian term = -257.48223876953125\n",
      "Normalization factor = -1288.609375\n",
      "Gaussian term = -315.6877136230469\n",
      "Normalization factor = -1288.609375\n",
      "Gaussian term = -347.7548522949219\n",
      "Normalization factor = -1288.609375\n",
      "Gaussian term = -375.1178894042969\n",
      "Normalization factor = -1288.609375\n",
      "Gaussian term = -343.8528137207031\n",
      "Normalization factor = -1288.609375\n",
      "Gaussian term = -348.2294006347656\n",
      "Normalization factor = -1288.609375\n",
      "Gaussian term = -643.3494262695312\n"
     ]
    }
   ],
   "source": [
    "measurement_error = 10\n",
    "lls = [loglikelihood(template_chain_flatten, x, measurement_error, num_probes) for x in observations_flatten]"
   ]
  },
  {
   "cell_type": "code",
   "execution_count": 61,
   "id": "8c48d1be-d90b-4176-a0b8-7f628f480c3c",
   "metadata": {
    "tags": []
   },
   "outputs": [
    {
     "name": "stdout",
     "output_type": "stream",
     "text": [
      "Normalization factor = 0.0\n",
      "Gaussian term = 1.0\n"
     ]
    },
    {
     "data": {
      "text/plain": [
       "0.0"
      ]
     },
     "execution_count": 61,
     "metadata": {},
     "output_type": "execute_result"
    }
   ],
   "source": [
    "likelihood(template_chain_flatten, observations_flatten[0], measurement_error, num_probes)"
   ]
  },
  {
   "cell_type": "code",
   "execution_count": 76,
   "id": "440e70ec-e1dd-4ee7-b453-dfc134a330cf",
   "metadata": {
    "tags": []
   },
   "outputs": [
    {
     "name": "stdout",
     "output_type": "stream",
     "text": [
      "Scaling factor = 1.1828562172209968e-07\n",
      "Gaussian term = 0.48222067952156067\n"
     ]
    },
    {
     "data": {
      "text/plain": [
       "Array(5.703977e-08, dtype=float32)"
      ]
     },
     "execution_count": 76,
     "metadata": {},
     "output_type": "execute_result"
    }
   ],
   "source": [
    "prior(template_chain_flatten, num_probes)"
   ]
  },
  {
   "cell_type": "code",
   "execution_count": 50,
   "id": "020fca4a-8091-4c7b-b274-4ae92ba29e37",
   "metadata": {
    "tags": []
   },
   "outputs": [],
   "source": [
    "from scipy.special import logsumexp "
   ]
  },
  {
   "cell_type": "code",
   "execution_count": 77,
   "id": "d5610884-7096-4c70-955f-42b01a416de3",
   "metadata": {
    "tags": []
   },
   "outputs": [
    {
     "name": "stdout",
     "output_type": "stream",
     "text": [
      "Normalization factor = 0.0\n",
      "Gaussian term = 0.0\n"
     ]
    },
    {
     "data": {
      "text/plain": [
       "0.0"
      ]
     },
     "execution_count": 77,
     "metadata": {},
     "output_type": "execute_result"
    }
   ],
   "source": [
    "# This logsumexp get to underflow problem! So we need to try renormalization approach\n",
    "\n",
    "logsumexp([likelihood_(template_chain_flatten, observations_flatten[0], measurement_error, num_probes)[0]])"
   ]
  },
  {
   "cell_type": "code",
   "execution_count": null,
   "id": "5c2346df-d6b3-49a0-a4ff-2901bd5518d8",
   "metadata": {},
   "outputs": [],
   "source": []
  }
 ],
 "metadata": {
  "kernelspec": {
   "display_name": "Python 3 (ipykernel) (python@3.10.10%gcc@11.4.0)",
   "language": "python",
   "name": "python-3.10.10-gcc-11.4.0-python3"
  },
  "language_info": {
   "codemirror_mode": {
    "name": "ipython",
    "version": 3
   },
   "file_extension": ".py",
   "mimetype": "text/x-python",
   "name": "python",
   "nbconvert_exporter": "python",
   "pygments_lexer": "ipython3",
   "version": "3.10.10"
  }
 },
 "nbformat": 4,
 "nbformat_minor": 5
}
