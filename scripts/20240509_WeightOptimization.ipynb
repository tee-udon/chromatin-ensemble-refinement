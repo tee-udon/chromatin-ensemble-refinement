{
 "cells": [
  {
   "cell_type": "code",
   "execution_count": 1,
   "id": "f52dc27c-13b6-46bd-9cdf-c2cac7b62b91",
   "metadata": {
    "tags": []
   },
   "outputs": [],
   "source": [
    "from functions import *"
   ]
  },
  {
   "cell_type": "code",
   "execution_count": 2,
   "id": "651a091f-be81-46d7-ae8e-b838bbafb02b",
   "metadata": {},
   "outputs": [],
   "source": [
    "@jit\n",
    "def likelihood(dmap_flat, ref_dmap_flat, measurement_error, num_probes):\n",
    "    \"\"\" \n",
    "    \"\"\"\n",
    "    return jnp.prod(jnp.array(likelihood_(dmap_flat, ref_dmap_flat, measurement_error, num_probes)))"
   ]
  },
  {
   "cell_type": "code",
   "execution_count": 3,
   "id": "7e390844-2773-45fd-af93-b82b133ea0dc",
   "metadata": {
    "tags": []
   },
   "outputs": [],
   "source": [
    "@jit\n",
    "def likelihood_(dmap_flat, ref_dmap_flat, measurement_error, num_probes):\n",
    "    \"\"\"\n",
    "    \"\"\"\n",
    "    # Calculate the difference between distance map and reference \n",
    "    # distance map\n",
    "    subtraction_map_sq = (dmap_flat - ref_dmap_flat)**2\n",
    "    sum_subtraction_map_sq = jnp.sum(subtraction_map_sq)\n",
    "    \n",
    "    # Calculate the normalization factor\n",
    "    normalization_factor = 1/((jnp.sqrt(2*np.pi)*measurement_error)**((num_probes)**2))\n",
    "    \n",
    "    # Calculate the gaussian term \n",
    "    gaussian_term = jnp.exp(-jnp.sum(sum_subtraction_map_sq)/(2*measurement_error**2))\n",
    "    \n",
    "    # print('Scaling factor = {}'.format(normalization_factor))\n",
    "    # print('Gaussian term = {}'.format(gaussian_term))\n",
    "    \n",
    "    return normalization_factor, gaussian_term"
   ]
  },
  {
   "cell_type": "code",
   "execution_count": 4,
   "id": "dd4c5f54-d39e-4b94-a883-e6fbb203ca9a",
   "metadata": {
    "tags": []
   },
   "outputs": [],
   "source": [
    "@jit\n",
    "def loglikelihood(dmap_flat, ref_dmap_flat, measurement_error, num_probes):\n",
    "    \"\"\"\n",
    "    \"\"\"\n",
    "    return jnp.sum(jnp.array(loglikelihood_(dmap_flat, ref_dmap_flat, measurement_error, num_probes)))"
   ]
  },
  {
   "cell_type": "code",
   "execution_count": 5,
   "id": "9de869ab-c896-4cb6-b350-06d7e0e99b51",
   "metadata": {
    "tags": []
   },
   "outputs": [],
   "source": [
    "@jit\n",
    "def loglikelihood_(dmap_flat, ref_dmap_flat, measurement_error, num_probes):\n",
    "    \"\"\" \n",
    "    \"\"\"\n",
    "    # Calculate the difference between distance map and reference \n",
    "    # distance map\n",
    "    subtraction_map_sq = jnp.square(dmap_flat - ref_dmap_flat)\n",
    "    sum_subtraction_map_sq = jnp.sum(subtraction_map_sq)\n",
    "    \n",
    "    # Calculate the normalization factor\n",
    "    normalization_factor = -jnp.square(num_probes) * jnp.log(jnp.sqrt(2*np.pi*jnp.square(measurement_error)))\n",
    "    \n",
    "    # Calculate the gaussian term \n",
    "    gaussian_term = -jnp.sum(sum_subtraction_map_sq)/(2*jnp.square(measurement_error))\n",
    "    \n",
    "    # print('Scaling factor = {}'.format(normalization_factor))\n",
    "    # print('Gaussian term = {}'.format(gaussian_term))\n",
    "    \n",
    "    return normalization_factor, gaussian_term"
   ]
  },
  {
   "cell_type": "code",
   "execution_count": 6,
   "id": "824cba62-6682-46ad-9744-ca33836e2f5e",
   "metadata": {
    "tags": []
   },
   "outputs": [],
   "source": [
    "def prior(dmap_flat, num_probes):\n",
    "    \"\"\"\n",
    "    \"\"\"\n",
    "    return jnp.prod(jnp.array(prior_(dmap_flat, num_probes)))"
   ]
  },
  {
   "cell_type": "code",
   "execution_count": 7,
   "id": "1161d841-2b7c-4a81-9d3f-5cc5aa74b5f1",
   "metadata": {
    "tags": []
   },
   "outputs": [],
   "source": [
    "def prior_(dmap_flat, num_probes):\n",
    "    \"\"\"\n",
    "    \"\"\"\n",
    "    # Get 2D map back to simplify the expression \n",
    "    dmap = jnp.reshape(dmap_flat, [num_probes, num_probes])\n",
    "    \n",
    "    # Calculate the squared end-to-end distance \n",
    "    R_sq = dmap[0][-1] ** 2\n",
    "    \n",
    "    # Calculate the average bond length\n",
    "    b = jnp.mean(jnp.diag(dmap, 1))\n",
    "    \n",
    "    N = num_probes\n",
    "    \n",
    "    # Calculate the probability\n",
    "    scaling_factor = (3/(2*np.pi*N*b**2)) ** 1.5\n",
    "    gaussian_term = jnp.exp(-3*R_sq/(2*N*b**2))\n",
    "    \n",
    "    # print('Scaling factor = {}'.format(scaling_factor))\n",
    "    # print('Gaussian term = {}'.format(gaussian_term))\n",
    "    \n",
    "    return scaling_factor, gaussian_term "
   ]
  },
  {
   "cell_type": "code",
   "execution_count": 8,
   "id": "45020e52-466e-4390-b9cf-eeae2ba3fd6a",
   "metadata": {
    "tags": []
   },
   "outputs": [],
   "source": [
    "def logprior(dmap_flat, num_probes):\n",
    "    \"\"\"\n",
    "    \"\"\"\n",
    "    return jnp.sum(jnp.array(logprior_(dmap_flat, num_probes)))"
   ]
  },
  {
   "cell_type": "code",
   "execution_count": 9,
   "id": "e6ab1ff2-167f-4c66-b3af-260f8ef8dd6c",
   "metadata": {
    "tags": []
   },
   "outputs": [],
   "source": [
    "def logprior_(dmap_flat, num_probes):\n",
    "    \"\"\"\n",
    "    \"\"\"\n",
    "    # Get 2D map back to simplify the expression \n",
    "    dmap = jnp.reshape(dmap_flat, [num_probes, num_probes])\n",
    "    \n",
    "    # Calculate the squared end-to-end distance \n",
    "    R_sq = dmap[0][-1] ** 2\n",
    "    \n",
    "    # Calculate the average bond length\n",
    "    b = jnp.mean(jnp.diag(dmap, 1))\n",
    "    \n",
    "    N = num_probes\n",
    "    \n",
    "    # Calculate the probability\n",
    "    scaling_factor = 1.5 * jnp.log(3/(2*np.pi*N*b**2))\n",
    "    gaussian_term = -3*R_sq/(2*N*b**2)\n",
    "    \n",
    "    # print('Scaling factor = {}'.format(scaling_factor))\n",
    "    # print('Gaussian term = {}'.format(gaussian_term))\n",
    "    \n",
    "    return scaling_factor, gaussian_term "
   ]
  },
  {
   "cell_type": "code",
   "execution_count": 10,
   "id": "c9e99e66-7ed4-415d-beb1-7ab6a02836b3",
   "metadata": {
    "tags": []
   },
   "outputs": [],
   "source": [
    "num_monomers = 20\n",
    "mean_bond_length = 1\n",
    "std_bond_length = 20\n",
    "\n",
    "template_chain = generate_gaussian_chain(num_monomers, mean_bond_length, std_bond_length)"
   ]
  },
  {
   "cell_type": "code",
   "execution_count": 11,
   "id": "1dbdc162-a744-4fcb-acfb-9c5a8c6b4d82",
   "metadata": {
    "tags": []
   },
   "outputs": [],
   "source": [
    "num_observations = 10\n",
    "gaussian_noise_std = 10\n",
    "\n",
    "observations = generate_observations(template_chain, num_observations, gaussian_noise_std)"
   ]
  },
  {
   "cell_type": "code",
   "execution_count": 12,
   "id": "b9173f63-5aa7-4e54-981c-b726a928a9db",
   "metadata": {
    "tags": []
   },
   "outputs": [],
   "source": [
    "template_chain_flatten = generate_flatten_distance_map(template_chain)"
   ]
  },
  {
   "cell_type": "code",
   "execution_count": 13,
   "id": "da5c3c3d-e124-4469-a93b-7becb83ee0bf",
   "metadata": {
    "tags": []
   },
   "outputs": [],
   "source": [
    "observations_flatten = [generate_flatten_distance_map(c) for c in observations]"
   ]
  },
  {
   "cell_type": "code",
   "execution_count": 14,
   "id": "780264a9-9273-4c8b-ae8f-e9e636159850",
   "metadata": {
    "tags": []
   },
   "outputs": [
    {
     "name": "stderr",
     "output_type": "stream",
     "text": [
      "2024-05-15 16:02:33.547985: W external/xla/xla/service/gpu/nvptx_compiler.cc:760] The NVIDIA driver's CUDA version is 12.2 which is older than the ptxas CUDA version (12.4.131). Because the driver is older than the ptxas version, XLA is disabling parallel compilation, which may slow down compilation. You should update your NVIDIA driver or use the NVIDIA-provided CUDA forward compatibility packages.\n"
     ]
    },
    {
     "data": {
      "text/plain": [
       "(Array(-1288.6095, dtype=float32, weak_type=True), Array(-0., dtype=float32))"
      ]
     },
     "execution_count": 14,
     "metadata": {},
     "output_type": "execute_result"
    }
   ],
   "source": [
    "measurement_error = 10\n",
    "num_probes = num_monomers\n",
    "loglikelihood_(jnp.array(template_chain_flatten), jnp.array(template_chain_flatten), measurement_error, num_probes)"
   ]
  },
  {
   "cell_type": "code",
   "execution_count": 15,
   "id": "f74aa710-46de-4093-8d34-ca1a5c0763be",
   "metadata": {
    "tags": []
   },
   "outputs": [],
   "source": [
    "measurement_error = 10\n",
    "num_probes = num_monomers\n",
    "\n",
    "ll_template = loglikelihood(template_chain_flatten, template_chain_flatten, measurement_error, num_probes)"
   ]
  },
  {
   "cell_type": "code",
   "execution_count": 16,
   "id": "324fcdd4-ecf5-4409-b915-ee13add4e8f5",
   "metadata": {
    "tags": []
   },
   "outputs": [],
   "source": [
    "measurement_error = 10\n",
    "lls = [loglikelihood(template_chain_flatten, x, measurement_error, num_probes) for x in observations_flatten]"
   ]
  },
  {
   "cell_type": "code",
   "execution_count": 17,
   "id": "8c48d1be-d90b-4176-a0b8-7f628f480c3c",
   "metadata": {
    "tags": []
   },
   "outputs": [
    {
     "data": {
      "text/plain": [
       "Array(0., dtype=float32)"
      ]
     },
     "execution_count": 17,
     "metadata": {},
     "output_type": "execute_result"
    }
   ],
   "source": [
    "likelihood(template_chain_flatten, observations_flatten[0], measurement_error, num_probes)"
   ]
  },
  {
   "cell_type": "code",
   "execution_count": 18,
   "id": "440e70ec-e1dd-4ee7-b453-dfc134a330cf",
   "metadata": {
    "tags": []
   },
   "outputs": [
    {
     "data": {
      "text/plain": [
       "Array(9.203736e-08, dtype=float32)"
      ]
     },
     "execution_count": 18,
     "metadata": {},
     "output_type": "execute_result"
    }
   ],
   "source": [
    "prior(template_chain_flatten, num_probes)"
   ]
  },
  {
   "cell_type": "code",
   "execution_count": 19,
   "id": "b914e2b1-0562-41e2-9ec2-beeef0d44c88",
   "metadata": {
    "tags": []
   },
   "outputs": [
    {
     "data": {
      "text/plain": [
       "Array(-1611.9225, dtype=float32)"
      ]
     },
     "execution_count": 19,
     "metadata": {},
     "output_type": "execute_result"
    }
   ],
   "source": [
    "jscipy.special.logsumexp(jnp.array(lls))"
   ]
  },
  {
   "cell_type": "code",
   "execution_count": 18,
   "id": "53ed5d1f-f2a3-4c15-acbd-26609b593dd8",
   "metadata": {},
   "outputs": [],
   "source": [
    "def generate_posterior(templates, observations, template_weights, weight_renormalization=1000):\n",
    "    \"\"\"\n",
    "    \"\"\"\n",
    "    templates_flatten = [generate_flatten_distance_map(t) for t in templates]\n",
    "    observations_flatten = [generate_flatten_distance_map(o) for o in observations]\n",
    "    \n",
    "    weight_prior = 1/len(template_weights) \n",
    "    total_posterior = 0\n",
    "    \n",
    "    for o in observations_flatten:\n",
    "        curr_obs_list = []\n",
    "        for t, alpha in zip(templates_flatten, template_weights):\n",
    "            val = 0\n",
    "            val += loglikelihood(o, t, measurement_error, num_probes)\n",
    "            val += logprior(t, num_probes)\n",
    "            # This is the correct one \n",
    "            # But the scaling between alpha and weight priors and logliokelihood are so different \n",
    "            val += jnp.log(alpha) * weight_renormalization\n",
    "            val += jnp.log(weight_prior) * weight_renormalization # * 1000 to make sure that they are in the same scale \n",
    "            \n",
    "            # But if we add the alpha directly such that they are in the same scale, \n",
    "            # that might help\n",
    "            # val += alpha\n",
    "            # val += weight_prior\n",
    "            \n",
    "            curr_obs_list.append(val)\n",
    "        curr_obs_list = jnp.array(curr_obs_list) \n",
    "        total_posterior += jscipy.special.logsumexp(curr_obs_list)\n",
    "    \n",
    "    return total_posterior"
   ]
  },
  {
   "cell_type": "code",
   "execution_count": null,
   "id": "e4cca90c-962a-487c-b052-3c5bfa2cacef",
   "metadata": {},
   "outputs": [],
   "source": []
  },
  {
   "cell_type": "code",
   "execution_count": 132,
   "id": "14a458b3-50fd-4f4b-bcb0-91d1c60d710e",
   "metadata": {
    "tags": []
   },
   "outputs": [
    {
     "data": {
      "text/plain": [
       "Array(-9696.799, dtype=float32)"
      ]
     },
     "execution_count": 132,
     "metadata": {},
     "output_type": "execute_result"
    }
   ],
   "source": [
    "generate_posterior([template_chain], observations, [2])"
   ]
  },
  {
   "cell_type": "code",
   "execution_count": 19,
   "id": "befd5779-b1cc-46d2-b0f4-53353887c826",
   "metadata": {
    "tags": []
   },
   "outputs": [],
   "source": [
    "num_monomers = 20\n",
    "mean_bond_length = 1\n",
    "std_bond_length = 20\n",
    "\n",
    "template_chain_1 = generate_gaussian_chain(num_monomers, mean_bond_length, std_bond_length)\n",
    "\n",
    "num_observations = 5\n",
    "gaussian_noise_std = 10\n",
    "\n",
    "observations_1 = generate_observations(template_chain_1, num_observations, gaussian_noise_std)\n",
    "\n",
    "template_chain_2 = generate_gaussian_chain(num_monomers, mean_bond_length, std_bond_length)\n",
    "\n",
    "num_observations = 10\n",
    "gaussian_noise_std = 10\n",
    "\n",
    "observations_2 = generate_observations(template_chain_2, num_observations, gaussian_noise_std)\n",
    "\n",
    "template_chain_3 = generate_gaussian_chain(num_monomers, mean_bond_length, std_bond_length)\n",
    "\n",
    "num_observations = 15\n",
    "gaussian_noise_std = 10\n",
    "\n",
    "observations_3 = generate_observations(template_chain_3, num_observations, gaussian_noise_std)"
   ]
  },
  {
   "cell_type": "code",
   "execution_count": 20,
   "id": "49fdb06b-2623-49bb-b9ca-47f646771a04",
   "metadata": {
    "tags": []
   },
   "outputs": [],
   "source": [
    "templates_list = [template_chain_1, \n",
    "                  template_chain_2,\n",
    "                  template_chain_3]"
   ]
  },
  {
   "cell_type": "code",
   "execution_count": 21,
   "id": "589fa94d-469c-4673-954b-fe0bc5803706",
   "metadata": {
    "tags": []
   },
   "outputs": [],
   "source": [
    "observation_list = np.concatenate([observations_1, \n",
    "                                   observations_2, \n",
    "                                   observations_3])"
   ]
  },
  {
   "cell_type": "code",
   "execution_count": 152,
   "id": "b6c9787f-ef4a-443c-984d-6c982b7a6a11",
   "metadata": {
    "tags": []
   },
   "outputs": [
    {
     "data": {
      "text/plain": [
       "Array(-12567.906, dtype=float32)"
      ]
     },
     "execution_count": 152,
     "metadata": {},
     "output_type": "execute_result"
    }
   ],
   "source": [
    "generate_posterior(templates_list, observation_list, [5, 10, 15])"
   ]
  },
  {
   "cell_type": "code",
   "execution_count": 134,
   "id": "a7b0adc5-d32d-4099-83f1-6f40fb9e26db",
   "metadata": {
    "tags": []
   },
   "outputs": [
    {
     "data": {
      "text/plain": [
       "Array(-84261.7, dtype=float32)"
      ]
     },
     "execution_count": 134,
     "metadata": {},
     "output_type": "execute_result"
    }
   ],
   "source": [
    "generate_posterior(templates_list, observation_list, [1, 1, 1])"
   ]
  },
  {
   "cell_type": "code",
   "execution_count": 22,
   "id": "6b832894-2a49-43d4-8a97-a438a39cf955",
   "metadata": {
    "tags": []
   },
   "outputs": [],
   "source": [
    "def weight_objective(template_weights):\n",
    "    \"\"\"\n",
    "    \"\"\"\n",
    "    templates = templates_list\n",
    "    observations = observation_list \n",
    "    return generate_posterior(templates, observations, template_weights)"
   ]
  },
  {
   "cell_type": "code",
   "execution_count": 23,
   "id": "83220a2d-f67b-4940-ac6b-63b072011505",
   "metadata": {
    "tags": []
   },
   "outputs": [],
   "source": [
    "def weight_neg_objective(template_weights):\n",
    "    \"\"\"\n",
    "    \"\"\"\n",
    "    templates = templates_list\n",
    "    observations = observation_list \n",
    "    return -generate_posterior(templates, observations, template_weights)"
   ]
  },
  {
   "cell_type": "code",
   "execution_count": 183,
   "id": "f962f46b-104d-46b9-8398-30be59b096ce",
   "metadata": {
    "tags": []
   },
   "outputs": [],
   "source": [
    "nlp_array = np.full([20, 20], np.nan)"
   ]
  },
  {
   "cell_type": "code",
   "execution_count": 184,
   "id": "0aaa1d59-75cf-4f75-8092-338a9344f0ee",
   "metadata": {
    "tags": []
   },
   "outputs": [],
   "source": [
    "for n1 in range(20):\n",
    "    for n2 in range(20):\n",
    "        if n1 + n2 == 15:\n",
    "            nlp = weight_neg_objective([n1, n2, 15])\n",
    "            nlp_array[n1, n2] = nlp"
   ]
  },
  {
   "cell_type": "code",
   "execution_count": 185,
   "id": "81008169-a614-44e8-b3f4-9ebd627ca061",
   "metadata": {
    "tags": []
   },
   "outputs": [
    {
     "data": {
      "image/png": "[encoded data removed]",
      "text/plain": [
       "<Figure size 640x480 with 2 Axes>"
      ]
     },
     "metadata": {},
     "output_type": "display_data"
    }
   ],
   "source": [
    "plt.imshow(nlp_array, cmap='hot', interpolation='nearest')\n",
    "plt.colorbar()  # Add a colorbar\n",
    "plt.title('Heatmap using Matplotlib')\n",
    "plt.show()"
   ]
  },
  {
   "cell_type": "code",
   "execution_count": 186,
   "id": "de86fedb-932b-4eb6-808d-801df8f70eca",
   "metadata": {
    "tags": []
   },
   "outputs": [
    {
     "data": {
      "text/plain": [
       "0"
      ]
     },
     "execution_count": 186,
     "metadata": {},
     "output_type": "execute_result"
    }
   ],
   "source": [
    "np.argmin(nlp_array)"
   ]
  },
  {
   "cell_type": "code",
   "execution_count": 180,
   "id": "baa9ca06-c747-4e69-9ce7-70f6be78707e",
   "metadata": {
    "tags": []
   },
   "outputs": [
    {
     "data": {
      "text/plain": [
       "5"
      ]
     },
     "execution_count": 180,
     "metadata": {},
     "output_type": "execute_result"
    }
   ],
   "source": [
    "np.argmin(nlp_array[nlp_array > 0])"
   ]
  },
  {
   "cell_type": "code",
   "execution_count": 166,
   "id": "b1510c07-2a0f-4c9a-875a-e644761ba3e1",
   "metadata": {
    "tags": []
   },
   "outputs": [
    {
     "data": {
      "text/plain": [
       "-525.63720703125"
      ]
     },
     "execution_count": 166,
     "metadata": {},
     "output_type": "execute_result"
    }
   ],
   "source": [
    "nlp_array[19, 19]"
   ]
  },
  {
   "cell_type": "code",
   "execution_count": 24,
   "id": "33cda780-d6c7-46bc-997e-2492481cf77a",
   "metadata": {
    "tags": []
   },
   "outputs": [],
   "source": [
    "import jax\n",
    "import jax.numpy as jnp\n",
    "import jax.random as random\n",
    "\n",
    "# Create a random key\n",
    "key = random.PRNGKey(0)\n",
    "\n",
    "# Generate uniform random numbers\n",
    "key, subkey = random.split(key)\n",
    "uniform_array = random.uniform(subkey, shape=(1000, 3)) \n"
   ]
  },
  {
   "cell_type": "code",
   "execution_count": 192,
   "id": "b8c1ae14-14cf-4bab-b030-d1820d1d27c8",
   "metadata": {
    "tags": []
   },
   "outputs": [
    {
     "data": {
      "text/plain": [
       "Array([ 6.7934885, 17.82815  , 26.32715  ], dtype=float32)"
      ]
     },
     "execution_count": 192,
     "metadata": {},
     "output_type": "execute_result"
    }
   ],
   "source": [
    "uniform_array[1]"
   ]
  },
  {
   "cell_type": "code",
   "execution_count": 25,
   "id": "d207f899-6714-4a63-bd55-7b92df48d8fe",
   "metadata": {
    "tags": []
   },
   "outputs": [],
   "source": [
    "initial_weight_guess = uniform_array"
   ]
  },
  {
   "cell_type": "code",
   "execution_count": 111,
   "id": "3aa4d7ed-86d0-410a-b385-c5878f14612f",
   "metadata": {
    "tags": []
   },
   "outputs": [
    {
     "data": {
      "text/plain": [
       "1000"
      ]
     },
     "execution_count": 111,
     "metadata": {},
     "output_type": "execute_result"
    }
   ],
   "source": [
    "len(initial_weight_guess)"
   ]
  },
  {
   "cell_type": "code",
   "execution_count": 28,
   "id": "efd66016-a95f-475d-9529-ad9246a0e925",
   "metadata": {
    "tags": []
   },
   "outputs": [],
   "source": [
    "weight_objective_jacobian = jax.jacfwd(weight_objective)"
   ]
  },
  {
   "cell_type": "code",
   "execution_count": 29,
   "id": "5669cd1c-e6a3-42d3-8064-d89a8dbfb869",
   "metadata": {
    "tags": []
   },
   "outputs": [],
   "source": [
    "weight_neg_objective_jacobian = jax.jacfwd(weight_neg_objective)"
   ]
  },
  {
   "cell_type": "code",
   "execution_count": 187,
   "id": "80259763-61e4-47e4-acbf-1a86211176c7",
   "metadata": {
    "tags": []
   },
   "outputs": [
    {
     "name": "stdout",
     "output_type": "stream",
     "text": [
      "Warning: Desired error not necessarily achieved due to precision loss.\n",
      "         Current function value: nan\n",
      "         Iterations: 2\n",
      "         Function evaluations: 113\n",
      "         Gradient evaluations: 113\n"
     ]
    }
   ],
   "source": [
    "res = minimize(weight_neg_objective, initial_weight_guess[0], method='BFGS',\n",
    "                                   options={'disp': True, 'gtol':1e-6}, jac=weight_neg_objective_jacobian)"
   ]
  },
  {
   "cell_type": "code",
   "execution_count": null,
   "id": "0c4f0888-e030-4f86-97f7-1e66ff2de085",
   "metadata": {
    "tags": []
   },
   "outputs": [],
   "source": [
    "res_list = []\n",
    "for g in tqdm(range(len(initial_weight_guess))):\n",
    "    print(g)\n",
    "    res = minimize(weight_neg_objective, initial_weight_guess[g], method='BFGS',\n",
    "                                   options={'disp': True, 'gtol':1e-6}, jac=weight_neg_objective_jacobian)\n",
    "    res_list.append(g)"
   ]
  },
  {
   "cell_type": "code",
   "execution_count": 56,
   "id": "0f791700-9ecb-4308-97ed-994737f01e88",
   "metadata": {
    "tags": []
   },
   "outputs": [
    {
     "data": {
      "text/plain": [
       "array([0.33825932, 0.40932712, 0.25241356])"
      ]
     },
     "execution_count": 56,
     "metadata": {},
     "output_type": "execute_result"
    }
   ],
   "source": [
    "res.x/sum(res.x)"
   ]
  },
  {
   "cell_type": "code",
   "execution_count": 119,
   "id": "e495aa5e-16e9-470f-a483-95d82379e087",
   "metadata": {
    "tags": []
   },
   "outputs": [],
   "source": [
    "from tqdm.notebook import tqdm"
   ]
  },
  {
   "cell_type": "code",
   "execution_count": 137,
   "id": "59cb63f9-0d79-4464-8534-db90742e175d",
   "metadata": {
    "tags": []
   },
   "outputs": [],
   "source": [
    "solver = jaxopt.ScipyMinimize(fun=weight_neg_objective, method='L-BFGS-B', tol=1e-6,\n",
    "                                   options={'disp': False, 'gtol':1e-9})\n",
    "res_list = []\n",
    "for i, g in enumerate(initial_weight_guess):\n",
    "    res = solver.run(jnp.array(g))\n",
    "    res_list.append(res)"
   ]
  },
  {
   "cell_type": "code",
   "execution_count": 138,
   "id": "46e30351-01c3-40f4-9ac7-1aedab489565",
   "metadata": {
    "tags": []
   },
   "outputs": [],
   "source": [
    "posterior_list = [r.state.fun_val for r in res_list]"
   ]
  },
  {
   "cell_type": "code",
   "execution_count": 145,
   "id": "17144be4-7092-489a-88fe-b87cb88f5a4d",
   "metadata": {
    "tags": []
   },
   "outputs": [
    {
     "data": {
      "text/plain": [
       "(array([306., 619.,  64.,  10.,   0.,   0.,   0.,   0.,   0.,   0.,   0.,\n",
       "          0.,   0.,   0.,   0.,   0.,   0.,   0.,   0.,   0.,   0.,   0.,\n",
       "          0.,   0.,   0.,   0.,   0.,   0.,   0.,   0.,   0.,   0.,   0.,\n",
       "          0.,   0.,   0.,   0.,   0.,   0.,   0.,   0.,   0.,   0.,   0.,\n",
       "          0.,   0.,   0.,   0.,   0.,   1.]),\n",
       " array([-841680.375  , -831477.5625 , -821274.8125 , -811072.     ,\n",
       "        -800869.1875 , -790666.4375 , -780463.625  , -770260.8125 ,\n",
       "        -760058.     , -749855.25   , -739652.4375 , -729449.625  ,\n",
       "        -719246.875  , -709044.0625 , -698841.25   , -688638.5    ,\n",
       "        -678435.6875 , -668232.875  , -658030.125  , -647827.3125 ,\n",
       "        -637624.5    , -627421.75   , -617218.9375 , -607016.125  ,\n",
       "        -596813.3125 , -586610.5625 , -576407.75   , -566204.9375 ,\n",
       "        -556002.1875 , -545799.375  , -535596.5625 , -525393.8125 ,\n",
       "        -515191.     , -504988.1875 , -494785.40625, -484582.625  ,\n",
       "        -474379.8125 , -464177.03125, -453974.25   , -443771.4375 ,\n",
       "        -433568.65625, -423365.84375, -413163.0625 , -402960.28125,\n",
       "        -392757.46875, -382554.6875 , -372351.90625, -362149.09375,\n",
       "        -351946.3125 , -341743.5    , -331540.71875]),\n",
       " <BarContainer object of 50 artists>)"
      ]
     },
     "execution_count": 145,
     "metadata": {},
     "output_type": "execute_result"
    },
    {
     "data": {
      "image/png": "[encoded data removed]",
      "text/plain": [
       "<Figure size 640x480 with 1 Axes>"
      ]
     },
     "metadata": {},
     "output_type": "display_data"
    }
   ],
   "source": [
    "plt.hist(posterior_list, 50)"
   ]
  },
  {
   "cell_type": "code",
   "execution_count": 204,
   "id": "62f0c225-f9b3-49ae-a589-3dc66e10c836",
   "metadata": {
    "tags": []
   },
   "outputs": [],
   "source": []
  },
  {
   "cell_type": "code",
   "execution_count": 27,
   "id": "7af9ad2f-a6f2-4f68-ab52-0dbc744c3a87",
   "metadata": {
    "tags": []
   },
   "outputs": [],
   "source": [
    "from jaxopt import ProjectedGradient\n",
    "from jaxopt.projection import projection_simplex"
   ]
  },
  {
   "cell_type": "code",
   "execution_count": 204,
   "id": "79db624c-6eff-41fc-b6f2-6d3acfe8a66e",
   "metadata": {
    "tags": []
   },
   "outputs": [],
   "source": [
    "pg = ProjectedGradient(fun=weight_neg_objective, projection=projection_simplex, implicit_diff=True)\n",
    "pg_sol = pg.run(initial_weight_guess[1], hyperparams_proj=30)"
   ]
  },
  {
   "cell_type": "code",
   "execution_count": 205,
   "id": "8dff1911-c6f1-4670-9bff-4b99e1a88201",
   "metadata": {
    "tags": []
   },
   "outputs": [
    {
     "data": {
      "text/plain": [
       "OptStep(params=Array([ 5.0000157,  9.999986 , 14.999993 ], dtype=float32), state=ProxGradState(iter_num=Array(336, dtype=int32, weak_type=True), stepsize=Array(0.015625, dtype=float32), error=Array(0.0004767, dtype=float32), aux=None, velocity=Array([ 5.000012,  9.99998 , 14.999996], dtype=float32), t=Array(170.28049, dtype=float32, weak_type=True)))"
      ]
     },
     "execution_count": 205,
     "metadata": {},
     "output_type": "execute_result"
    }
   ],
   "source": [
    "pg_sol"
   ]
  },
  {
   "cell_type": "code",
   "execution_count": 207,
   "id": "23d3e2ab-9aa6-4073-a5a3-5496cb837d1b",
   "metadata": {
    "tags": []
   },
   "outputs": [
    {
     "data": {
      "text/plain": [
       "Array([ 5.0000157,  9.999986 , 14.999993 ], dtype=float32)"
      ]
     },
     "execution_count": 207,
     "metadata": {},
     "output_type": "execute_result"
    }
   ],
   "source": [
    "pg_sol.params"
   ]
  },
  {
   "cell_type": "code",
   "execution_count": 33,
   "id": "8c713b7d-338e-406b-a477-b9bd138e87bf",
   "metadata": {
    "scrolled": true,
    "tags": []
   },
   "outputs": [
    {
     "name": "stdout",
     "output_type": "stream",
     "text": [
      "0\n",
      "1\n",
      "2\n",
      "3\n",
      "4\n",
      "5\n",
      "6\n",
      "7\n",
      "8\n",
      "9\n",
      "10\n",
      "11\n",
      "12\n",
      "13\n",
      "14\n",
      "15\n",
      "16\n",
      "17\n",
      "18\n",
      "19\n",
      "20\n",
      "21\n",
      "22\n",
      "23\n",
      "24\n",
      "25\n",
      "26\n",
      "27\n",
      "28\n",
      "29\n",
      "30\n",
      "31\n",
      "32\n",
      "33\n",
      "34\n",
      "35\n",
      "36\n",
      "37\n",
      "38\n",
      "39\n",
      "40\n",
      "41\n",
      "42\n",
      "43\n",
      "44\n",
      "45\n",
      "46\n",
      "47\n",
      "48\n",
      "49\n",
      "50\n",
      "51\n",
      "52\n",
      "53\n",
      "54\n",
      "55\n",
      "56\n",
      "57\n",
      "58\n",
      "59\n",
      "60\n",
      "61\n",
      "62\n",
      "63\n",
      "64\n",
      "65\n",
      "66\n",
      "67\n",
      "68\n",
      "69\n",
      "70\n",
      "71\n",
      "72\n",
      "73\n",
      "74\n",
      "75\n",
      "76\n",
      "77\n",
      "78\n",
      "79\n",
      "80\n",
      "81\n",
      "82\n",
      "83\n",
      "84\n",
      "85\n",
      "86\n",
      "87\n",
      "88\n",
      "89\n",
      "90\n",
      "91\n",
      "92\n",
      "93\n",
      "94\n",
      "95\n",
      "96\n",
      "97\n",
      "98\n",
      "99\n"
     ]
    }
   ],
   "source": [
    "pg_list = []\n",
    "pg = ProjectedGradient(fun=weight_neg_objective, projection=projection_simplex, implicit_diff=True)\n",
    "for i, g in enumerate(initial_weight_guess[:100]):\n",
    "    print(i)\n",
    "    pg_sol = pg.run(g, hyperparams_proj=30)\n",
    "    pg_list.append(pg_sol)"
   ]
  },
  {
   "cell_type": "code",
   "execution_count": 35,
   "id": "b456fce0-8e9f-4435-8c48-5ce370117ddf",
   "metadata": {
    "tags": []
   },
   "outputs": [],
   "source": [
    "sol_list = [x.params for x in pg_list]"
   ]
  },
  {
   "cell_type": "code",
   "execution_count": 36,
   "id": "e21731b9-20ea-4fe6-a1f5-4fe944aaa3f9",
   "metadata": {
    "tags": []
   },
   "outputs": [
    {
     "data": {
      "text/plain": [
       "[Array([ 5.000056,  9.999955, 14.999989], dtype=float32),\n",
       " Array([nan, nan, nan], dtype=float32),\n",
       " Array([ 4.999948, 10.000032, 15.000021], dtype=float32),\n",
       " Array([nan, nan, nan], dtype=float32),\n",
       " Array([ 4.999985, 10.000006, 15.000014], dtype=float32),\n",
       " Array([ 4.999991, 10.00001 , 14.999999], dtype=float32),\n",
       " Array([ 5.0000033, 10.000004 , 14.999992 ], dtype=float32),\n",
       " Array([ 4.999985 , 10.000002 , 15.0000105], dtype=float32),\n",
       " Array([ 4.9999943, 10.000008 , 14.999999 ], dtype=float32),\n",
       " Array([ 4.999978 , 10.000011 , 15.0000105], dtype=float32),\n",
       " Array([ 5.0000076,  9.999983 , 15.0000105], dtype=float32),\n",
       " Array([ 4.99991 , 10.000052, 15.000037], dtype=float32),\n",
       " Array([ 4.999942, 10.000034, 15.000029], dtype=float32),\n",
       " Array([ 4.9999113, 10.000052 , 15.000036 ], dtype=float32),\n",
       " Array([ 4.999997 ,  9.9999895, 15.000014 ], dtype=float32),\n",
       " Array([ 4.999999, 10.000002, 15.000004], dtype=float32),\n",
       " Array([ 5.0000963,  9.999937 , 14.999968 ], dtype=float32),\n",
       " Array([ 4.999987 , 10.000003 , 15.0000105], dtype=float32),\n",
       " Array([ 5.0045004,  9.99729  , 14.998209 ], dtype=float32),\n",
       " Array([ 5.0000014,  9.999993 , 15.000004 ], dtype=float32),\n",
       " Array([ 4.9997377, 10.000255 , 15.0000105], dtype=float32),\n",
       " Array([ 5.0000033, 10.00004  , 14.999956 ], dtype=float32),\n",
       " Array([ 5.0027895,  9.998296 , 14.998916 ], dtype=float32),\n",
       " Array([nan, nan, nan], dtype=float32),\n",
       " Array([ 5.0000105,  9.999984 , 15.000008 ], dtype=float32),\n",
       " Array([ 5.0000052,  9.999997 , 14.999997 ], dtype=float32),\n",
       " Array([ 4.999998, 10.      , 15.000008], dtype=float32),\n",
       " Array([ 4.999991, 10.00001 , 14.999997], dtype=float32),\n",
       " Array([ 4.9999013, 10.000061 , 15.000032 ], dtype=float32),\n",
       " Array([ 4.99998 , 10.000011, 15.000008], dtype=float32),\n",
       " Array([nan, nan, nan], dtype=float32),\n",
       " Array([ 5.0000086,  9.999995 , 14.999997 ], dtype=float32),\n",
       " Array([ 5.0000076, 10.000056 , 14.999936 ], dtype=float32),\n",
       " Array([ 5.000302 ,  9.999827 , 14.9998665], dtype=float32),\n",
       " Array([ 5.0000067,  9.9999895, 15.000004 ], dtype=float32),\n",
       " Array([ 5.0000043,  9.999997 , 14.999997 ], dtype=float32),\n",
       " Array([ 4.9999623, 10.000024 , 15.000014 ], dtype=float32),\n",
       " Array([ 5.0000234,  9.999983 , 14.99999  ], dtype=float32),\n",
       " Array([ 4.998442, 10.000922, 15.000633], dtype=float32),\n",
       " Array([ 4.999985, 10.00001 , 15.000008], dtype=float32),\n",
       " Array([ 5.0000043,  9.999979 , 15.000018 ], dtype=float32),\n",
       " Array([ 4.999972 , 10.000013 , 15.0000105], dtype=float32),\n",
       " Array([ 4.999999,  9.999997, 15.000004], dtype=float32),\n",
       " Array([ 5.0000067, 10.000095 , 14.999897 ], dtype=float32),\n",
       " Array([ 4.9999638, 10.0000305, 15.0000105], dtype=float32),\n",
       " Array([ 4.999999, 10.000011, 14.99999 ], dtype=float32),\n",
       " Array([ 5.0000024,  9.999997 , 15.       ], dtype=float32),\n",
       " Array([ 4.999877, 10.000075, 15.000047], dtype=float32),\n",
       " Array([ 4.999981, 10.000011, 15.000008], dtype=float32),\n",
       " Array([ 4.9999933, 10.000002 , 15.       ], dtype=float32),\n",
       " Array([ 4.999899, 10.000063, 15.000039], dtype=float32),\n",
       " Array([ 4.9996104, 10.000237 , 15.000154 ], dtype=float32),\n",
       " Array([ 4.999972 , 10.000014 , 15.0000105], dtype=float32),\n",
       " Array([ 4.9999943, 10.000004 , 15.0000105], dtype=float32),\n",
       " Array([ 5.00002 ,  9.999973, 15.000008], dtype=float32),\n",
       " Array([ 4.999999, 10.000002, 14.999997], dtype=float32),\n",
       " Array([ 5.0023947,  9.998557 , 14.999048 ], dtype=float32),\n",
       " Array([ 5.0000916,  9.999932 , 14.999974 ], dtype=float32),\n",
       " Array([ 4.999979, 10.000002, 15.000018], dtype=float32),\n",
       " Array([ 5.0000052,  9.9999895, 15.       ], dtype=float32),\n",
       " Array([ 4.9990306, 10.000588 , 15.0003805], dtype=float32),\n",
       " Array([ 5.0000024, 10.000015 , 14.999985 ], dtype=float32),\n",
       " Array([ 5.000557 ,  9.9995575, 14.999887 ], dtype=float32),\n",
       " Array([ 4.9999485, 10.000027 , 15.000021 ], dtype=float32),\n",
       " Array([ 4.999507, 10.000304, 15.00019 ], dtype=float32),\n",
       " Array([ 4.999998, 10.000006, 14.999993], dtype=float32),\n",
       " Array([nan, nan, nan], dtype=float32),\n",
       " Array([ 4.9999585, 10.000026 , 15.000014 ], dtype=float32),\n",
       " Array([ 4.9997888, 10.000155 , 15.000057 ], dtype=float32),\n",
       " Array([ 5.0000033,  9.999998 , 14.999999 ], dtype=float32),\n",
       " Array([ 4.9983277, 10.001005 , 15.000667 ], dtype=float32),\n",
       " Array([ 4.999981, 10.000011, 15.000004], dtype=float32),\n",
       " Array([ 4.9999146, 10.000051 , 15.000032 ], dtype=float32),\n",
       " Array([ 5.000037,  9.999976, 14.999987], dtype=float32),\n",
       " Array([ 5.0000114,  9.999993 , 14.999997 ], dtype=float32),\n",
       " Array([ 4.999998,  9.999986, 15.000014], dtype=float32),\n",
       " Array([ 5.0000052, 10.000006 , 14.999989 ], dtype=float32),\n",
       " Array([ 4.999997,  9.999997, 15.000004], dtype=float32),\n",
       " Array([ 4.9999657,  9.999873 , 15.000161 ], dtype=float32),\n",
       " Array([ 4.999978 , 10.000014 , 15.0000105], dtype=float32),\n",
       " Array([ 5.0000067,  9.999995 , 15.000004 ], dtype=float32),\n",
       " Array([ 4.9999933, 10.000002 , 15.       ], dtype=float32),\n",
       " Array([ 5.000601,  9.99953 , 14.99987 ], dtype=float32),\n",
       " Array([ 5.0000505,  9.999965 , 14.999983 ], dtype=float32),\n",
       " Array([nan, nan, nan], dtype=float32),\n",
       " Array([ 4.999984, 10.000011, 15.000004], dtype=float32),\n",
       " Array([nan, nan, nan], dtype=float32),\n",
       " Array([nan, nan, nan], dtype=float32),\n",
       " Array([ 4.9999604, 10.000027 , 15.000014 ], dtype=float32),\n",
       " Array([ 4.999271, 10.00041 , 15.000319], dtype=float32),\n",
       " Array([ 5.0000105,  9.999969 , 15.000018 ], dtype=float32),\n",
       " Array([ 5.000028,  9.999973, 14.999997], dtype=float32),\n",
       " Array([ 5.0056667,  9.996585 , 14.997746 ], dtype=float32),\n",
       " Array([nan, nan, nan], dtype=float32),\n",
       " Array([ 4.9999995,  9.999988 , 15.000014 ], dtype=float32),\n",
       " Array([ 4.999996 ,  9.9999895, 15.000014 ], dtype=float32),\n",
       " Array([ 4.999999, 10.000006, 14.999997], dtype=float32),\n",
       " Array([ 5.0000124,  9.9999895, 14.999993 ], dtype=float32),\n",
       " Array([ 5.0000257,  9.999983 , 14.9999895], dtype=float32),\n",
       " Array([ 4.9999924, 10.000009 , 15.000004 ], dtype=float32)]"
      ]
     },
     "execution_count": 36,
     "metadata": {},
     "output_type": "execute_result"
    }
   ],
   "source": [
    "sol_list"
   ]
  },
  {
   "cell_type": "code",
   "execution_count": 149,
   "id": "e5929136-dcb0-4109-8820-1def7203f682",
   "metadata": {
    "tags": []
   },
   "outputs": [
    {
     "data": {
      "text/plain": [
       "951"
      ]
     },
     "execution_count": 149,
     "metadata": {},
     "output_type": "execute_result"
    }
   ],
   "source": [
    "np.argmin(posterior_list)"
   ]
  },
  {
   "cell_type": "code",
   "execution_count": 150,
   "id": "4ee348a0-39d3-4561-80d7-04877fe5a6b6",
   "metadata": {
    "tags": []
   },
   "outputs": [
    {
     "data": {
      "text/plain": [
       "Array([1.5287363e+13, 3.7541932e+13, 2.3137312e+13], dtype=float32)"
      ]
     },
     "execution_count": 150,
     "metadata": {},
     "output_type": "execute_result"
    }
   ],
   "source": [
    "res_list[951].params"
   ]
  },
  {
   "cell_type": "code",
   "execution_count": 151,
   "id": "6b2fb1bd-679a-4326-a246-0d761c6244b6",
   "metadata": {},
   "outputs": [
    {
     "data": {
      "text/plain": [
       "Array([1.1141534e+13, 1.0760614e+13, 1.5732408e+13], dtype=float32)"
      ]
     },
     "execution_count": 151,
     "metadata": {},
     "output_type": "execute_result"
    }
   ],
   "source": [
    "res.params"
   ]
  },
  {
   "cell_type": "code",
   "execution_count": 148,
   "id": "d213a772-eee8-4204-bf43-c86d4fbb34cd",
   "metadata": {
    "tags": []
   },
   "outputs": [
    {
     "data": {
      "text/plain": [
       "Array([ 8.502366,  9.648247, 11.849389], dtype=float32)"
      ]
     },
     "execution_count": 148,
     "metadata": {},
     "output_type": "execute_result"
    }
   ],
   "source": [
    "res_list[951].params/sum(res_list[951].params)*30"
   ]
  },
  {
   "cell_type": "code",
   "execution_count": 99,
   "id": "b7999e88-19fc-4ff6-b605-7451ca04ac69",
   "metadata": {
    "tags": []
   },
   "outputs": [],
   "source": [
    "def callback(xk):\n",
    "    convergence_path.append(np.copy(xk))\n",
    "    fun_val.append(weight_neg_objective(xk))"
   ]
  },
  {
   "cell_type": "code",
   "execution_count": 115,
   "id": "1e9138be-d674-4266-8113-fb68cae9fb9b",
   "metadata": {
    "tags": []
   },
   "outputs": [
    {
     "name": "stdout",
     "output_type": "stream",
     "text": [
      "RUNNING THE L-BFGS-B CODE\n",
      "\n",
      "           * * *\n",
      "\n",
      "Machine precision = 2.220D-16\n",
      " N =            3     M =           10\n",
      "\n",
      "At X0         0 variables are exactly at the bounds\n",
      "\n",
      "At iterate    0    f=  5.13550D+04    |proj g|=  3.31283D+01\n",
      "\n",
      "At iterate    1    f=  5.13323D+04    |proj g|=  1.12128D+01\n"
     ]
    },
    {
     "name": "stderr",
     "output_type": "stream",
     "text": [
      " This problem is unconstrained.\n"
     ]
    },
    {
     "name": "stdout",
     "output_type": "stream",
     "text": [
      "\n",
      "At iterate    2    f=  5.13215D+04    |proj g|=  8.12786D+00\n",
      "\n",
      "At iterate    3    f=  5.13057D+04    |proj g|=  4.77459D+00\n",
      "\n",
      "At iterate    4    f=  5.12918D+04    |proj g|=  3.00632D+00\n",
      "\n",
      "At iterate    5    f=  5.12771D+04    |proj g|=  1.84494D+00\n",
      "\n",
      "At iterate    6    f=  5.12628D+04    |proj g|=  1.14329D+00\n",
      "\n",
      "At iterate    7    f=  5.12483D+04    |proj g|=  7.05872D-01\n",
      "\n",
      "At iterate    8    f=  5.12339D+04    |proj g|=  4.36421D-01\n",
      "\n",
      "At iterate    9    f=  5.12194D+04    |proj g|=  2.69684D-01\n",
      "\n",
      "At iterate   10    f=  5.12050D+04    |proj g|=  1.66683D-01\n",
      "\n",
      "At iterate   11    f=  5.11906D+04    |proj g|=  1.03014D-01\n",
      "\n",
      "At iterate   12    f=  5.11761D+04    |proj g|=  6.36664D-02\n",
      "\n",
      "At iterate   13    f=  5.11617D+04    |proj g|=  3.93479D-02\n",
      "\n",
      "At iterate   14    f=  5.11473D+04    |proj g|=  2.43184D-02\n",
      "\n",
      "At iterate   15    f=  5.11328D+04    |proj g|=  1.50296D-02\n",
      "\n",
      "At iterate   16    f=  5.11184D+04    |proj g|=  9.28878D-03\n",
      "\n",
      "At iterate   17    f=  5.11040D+04    |proj g|=  5.74078D-03\n",
      "\n",
      "At iterate   18    f=  5.10895D+04    |proj g|=  3.54800D-03\n",
      "\n",
      "At iterate   19    f=  5.10751D+04    |proj g|=  2.19278D-03\n",
      "\n",
      "At iterate   20    f=  5.10606D+04    |proj g|=  1.35522D-03\n",
      "\n",
      "At iterate   21    f=  5.10462D+04    |proj g|=  8.37569D-04\n",
      "\n",
      "At iterate   22    f=  5.10318D+04    |proj g|=  5.17646D-04\n",
      "\n",
      "At iterate   23    f=  5.10173D+04    |proj g|=  3.19923D-04\n",
      "\n",
      "At iterate   24    f=  5.10029D+04    |proj g|=  1.97723D-04\n",
      "\n",
      "At iterate   25    f=  5.09885D+04    |proj g|=  1.22200D-04\n",
      "\n",
      "At iterate   26    f=  5.09740D+04    |proj g|=  7.55236D-05\n",
      "\n",
      "At iterate   27    f=  5.09596D+04    |proj g|=  4.66761D-05\n",
      "\n",
      "At iterate   28    f=  5.09452D+04    |proj g|=  2.88474D-05\n",
      "\n",
      "At iterate   29    f=  5.09307D+04    |proj g|=  1.78287D-05\n",
      "\n",
      "At iterate   30    f=  5.09163D+04    |proj g|=  1.10187D-05\n",
      "\n",
      "At iterate   31    f=  5.09018D+04    |proj g|=  6.80995D-06\n",
      "\n",
      "At iterate   32    f=  5.08874D+04    |proj g|=  4.20878D-06\n",
      "\n",
      "At iterate   33    f=  5.08730D+04    |proj g|=  2.60117D-06\n",
      "\n",
      "At iterate   34    f=  5.08585D+04    |proj g|=  1.60761D-06\n",
      "\n",
      "At iterate   35    f=  5.08441D+04    |proj g|=  9.93559D-07\n",
      "\n",
      "At iterate   36    f=  5.08297D+04    |proj g|=  6.14053D-07\n",
      "\n",
      "At iterate   37    f=  5.08152D+04    |proj g|=  3.79506D-07\n",
      "\n",
      "At iterate   38    f=  5.08008D+04    |proj g|=  2.34547D-07\n",
      "\n",
      "At iterate   39    f=  5.07864D+04    |proj g|=  1.44958D-07\n",
      "\n",
      "At iterate   40    f=  5.07719D+04    |proj g|=  8.95891D-08\n",
      "\n",
      "At iterate   41    f=  5.07575D+04    |proj g|=  5.53691D-08\n",
      "\n",
      "At iterate   42    f=  5.07430D+04    |proj g|=  3.42200D-08\n",
      "\n",
      "At iterate   43    f=  5.07286D+04    |proj g|=  2.11491D-08\n",
      "\n",
      "At iterate   44    f=  5.07142D+04    |proj g|=  1.30709D-08\n",
      "\n",
      "At iterate   45    f=  5.06997D+04    |proj g|=  8.07825D-09\n",
      "\n",
      "At iterate   46    f=  5.06853D+04    |proj g|=  4.99263D-09\n",
      "\n",
      "At iterate   47    f=  5.06709D+04    |proj g|=  3.08562D-09\n",
      "\n",
      "At iterate   48    f=  5.06564D+04    |proj g|=  1.90702D-09\n",
      "\n",
      "At iterate   49    f=  5.06420D+04    |proj g|=  1.17860D-09\n",
      "\n",
      "At iterate   50    f=  5.06276D+04    |proj g|=  7.28415D-10\n",
      "\n",
      "           * * *\n",
      "\n",
      "Tit   = total number of iterations\n",
      "Tnf   = total number of function evaluations\n",
      "Tnint = total number of segments explored during Cauchy searches\n",
      "Skip  = number of BFGS updates skipped\n",
      "Nact  = number of active bounds at final generalized Cauchy point\n",
      "Projg = norm of the final projected gradient\n",
      "F     = final function value\n",
      "\n",
      "           * * *\n",
      "\n",
      "   N    Tit     Tnf  Tnint  Skip  Nact     Projg        F\n",
      "    3     50     51      1     0     0   7.284D-10   5.063D+04\n",
      "  F =   50627.550781250000     \n",
      "\n",
      "CONVERGENCE: NORM_OF_PROJECTED_GRADIENT_<=_PGTOL            \n"
     ]
    }
   ],
   "source": [
    "# Create a list to store the path of the optimizer\n",
    "convergence_path = []\n",
    "fun_val = []\n",
    "\n",
    "solver = jaxopt.ScipyMinimize(fun=weight_neg_objective, method='L-BFGS-B', tol=1e-6,\n",
    "                                   options={'disp': True, 'gtol':1e-9}, callback=callback)\n",
    "res = solver.run(jnp.array(initial_weight_guess[8]))"
   ]
  },
  {
   "cell_type": "code",
   "execution_count": 116,
   "id": "e9938c6f-b6e4-440e-b22f-175b81ffce0d",
   "metadata": {
    "tags": []
   },
   "outputs": [
    {
     "data": {
      "text/plain": [
       "Array([0.25844583, 0.3424107 , 0.39914346], dtype=float32)"
      ]
     },
     "execution_count": 116,
     "metadata": {},
     "output_type": "execute_result"
    }
   ],
   "source": [
    "res.params / np.sum(res.params)"
   ]
  },
  {
   "cell_type": "code",
   "execution_count": 105,
   "id": "d77b582b-8d90-44f5-b034-a39e28d8c1ba",
   "metadata": {
    "tags": []
   },
   "outputs": [],
   "source": [
    "# Convert the convergence path to a NumPy array for easier manipulation\n",
    "convergence_path = np.array(convergence_path)"
   ]
  },
  {
   "cell_type": "code",
   "execution_count": 106,
   "id": "35c80ab9-6f70-4880-93c7-45f21f5a5d90",
   "metadata": {
    "tags": []
   },
   "outputs": [
    {
     "data": {
      "text/plain": [
       "array([[7.76643799e+03, 5.28974365e+03, 4.70479443e+03],\n",
       "       [9.15153906e+03, 8.78097656e+03, 8.54989941e+03],\n",
       "       [1.23754004e+04, 1.40285488e+04, 1.35855029e+04],\n",
       "       [1.95279531e+04, 2.30321797e+04, 2.24270566e+04],\n",
       "       [3.13331992e+04, 3.71211602e+04, 3.61677031e+04],\n",
       "       [5.07618047e+04, 6.01650859e+04, 5.86248867e+04],\n",
       "       [8.20788750e+04, 9.72878125e+04, 9.47977656e+04],\n",
       "       [1.32838141e+05, 1.57453234e+05, 1.53423406e+05],\n",
       "       [2.14916609e+05, 2.54741062e+05, 2.48221328e+05],\n",
       "       [3.47754656e+05, 4.12194219e+05, 4.01644656e+05],\n",
       "       [5.62671312e+05, 6.66935438e+05, 6.49866125e+05],\n",
       "       [9.10425938e+05, 1.07912975e+06, 1.05151050e+06],\n",
       "       [1.47309712e+06, 1.74606488e+06, 1.70137712e+06],\n",
       "       [2.38352325e+06, 2.82519500e+06, 2.75288725e+06],\n",
       "       [3.85662025e+06, 4.57125950e+06, 4.45426400e+06],\n",
       "       [6.24014350e+06, 7.39645350e+06, 7.20715200e+06],\n",
       "       [1.00967640e+07, 1.19677140e+07, 1.16614150e+07],\n",
       "       [1.63369080e+07, 1.93641680e+07, 1.88685680e+07],\n",
       "       [2.64336720e+07, 3.13318800e+07, 3.05299840e+07],\n",
       "       [4.27705800e+07, 5.06960600e+07, 4.93985520e+07],\n",
       "       [6.92042480e+07, 8.20279360e+07, 7.99285280e+07],\n",
       "       [1.11974832e+08, 1.32723976e+08, 1.29327104e+08],\n",
       "       [1.81179072e+08, 2.14751888e+08, 2.09255616e+08],\n",
       "       [2.93153920e+08, 3.47475904e+08, 3.38582752e+08],\n",
       "       [4.74333024e+08, 5.62227840e+08, 5.47838336e+08],\n",
       "       [7.67486912e+08, 9.09703744e+08, 8.86420992e+08],\n",
       "       [1.24182003e+09, 1.47193165e+09, 1.43425946e+09],\n",
       "       [2.00930662e+09, 2.38163507e+09, 2.32068019e+09],\n",
       "       [3.25112678e+09, 3.85356723e+09, 3.75493990e+09],\n",
       "       [5.26043341e+09, 6.23520102e+09, 6.07561984e+09],\n",
       "       [8.51156070e+09, 1.00887685e+10, 9.83056077e+09],\n",
       "       [1.37719931e+10, 1.63239700e+10, 1.59061801e+10]], dtype=float32)"
      ]
     },
     "execution_count": 106,
     "metadata": {},
     "output_type": "execute_result"
    }
   ],
   "source": [
    "convergence_path"
   ]
  },
  {
   "cell_type": "code",
   "execution_count": 51,
   "id": "760c6124-8d1c-4578-82fe-017371ea40d4",
   "metadata": {
    "tags": []
   },
   "outputs": [
    {
     "ename": "AxisError",
     "evalue": "axis 1 is out of bounds for array of dimension 1",
     "output_type": "error",
     "traceback": [
      "\u001b[0;31m---------------------------------------------------------------------------\u001b[0m",
      "\u001b[0;31mAxisError\u001b[0m                                 Traceback (most recent call last)",
      "Cell \u001b[0;32mIn[51], line 1\u001b[0m\n\u001b[0;32m----> 1\u001b[0m convergence_path \u001b[38;5;241m=\u001b[39m convergence_path \u001b[38;5;241m/\u001b[39m \u001b[43mnp\u001b[49m\u001b[38;5;241;43m.\u001b[39;49m\u001b[43msum\u001b[49m\u001b[43m(\u001b[49m\u001b[43mconvergence_path\u001b[49m\u001b[43m,\u001b[49m\u001b[43m \u001b[49m\u001b[43maxis\u001b[49m\u001b[38;5;241;43m=\u001b[39;49m\u001b[38;5;241;43m1\u001b[39;49m\u001b[43m)\u001b[49m[:, np\u001b[38;5;241m.\u001b[39mnewaxis]\n",
      "File \u001b[0;32m<__array_function__ internals>:180\u001b[0m, in \u001b[0;36msum\u001b[0;34m(*args, **kwargs)\u001b[0m\n",
      "File \u001b[0;32m/mnt/sw/nix/store/gpkc8q6zjnp3n3h3w9hbmbj6gjbxs85w-python-3.10.10-view/lib/python3.10/site-packages/numpy/core/fromnumeric.py:2298\u001b[0m, in \u001b[0;36msum\u001b[0;34m(a, axis, dtype, out, keepdims, initial, where)\u001b[0m\n\u001b[1;32m   2295\u001b[0m         \u001b[38;5;28;01mreturn\u001b[39;00m out\n\u001b[1;32m   2296\u001b[0m     \u001b[38;5;28;01mreturn\u001b[39;00m res\n\u001b[0;32m-> 2298\u001b[0m \u001b[38;5;28;01mreturn\u001b[39;00m \u001b[43m_wrapreduction\u001b[49m\u001b[43m(\u001b[49m\u001b[43ma\u001b[49m\u001b[43m,\u001b[49m\u001b[43m \u001b[49m\u001b[43mnp\u001b[49m\u001b[38;5;241;43m.\u001b[39;49m\u001b[43madd\u001b[49m\u001b[43m,\u001b[49m\u001b[43m \u001b[49m\u001b[38;5;124;43m'\u001b[39;49m\u001b[38;5;124;43msum\u001b[39;49m\u001b[38;5;124;43m'\u001b[39;49m\u001b[43m,\u001b[49m\u001b[43m \u001b[49m\u001b[43maxis\u001b[49m\u001b[43m,\u001b[49m\u001b[43m \u001b[49m\u001b[43mdtype\u001b[49m\u001b[43m,\u001b[49m\u001b[43m \u001b[49m\u001b[43mout\u001b[49m\u001b[43m,\u001b[49m\u001b[43m \u001b[49m\u001b[43mkeepdims\u001b[49m\u001b[38;5;241;43m=\u001b[39;49m\u001b[43mkeepdims\u001b[49m\u001b[43m,\u001b[49m\n\u001b[1;32m   2299\u001b[0m \u001b[43m                      \u001b[49m\u001b[43minitial\u001b[49m\u001b[38;5;241;43m=\u001b[39;49m\u001b[43minitial\u001b[49m\u001b[43m,\u001b[49m\u001b[43m \u001b[49m\u001b[43mwhere\u001b[49m\u001b[38;5;241;43m=\u001b[39;49m\u001b[43mwhere\u001b[49m\u001b[43m)\u001b[49m\n",
      "File \u001b[0;32m/mnt/sw/nix/store/gpkc8q6zjnp3n3h3w9hbmbj6gjbxs85w-python-3.10.10-view/lib/python3.10/site-packages/numpy/core/fromnumeric.py:86\u001b[0m, in \u001b[0;36m_wrapreduction\u001b[0;34m(obj, ufunc, method, axis, dtype, out, **kwargs)\u001b[0m\n\u001b[1;32m     83\u001b[0m         \u001b[38;5;28;01melse\u001b[39;00m:\n\u001b[1;32m     84\u001b[0m             \u001b[38;5;28;01mreturn\u001b[39;00m reduction(axis\u001b[38;5;241m=\u001b[39maxis, out\u001b[38;5;241m=\u001b[39mout, \u001b[38;5;241m*\u001b[39m\u001b[38;5;241m*\u001b[39mpasskwargs)\n\u001b[0;32m---> 86\u001b[0m \u001b[38;5;28;01mreturn\u001b[39;00m \u001b[43mufunc\u001b[49m\u001b[38;5;241;43m.\u001b[39;49m\u001b[43mreduce\u001b[49m\u001b[43m(\u001b[49m\u001b[43mobj\u001b[49m\u001b[43m,\u001b[49m\u001b[43m \u001b[49m\u001b[43maxis\u001b[49m\u001b[43m,\u001b[49m\u001b[43m \u001b[49m\u001b[43mdtype\u001b[49m\u001b[43m,\u001b[49m\u001b[43m \u001b[49m\u001b[43mout\u001b[49m\u001b[43m,\u001b[49m\u001b[43m \u001b[49m\u001b[38;5;241;43m*\u001b[39;49m\u001b[38;5;241;43m*\u001b[39;49m\u001b[43mpasskwargs\u001b[49m\u001b[43m)\u001b[49m\n",
      "\u001b[0;31mAxisError\u001b[0m: axis 1 is out of bounds for array of dimension 1"
     ]
    }
   ],
   "source": [
    "convergence_path = convergence_path / np.sum(convergence_path, axis=1)[:, np.newaxis]"
   ]
  },
  {
   "cell_type": "code",
   "execution_count": 44,
   "id": "70600ece-89aa-4e83-ad98-0800368a53db",
   "metadata": {
    "tags": []
   },
   "outputs": [
    {
     "data": {
      "text/plain": [
       "Text(0.5, nan, 'Weight 3')"
      ]
     },
     "execution_count": 44,
     "metadata": {},
     "output_type": "execute_result"
    },
    {
     "data": {
      "image/png": "[encoded data removed]",
      "text/plain": [
       "<Figure size 640x480 with 1 Axes>"
      ]
     },
     "metadata": {},
     "output_type": "display_data"
    }
   ],
   "source": [
    "# Plotting\n",
    "import mpltern\n",
    "fig, ax = plt.subplots(subplot_kw={'projection': 'ternary'})\n",
    "\n",
    "ax.scatter(convergence_path[:, 0], convergence_path[:, 1], convergence_path[:, 2], marker='o', color='blue')\n",
    "\n",
    "# Draw arrows between points\n",
    "for i in range(len(convergence_path)\n",
    "               - 1):\n",
    "    start = convergence_path[i]\n",
    "    end = convergence_path[i + 1]\n",
    "    ax.annotate('', xy=end[:2], xytext=start[:2],\n",
    "                arrowprops=dict(arrowstyle='->', color='red', lw=1.5))\n",
    "    \n",
    "ax.set_tlabel('Weight 1')\n",
    "ax.set_llabel('Weight 2')\n",
    "ax.set_rlabel('Weight 3')"
   ]
  }
 ],
 "metadata": {
  "kernelspec": {
   "display_name": "jupyter-gpu",
   "language": "python",
   "name": "python3"
  },
  "language_info": {
   "codemirror_mode": {
    "name": "ipython",
    "version": 3
   },
   "file_extension": ".py",
   "mimetype": "text/x-python",
   "name": "python",
   "nbconvert_exporter": "python",
   "pygments_lexer": "ipython3",
   "version": "3.10.10"
  }
 },
 "nbformat": 4,
 "nbformat_minor": 5
}
