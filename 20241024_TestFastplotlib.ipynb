{
 "cells": [
  {
   "cell_type": "code",
   "execution_count": 2,
   "metadata": {},
   "outputs": [
    {
     "name": "stderr",
     "output_type": "stream",
     "text": [
      "2024-10-24 19:41:44.943146: I tensorflow/core/util/port.cc:110] oneDNN custom operations are on. You may see slightly different numerical results due to floating-point round-off errors from different computation orders. To turn them off, set the environment variable `TF_ENABLE_ONEDNN_OPTS=0`.\n",
      "2024-10-24 19:41:44.986349: I tensorflow/core/platform/cpu_feature_guard.cc:182] This TensorFlow binary is optimized to use available CPU instructions in performance-critical operations.\n",
      "To enable the following instructions: AVX512F AVX512_VNNI, in other operations, rebuild TensorFlow with the appropriate compiler flags.\n"
     ]
    }
   ],
   "source": [
    "from _utils import *"
   ]
  },
  {
   "cell_type": "code",
   "execution_count": 3,
   "metadata": {},
   "outputs": [
    {
     "data": {
      "application/vnd.jupyter.widget-view+json": {
       "model_id": "cfdc6533872f49d1ac1a321300812a18",
       "version_major": 2,
       "version_minor": 0
      },
      "text/plain": [
       "Image(value=b'\\x89PNG\\r\\n\\x1a\\n\\x00\\x00\\x00\\rIHDR\\x00\\x00\\x01,\\x00\\x00\\x007\\x08\\x06\\x00\\x00\\x00\\xb6\\x1bw\\x99\\x…"
      ]
     },
     "metadata": {},
     "output_type": "display_data"
    },
    {
     "name": "stderr",
     "output_type": "stream",
     "text": [
      "error: XDG_RUNTIME_DIR is invalid or not set in the environment.\n",
      "No windowing system present. Using surfaceless platform\n",
      "No config found!\n",
      "No config found!\n",
      "error: XDG_RUNTIME_DIR is invalid or not set in the environment.\n",
      "error: XDG_RUNTIME_DIR is invalid or not set in the environment.\n",
      "error: XDG_RUNTIME_DIR is invalid or not set in the environment.\n",
      "error: XDG_RUNTIME_DIR is invalid or not set in the environment.\n",
      "error: XDG_RUNTIME_DIR is invalid or not set in the environment.\n",
      "error: XDG_RUNTIME_DIR is invalid or not set in the environment.\n"
     ]
    },
    {
     "name": "stdout",
     "output_type": "stream",
     "text": [
      "Available devices:\n",
      "✅ (default) | NVIDIA A100-SXM4-40GB | DiscreteGPU | Vulkan | 550.90.07\n",
      "❗ | NVIDIA A100-SXM4-40GB/PCIe/SSE2 | Unknown | OpenGL | \n"
     ]
    },
    {
     "name": "stderr",
     "output_type": "stream",
     "text": [
      "error: XDG_RUNTIME_DIR is invalid or not set in the environment.\n",
      "error: XDG_RUNTIME_DIR is invalid or not set in the environment.\n",
      "error: XDG_RUNTIME_DIR is invalid or not set in the environment.\n",
      "error: XDG_RUNTIME_DIR is invalid or not set in the environment.\n"
     ]
    }
   ],
   "source": [
    "import fastplotlib as fpl"
   ]
  },
  {
   "cell_type": "code",
   "execution_count": 4,
   "metadata": {},
   "outputs": [
    {
     "data": {
      "application/vnd.jupyter.widget-view+json": {
       "model_id": "183ae9aaa85946608f9935449a65f102",
       "version_major": 2,
       "version_minor": 0
      },
      "text/plain": [
       "RFBOutputContext()"
      ]
     },
     "metadata": {},
     "output_type": "display_data"
    },
    {
     "data": {
      "application/vnd.jupyter.widget-view+json": {
       "model_id": "edcca3e0d1304be8a5103add2175a830",
       "version_major": 2,
       "version_minor": 0
      },
      "text/plain": [
       "JupyterOutputContext(children=(JupyterWgpuCanvas(), IpywidgetToolBar(children=(Button(icon='expand-arrows-alt'…"
      ]
     },
     "execution_count": 4,
     "metadata": {},
     "output_type": "execute_result"
    }
   ],
   "source": [
    "import fastplotlib as fpl\n",
    "import imageio.v3 as iio\n",
    "\n",
    "# create a `Figure`\n",
    "fig = fpl.Figure()\n",
    "\n",
    "# read data\n",
    "data = iio.imread(\"imageio:astronaut.png\")\n",
    "\n",
    "# add image graphic\n",
    "image_graphic = fig[0, 0].add_image(data=data)\n",
    "\n",
    "# show the plot\n",
    "fig.show()\n"
   ]
  }
 ],
 "metadata": {
  "kernelspec": {
   "display_name": "jupyter-gpu-openmm",
   "language": "python",
   "name": "jupyter-gpu-openmm"
  },
  "language_info": {
   "codemirror_mode": {
    "name": "ipython",
    "version": 3
   },
   "file_extension": ".py",
   "mimetype": "text/x-python",
   "name": "python",
   "nbconvert_exporter": "python",
   "pygments_lexer": "ipython3",
   "version": "3.10.10"
  }
 },
 "nbformat": 4,
 "nbformat_minor": 2
}
