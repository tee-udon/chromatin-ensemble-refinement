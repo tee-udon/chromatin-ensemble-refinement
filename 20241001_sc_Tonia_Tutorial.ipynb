{
 "cells": [
  {
   "cell_type": "code",
   "execution_count": 18,
   "metadata": {},
   "outputs": [
    {
     "name": "stderr",
     "output_type": "stream",
     "text": [
      "/mnt/sw/nix/store/gpkc8q6zjnp3n3h3w9hbmbj6gjbxs85w-python-3.10.10-view/lib/python3.10/site-packages/scipy/io/matlab/_mio.py:227: MatReadWarning: Duplicate variable name \"None\" in stream - replacing previous with new\n",
      "Consider mio5.varmats_from_mat to split file into single variable files\n",
      "  matfile_dict = MR.get_variables(variable_names)\n"
     ]
    }
   ],
   "source": [
    "from _utils import *\n",
    "\n",
    "# Load dataset from file\n",
    "folder_path = '/mnt/home/tudomlumleart/ceph/10_ToniaDataset/ToniaDataset_withPolys.mat'\n",
    "\n",
    "dataset = scipy.io.loadmat(folder_path)\n",
    "\n",
    "# Hox locus dataset\n",
    "nHox = 72\n",
    "ctcfNtPolysHox = dataset['ctcfNtPolysHox']\n",
    "ctcfPolysHox = dataset['ctcfPolysHox']\n",
    "ntPolysHox = dataset['ntPolysHox']\n",
    "radNtPolysHox = dataset['radNtPolysHox']\n",
    "radPolysHox = dataset['radPolysHox']\n",
    "\n",
    "# Sox locus dataset\n",
    "nSox = 93\n",
    "ctcfNtPolysSox = dataset['ctcfNtPolysSox']\n",
    "ctcfPolysSox = dataset['ctcfPolysSox']\n",
    "ntPolysSox = dataset['ntPolysSox']\n",
    "radNtPolysSox = dataset['radNtPolysSox']\n",
    "radPolysSox = dataset['radPolysSox']\n",
    "\n",
    "# Interpolate polymers to fill in the NaN values \n",
    "ctcfNtPolysHox = interpolate_polymers(ctcfNtPolysHox)\n",
    "ctcfPolysHox = interpolate_polymers(ctcfPolysHox)\n",
    "ntPolysHox = interpolate_polymers(ntPolysHox)\n",
    "radNtPolysHox = interpolate_polymers(radNtPolysHox)\n",
    "radPolysHox = interpolate_polymers(radPolysHox)\n",
    "\n",
    "ctcfNtPolysSox = interpolate_polymers(ctcfNtPolysSox)\n",
    "ctcfPolysSox = interpolate_polymers(ctcfPolysSox)\n",
    "ntPolysSox = interpolate_polymers(ntPolysSox)\n",
    "radNtPolysSox = interpolate_polymers(radNtPolysSox)\n",
    "radPolysSox = interpolate_polymers(radPolysSox)\n",
    "\n",
    "# Generate distance maps from interpolated polymers\n",
    "ctcfNtMapsHox = calculate_distance_map(ctcfNtPolysHox)\n",
    "ctcfMapsHox = calculate_distance_map(ctcfPolysHox)\n",
    "ntMapsHox = calculate_distance_map(ntPolysHox)\n",
    "radNtMapsHox = calculate_distance_map(radNtPolysHox)\n",
    "radMapsHox = calculate_distance_map(radPolysHox)\n",
    "\n",
    "ctcfNtMapsSox = calculate_distance_map(ctcfNtPolysSox)\n",
    "ctcfMapsSox = calculate_distance_map(ctcfPolysSox)\n",
    "ntMapsSox = calculate_distance_map(ntPolysSox)\n",
    "radNtMapsSox = calculate_distance_map(radNtPolysSox)\n",
    "radMapsSox = calculate_distance_map(radPolysSox)\n",
    "\n",
    "# Generate flatten maps from distance maps\n",
    "ctcfNtFlattenHox = np.array([x.flatten() for x in ctcfNtMapsHox])\n",
    "ctcfFlattenHox = np.array([x.flatten() for x in ctcfMapsHox])\n",
    "ntFlattenHox = np.array([x.flatten() for x in ntMapsHox])\n",
    "radNtFlattenHox = np.array([x.flatten() for x in radNtMapsHox])\n",
    "radFlattenHox = np.array([x.flatten() for x in radMapsHox])\n",
    "\n",
    "ctcfNtFlattenSox = np.array([x.flatten() for x in ctcfNtMapsSox])\n",
    "ctcfFlattenSox = np.array([x.flatten() for x in ctcfMapsSox])\n",
    "ntFlattenSox = np.array([x.flatten() for x in ntMapsSox])\n",
    "radNtFlattenSox = np.array([x.flatten() for x in radNtMapsSox])\n",
    "radFlattenSox = np.array([x.flatten() for x in radMapsSox])\n",
    "\n",
    "allFlattenHox = np.concatenate((ctcfNtFlattenHox, ctcfFlattenHox, ntFlattenHox, radNtFlattenHox, radFlattenHox), axis=0)\n"
   ]
  },
  {
   "cell_type": "code",
   "execution_count": 19,
   "metadata": {},
   "outputs": [],
   "source": [
    "pca_hox = PCA(n_components=2)\n",
    "pca_hox.fit(allFlattenHox)\n",
    "# Fit the PCA model to all Hox datasets\n",
    "ctcfNtHox = pca_hox.transform(ctcfNtFlattenHox)\n",
    "ctcfHox = pca_hox.transform(ctcfFlattenHox)\n",
    "ntHox = pca_hox.transform(ntFlattenHox)\n",
    "radNtHox = pca_hox.transform(radNtFlattenHox)\n",
    "radHox = pca_hox.transform(radFlattenHox)\n",
    "\n",
    "# Convert the principal components to a DataFrame\n",
    "ctcfNtHox_df = pd.DataFrame(ctcfNtHox, columns=['PC1', 'PC2'])\n",
    "ctcfNtHox_df['label'] = 'ctcfNtHox'\n",
    "ctcfHox_df = pd.DataFrame(ctcfHox, columns=['PC1', 'PC2'])\n",
    "ctcfHox_df['label'] = 'ctcfDegHox'\n",
    "ntHox_df = pd.DataFrame(ntHox, columns=['PC1', 'PC2'])\n",
    "ntHox_df['label'] = 'ntHox'\n",
    "radNtHox_df = pd.DataFrame(radNtHox, columns=['PC1', 'PC2'])\n",
    "radNtHox_df['label'] = 'radNtHox'\n",
    "radHox_df = pd.DataFrame(radHox, columns=['PC1', 'PC2'])\n",
    "radHox_df['label'] = 'radDegHox'\n",
    "\n",
    "all_df = pd.concat([ntHox_df, radNtHox_df, radHox_df, ctcfNtHox_df, ctcfHox_df], axis=0)\n",
    "\n",
    "# PCA for Sox locus\n",
    "allFlattenSox = np.concatenate((ctcfNtFlattenSox, ctcfFlattenSox, ntFlattenSox, radNtFlattenSox, radFlattenSox), axis=0)\n",
    "pca_sox = PCA(n_components=2)\n",
    "pca_sox.fit(allFlattenSox)\n",
    "# Fit the PCA model to all Sox datasets\n",
    "ctcfNtSox = pca_sox.transform(ctcfNtFlattenSox)\n",
    "ctcfSox = pca_sox.transform(ctcfFlattenSox)\n",
    "ntSox = pca_sox.transform(ntFlattenSox)\n",
    "radNtSox = pca_sox.transform(radNtFlattenSox)\n",
    "radSox = pca_sox.transform(radFlattenSox)\n",
    "\n",
    "# Convert the principal components to a DataFrame\n",
    "ctcfNtSox_df = pd.DataFrame(ctcfNtSox, columns=['PC1', 'PC2'])\n",
    "ctcfNtSox_df['label'] = 'ctcfNtSox'\n",
    "ctcfSox_df = pd.DataFrame(ctcfSox, columns=['PC1', 'PC2'])\n",
    "ctcfSox_df['label'] = 'ctcfDegSox'\n",
    "ntSox_df = pd.DataFrame(ntSox, columns=['PC1', 'PC2'])\n",
    "ntSox_df['label'] = 'ntSox'\n",
    "radNtSox_df = pd.DataFrame(radNtSox, columns=['PC1', 'PC2'])\n",
    "radNtSox_df['label'] = 'radNtSox'\n",
    "radSox_df = pd.DataFrame(radSox, columns=['PC1', 'PC2'])\n",
    "radSox_df['label'] = 'radDegSox'\n",
    "\n",
    "all_df_sox = pd.concat([ntSox_df, radNtSox_df, radSox_df, ctcfNtSox_df, ctcfSox_df], axis=0)\n",
    "\n",
    "# Find the lower and upper bounds of the PC1 and PC2 for Hox locus\n",
    "min_pc1_hox = min(all_df['PC1'])\n",
    "max_pc1_hox = max(all_df['PC1'])\n",
    "min_pc2_hox = min(all_df['PC2'])\n",
    "max_pc2_hox = max(all_df['PC2'])\n",
    "\n",
    "# Find the lower and upper bounds of the PC1 and PC2 for Sox locus\n",
    "min_pc1_sox = min(all_df_sox['PC1'])\n",
    "max_pc1_sox = max(all_df_sox['PC1'])\n",
    "min_pc2_sox = min(all_df_sox['PC2'])\n",
    "max_pc2_sox = max(all_df_sox['PC2'])\n",
    "\n",
    "# Create a grid of points for Hox locus\n",
    "num_microstates = 75 # Number of microstates to generate\n",
    "pc1_hox = np.linspace(min_pc1_hox, max_pc1_hox, num_microstates)\n",
    "pc2_hox = np.linspace(min_pc2_hox, max_pc2_hox, num_microstates)\n",
    "pc1_hox, pc2_hox = np.meshgrid(pc1_hox, pc2_hox)\n",
    "pc1_hox = pc1_hox.flatten()\n",
    "pc2_hox = pc2_hox.flatten()\n",
    "\n",
    "# Put the grid points into a DataFrame\n",
    "grid_hox = pd.DataFrame({'PC1': pc1_hox, 'PC2': pc2_hox})\n",
    "# Sort PC2 in descending order while keeping PC1 in ascending order\n",
    "grid_hox = grid_hox.sort_values(by=['PC1', 'PC2'], ascending=[True, False], ignore_index=True)\n",
    "\n",
    "# Infer microstates from PCA for Hox locus\n",
    "microstates_hox = pca_hox.inverse_transform(grid_hox)\n",
    "\n",
    "# Use the function I just wrote to generate microstates for the Sox locus\n",
    "microstates_sox = generate_microstates(min_pc1_sox, max_pc1_sox, min_pc2_sox, max_pc2_sox, num_microstates, pca_sox)"
   ]
  },
  {
   "cell_type": "code",
   "execution_count": 20,
   "metadata": {},
   "outputs": [],
   "source": [
    "distance_observations_microstates_hox = scipy.spatial.distance.cdist(allFlattenHox, microstates_hox, 'euclidean')\n",
    "distance_observations_microstates_sox = scipy.spatial.distance.cdist(allFlattenSox, microstates_sox, 'euclidean')"
   ]
  },
  {
   "cell_type": "code",
   "execution_count": 21,
   "metadata": {},
   "outputs": [],
   "source": [
    "microstates_hox_assignment = np.argmin(distance_observations_microstates_hox, axis=0)\n",
    "microstates_sox_assignment = np.argmin(distance_observations_microstates_sox, axis=0)"
   ]
  },
  {
   "cell_type": "code",
   "execution_count": 22,
   "metadata": {},
   "outputs": [],
   "source": [
    "distance_observations_microstates_hox = np.min(distance_observations_microstates_hox, axis=0)\n",
    "distance_observations_microstates_sox = np.min(distance_observations_microstates_sox, axis=0)"
   ]
  },
  {
   "cell_type": "code",
   "execution_count": 23,
   "metadata": {},
   "outputs": [],
   "source": [
    "microstates_hox_sc = allFlattenHox[microstates_hox_assignment, :]\n",
    "microstates_sox_sc = allFlattenSox[microstates_sox_assignment, :]"
   ]
  },
  {
   "cell_type": "code",
   "execution_count": 24,
   "metadata": {},
   "outputs": [
    {
     "data": {
      "text/plain": [
       "<matplotlib.colorbar.Colorbar at 0x15512c473460>"
      ]
     },
     "execution_count": 24,
     "metadata": {},
     "output_type": "execute_result"
    },
    {
     "data": {
      "image/png": "[encoded data removed]",
      "text/plain": [
       "<Figure size 640x480 with 2 Axes>"
      ]
     },
     "metadata": {},
     "output_type": "display_data"
    }
   ],
   "source": [
    "plt.imshow(distance_observations_microstates_hox.reshape(num_microstates, num_microstates).T, cmap='Reds_r')\n",
    "plt.colorbar()"
   ]
  },
  {
   "cell_type": "code",
   "execution_count": 25,
   "metadata": {},
   "outputs": [],
   "source": [
    "# Lets just try reweighting "
   ]
  }
 ],
 "metadata": {
  "kernelspec": {
   "display_name": "jupyter-gpu-openmm",
   "language": "python",
   "name": "jupyter-gpu-openmm"
  },
  "language_info": {
   "codemirror_mode": {
    "name": "ipython",
    "version": 3
   },
   "file_extension": ".py",
   "mimetype": "text/x-python",
   "name": "python",
   "nbconvert_exporter": "python",
   "pygments_lexer": "ipython3",
   "version": "3.10.10"
  }
 },
 "nbformat": 4,
 "nbformat_minor": 2
}
