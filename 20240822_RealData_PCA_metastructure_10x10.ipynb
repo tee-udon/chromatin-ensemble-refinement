{
 "cells": [
  {
   "cell_type": "code",
   "execution_count": 1,
   "metadata": {},
   "outputs": [
    {
     "name": "stderr",
     "output_type": "stream",
     "text": [
      "2024-09-04 17:40:32.961260: I tensorflow/core/util/port.cc:110] oneDNN custom operations are on. You may see slightly different numerical results due to floating-point round-off errors from different computation orders. To turn them off, set the environment variable `TF_ENABLE_ONEDNN_OPTS=0`.\n",
      "2024-09-04 17:40:33.004092: I tensorflow/core/platform/cpu_feature_guard.cc:182] This TensorFlow binary is optimized to use available CPU instructions in performance-critical operations.\n",
      "To enable the following instructions: AVX512F AVX512_VNNI, in other operations, rebuild TensorFlow with the appropriate compiler flags.\n"
     ]
    }
   ],
   "source": [
    "import sys\n",
    "sys.path.append(r\"/mnt/ceph/users/tudomlumleart/00_VirtualEnvironments/teeu/lib/python3.10/site-packages\")\n",
    "sys.path.append(r\"/mnt/home/tudomlumleart/.local/lib/python3.10/site-packages/\")\n",
    "sys.path.append(r\"/mnt/home/tudomlumleart/ceph/00_VirtualEnvironments/jupyter-gpu/lib/python3.10/site-packages\")\n",
    "from utils import *\n",
    "from functions import *\n",
    "from sklearn.mixture import BayesianGaussianMixture, GaussianMixture \n",
    "import sklearn\n",
    "from sklearn.model_selection import train_test_split \n",
    "from sklearn.model_selection import cross_val_score, cross_validate\n",
    "from sklearn.model_selection import validation_curve\n",
    "\n",
    "os.environ['TF_ENABLE_ONEDNN_OPTS']='0'\n",
    "\n",
    "from sklearn.metrics import adjusted_mutual_info_score\n",
    "\n",
    "import os\n",
    "import scipy.io"
   ]
  },
  {
   "cell_type": "code",
   "execution_count": 2,
   "metadata": {},
   "outputs": [],
   "source": [
    "# Load dataset from file\n",
    "folder_path = '/mnt/home/tudomlumleart/ceph/05_Sox9Dataset/'\n",
    "\n",
    "# List all .mat files in the folder and load them\n",
    "cnc_maps = scipy.io.loadmat(folder_path + 'cncMaps.mat')['cncMaps'][:80, :80, :]\n",
    "esc_maps = scipy.io.loadmat(folder_path + 'escMaps.mat')['escMaps'][:80, :80, :]\n",
    "\n",
    "# Load polys data and then perform linear interpolation\n",
    "# List all .mat files in the folder and load them\n",
    "cnc_polys = scipy.io.loadmat(folder_path + 'cncPols.mat')['cncPols'][:80, :, :]\n",
    "esc_polys = scipy.io.loadmat(folder_path + 'escPols.mat')['escPols'][:80, :, :]\n"
   ]
  },
  {
   "cell_type": "code",
   "execution_count": 3,
   "metadata": {},
   "outputs": [],
   "source": [
    "def interpolate_polymers(polys):\n",
    "    num_probes, num_coords, num_cells = polys.shape\n",
    "    new_polys = np.zeros((num_probes, num_coords, num_cells))\n",
    "    for c in range(num_cells):\n",
    "        curr_cells = polys[:, :, c]\n",
    "        for x in range(num_coords):\n",
    "            curr_coords = curr_cells[:, x]\n",
    "            missing_indices = np.isnan(curr_coords)\n",
    "            valid_indices = ~missing_indices\n",
    "            interp_coords = np.interp(np.flatnonzero(missing_indices), np.flatnonzero(valid_indices), curr_coords[valid_indices])\n",
    "            new_polys[missing_indices, x, c] = interp_coords\n",
    "            new_polys[valid_indices, x, c] = curr_coords[valid_indices]\n",
    "    return new_polys"
   ]
  },
  {
   "cell_type": "code",
   "execution_count": 4,
   "metadata": {},
   "outputs": [],
   "source": [
    "esc_polys_interp = interpolate_polymers(esc_polys)\n",
    "cnc_polys_interp = interpolate_polymers(cnc_polys)\n",
    "\n",
    "esc_maps_interp = np.array([squareform(pdist(esc_polys_interp[:, :, i])) for i in range(esc_polys_interp.shape[2])])\n",
    "cnc_maps_interp = np.array([squareform(pdist(cnc_polys_interp[:, :, i])) for i in range(cnc_polys_interp.shape[2])])\n",
    "esc_maps_interp_flat = np.array([x.flatten() for x in esc_maps_interp])\n",
    "cnc_maps_interp_flat = np.array([x.flatten() for x in cnc_maps_interp])\n",
    "all_maps_interp_flat = np.concatenate((esc_maps_interp_flat, cnc_maps_interp_flat), axis=0)"
   ]
  },
  {
   "cell_type": "code",
   "execution_count": 5,
   "metadata": {},
   "outputs": [],
   "source": [
    "from sklearn.decomposition import PCA\n",
    "\n",
    "pca = PCA(n_components=2)\n",
    "pca.fit(all_maps_interp_flat)\n",
    "esc_maps_pca = pca.transform(esc_maps_interp_flat)\n",
    "cnc_maps_pca = pca.transform(cnc_maps_interp_flat)\n",
    "\n",
    "# Convert the principal components into a DataFrame\n",
    "# add a column for the label\n",
    "esc_df = pd.DataFrame(esc_maps_pca, columns=['PC1', 'PC2'])\n",
    "esc_df['label'] = 'ESC'\n",
    "cnc_df = pd.DataFrame(cnc_maps_pca, columns=['PC1', 'PC2'])\n",
    "cnc_df['label'] = 'CNC'\n",
    "all_df = pd.concat([esc_df, cnc_df], axis=0)\n",
    "\n",
    "save_dir = '/mnt/home/tudomlumleart/ceph/01_ChromatinEnsembleRefinement/chromatin-ensemble-refinement/figures/20240731/'\n",
    "\n",
    "\n",
    "# Find 0.05 and 0.95 quantiles of PC1 and PC2 data\n",
    "pc1_05 = all_df['PC1'].quantile(0.05)\n",
    "pc1_95 = all_df['PC1'].quantile(0.95)\n",
    "pc2_05 = all_df['PC2'].quantile(0.05)\n",
    "pc2_95 = all_df['PC2'].quantile(0.95)\n",
    "\n",
    "pc1_grid = np.linspace(pc1_05, pc1_95, 10)\n",
    "pc2_grid = np.linspace(pc2_05, pc2_95, 10)\n",
    "\n",
    "# Generate combination of pc1 and pc2 values\n",
    "pc1_grid, pc2_grid = np.meshgrid(pc1_grid, pc2_grid)\n",
    "\n",
    "# put this into a dataframe\n",
    "pc1_grid_flat = pc1_grid.flatten()\n",
    "pc2_grid_flat = pc2_grid.flatten()\n",
    "pc1_pc2_df = pd.DataFrame({'PC1': pc1_grid_flat, 'PC2': pc2_grid_flat})\n",
    "pc1_pc2_df['label'] = 'metastructures'\n",
    "\n",
    "# Sort PC2 in descending order while keeping PC1 in ascending order\n",
    "pc1_pc2_df = pc1_pc2_df.sort_values(by=['PC1', 'PC2'], ascending=[True, False], ignore_index=True)"
   ]
  },
  {
   "cell_type": "code",
   "execution_count": 13,
   "metadata": {},
   "outputs": [
    {
     "data": {
      "text/html": [
       "<div>\n",
       "<style scoped>\n",
       "    .dataframe tbody tr th:only-of-type {\n",
       "        vertical-align: middle;\n",
       "    }\n",
       "\n",
       "    .dataframe tbody tr th {\n",
       "        vertical-align: top;\n",
       "    }\n",
       "\n",
       "    .dataframe thead th {\n",
       "        text-align: right;\n",
       "    }\n",
       "</style>\n",
       "<table border=\"1\" class=\"dataframe\">\n",
       "  <thead>\n",
       "    <tr style=\"text-align: right;\">\n",
       "      <th></th>\n",
       "      <th>PC1</th>\n",
       "      <th>PC2</th>\n",
       "      <th>label</th>\n",
       "    </tr>\n",
       "  </thead>\n",
       "  <tbody>\n",
       "    <tr>\n",
       "      <th>0</th>\n",
       "      <td>-15946.131405</td>\n",
       "      <td>8321.445352</td>\n",
       "      <td>metastructures</td>\n",
       "    </tr>\n",
       "    <tr>\n",
       "      <th>1</th>\n",
       "      <td>-15946.131405</td>\n",
       "      <td>6488.084918</td>\n",
       "      <td>metastructures</td>\n",
       "    </tr>\n",
       "    <tr>\n",
       "      <th>2</th>\n",
       "      <td>-15946.131405</td>\n",
       "      <td>4654.724485</td>\n",
       "      <td>metastructures</td>\n",
       "    </tr>\n",
       "    <tr>\n",
       "      <th>3</th>\n",
       "      <td>-15946.131405</td>\n",
       "      <td>2821.364051</td>\n",
       "      <td>metastructures</td>\n",
       "    </tr>\n",
       "    <tr>\n",
       "      <th>4</th>\n",
       "      <td>-15946.131405</td>\n",
       "      <td>988.003618</td>\n",
       "      <td>metastructures</td>\n",
       "    </tr>\n",
       "    <tr>\n",
       "      <th>...</th>\n",
       "      <td>...</td>\n",
       "      <td>...</td>\n",
       "      <td>...</td>\n",
       "    </tr>\n",
       "    <tr>\n",
       "      <th>95</th>\n",
       "      <td>12412.170597</td>\n",
       "      <td>-845.356816</td>\n",
       "      <td>metastructures</td>\n",
       "    </tr>\n",
       "    <tr>\n",
       "      <th>96</th>\n",
       "      <td>12412.170597</td>\n",
       "      <td>-2678.717249</td>\n",
       "      <td>metastructures</td>\n",
       "    </tr>\n",
       "    <tr>\n",
       "      <th>97</th>\n",
       "      <td>12412.170597</td>\n",
       "      <td>-4512.077683</td>\n",
       "      <td>metastructures</td>\n",
       "    </tr>\n",
       "    <tr>\n",
       "      <th>98</th>\n",
       "      <td>12412.170597</td>\n",
       "      <td>-6345.438116</td>\n",
       "      <td>metastructures</td>\n",
       "    </tr>\n",
       "    <tr>\n",
       "      <th>99</th>\n",
       "      <td>12412.170597</td>\n",
       "      <td>-8178.798550</td>\n",
       "      <td>metastructures</td>\n",
       "    </tr>\n",
       "  </tbody>\n",
       "</table>\n",
       "<p>100 rows × 3 columns</p>\n",
       "</div>"
      ],
      "text/plain": [
       "             PC1          PC2           label\n",
       "0  -15946.131405  8321.445352  metastructures\n",
       "1  -15946.131405  6488.084918  metastructures\n",
       "2  -15946.131405  4654.724485  metastructures\n",
       "3  -15946.131405  2821.364051  metastructures\n",
       "4  -15946.131405   988.003618  metastructures\n",
       "..           ...          ...             ...\n",
       "95  12412.170597  -845.356816  metastructures\n",
       "96  12412.170597 -2678.717249  metastructures\n",
       "97  12412.170597 -4512.077683  metastructures\n",
       "98  12412.170597 -6345.438116  metastructures\n",
       "99  12412.170597 -8178.798550  metastructures\n",
       "\n",
       "[100 rows x 3 columns]"
      ]
     },
     "execution_count": 13,
     "metadata": {},
     "output_type": "execute_result"
    }
   ],
   "source": [
    "pc1_pc2_df "
   ]
  },
  {
   "cell_type": "code",
   "execution_count": 19,
   "metadata": {},
   "outputs": [
    {
     "name": "stdout",
     "output_type": "stream",
     "text": [
      "['20240715_WeightOptimization-20240801102525_1.csv', '20240715_WeightOptimization-20240801102525_2.csv', '20240715_WeightOptimization-20240801102525_3.csv', '20240715_WeightOptimization-20240801102525_4.csv']\n",
      "['20240715_WeightOptimization-20240801102542_1.csv', '20240715_WeightOptimization-20240801102542_2.csv', '20240715_WeightOptimization-20240801102542_3.csv', '20240715_WeightOptimization-20240801102542_4.csv']\n",
      "['20240715_WeightOptimization-20240801102600_1.csv', '20240715_WeightOptimization-20240801102600_2.csv', '20240715_WeightOptimization-20240801102600_3.csv', '20240715_WeightOptimization-20240801102600_4.csv']\n"
     ]
    }
   ],
   "source": [
    "def load_weights(directory, num_metastructures):\n",
    "    log_weights = []\n",
    "    lp = []\n",
    "    files = sorted(os.listdir(directory))[-4:]\n",
    "    print(files)\n",
    "    \n",
    "    log_weights_d = []\n",
    "    for file in files:\n",
    "        log_weights_chain = []\n",
    "        lp_chain = []\n",
    "        with open('%s/%s'%(directory, file), newline='') as csvfile:\n",
    "            reader = csv.DictReader(filter(lambda row: row[0]!='#', csvfile), )\n",
    "            for row in reader:\n",
    "                log_weights_row = [float(row[\"log_weights.%d\"%i]) for i in range(1,num_metastructures+1)]\n",
    "                lp_chain.append(float(row[\"lp__\"]))\n",
    "                log_weights_chain.append(log_weights_row)\n",
    "        log_weights = np.array(log_weights_chain)\n",
    "        lp_chain = np.array(lp_chain)\n",
    "        log_weights_d.append(log_weights)\n",
    "        lp.append(lp_chain)\n",
    "    log_weights_d = np.array(log_weights_d)\n",
    "    return log_weights_d \n",
    "\n",
    "common_dir = '/mnt/home/tudomlumleart/ceph/01_ChromatinEnsembleRefinement/chromatin-ensemble-refinement/MCMC_results/20240801_WeightMCMC_PCA_metastructures/'\n",
    "\n",
    "stan_directory_esc = os.path.join(common_dir, 'ESC/stan_output')\n",
    "stan_directory_cnc = os.path.join(common_dir, 'CNC/stan_output')\n",
    "stan_directory_all = os.path.join(common_dir, 'all/stan_output')\n",
    "\n",
    "esc_log_weights = load_weights(stan_directory_esc, 100)\n",
    "cnc_log_weights = load_weights(stan_directory_cnc, 100)\n",
    "all_log_weights = load_weights(stan_directory_all, 100)\n",
    "\n",
    "esc_weights = np.mean(np.exp(np.array(esc_log_weights)), axis=(0, 1))\n",
    "cnc_weights = np.mean(np.exp(np.array(cnc_log_weights)), axis=(0, 1))\n",
    "\n",
    "# Put weights in a DataFrame\n",
    "esc_weights_df = pd.DataFrame({'PC1': pc1_pc2_df['PC1'].values,\n",
    "                               'PC2': pc1_pc2_df['PC1'].values,  \n",
    "                               'weight': esc_weights})\n",
    "esc_weights_df['label'] = 'ESC'\n",
    "cnc_weights_df = pd.DataFrame({'PC1': pc1_pc2_df['PC1'].values,\n",
    "                               'PC2': pc1_pc2_df['PC1'].values, \n",
    "                               'weight': cnc_weights})\n",
    "cnc_weights_df['label'] = 'CNC'\n"
   ]
  },
  {
   "cell_type": "code",
   "execution_count": 15,
   "metadata": {},
   "outputs": [
    {
     "data": {
      "text/plain": [
       "(4, 1000, 100)"
      ]
     },
     "execution_count": 15,
     "metadata": {},
     "output_type": "execute_result"
    }
   ],
   "source": [
    "esc_log_weights.shape"
   ]
  },
  {
   "cell_type": "code",
   "execution_count": 20,
   "metadata": {},
   "outputs": [],
   "source": [
    "esc_weights_all = np.exp(np.array(esc_log_weights))\n",
    "cnc_weights_all = np.exp(np.array(cnc_log_weights))\n",
    "\n",
    "esc_weights_all = esc_weights_all.reshape(-1, 100)\n",
    "cnc_weights_all = cnc_weights_all.reshape(-1, 100)\n",
    "\n",
    "esc_entropy_all = np.array([scipy.stats.entropy(x) for x in esc_weights_all])\n",
    "cnc_entropy_all = np.array([scipy.stats.entropy(x) for x in cnc_weights_all])\n",
    "\n",
    "# Put these data in dataframe \n",
    "esc_entropy_df = pd.DataFrame({'entropy': esc_entropy_all, 'label': 'ESC'})\n",
    "cnc_entropy_df = pd.DataFrame({'entropy': cnc_entropy_all, 'label': 'NPC'})"
   ]
  },
  {
   "cell_type": "code",
   "execution_count": null,
   "metadata": {},
   "outputs": [],
   "source": []
  },
  {
   "cell_type": "code",
   "execution_count": 21,
   "metadata": {},
   "outputs": [],
   "source": [
    "all_entropy_df = pd.concat([esc_entropy_df, cnc_entropy_df], axis=0)"
   ]
  },
  {
   "cell_type": "code",
   "execution_count": 22,
   "metadata": {},
   "outputs": [
    {
     "name": "stdout",
     "output_type": "stream",
     "text": [
      "Means: []\n",
      "Whiskers: []\n"
     ]
    },
    {
     "data": {
      "image/png": "[encoded data removed]",
      "text/plain": [
       "<Figure size 640x480 with 1 Axes>"
      ]
     },
     "metadata": {},
     "output_type": "display_data"
    }
   ],
   "source": [
    "ax = sns.boxplot(x='label', y='entropy', data=all_entropy_df)\n",
    "\n",
    "# Extract components\n",
    "means = []\n",
    "whiskers = []\n",
    "\n",
    "# Loop through each box in the plot\n",
    "for i, artist in enumerate(ax.artists):\n",
    "    # The artist is the box, we can get the x-coordinates for the whiskers\n",
    "    box_data = artist.get_path().vertices\n",
    "    box_x = box_data[:, 0]\n",
    "    box_y = box_data[:, 1]\n",
    "    \n",
    "    # The median is the middle line of the box\n",
    "    median = ax.lines[2 * i + 1].get_ydata()[0]\n",
    "    means.append(median)\n",
    "    \n",
    "    # The whiskers are the lines, each box has two whiskers\n",
    "    whiskers.append([ax.lines[4 * i].get_ydata()[1], ax.lines[4 * i + 2].get_ydata()[1]])\n",
    "\n",
    "print(\"Means:\", means)\n",
    "print(\"Whiskers:\", whiskers)\n",
    "\n",
    "plt.xlabel('Label')\n",
    "plt.ylabel(r'Entropy $H(X)$')\n",
    "plt.savefig(os.path.join(save_dir, 'entropy_boxplot_esc_cnc.png'), dpi=300, bbox_inches='tight')\n",
    "\n"
   ]
  },
  {
   "cell_type": "code",
   "execution_count": 10,
   "metadata": {},
   "outputs": [
    {
     "data": {
      "text/plain": [
       "<Axes.ArtistList of 0 collections>"
      ]
     },
     "execution_count": 10,
     "metadata": {},
     "output_type": "execute_result"
    }
   ],
   "source": [
    "ax.collections"
   ]
  },
  {
   "cell_type": "code",
   "execution_count": 11,
   "metadata": {},
   "outputs": [],
   "source": [
    "esc_weights_grid = esc_weights_df['weight'].values.reshape(10, 10).T\n",
    "cnc_weights_grid = cnc_weights_df['weight'].values.reshape(10, 10).T"
   ]
  },
  {
   "cell_type": "code",
   "execution_count": 12,
   "metadata": {},
   "outputs": [
    {
     "data": {
      "image/png": "[encoded data removed]",
      "text/plain": [
       "<Figure size 640x480 with 2 Axes>"
      ]
     },
     "metadata": {},
     "output_type": "display_data"
    }
   ],
   "source": [
    "diff_table = np.log(cnc_weights_grid / esc_weights_grid)\n",
    "\n",
    "# Flatten the array and get the indices of the top 10 values\n",
    "flattened_indices = np.argsort(diff_table, axis=None)[-10:]\n",
    "\n",
    "# Convert the flattened indices back to 2D indices\n",
    "top_10_indices = np.unravel_index(flattened_indices, diff_table.shape)\n",
    "\n",
    "# Combine row and column indices into a list of tuples\n",
    "top_10_indices = list(zip(top_10_indices[0], top_10_indices[1]))\n",
    "\n",
    "# Flatten the array and get the indices of the top 10 values\n",
    "flattened_indices = np.argsort(diff_table, axis=None)[:10]\n",
    "\n",
    "# Convert the flattened indices back to 2D indices\n",
    "bottom_10_indices = np.unravel_index(flattened_indices, diff_table.shape)\n",
    "\n",
    "# Combine row and column indices into a list of tuples\n",
    "bottom_10_indices = list(zip(bottom_10_indices[0], bottom_10_indices[1]))\n",
    "\n",
    "plt.imshow(np.log(cnc_weights_grid / esc_weights_grid), cmap='coolwarm', vmin=-3/2, vmax=3/2)\n",
    "plt.colorbar()\n",
    "plt.xticks(np.arange(10), [f\"{x:.1e}\" for x in cnc_weights_df['PC1'].unique()], rotation=45)\n",
    "plt.yticks(np.arange(10), [f\"{x:.1e}\" for x in cnc_weights_df['PC2'].unique()][::-1], rotation=45)\n",
    "plt.xlabel('PC1')\n",
    "plt.ylabel('PC2')\n",
    "plt.title(r'$\\ln \\; P_\\mathrm{CNC}/P_\\mathrm{ESC}$')\n",
    "plt.savefig(os.path.join(save_dir, 'prob_ratio.png'), dpi=300, bbox_inches='tight')\n",
    "\n",
    "# Annotate the top 3 highest values\n",
    "for i in range(1, 4):\n",
    "    plt.scatter(top_10_indices[-i][1], top_10_indices[-i][0], color='red', s=100, edgecolor='white')\n",
    "    # plt.text(top_10_indices[-i][0], top_3_coords[-i][1], f'{data[top_3_coords[0][i], top_3_coords[1][i]]:.2f}', \n",
    "    #          color='white', ha='center', va='center', fontsize=9, fontweight='bold')\n",
    "    \n",
    "for i in range(3):\n",
    "    plt.scatter(bottom_10_indices[i][1], bottom_10_indices[i][0], color='blue', s=100, edgecolor='white')\n",
    "\n",
    "plt.savefig(os.path.join(save_dir, 'cnc_esc_prob_ratio_annotate.png'), dpi=300, bbox_inches='tight')"
   ]
  }
 ],
 "metadata": {
  "kernelspec": {
   "display_name": "jupyter-gpu-openmm",
   "language": "python",
   "name": "jupyter-gpu-openmm"
  },
  "language_info": {
   "codemirror_mode": {
    "name": "ipython",
    "version": 3
   },
   "file_extension": ".py",
   "mimetype": "text/x-python",
   "name": "python",
   "nbconvert_exporter": "python",
   "pygments_lexer": "ipython3",
   "version": "3.10.10"
  }
 },
 "nbformat": 4,
 "nbformat_minor": 2
}
