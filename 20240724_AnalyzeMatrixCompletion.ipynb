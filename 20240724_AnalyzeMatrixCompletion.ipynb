{
 "cells": [
  {
   "cell_type": "code",
   "execution_count": 1,
   "metadata": {},
   "outputs": [],
   "source": [
    "# Load necessary modules and dataset \n",
    "import sys\n",
    "sys.path.append(r\"/mnt/ceph/users/tudomlumleart/00_VirtualEnvironments/teeu/lib/python3.10/site-packages\")\n",
    "sys.path.append(r\"/mnt/home/tudomlumleart/.local/lib/python3.10/site-packages/\")\n",
    "sys.path.append(r\"/mnt/home/tudomlumleart/ceph/00_VirtualEnvironments/jupyter-gpu/lib/python3.10/site-packages\")\n",
    "\n",
    "import matplotlib.pyplot as plt\n",
    "from functions import *\n",
    "from utils import *\n",
    "\n",
    "import re"
   ]
  },
  {
   "cell_type": "code",
   "execution_count": 2,
   "metadata": {},
   "outputs": [],
   "source": [
    "import pandas as pd\n",
    "import glob\n",
    "import os"
   ]
  },
  {
   "cell_type": "code",
   "execution_count": 16,
   "metadata": {},
   "outputs": [],
   "source": [
    "def read_errors(file_path):\n",
    "    # Initialize an empty list to store the extracted numbers\n",
    "    errors = []\n",
    "\n",
    "    # Open and read the file\n",
    "    with open(file_path, 'r') as file:\n",
    "        lines = file.readlines()\n",
    "        for line in lines:\n",
    "            # Use a regular expression to find the number in the line\n",
    "            match = re.search(r'Error:\\s+([0-9.]+)', line)\n",
    "            if match:\n",
    "                # Convert the matched string to a float and append to the list\n",
    "                errors.append(float(match.group(1)))\n",
    "    \n",
    "    return errors\n"
   ]
  },
  {
   "cell_type": "code",
   "execution_count": 33,
   "metadata": {},
   "outputs": [
    {
     "data": {
      "application/vnd.jupyter.widget-view+json": {
       "model_id": "db24b5f935224e859edde5b203c1d53b",
       "version_major": 2,
       "version_minor": 0
      },
      "text/plain": [
       "  0%|          | 0/73 [00:00<?, ?it/s]"
      ]
     },
     "metadata": {},
     "output_type": "display_data"
    }
   ],
   "source": [
    "# Initialize a list to store data\n",
    "data = []\n",
    "\n",
    "folder_path = '/mnt/home/tudomlumleart/ceph/01_ChromatinEnsembleRefinement/chromatin-ensemble-refinement/MatrixCompletion_results/20240724_single'\n",
    "\n",
    "# Loop through each file in the folder\n",
    "for filename in tqdm(os.listdir(folder_path)):\n",
    "    if filename.endswith('.txt'):\n",
    "        # Parse parameters from filename\n",
    "        params = filename[:-4].split('_')[4:7]\n",
    "        \n",
    "        # Read the content of the file into a DataFrame\n",
    "        file_path = os.path.join(folder_path, filename)\n",
    "        errors_list = read_errors(file_path)\n",
    "        \n",
    "        col_names = ['nuclear_l1_ball', 'nuclear_surface', 'linear_imputation']  \n",
    "        \n",
    "        file_df = pd.DataFrame({col:[err] for (col,err) in zip(col_names, errors_list)})\n",
    "        params_name = ['num_templates', 'weight_dist', 'noise_std']\n",
    "        \n",
    "        # Repeat parameters for each row in the file_df\n",
    "        for i, param in enumerate(params):\n",
    "            file_df[params_name[i]] = float(param)\n",
    "        \n",
    "        # Append the DataFrame to the list\n",
    "        data.append(file_df)\n",
    "\n",
    "# Concatenate all the individual DataFrames into one\n",
    "final_df = pd.concat(data, ignore_index=True)"
   ]
  },
  {
   "cell_type": "code",
   "execution_count": 23,
   "metadata": {},
   "outputs": [
    {
     "data": {
      "text/html": [
       "<div>\n",
       "<style scoped>\n",
       "    .dataframe tbody tr th:only-of-type {\n",
       "        vertical-align: middle;\n",
       "    }\n",
       "\n",
       "    .dataframe tbody tr th {\n",
       "        vertical-align: top;\n",
       "    }\n",
       "\n",
       "    .dataframe thead th {\n",
       "        text-align: right;\n",
       "    }\n",
       "</style>\n",
       "<table border=\"1\" class=\"dataframe\">\n",
       "  <thead>\n",
       "    <tr style=\"text-align: right;\">\n",
       "      <th></th>\n",
       "      <th>nuclear_l1_ball</th>\n",
       "      <th>nuclear_surface</th>\n",
       "      <th>linear_imputation</th>\n",
       "      <th>num_templates</th>\n",
       "      <th>weight_dist</th>\n",
       "      <th>noise_std</th>\n",
       "    </tr>\n",
       "  </thead>\n",
       "  <tbody>\n",
       "    <tr>\n",
       "      <th>0</th>\n",
       "      <td>8.016389e+05</td>\n",
       "      <td>1.432736e+06</td>\n",
       "      <td>9.328915e+05</td>\n",
       "      <td>10.0</td>\n",
       "      <td>0.0</td>\n",
       "      <td>10.0</td>\n",
       "    </tr>\n",
       "    <tr>\n",
       "      <th>1</th>\n",
       "      <td>1.038322e+06</td>\n",
       "      <td>1.815086e+06</td>\n",
       "      <td>1.249552e+06</td>\n",
       "      <td>500.0</td>\n",
       "      <td>1000.0</td>\n",
       "      <td>40.0</td>\n",
       "    </tr>\n",
       "    <tr>\n",
       "      <th>2</th>\n",
       "      <td>8.605741e+05</td>\n",
       "      <td>1.765430e+06</td>\n",
       "      <td>7.068993e+05</td>\n",
       "      <td>2.0</td>\n",
       "      <td>0.0</td>\n",
       "      <td>2.0</td>\n",
       "    </tr>\n",
       "    <tr>\n",
       "      <th>3</th>\n",
       "      <td>8.808461e+05</td>\n",
       "      <td>1.744957e+06</td>\n",
       "      <td>1.348160e+06</td>\n",
       "      <td>100.0</td>\n",
       "      <td>1000.0</td>\n",
       "      <td>40.0</td>\n",
       "    </tr>\n",
       "    <tr>\n",
       "      <th>4</th>\n",
       "      <td>9.160408e+05</td>\n",
       "      <td>1.573550e+06</td>\n",
       "      <td>1.208567e+06</td>\n",
       "      <td>50.0</td>\n",
       "      <td>1.0</td>\n",
       "      <td>2.0</td>\n",
       "    </tr>\n",
       "    <tr>\n",
       "      <th>...</th>\n",
       "      <td>...</td>\n",
       "      <td>...</td>\n",
       "      <td>...</td>\n",
       "      <td>...</td>\n",
       "      <td>...</td>\n",
       "      <td>...</td>\n",
       "    </tr>\n",
       "    <tr>\n",
       "      <th>68</th>\n",
       "      <td>8.029612e+05</td>\n",
       "      <td>1.592505e+06</td>\n",
       "      <td>9.521498e+05</td>\n",
       "      <td>10.0</td>\n",
       "      <td>1.0</td>\n",
       "      <td>10.0</td>\n",
       "    </tr>\n",
       "    <tr>\n",
       "      <th>69</th>\n",
       "      <td>6.711523e+05</td>\n",
       "      <td>1.340389e+06</td>\n",
       "      <td>1.095681e+06</td>\n",
       "      <td>5.0</td>\n",
       "      <td>1000.0</td>\n",
       "      <td>20.0</td>\n",
       "    </tr>\n",
       "    <tr>\n",
       "      <th>70</th>\n",
       "      <td>1.129645e+06</td>\n",
       "      <td>1.581138e+06</td>\n",
       "      <td>1.296053e+06</td>\n",
       "      <td>100.0</td>\n",
       "      <td>1000.0</td>\n",
       "      <td>20.0</td>\n",
       "    </tr>\n",
       "    <tr>\n",
       "      <th>71</th>\n",
       "      <td>7.087162e+05</td>\n",
       "      <td>1.680225e+06</td>\n",
       "      <td>1.230108e+06</td>\n",
       "      <td>500.0</td>\n",
       "      <td>1000.0</td>\n",
       "      <td>10.0</td>\n",
       "    </tr>\n",
       "    <tr>\n",
       "      <th>72</th>\n",
       "      <td>1.102117e+06</td>\n",
       "      <td>1.567099e+06</td>\n",
       "      <td>1.208677e+06</td>\n",
       "      <td>50.0</td>\n",
       "      <td>1.0</td>\n",
       "      <td>40.0</td>\n",
       "    </tr>\n",
       "  </tbody>\n",
       "</table>\n",
       "<p>73 rows × 6 columns</p>\n",
       "</div>"
      ],
      "text/plain": [
       "    nuclear_l1_ball  nuclear_surface  linear_imputation  num_templates  \\\n",
       "0      8.016389e+05     1.432736e+06       9.328915e+05           10.0   \n",
       "1      1.038322e+06     1.815086e+06       1.249552e+06          500.0   \n",
       "2      8.605741e+05     1.765430e+06       7.068993e+05            2.0   \n",
       "3      8.808461e+05     1.744957e+06       1.348160e+06          100.0   \n",
       "4      9.160408e+05     1.573550e+06       1.208567e+06           50.0   \n",
       "..              ...              ...                ...            ...   \n",
       "68     8.029612e+05     1.592505e+06       9.521498e+05           10.0   \n",
       "69     6.711523e+05     1.340389e+06       1.095681e+06            5.0   \n",
       "70     1.129645e+06     1.581138e+06       1.296053e+06          100.0   \n",
       "71     7.087162e+05     1.680225e+06       1.230108e+06          500.0   \n",
       "72     1.102117e+06     1.567099e+06       1.208677e+06           50.0   \n",
       "\n",
       "    weight_dist  noise_std  \n",
       "0           0.0       10.0  \n",
       "1        1000.0       40.0  \n",
       "2           0.0        2.0  \n",
       "3        1000.0       40.0  \n",
       "4           1.0        2.0  \n",
       "..          ...        ...  \n",
       "68          1.0       10.0  \n",
       "69       1000.0       20.0  \n",
       "70       1000.0       20.0  \n",
       "71       1000.0       10.0  \n",
       "72          1.0       40.0  \n",
       "\n",
       "[73 rows x 6 columns]"
      ]
     },
     "execution_count": 23,
     "metadata": {},
     "output_type": "execute_result"
    }
   ],
   "source": [
    "final_df"
   ]
  },
  {
   "cell_type": "code",
   "execution_count": 26,
   "metadata": {},
   "outputs": [],
   "source": [
    "final_df['l1_lin_ratio'] = final_df['nuclear_l1_ball'] / final_df['linear_imputation']\n",
    "final_df['surf_lin_ratio'] = final_df['nuclear_surface'] / final_df['linear_imputation']"
   ]
  },
  {
   "cell_type": "code",
   "execution_count": 32,
   "metadata": {},
   "outputs": [
    {
     "name": "stderr",
     "output_type": "stream",
     "text": [
      "/tmp/ipykernel_2134443/2950843778.py:1: UserWarning: Ignoring `palette` because no `hue` variable has been assigned.\n",
      "  p = sns.lineplot(data=final_df, x='num_templates', y='l1_lin_ratio', palette=\"flare\")\n"
     ]
    },
    {
     "data": {
      "image/png": "[encoded data removed]",
      "text/plain": [
       "<Figure size 640x480 with 1 Axes>"
      ]
     },
     "metadata": {},
     "output_type": "display_data"
    }
   ],
   "source": [
    "p = sns.lineplot(data=final_df, x='num_templates', y='l1_lin_ratio', palette=\"flare\")\n",
    "# p2 = sns.lineplot(data=final_df, x='num_templates', y= 'surf_lin_ratio', palette=\"flare\")\n",
    "# p.set_ylabel('MSE Loss between True and Predicted Structures')\n",
    "# p.set_xlabel('Number of templates')"
   ]
  }
 ],
 "metadata": {
  "kernelspec": {
   "display_name": "jupyter-gpu-openmm",
   "language": "python",
   "name": "jupyter-gpu-openmm"
  },
  "language_info": {
   "codemirror_mode": {
    "name": "ipython",
    "version": 3
   },
   "file_extension": ".py",
   "mimetype": "text/x-python",
   "name": "python",
   "nbconvert_exporter": "python",
   "pygments_lexer": "ipython3",
   "version": "3.10.10"
  }
 },
 "nbformat": 4,
 "nbformat_minor": 2
}
