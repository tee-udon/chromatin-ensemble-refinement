{
 "cells": [
  {
   "cell_type": "code",
   "execution_count": 1,
   "metadata": {},
   "outputs": [
    {
     "name": "stderr",
     "output_type": "stream",
     "text": [
      "2024-10-01 18:04:45.344492: I tensorflow/core/util/port.cc:110] oneDNN custom operations are on. You may see slightly different numerical results due to floating-point round-off errors from different computation orders. To turn them off, set the environment variable `TF_ENABLE_ONEDNN_OPTS=0`.\n",
      "2024-10-01 18:04:45.674359: I tensorflow/core/platform/cpu_feature_guard.cc:182] This TensorFlow binary is optimized to use available CPU instructions in performance-critical operations.\n",
      "To enable the following instructions: AVX512F AVX512_VNNI AVX512_BF16, in other operations, rebuild TensorFlow with the appropriate compiler flags.\n",
      "/mnt/sw/nix/store/gpkc8q6zjnp3n3h3w9hbmbj6gjbxs85w-python-3.10.10-view/lib/python3.10/site-packages/scipy/io/matlab/_mio.py:227: MatReadWarning: Duplicate variable name \"None\" in stream - replacing previous with new\n",
      "Consider mio5.varmats_from_mat to split file into single variable files\n",
      "  matfile_dict = MR.get_variables(variable_names)\n"
     ]
    }
   ],
   "source": [
    "from _utils import *\n",
    "\n",
    "# Load dataset from file\n",
    "folder_path = '/mnt/home/tudomlumleart/ceph/10_ToniaDataset/ToniaDataset_withPolys.mat'\n",
    "\n",
    "dataset = scipy.io.loadmat(folder_path)\n",
    "\n",
    "# Hox locus dataset\n",
    "nHox = 72\n",
    "ctcfNtPolysHox = dataset['ctcfNtPolysHox']\n",
    "ctcfPolysHox = dataset['ctcfPolysHox']\n",
    "ntPolysHox = dataset['ntPolysHox']\n",
    "radNtPolysHox = dataset['radNtPolysHox']\n",
    "radPolysHox = dataset['radPolysHox']\n",
    "\n",
    "# Sox locus dataset\n",
    "nSox = 93\n",
    "ctcfNtPolysSox = dataset['ctcfNtPolysSox']\n",
    "ctcfPolysSox = dataset['ctcfPolysSox']\n",
    "ntPolysSox = dataset['ntPolysSox']\n",
    "radNtPolysSox = dataset['radNtPolysSox']\n",
    "radPolysSox = dataset['radPolysSox']\n",
    "\n",
    "# Interpolate polymers to fill in the NaN values \n",
    "ctcfNtPolysHox = interpolate_polymers(ctcfNtPolysHox)\n",
    "ctcfPolysHox = interpolate_polymers(ctcfPolysHox)\n",
    "ntPolysHox = interpolate_polymers(ntPolysHox)\n",
    "radNtPolysHox = interpolate_polymers(radNtPolysHox)\n",
    "radPolysHox = interpolate_polymers(radPolysHox)\n",
    "\n",
    "ctcfNtPolysSox = interpolate_polymers(ctcfNtPolysSox)\n",
    "ctcfPolysSox = interpolate_polymers(ctcfPolysSox)\n",
    "ntPolysSox = interpolate_polymers(ntPolysSox)\n",
    "radNtPolysSox = interpolate_polymers(radNtPolysSox)\n",
    "radPolysSox = interpolate_polymers(radPolysSox)\n",
    "\n",
    "# Generate distance maps from interpolated polymers\n",
    "ctcfNtMapsHox = calculate_distance_map(ctcfNtPolysHox)\n",
    "ctcfMapsHox = calculate_distance_map(ctcfPolysHox)\n",
    "ntMapsHox = calculate_distance_map(ntPolysHox)\n",
    "radNtMapsHox = calculate_distance_map(radNtPolysHox)\n",
    "radMapsHox = calculate_distance_map(radPolysHox)\n",
    "\n",
    "ctcfNtMapsSox = calculate_distance_map(ctcfNtPolysSox)\n",
    "ctcfMapsSox = calculate_distance_map(ctcfPolysSox)\n",
    "ntMapsSox = calculate_distance_map(ntPolysSox)\n",
    "radNtMapsSox = calculate_distance_map(radNtPolysSox)\n",
    "radMapsSox = calculate_distance_map(radPolysSox)\n",
    "\n",
    "# Generate flatten maps from distance maps\n",
    "ctcfNtFlattenHox = np.array([x.flatten() for x in ctcfNtMapsHox])\n",
    "ctcfFlattenHox = np.array([x.flatten() for x in ctcfMapsHox])\n",
    "ntFlattenHox = np.array([x.flatten() for x in ntMapsHox])\n",
    "radNtFlattenHox = np.array([x.flatten() for x in radNtMapsHox])\n",
    "radFlattenHox = np.array([x.flatten() for x in radMapsHox])\n",
    "\n",
    "ctcfNtFlattenSox = np.array([x.flatten() for x in ctcfNtMapsSox])\n",
    "ctcfFlattenSox = np.array([x.flatten() for x in ctcfMapsSox])\n",
    "ntFlattenSox = np.array([x.flatten() for x in ntMapsSox])\n",
    "radNtFlattenSox = np.array([x.flatten() for x in radNtMapsSox])\n",
    "radFlattenSox = np.array([x.flatten() for x in radMapsSox])\n",
    "\n",
    "allFlattenHox = np.concatenate((ctcfNtFlattenHox, ctcfFlattenHox, ntFlattenHox, radNtFlattenHox, radFlattenHox), axis=0)\n"
   ]
  }
 ],
 "metadata": {
  "kernelspec": {
   "display_name": "jupyter-gpu-openmm",
   "language": "python",
   "name": "jupyter-gpu-openmm"
  },
  "language_info": {
   "codemirror_mode": {
    "name": "ipython",
    "version": 3
   },
   "file_extension": ".py",
   "mimetype": "text/x-python",
   "name": "python",
   "nbconvert_exporter": "python",
   "pygments_lexer": "ipython3",
   "version": "3.10.10"
  }
 },
 "nbformat": 4,
 "nbformat_minor": 2
}
