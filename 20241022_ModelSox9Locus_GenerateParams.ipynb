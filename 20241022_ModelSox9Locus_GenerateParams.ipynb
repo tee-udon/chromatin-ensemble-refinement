{
 "cells": [
  {
   "cell_type": "code",
   "execution_count": 1,
   "metadata": {},
   "outputs": [
    {
     "name": "stderr",
     "output_type": "stream",
     "text": [
      "2024-10-23 14:25:03.321547: I tensorflow/core/util/port.cc:110] oneDNN custom operations are on. You may see slightly different numerical results due to floating-point round-off errors from different computation orders. To turn them off, set the environment variable `TF_ENABLE_ONEDNN_OPTS=0`.\n",
      "2024-10-23 14:25:03.365611: I tensorflow/core/platform/cpu_feature_guard.cc:182] This TensorFlow binary is optimized to use available CPU instructions in performance-critical operations.\n",
      "To enable the following instructions: AVX512F AVX512_VNNI, in other operations, rebuild TensorFlow with the appropriate compiler flags.\n"
     ]
    }
   ],
   "source": [
    "from _utils import *\n",
    "\n",
    "import pickle\n",
    "import numpy as np\n",
    "import pandas as pd\n",
    "\n",
    "def generate_param_pickle(\n",
    "        save_file,\n",
    "        save_folder,\n",
    "        monomers=5000,\n",
    "        replicates=6,\n",
    "        lef_lifetime=10,\n",
    "        lef_separation=20,\n",
    "        ctcf_sites=None,\n",
    "        ctcf_capture=0.5,\n",
    "        ctcf_release=0.003,\n",
    "        ctcf_dir=None,\n",
    "        monomer_types=None,\n",
    "        interaction_matrix=None,\n",
    "        trajectory_length=1000,\n",
    "        density=0.2,\n",
    "        load_prob=1/5000,\n",
    "        gpu_id=\"0\",\n",
    "        repulsion=6,\n",
    "        lef_flag=True\n",
    "    ):\n",
    "    \n",
    "    if ctcf_sites is None:\n",
    "        ctcf_sites = np.arange(0, monomers, 5)\n",
    "    \n",
    "    ctcf_capture = np.ones_like(ctcf_sites) * ctcf_capture\n",
    "    ctcf_release = np.ones_like(ctcf_sites) * ctcf_release\n",
    "    load_prob = np.ones(monomers) * load_prob\n",
    "    \n",
    "    if ctcf_dir is None:\n",
    "        ctcf_dir = np.ones_like(ctcf_sites) * 0\n",
    "        \n",
    "    if monomer_types is None:\n",
    "        monomer_types = np.zeros(monomers, dtype=int)\n",
    "        \n",
    "    if interaction_matrix is None:\n",
    "        interaction_matrix = np.array([[0, 0], [0, 0]])\n",
    "\n",
    "    param_dict = {\n",
    "        'monomers': monomers,\n",
    "        'replicates': replicates,\n",
    "        'lef_lifetime': lef_lifetime,\n",
    "        'lef_separation': lef_separation,\n",
    "        'ctcf_capture': ctcf_capture,\n",
    "        'ctcf_release': ctcf_release,\n",
    "        'save_folder': save_folder,\n",
    "        'ctcf_dir': ctcf_dir,\n",
    "        'ctcf_sites': ctcf_sites,\n",
    "        'monomer_types': monomer_types,\n",
    "        'interaction_matrix': interaction_matrix,\n",
    "        'trajectory_length': trajectory_length,\n",
    "        'density': density,\n",
    "        'load_prob': load_prob,\n",
    "        'gpu_id': gpu_id,\n",
    "        'repulsion': repulsion,\n",
    "        'lef_flag': True\n",
    "    }\n",
    "    \n",
    "    with open(save_file, 'wb') as f:\n",
    "        pickle.dump(param_dict, f)\n",
    "    \n",
    "    # change the file suffix to csv \n",
    "    save_file = save_file.split('.')\n",
    "    save_file[-1] = 'csv'\n",
    "    save_file = '.'.join(save_file)\n",
    "    \n",
    "    # save the parameters as a csv file\n",
    "    # write it line by line\n",
    "    with open(save_file, 'w') as f:\n",
    "        for key, value in param_dict.items():\n",
    "            if isinstance(value, np.ndarray):\n",
    "                value = ','.join(map(str, value))\n",
    "            f.write(f'{key},{value}\\n')\n",
    "            \n",
    "\n",
    "save_dir = '/mnt/home/tudomlumleart/ceph/01_ChromatinEnsembleRefinement/chromatin-ensemble-refinement/md_params'\n",
    "sim_save_dir = '/mnt/home/tudomlumleart/ceph/01_ChromatinEnsembleRefinement/chromatin-ensemble-refinement/md_results'\n",
    "    "
   ]
  },
  {
   "cell_type": "code",
   "execution_count": 53,
   "metadata": {},
   "outputs": [],
   "source": [
    "ctcf_params_dir = '/mnt/home/tudomlumleart/ceph/05_Sox9Dataset/ctcf_summary/20241023_ctcf_str_bin800.csv'\n",
    "# load the ctcf parameters into a pandas dataframe\n",
    "ctcf_params = pd.read_csv(ctcf_params_dir)"
   ]
  },
  {
   "cell_type": "code",
   "execution_count": 54,
   "metadata": {},
   "outputs": [
    {
     "data": {
      "text/html": [
       "<div>\n",
       "<style scoped>\n",
       "    .dataframe tbody tr th:only-of-type {\n",
       "        vertical-align: middle;\n",
       "    }\n",
       "\n",
       "    .dataframe tbody tr th {\n",
       "        vertical-align: top;\n",
       "    }\n",
       "\n",
       "    .dataframe thead th {\n",
       "        text-align: right;\n",
       "    }\n",
       "</style>\n",
       "<table border=\"1\" class=\"dataframe\">\n",
       "  <thead>\n",
       "    <tr style=\"text-align: right;\">\n",
       "      <th></th>\n",
       "      <th>bin</th>\n",
       "      <th>strand</th>\n",
       "      <th>ctcf_str_esc</th>\n",
       "      <th>ctcf_str_cnc</th>\n",
       "    </tr>\n",
       "  </thead>\n",
       "  <tbody>\n",
       "    <tr>\n",
       "      <th>0</th>\n",
       "      <td>0</td>\n",
       "      <td>+</td>\n",
       "      <td>0.192175</td>\n",
       "      <td>0.592395</td>\n",
       "    </tr>\n",
       "    <tr>\n",
       "      <th>1</th>\n",
       "      <td>2</td>\n",
       "      <td>-</td>\n",
       "      <td>0.125078</td>\n",
       "      <td>0.649762</td>\n",
       "    </tr>\n",
       "    <tr>\n",
       "      <th>2</th>\n",
       "      <td>7</td>\n",
       "      <td>-</td>\n",
       "      <td>0.167537</td>\n",
       "      <td>0.683537</td>\n",
       "    </tr>\n",
       "    <tr>\n",
       "      <th>3</th>\n",
       "      <td>13</td>\n",
       "      <td>-</td>\n",
       "      <td>0.198379</td>\n",
       "      <td>0.565240</td>\n",
       "    </tr>\n",
       "    <tr>\n",
       "      <th>4</th>\n",
       "      <td>21</td>\n",
       "      <td>+</td>\n",
       "      <td>0.190887</td>\n",
       "      <td>0.584230</td>\n",
       "    </tr>\n",
       "  </tbody>\n",
       "</table>\n",
       "</div>"
      ],
      "text/plain": [
       "   bin strand  ctcf_str_esc  ctcf_str_cnc\n",
       "0    0      +      0.192175      0.592395\n",
       "1    2      -      0.125078      0.649762\n",
       "2    7      -      0.167537      0.683537\n",
       "3   13      -      0.198379      0.565240\n",
       "4   21      +      0.190887      0.584230"
      ]
     },
     "execution_count": 54,
     "metadata": {},
     "output_type": "execute_result"
    }
   ],
   "source": [
    "ctcf_params.head()"
   ]
  },
  {
   "cell_type": "code",
   "execution_count": 96,
   "metadata": {},
   "outputs": [],
   "source": [
    "# This line ensures that there is an impermeable boundary at the end of the domain\n",
    "ctcf_params.loc[len(ctcf_params)] = [max(ctcf_params['bin'])+1, '0', 1, 1]  "
   ]
  },
  {
   "cell_type": "code",
   "execution_count": 97,
   "metadata": {},
   "outputs": [],
   "source": [
    "len_pattern = max(ctcf_params['bin'])"
   ]
  },
  {
   "cell_type": "code",
   "execution_count": 103,
   "metadata": {},
   "outputs": [],
   "source": [
    "num_monomers = len_pattern "
   ]
  },
  {
   "cell_type": "code",
   "execution_count": 99,
   "metadata": {},
   "outputs": [],
   "source": [
    "ctcf_sites = ctcf_params['bin'].values"
   ]
  },
  {
   "cell_type": "code",
   "execution_count": 100,
   "metadata": {},
   "outputs": [
    {
     "data": {
      "text/plain": [
       "801"
      ]
     },
     "execution_count": 100,
     "metadata": {},
     "output_type": "execute_result"
    }
   ],
   "source": [
    "len_pattern"
   ]
  },
  {
   "cell_type": "code",
   "execution_count": 104,
   "metadata": {},
   "outputs": [],
   "source": [
    "ctcf_sites_extended = []\n",
    "for i in range(0, (num_monomers//len_pattern)+1):\n",
    "    ctcf_sites_extended.extend(ctcf_sites + i*len_pattern)\n",
    "ctcf_sites_extended = np.array(ctcf_sites_extended)\n",
    "ctcf_sites_extended = ctcf_sites_extended[ctcf_sites_extended <= num_monomers]"
   ]
  },
  {
   "cell_type": "code",
   "execution_count": 105,
   "metadata": {},
   "outputs": [
    {
     "data": {
      "text/plain": [
       "array([  0,   2,   7,  13,  21,  86, 101, 102, 104, 114, 130, 168, 192,\n",
       "       196, 203, 241, 261, 274, 280, 292, 336, 339, 357, 372, 376, 377,\n",
       "       381, 386, 389, 393, 401, 404, 405, 406, 410, 420, 444, 451, 479,\n",
       "       483, 485, 496, 499, 500, 510, 513, 521, 527, 528, 535, 545, 567,\n",
       "       574, 581, 583, 588, 593, 594, 599, 602, 610, 617, 620, 621, 630,\n",
       "       631, 637, 639, 644, 662, 663, 665, 666, 667, 668, 669, 670, 672,\n",
       "       679, 681, 684, 686, 690, 692, 699, 700, 701, 705, 707, 708, 711,\n",
       "       712, 713, 714, 715, 716, 719, 723, 728, 737, 741, 744, 749, 752,\n",
       "       753, 760, 762, 765, 766, 770, 771, 772, 787, 788, 797, 799, 800,\n",
       "       801, 801])"
      ]
     },
     "execution_count": 105,
     "metadata": {},
     "output_type": "execute_result"
    }
   ],
   "source": [
    "ctcf_sites_extended"
   ]
  },
  {
   "cell_type": "code",
   "execution_count": 106,
   "metadata": {},
   "outputs": [],
   "source": [
    "ctcf_dir = ctcf_params['strand'].values\n",
    "ctcf_dir[ctcf_dir == '+'] = 1\n",
    "ctcf_dir[ctcf_dir == '-'] = 2\n",
    "ctcf_dir[ctcf_dir == '0'] = 0"
   ]
  },
  {
   "cell_type": "code",
   "execution_count": 107,
   "metadata": {},
   "outputs": [],
   "source": [
    "num_ctcf = len(ctcf_sites_extended)\n",
    "ctcf_dir_extended = np.tile(ctcf_dir, num_monomers//len_pattern+1)\n",
    "ctcf_dir_extended = ctcf_dir_extended[:num_ctcf]"
   ]
  },
  {
   "cell_type": "code",
   "execution_count": 108,
   "metadata": {},
   "outputs": [],
   "source": [
    "ctcf_capture_esc = ctcf_params['ctcf_str_esc'].values\n",
    "ctcf_capture_esc_extended = np.tile(ctcf_capture_esc, num_monomers//len_pattern+1)\n",
    "ctcf_capture_esc_extended = ctcf_capture_esc_extended[:num_ctcf]"
   ]
  },
  {
   "cell_type": "code",
   "execution_count": 109,
   "metadata": {},
   "outputs": [],
   "source": [
    "ctcf_capture_cnc = ctcf_params['ctcf_str_cnc'].values\n",
    "ctcf_capture_cnc_extended = np.tile(ctcf_capture_cnc, num_monomers//len_pattern+1)\n",
    "ctcf_capture_cnc_extended = ctcf_capture_cnc_extended[:num_ctcf]"
   ]
  },
  {
   "cell_type": "code",
   "execution_count": 111,
   "metadata": {},
   "outputs": [
    {
     "data": {
      "text/plain": [
       "(119, 119, 119, 119)"
      ]
     },
     "execution_count": 111,
     "metadata": {},
     "output_type": "execute_result"
    }
   ],
   "source": [
    "len(ctcf_sites_extended), len(ctcf_dir_extended), len(ctcf_capture_esc_extended), len(ctcf_capture_cnc_extended)"
   ]
  },
  {
   "cell_type": "code",
   "execution_count": 112,
   "metadata": {},
   "outputs": [
    {
     "data": {
      "text/plain": [
       "[<matplotlib.lines.Line2D at 0x15549e960550>]"
      ]
     },
     "execution_count": 112,
     "metadata": {},
     "output_type": "execute_result"
    },
    {
     "data": {
      "image/png": "[encoded data removed]",
      "text/plain": [
       "<Figure size 640x480 with 1 Axes>"
      ]
     },
     "metadata": {},
     "output_type": "display_data"
    }
   ],
   "source": [
    "plt.plot(ctcf_sites_extended[:200], 'o')"
   ]
  },
  {
   "cell_type": "code",
   "execution_count": 113,
   "metadata": {},
   "outputs": [
    {
     "data": {
      "text/plain": [
       "[<matplotlib.lines.Line2D at 0x15549b7d3490>]"
      ]
     },
     "execution_count": 113,
     "metadata": {},
     "output_type": "execute_result"
    },
    {
     "data": {
      "image/png": "[encoded data removed]",
      "text/plain": [
       "<Figure size 640x480 with 1 Axes>"
      ]
     },
     "metadata": {},
     "output_type": "display_data"
    }
   ],
   "source": [
    "plt.plot(ctcf_capture_esc_extended[:200], 'o')"
   ]
  },
  {
   "cell_type": "code",
   "execution_count": 114,
   "metadata": {},
   "outputs": [],
   "source": [
    "generate_param_pickle(\n",
    "    f'{save_dir}/20241023_Sox9_esc_BEend_BEstronger_Monomers800.pkl',\n",
    "    f'{sim_save_dir}/20241023_Sox9_esc_BEend_BEstronger_Monomers800/',\n",
    "    ctcf_sites=ctcf_sites_extended,\n",
    "    ctcf_capture=ctcf_capture_esc_extended,\n",
    "    ctcf_dir=ctcf_dir_extended,\n",
    "    monomers=num_monomers,\n",
    "    trajectory_length=1000\n",
    ")"
   ]
  },
  {
   "cell_type": "code",
   "execution_count": 115,
   "metadata": {},
   "outputs": [],
   "source": [
    "generate_param_pickle(\n",
    "    f'{save_dir}/20241023_Sox9_cnc_BEend_BEstronger_Monomers800.pkl',\n",
    "    f'{sim_save_dir}/20241023_Sox9_cnc_BEend_BEstronger_Monomers800/',\n",
    "    ctcf_sites=ctcf_sites_extended,\n",
    "    ctcf_capture=ctcf_capture_cnc_extended,\n",
    "    ctcf_dir=ctcf_dir_extended,\n",
    "    trajectory_length=1000,\n",
    "    monomers=num_monomers\n",
    ")"
   ]
  },
  {
   "cell_type": "code",
   "execution_count": null,
   "metadata": {},
   "outputs": [],
   "source": [
    "# need to introduce impermeable CTCF boundary between domain"
   ]
  },
  {
   "cell_type": "code",
   "execution_count": 116,
   "metadata": {},
   "outputs": [
    {
     "name": "stdout",
     "output_type": "stream",
     "text": [
      "/mnt/home/tudomlumleart/ceph/01_ChromatinEnsembleRefinement/chromatin-ensemble-refinement/md_params/20241023_Sox9_cnc_BEend_BEstronger_Monomers800.pkl\n",
      "Submitted batch job 4087494\n",
      "/mnt/home/tudomlumleart/ceph/01_ChromatinEnsembleRefinement/chromatin-ensemble-refinement/md_params/20241023_Sox9_esc_BEend_BEstronger_Monomers800.pkl\n",
      "Submitted batch job 4087495\n"
     ]
    }
   ],
   "source": [
    "# Run sbatch script\n",
    "slurm_path = '/mnt/home/tudomlumleart/ceph/12_LoopQuantification/scripts/slurm/2024_RunPythonScriptOpenMM.sh'\n",
    "python_path = '/mnt/home/tudomlumleart/ceph/12_LoopQuantification/scripts/polymer_simulation.py'\n",
    "params_path = '/mnt/home/tudomlumleart/ceph/01_ChromatinEnsembleRefinement/chromatin-ensemble-refinement/md_params'\n",
    "\n",
    "# Find file in params that start with 20241010 and ends with .pkl\n",
    "import glob\n",
    "import os\n",
    "\n",
    "matching_files = glob.glob(f'{params_path}/20241023_Sox9*BEend_BEstronger_Monomers800.pkl')\n",
    "\n",
    "# Iterate through all matching files \n",
    "for file in matching_files:\n",
    "    print(file)\n",
    "    # run sbatch script\n",
    "    os.system(f'sbatch {slurm_path} {python_path} {file}')\n"
   ]
  }
 ],
 "metadata": {
  "kernelspec": {
   "display_name": "jupyter-gpu-openmm",
   "language": "python",
   "name": "python3"
  },
  "language_info": {
   "codemirror_mode": {
    "name": "ipython",
    "version": 3
   },
   "file_extension": ".py",
   "mimetype": "text/x-python",
   "name": "python",
   "nbconvert_exporter": "python",
   "pygments_lexer": "ipython3",
   "version": "3.10.10"
  }
 },
 "nbformat": 4,
 "nbformat_minor": 2
}
