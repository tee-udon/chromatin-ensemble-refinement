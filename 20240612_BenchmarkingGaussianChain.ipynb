{
 "cells": [
  {
   "cell_type": "code",
   "execution_count": 1,
   "metadata": {},
   "outputs": [],
   "source": [
    "from functions import *\n",
    "from scipy.optimize import linear_sum_assignment"
   ]
  },
  {
   "cell_type": "code",
   "execution_count": null,
   "metadata": {},
   "outputs": [],
   "source": [
    "jax.config.update(\"jax_debug_nans\", True) "
   ]
  },
  {
   "cell_type": "code",
   "execution_count": 2,
   "metadata": {},
   "outputs": [],
   "source": [
    "# Define parameters \n",
    "num_monomers = 20 \n",
    "mean_bond_length = 1\n",
    "std_bond_length = 20\n",
    "gaussian_noise_std = 10"
   ]
  },
  {
   "cell_type": "code",
   "execution_count": 3,
   "metadata": {},
   "outputs": [],
   "source": [
    "def generate_posterior_parallelize(templates_flatten, observations_flatten, template_weights):\n",
    "    \"\"\"\n",
    "    \"\"\" \n",
    "    templates_flatten = jnp.array(templates_flatten)\n",
    "    observations_flatten = jnp.array(observations_flatten)\n",
    "    \n",
    "    template_weights = jnp.array(template_weights)\n",
    "    \n",
    "    weight_prior = 1/len(template_weights) \n",
    "    \n",
    "    # Generate grid index combination\n",
    "    template_info_indices = jnp.arange(len(templates_flatten))\n",
    "    observation_info_indices = jnp.arange(len(observations_flatten))\n",
    "    t_ind, o_ind = jnp.meshgrid(template_info_indices, observation_info_indices)\n",
    "    \n",
    "    total_posterior = 0\n",
    "    \n",
    "    t_ind = t_ind.flatten()\n",
    "    o_ind = o_ind.flatten()\n",
    "        \n",
    "    \n",
    "    # jax.debug.print(\"Weights at current iteration: {y}\", y=template_weights)\n",
    "    def calculate_rhs(t_ind, o_ind):\n",
    "        val = 0 \n",
    "        o = observations_flatten[o_ind]\n",
    "        t = templates_flatten[t_ind]\n",
    "        alpha = template_weights[t_ind]\n",
    "        \n",
    "        ll = loglikelihood(o, t, measurement_error, num_probes)\n",
    "        lp = logprior(t, num_probes)\n",
    "        # jax.debug.print(\"{x}, {y}\", x=t, y=lp)\n",
    "        lw = jnp.log(jnp.abs(alpha)) + 1e-32\n",
    "        lwp = jnp.log(weight_prior)\n",
    "        \n",
    "        rhs = jnp.array([ll, lp, lw, lwp])\n",
    "        \n",
    "        # mantissa = jnp.log10(jnp.abs(rhs)) - jnp.floor(jnp.log10(jnp.abs(rhs)))\n",
    "        # Use absolute value to not care because only the value matters ?\n",
    "        # jax.debug.print(\"{z}, {x}\", z=alpha, x = log_scale_rhs_max)\n",
    "        # jax.debug.print(\"{y}, {z}, {x}, {a}\", y= t_ind, z=o_ind, x = log_scale_rhs_max, a=log_scale_rhs)\n",
    "        # mantissa = jnp.sign(rhs) * mantissa\n",
    "\n",
    "        \n",
    "        # val = jnp.sum(mantissa)\n",
    "        \n",
    "        val = jnp.sum(rhs)\n",
    "        \n",
    "        return val \n",
    "    \n",
    "    def calculate_posterior(i):\n",
    "        # jax.debug.print(\"{x}\", x=curr_obs_list.shape)\n",
    "        # jax.debug.print(\"{y} {x}\", y=i, x=jnp.sum(jnp.isnan(jnp.where(o_ind == i, curr_obs_list, -jnp.inf))))\n",
    "        # jax.debug.print(\"{z} {x} {y}\", z=i, x=jnp.where(o_ind == i, curr_obs_list, -jnp.inf), y=jscipy.special.logsumexp(jnp.where(o_ind == i, curr_obs_list, -jnp.inf)))\n",
    "        \n",
    "        return jscipy.special.logsumexp(jnp.where(o_ind == i, curr_obs_list, -jnp.inf))\n",
    "    \n",
    "    curr_obs_list = jnp.array(jax.vmap(calculate_rhs)(t_ind, o_ind))\n",
    "    \n",
    "    \n",
    "    \n",
    "    total_posterior = jnp.sum(jax.vmap(calculate_posterior)(jnp.arange(len(observations_flatten))))\n",
    "    # print(total_posterior)\n",
    "\n",
    "    return total_posterior\n",
    "\n",
    "def structure_neg_objective_parallelize(templates):\n",
    "    \"\"\"\n",
    "    \"\"\" \n",
    "    template_weights = num_observation_list\n",
    "    # jax.debug.print(\"{x}\", x=-generate_posterior_parallelize(templates, observations_flatten, template_weights))\n",
    "    \n",
    "    return -generate_posterior_parallelize(templates, observations_flatten, template_weights)\n",
    "\n",
    "def prediction_error(predicted_flat_dmaps, true_flat_dmaps):\n",
    "    err = cdist(predicted_flat_dmaps, true_flat_dmaps)/num_monomers**2\n",
    "    r, c = linear_sum_assignment(err)\n",
    "    return err[r, c].mean()\n",
    "\n",
    "def generate_distance_map(chain):\n",
    "    # Step 1: Compute the squared differences\n",
    "    diff = chain[:, jnp.newaxis, :] - chain[jnp.newaxis, :, :]\n",
    "    squared_diff = jnp.square(diff)\n",
    "\n",
    "    # Step 2: Sum over the feature dimension to get squared distances\n",
    "    squared_distances = jnp.sum(squared_diff, axis=-1)\n",
    "\n",
    "    # Step 3: Take the square root to get the Euclidean distances\n",
    "    distances = jnp.sqrt(squared_distances)\n",
    "    return distances\n",
    "\n",
    "def pdist2(vec1, vec2):\n",
    "    vec1 = jnp.array(vec1)\n",
    "    vec2 = jnp.array(vec2)\n",
    "    \n",
    "    diff = vec1[:, jnp.newaxis, :] - vec2[jnp.newaxis, :, :]\n",
    "    squared_diff = jnp.square(diff)\n",
    "    \n",
    "    squared_distances = jnp.sum(squared_diff, axis=-1)\n",
    "    \n",
    "    distance_matrix = jnp.sqrt(squared_distances)\n",
    "    return distance_matrix\n",
    "\n",
    "def generate_gaussian_chain_jax(num_monomers: int, \n",
    "                            mean_bond_length: float, \n",
    "                            std_bond_length: float,\n",
    "                            random_key: int = None):\n",
    "    \"\"\"Generate a Gaussian chain polymer \n",
    "    \n",
    "    Parameters\n",
    "    ----------\n",
    "    num_monomers\n",
    "    mean_bond_length\n",
    "    std_bond_length\n",
    "    \n",
    "    Return\n",
    "    ------\n",
    "    np.array \n",
    "    \n",
    "    Notes\n",
    "    -----\n",
    "    \"\"\" \n",
    "    # Generate PRNG key\n",
    "    # Create an initial PRNG key\n",
    "    if random_key is None:\n",
    "        random_key = jax.random.PRNGKey(42)\n",
    "    \n",
    "    # Generate steps: each step is a 3D vector \n",
    "    steps = mean_bond_length + std_bond_length * jax.random.normal(random_key, shape=(num_monomers, 3))\n",
    "\n",
    "    # Compute positions by cumulative sum of steps\n",
    "    positions = jnp.cumsum(steps, axis=0)\n",
    "    \n",
    "    return positions\n",
    "\n",
    "def generate_observations_jax(polymer_chain, num_observations, gaussian_noise_std, random_key):\n",
    "    \"\"\" Given a template polymer chain, generate num_observations polymer chains by adding \n",
    "    some gaussian noise to the polymer chain\n",
    "    \n",
    "    Parameters\n",
    "    ----------\n",
    "    polymer_chain\n",
    "    num_observations\n",
    "    gaussian_noise_std\n",
    "    random_key\n",
    "    \n",
    "    Return\n",
    "    ------\n",
    "    \"\"\"\n",
    "    num_monomers = polymer_chain.shape[0] \n",
    "    \n",
    "    \n",
    "    # Parameters for Gaussian noise \n",
    "    mean = 0 \n",
    "    std = gaussian_noise_std\n",
    "    \n",
    "    # Generate noise profile\n",
    "    # jax.debug.print('{x}', x=jax.random.normal(key=random_key, shape=(num_observations, num_monomers, 3)))\n",
    "    noise = mean + std * jax.random.normal(key=random_key, shape=(num_observations, num_monomers, 3))\n",
    "        \n",
    "    # Add noise to the original data\n",
    "    noisy_data = polymer_chain + noise \n",
    "    \n",
    "    return noisy_data\n",
    "\n",
    "def simulation(k):\n",
    "    num_models = num_templates\n",
    "    init_model = [generate_gaussian_chain_jax(num_monomers, mean_bond_length, std_bond_length, k) for m in range(num_models)]\n",
    "    init_model = [jnp.ravel(generate_distance_map(m)) for m in init_model]\n",
    "    \n",
    "    pg = ProjectedGradient(fun=structure_neg_objective_parallelize, projection=projection_non_negative, implicit_diff=True, verbose=False)\n",
    "    pg_sol = pg.run(init_model)\n",
    "    \n",
    "    dmaps_flat = [generate_flatten_distance_map(x) for x in template_chain_list]\n",
    "    error_matrix = pdist2(pg_sol.params, dmaps_flat)\n",
    "    return error_matrix"
   ]
  },
  {
   "cell_type": "code",
   "execution_count": 7,
   "metadata": {},
   "outputs": [
    {
     "data": {
      "text/plain": [
       "array([  1.,  10., 100.])"
      ]
     },
     "execution_count": 7,
     "metadata": {},
     "output_type": "execute_result"
    }
   ],
   "source": [
    "np.logspace(0, 2, 3)"
   ]
  },
  {
   "cell_type": "code",
   "execution_count": 6,
   "metadata": {},
   "outputs": [
    {
     "data": {
      "application/vnd.jupyter.widget-view+json": {
       "model_id": "4cf1f6e5e0c24b73b5b21f980fd2cb16",
       "version_major": 2,
       "version_minor": 0
      },
      "text/plain": [
       "  0%|          | 0/3 [00:00<?, ?it/s]"
      ]
     },
     "metadata": {},
     "output_type": "display_data"
    },
    {
     "name": "stderr",
     "output_type": "stream",
     "text": [
      "2024-06-12 14:45:00.747420: W external/org_tensorflow/tensorflow/tsl/framework/bfc_allocator.cc:485] Allocator (GPU_0_bfc) ran out of memory trying to allocate 942.50GiB (rounded to 1012004184320)requested by op \n",
      "2024-06-12 14:45:00.747601: W external/org_tensorflow/tensorflow/tsl/framework/bfc_allocator.cc:497] *___________________________________________________________________________________________________\n",
      "2024-06-12 14:45:00.748658: E external/org_tensorflow/tensorflow/compiler/xla/pjrt/pjrt_stream_executor_client.cc:2410] Execution of replica 0 failed: RESOURCE_EXHAUSTED: Out of memory while trying to allocate 1012004184184 bytes.\n",
      "BufferAssignment OOM Debugging.\n",
      "BufferAssignment stats:\n",
      "             parameter allocation:   30.52MiB\n",
      "              constant allocation:   22.86MiB\n",
      "        maybe_live_out allocation:   30.52MiB\n",
      "     preallocated temp allocation:  942.50GiB\n",
      "  preallocated temp fragmentation:        96B (0.00%)\n",
      "                 total allocation:  942.58GiB\n",
      "              total fragmentation:   53.41MiB (0.01%)\n",
      "Peak buffers:\n",
      "\tBuffer 1:\n",
      "\t\tSize: 929.09GiB\n",
      "\t\tOperator: op_name=\"jit(update)/jit(main)/reduce_max[axes=(2,)]\" source_file=\"/tmp/ipykernel_1396886/3433170373.py\" source_line=55\n",
      "\t\tXLA Label: fusion\n",
      "\t\tShape: f32[100,4994,499400]\n",
      "\t\t==========================\n",
      "\n",
      "\tBuffer 2:\n",
      "\t\tSize: 13.21GiB\n",
      "\t\tOperator: op_name=\"jit(update)/jit(main)/transpose(jvp(vmap(jit(_where))))/reduce_sum[axes=(1,)]\" source_file=\"/tmp/ipykernel_1396886/3433170373.py\" source_line=55\n",
      "\t\tXLA Label: fusion\n",
      "\t\tShape: f32[100,71,499400]\n",
      "\t\t==========================\n",
      "\n",
      "\tBuffer 3:\n",
      "\t\tSize: 190.51MiB\n",
      "\t\tOperator: op_name=\"jit(update)/jit(main)/jvp(vmap(jit(logprior)))/jit(logprior_)/reduce_sum[axes=(2,)]\" source_file=\"/mnt/home/tudomlumleart/01_ChromatinEnsembleRefinement/chromatin-ensemble-refinement/scripts/functions.py\" source_line=387\n",
      "\t\tXLA Label: fusion\n",
      "\t\tShape: f32[100,499400]\n",
      "\t\t==========================\n",
      "\n",
      "\tBuffer 4:\n",
      "\t\tSize: 15.26MiB\n",
      "\t\tOperator: op_name=\"jit(update)/jit(main)/concatenate[dimension=1]\" source_file=\"/tmp/ipykernel_1396886/3433170373.py\" source_line=4\n",
      "\t\tXLA Label: fusion\n",
      "\t\tShape: f32[100,100,400]\n",
      "\t\t==========================\n",
      "\n",
      "\tBuffer 5:\n",
      "\t\tSize: 7.62MiB\n",
      "\t\tXLA Label: constant\n",
      "\t\tShape: f32[4994,400]\n",
      "\t\t==========================\n",
      "\n",
      "\tBuffer 6:\n",
      "\t\tSize: 7.62MiB\n",
      "\t\tXLA Label: constant\n",
      "\t\tShape: f32[4994,400]\n",
      "\t\t==========================\n",
      "\n",
      "\tBuffer 7:\n",
      "\t\tSize: 7.62MiB\n",
      "\t\tXLA Label: constant\n",
      "\t\tShape: f32[4994,400]\n",
      "\t\t==========================\n",
      "\n",
      "\tBuffer 8:\n",
      "\t\tSize: 1.90MiB\n",
      "\t\tOperator: op_name=\"jit(update)/jit(main)/reduce_sum[axes=(2,)]\" source_file=\"/tmp/ipykernel_1396886/3433170373.py\" source_line=55\n",
      "\t\tXLA Label: reduce\n",
      "\t\tShape: f32[100,4994]\n",
      "\t\t==========================\n",
      "\n",
      "\tBuffer 9:\n",
      "\t\tSize: 1.90MiB\n",
      "\t\tOperator: op_name=\"jit(update)/jit(main)/reduce_max[axes=(2,)]\" source_file=\"/tmp/ipykernel_1396886/3433170373.py\" source_line=55\n",
      "\t\tXLA Label: fusion\n",
      "\t\tShape: f32[100,4994]\n",
      "\t\t==========================\n",
      "\n",
      "\tBuffer 10:\n",
      "\t\tSize: 156.2KiB\n",
      "\t\tOperator: op_name=\"jit(update)/jit(main)/jit(<unnamed wrapped function>)/while[cond_nconsts=204 body_nconsts=201]\" source_file=\"/mnt/home/tudomlumleart/.local/lib/python3.10/site-packages/jaxopt/_src/loop.py\" source_line=60\n",
      "\t\tXLA Label: fusion\n",
      "\t\tShape: f32[100,400]\n",
      "\t\t==========================\n",
      "\n",
      "\tBuffer 11:\n",
      "\t\tSize: 156.2KiB\n",
      "\t\tOperator: op_name=\"jit(update)/jit(main)/jit(<unnamed wrapped function>)/while[cond_nconsts=204 body_nconsts=201]\" source_file=\"/mnt/home/tudomlumleart/.local/lib/python3.10/site-packages/jaxopt/_src/loop.py\" source_line=60\n",
      "\t\tXLA Label: fusion\n",
      "\t\tShape: f32[100,400]\n",
      "\t\t==========================\n",
      "\n",
      "\tBuffer 12:\n",
      "\t\tSize: 156.2KiB\n",
      "\t\tOperator: op_name=\"jit(update)/jit(main)/jit(<unnamed wrapped function>)/while[cond_nconsts=204 body_nconsts=201]\" source_file=\"/mnt/home/tudomlumleart/.local/lib/python3.10/site-packages/jaxopt/_src/loop.py\" source_line=60\n",
      "\t\tXLA Label: fusion\n",
      "\t\tShape: f32[100,400]\n",
      "\t\t==========================\n",
      "\n",
      "\tBuffer 13:\n",
      "\t\tSize: 156.2KiB\n",
      "\t\tOperator: op_name=\"jit(update)/jit(main)/jit(<unnamed wrapped function>)/while[cond_nconsts=204 body_nconsts=201]\" source_file=\"/mnt/home/tudomlumleart/.local/lib/python3.10/site-packages/jaxopt/_src/loop.py\" source_line=60\n",
      "\t\tXLA Label: fusion\n",
      "\t\tShape: f32[100,400]\n",
      "\t\t==========================\n",
      "\n",
      "\tBuffer 14:\n",
      "\t\tSize: 156.2KiB\n",
      "\t\tOperator: op_name=\"jit(update)/jit(main)/jit(<unnamed wrapped function>)/while[cond_nconsts=204 body_nconsts=201]\" source_file=\"/mnt/home/tudomlumleart/.local/lib/python3.10/site-packages/jaxopt/_src/loop.py\" source_line=60\n",
      "\t\tXLA Label: fusion\n",
      "\t\tShape: f32[100,400]\n",
      "\t\t==========================\n",
      "\n",
      "\tBuffer 15:\n",
      "\t\tSize: 156.2KiB\n",
      "\t\tOperator: op_name=\"jit(update)/jit(main)/jit(<unnamed wrapped function>)/while[cond_nconsts=204 body_nconsts=201]\" source_file=\"/mnt/home/tudomlumleart/.local/lib/python3.10/site-packages/jaxopt/_src/loop.py\" source_line=60\n",
      "\t\tXLA Label: fusion\n",
      "\t\tShape: f32[100,400]\n",
      "\t\t==========================\n",
      "\n",
      "\n"
     ]
    },
    {
     "ename": "XlaRuntimeError",
     "evalue": "RESOURCE_EXHAUSTED: Out of memory while trying to allocate 1012004184184 bytes.\nBufferAssignment OOM Debugging.\nBufferAssignment stats:\n             parameter allocation:   30.52MiB\n              constant allocation:   22.86MiB\n        maybe_live_out allocation:   30.52MiB\n     preallocated temp allocation:  942.50GiB\n  preallocated temp fragmentation:        96B (0.00%)\n                 total allocation:  942.58GiB\n              total fragmentation:   53.41MiB (0.01%)\nPeak buffers:\n\tBuffer 1:\n\t\tSize: 929.09GiB\n\t\tOperator: op_name=\"jit(update)/jit(main)/reduce_max[axes=(2,)]\" source_file=\"/tmp/ipykernel_1396886/3433170373.py\" source_line=55\n\t\tXLA Label: fusion\n\t\tShape: f32[100,4994,499400]\n\t\t==========================\n\n\tBuffer 2:\n\t\tSize: 13.21GiB\n\t\tOperator: op_name=\"jit(update)/jit(main)/transpose(jvp(vmap(jit(_where))))/reduce_sum[axes=(1,)]\" source_file=\"/tmp/ipykernel_1396886/3433170373.py\" source_line=55\n\t\tXLA Label: fusion\n\t\tShape: f32[100,71,499400]\n\t\t==========================\n\n\tBuffer 3:\n\t\tSize: 190.51MiB\n\t\tOperator: op_name=\"jit(update)/jit(main)/jvp(vmap(jit(logprior)))/jit(logprior_)/reduce_sum[axes=(2,)]\" source_file=\"/mnt/home/tudomlumleart/01_ChromatinEnsembleRefinement/chromatin-ensemble-refinement/scripts/functions.py\" source_line=387\n\t\tXLA Label: fusion\n\t\tShape: f32[100,499400]\n\t\t==========================\n\n\tBuffer 4:\n\t\tSize: 15.26MiB\n\t\tOperator: op_name=\"jit(update)/jit(main)/concatenate[dimension=1]\" source_file=\"/tmp/ipykernel_1396886/3433170373.py\" source_line=4\n\t\tXLA Label: fusion\n\t\tShape: f32[100,100,400]\n\t\t==========================\n\n\tBuffer 5:\n\t\tSize: 7.62MiB\n\t\tXLA Label: constant\n\t\tShape: f32[4994,400]\n\t\t==========================\n\n\tBuffer 6:\n\t\tSize: 7.62MiB\n\t\tXLA Label: constant\n\t\tShape: f32[4994,400]\n\t\t==========================\n\n\tBuffer 7:\n\t\tSize: 7.62MiB\n\t\tXLA Label: constant\n\t\tShape: f32[4994,400]\n\t\t==========================\n\n\tBuffer 8:\n\t\tSize: 1.90MiB\n\t\tOperator: op_name=\"jit(update)/jit(main)/reduce_sum[axes=(2,)]\" source_file=\"/tmp/ipykernel_1396886/3433170373.py\" source_line=55\n\t\tXLA Label: reduce\n\t\tShape: f32[100,4994]\n\t\t==========================\n\n\tBuffer 9:\n\t\tSize: 1.90MiB\n\t\tOperator: op_name=\"jit(update)/jit(main)/reduce_max[axes=(2,)]\" source_file=\"/tmp/ipykernel_1396886/3433170373.py\" source_line=55\n\t\tXLA Label: fusion\n\t\tShape: f32[100,4994]\n\t\t==========================\n\n\tBuffer 10:\n\t\tSize: 156.2KiB\n\t\tOperator: op_name=\"jit(update)/jit(main)/jit(<unnamed wrapped function>)/while[cond_nconsts=204 body_nconsts=201]\" source_file=\"/mnt/home/tudomlumleart/.local/lib/python3.10/site-packages/jaxopt/_src/loop.py\" source_line=60\n\t\tXLA Label: fusion\n\t\tShape: f32[100,400]\n\t\t==========================\n\n\tBuffer 11:\n\t\tSize: 156.2KiB\n\t\tOperator: op_name=\"jit(update)/jit(main)/jit(<unnamed wrapped function>)/while[cond_nconsts=204 body_nconsts=201]\" source_file=\"/mnt/home/tudomlumleart/.local/lib/python3.10/site-packages/jaxopt/_src/loop.py\" source_line=60\n\t\tXLA Label: fusion\n\t\tShape: f32[100,400]\n\t\t==========================\n\n\tBuffer 12:\n\t\tSize: 156.2KiB\n\t\tOperator: op_name=\"jit(update)/jit(main)/jit(<unnamed wrapped function>)/while[cond_nconsts=204 body_nconsts=201]\" source_file=\"/mnt/home/tudomlumleart/.local/lib/python3.10/site-packages/jaxopt/_src/loop.py\" source_line=60\n\t\tXLA Label: fusion\n\t\tShape: f32[100,400]\n\t\t==========================\n\n\tBuffer 13:\n\t\tSize: 156.2KiB\n\t\tOperator: op_name=\"jit(update)/jit(main)/jit(<unnamed wrapped function>)/while[cond_nconsts=204 body_nconsts=201]\" source_file=\"/mnt/home/tudomlumleart/.local/lib/python3.10/site-packages/jaxopt/_src/loop.py\" source_line=60\n\t\tXLA Label: fusion\n\t\tShape: f32[100,400]\n\t\t==========================\n\n\tBuffer 14:\n\t\tSize: 156.2KiB\n\t\tOperator: op_name=\"jit(update)/jit(main)/jit(<unnamed wrapped function>)/while[cond_nconsts=204 body_nconsts=201]\" source_file=\"/mnt/home/tudomlumleart/.local/lib/python3.10/site-packages/jaxopt/_src/loop.py\" source_line=60\n\t\tXLA Label: fusion\n\t\tShape: f32[100,400]\n\t\t==========================\n\n\tBuffer 15:\n\t\tSize: 156.2KiB\n\t\tOperator: op_name=\"jit(update)/jit(main)/jit(<unnamed wrapped function>)/while[cond_nconsts=204 body_nconsts=201]\" source_file=\"/mnt/home/tudomlumleart/.local/lib/python3.10/site-packages/jaxopt/_src/loop.py\" source_line=60\n\t\tXLA Label: fusion\n\t\tShape: f32[100,400]\n\t\t==========================\n\n",
     "output_type": "error",
     "traceback": [
      "\u001b[0;31m---------------------------------------------------------------------------\u001b[0m",
      "\u001b[0;31mXlaRuntimeError\u001b[0m                           Traceback (most recent call last)",
      "Cell \u001b[0;32mIn[6], line 24\u001b[0m\n\u001b[1;32m     22\u001b[0m observation_class_list \u001b[38;5;241m=\u001b[39m np\u001b[38;5;241m.\u001b[39mconcatenate([[i \u001b[38;5;28;01mfor\u001b[39;00m _ \u001b[38;5;129;01min\u001b[39;00m \u001b[38;5;28mrange\u001b[39m(j)] \u001b[38;5;28;01mfor\u001b[39;00m i, j \u001b[38;5;129;01min\u001b[39;00m \u001b[38;5;28menumerate\u001b[39m(num_observation_list)])\n\u001b[1;32m     23\u001b[0m observations_flatten \u001b[38;5;241m=\u001b[39m jnp\u001b[38;5;241m.\u001b[39marray([generate_flatten_distance_map(t) \u001b[38;5;28;01mfor\u001b[39;00m t \u001b[38;5;129;01min\u001b[39;00m observation_list])\n\u001b[0;32m---> 24\u001b[0m error_matrices\u001b[38;5;241m.\u001b[39mappend(\u001b[43mjax\u001b[49m\u001b[38;5;241;43m.\u001b[39;49m\u001b[43mvmap\u001b[49m\u001b[43m(\u001b[49m\u001b[43msimulation\u001b[49m\u001b[43m,\u001b[49m\u001b[43m \u001b[49m\u001b[43min_axes\u001b[49m\u001b[38;5;241;43m=\u001b[39;49m\u001b[38;5;241;43m0\u001b[39;49m\u001b[43m)\u001b[49m\u001b[43m(\u001b[49m\u001b[43mkeys\u001b[49m\u001b[43m)\u001b[49m)\n\u001b[1;32m     25\u001b[0m end_time \u001b[38;5;241m=\u001b[39m time\u001b[38;5;241m.\u001b[39mtime()\n\u001b[1;32m     26\u001b[0m loop_time \u001b[38;5;241m=\u001b[39m end_time \u001b[38;5;241m-\u001b[39m start_time\n",
      "    \u001b[0;31m[... skipping hidden 3 frame]\u001b[0m\n",
      "Cell \u001b[0;32mIn[3], line 171\u001b[0m, in \u001b[0;36msimulation\u001b[0;34m(k)\u001b[0m\n\u001b[1;32m    168\u001b[0m init_model \u001b[38;5;241m=\u001b[39m [jnp\u001b[38;5;241m.\u001b[39mravel(generate_distance_map(m)) \u001b[38;5;28;01mfor\u001b[39;00m m \u001b[38;5;129;01min\u001b[39;00m init_model]\n\u001b[1;32m    170\u001b[0m pg \u001b[38;5;241m=\u001b[39m ProjectedGradient(fun\u001b[38;5;241m=\u001b[39mstructure_neg_objective_parallelize, projection\u001b[38;5;241m=\u001b[39mprojection_non_negative, implicit_diff\u001b[38;5;241m=\u001b[39m\u001b[38;5;28;01mTrue\u001b[39;00m, verbose\u001b[38;5;241m=\u001b[39m\u001b[38;5;28;01mFalse\u001b[39;00m)\n\u001b[0;32m--> 171\u001b[0m pg_sol \u001b[38;5;241m=\u001b[39m \u001b[43mpg\u001b[49m\u001b[38;5;241;43m.\u001b[39;49m\u001b[43mrun\u001b[49m\u001b[43m(\u001b[49m\u001b[43minit_model\u001b[49m\u001b[43m)\u001b[49m\n\u001b[1;32m    173\u001b[0m dmaps_flat \u001b[38;5;241m=\u001b[39m [generate_flatten_distance_map(x) \u001b[38;5;28;01mfor\u001b[39;00m x \u001b[38;5;129;01min\u001b[39;00m template_chain_list]\n\u001b[1;32m    174\u001b[0m error_matrix \u001b[38;5;241m=\u001b[39m pdist2(pg_sol\u001b[38;5;241m.\u001b[39mparams, dmaps_flat)\n",
      "File \u001b[0;32m~/.local/lib/python3.10/site-packages/jaxopt/_src/projected_gradient.py:137\u001b[0m, in \u001b[0;36mProjectedGradient.run\u001b[0;34m(self, init_params, hyperparams_proj, *args, **kwargs)\u001b[0m\n\u001b[1;32m    132\u001b[0m \u001b[38;5;28;01mdef\u001b[39;00m \u001b[38;5;21mrun\u001b[39m(\u001b[38;5;28mself\u001b[39m,\n\u001b[1;32m    133\u001b[0m         init_params: Any,\n\u001b[1;32m    134\u001b[0m         hyperparams_proj: Optional[Any] \u001b[38;5;241m=\u001b[39m \u001b[38;5;28;01mNone\u001b[39;00m,\n\u001b[1;32m    135\u001b[0m         \u001b[38;5;241m*\u001b[39margs,\n\u001b[1;32m    136\u001b[0m         \u001b[38;5;241m*\u001b[39m\u001b[38;5;241m*\u001b[39mkwargs) \u001b[38;5;241m-\u001b[39m\u001b[38;5;241m>\u001b[39m base\u001b[38;5;241m.\u001b[39mOptStep:\n\u001b[0;32m--> 137\u001b[0m   \u001b[38;5;28;01mreturn\u001b[39;00m \u001b[38;5;28;43mself\u001b[39;49m\u001b[38;5;241;43m.\u001b[39;49m\u001b[43m_pg\u001b[49m\u001b[38;5;241;43m.\u001b[39;49m\u001b[43mrun\u001b[49m\u001b[43m(\u001b[49m\u001b[43minit_params\u001b[49m\u001b[43m,\u001b[49m\u001b[43m \u001b[49m\u001b[43mhyperparams_proj\u001b[49m\u001b[43m,\u001b[49m\u001b[43m \u001b[49m\u001b[38;5;241;43m*\u001b[39;49m\u001b[43margs\u001b[49m\u001b[43m,\u001b[49m\u001b[43m \u001b[49m\u001b[38;5;241;43m*\u001b[39;49m\u001b[38;5;241;43m*\u001b[39;49m\u001b[43mkwargs\u001b[49m\u001b[43m)\u001b[49m\n",
      "File \u001b[0;32m~/.local/lib/python3.10/site-packages/jaxopt/_src/base.py:359\u001b[0m, in \u001b[0;36mIterativeSolver.run\u001b[0;34m(self, init_params, *args, **kwargs)\u001b[0m\n\u001b[1;32m    352\u001b[0m   decorator \u001b[38;5;241m=\u001b[39m idf\u001b[38;5;241m.\u001b[39mcustom_root(\n\u001b[1;32m    353\u001b[0m       \u001b[38;5;28mself\u001b[39m\u001b[38;5;241m.\u001b[39moptimality_fun,\n\u001b[1;32m    354\u001b[0m       has_aux\u001b[38;5;241m=\u001b[39m\u001b[38;5;28;01mTrue\u001b[39;00m,\n\u001b[1;32m    355\u001b[0m       solve\u001b[38;5;241m=\u001b[39m\u001b[38;5;28mself\u001b[39m\u001b[38;5;241m.\u001b[39mimplicit_diff_solve,\n\u001b[1;32m    356\u001b[0m       reference_signature\u001b[38;5;241m=\u001b[39mreference_signature)\n\u001b[1;32m    357\u001b[0m   run \u001b[38;5;241m=\u001b[39m decorator(run)\n\u001b[0;32m--> 359\u001b[0m \u001b[38;5;28;01mreturn\u001b[39;00m \u001b[43mrun\u001b[49m\u001b[43m(\u001b[49m\u001b[43minit_params\u001b[49m\u001b[43m,\u001b[49m\u001b[43m \u001b[49m\u001b[38;5;241;43m*\u001b[39;49m\u001b[43margs\u001b[49m\u001b[43m,\u001b[49m\u001b[43m \u001b[49m\u001b[38;5;241;43m*\u001b[39;49m\u001b[38;5;241;43m*\u001b[39;49m\u001b[43mkwargs\u001b[49m\u001b[43m)\u001b[49m\n",
      "File \u001b[0;32m~/.local/lib/python3.10/site-packages/jaxopt/_src/implicit_diff.py:251\u001b[0m, in \u001b[0;36m_custom_root.<locals>.wrapped_solver_fun\u001b[0;34m(*args, **kwargs)\u001b[0m\n\u001b[1;32m    249\u001b[0m args, kwargs \u001b[38;5;241m=\u001b[39m _signature_bind(solver_fun_signature, \u001b[38;5;241m*\u001b[39margs, \u001b[38;5;241m*\u001b[39m\u001b[38;5;241m*\u001b[39mkwargs)\n\u001b[1;32m    250\u001b[0m keys, vals \u001b[38;5;241m=\u001b[39m \u001b[38;5;28mlist\u001b[39m(kwargs\u001b[38;5;241m.\u001b[39mkeys()), \u001b[38;5;28mlist\u001b[39m(kwargs\u001b[38;5;241m.\u001b[39mvalues())\n\u001b[0;32m--> 251\u001b[0m \u001b[38;5;28;01mreturn\u001b[39;00m \u001b[43mmake_custom_vjp_solver_fun\u001b[49m\u001b[43m(\u001b[49m\u001b[43msolver_fun\u001b[49m\u001b[43m,\u001b[49m\u001b[43m \u001b[49m\u001b[43mkeys\u001b[49m\u001b[43m)\u001b[49m\u001b[43m(\u001b[49m\u001b[38;5;241;43m*\u001b[39;49m\u001b[43margs\u001b[49m\u001b[43m,\u001b[49m\u001b[43m \u001b[49m\u001b[38;5;241;43m*\u001b[39;49m\u001b[43mvals\u001b[49m\u001b[43m)\u001b[49m\n",
      "    \u001b[0;31m[... skipping hidden 7 frame]\u001b[0m\n",
      "File \u001b[0;32m~/.local/lib/python3.10/site-packages/jaxopt/_src/implicit_diff.py:207\u001b[0m, in \u001b[0;36m_custom_root.<locals>.make_custom_vjp_solver_fun.<locals>.solver_fun_flat\u001b[0;34m(*flat_args)\u001b[0m\n\u001b[1;32m    204\u001b[0m \u001b[38;5;129m@jax\u001b[39m\u001b[38;5;241m.\u001b[39mcustom_vjp\n\u001b[1;32m    205\u001b[0m \u001b[38;5;28;01mdef\u001b[39;00m \u001b[38;5;21msolver_fun_flat\u001b[39m(\u001b[38;5;241m*\u001b[39mflat_args):\n\u001b[1;32m    206\u001b[0m   args, kwargs \u001b[38;5;241m=\u001b[39m _extract_kwargs(kwarg_keys, flat_args)\n\u001b[0;32m--> 207\u001b[0m   \u001b[38;5;28;01mreturn\u001b[39;00m \u001b[43msolver_fun\u001b[49m\u001b[43m(\u001b[49m\u001b[38;5;241;43m*\u001b[39;49m\u001b[43margs\u001b[49m\u001b[43m,\u001b[49m\u001b[43m \u001b[49m\u001b[38;5;241;43m*\u001b[39;49m\u001b[38;5;241;43m*\u001b[39;49m\u001b[43mkwargs\u001b[49m\u001b[43m)\u001b[49m\n",
      "File \u001b[0;32m~/.local/lib/python3.10/site-packages/jaxopt/_src/base.py:321\u001b[0m, in \u001b[0;36mIterativeSolver._run\u001b[0;34m(self, init_params, *args, **kwargs)\u001b[0m\n\u001b[1;32m    303\u001b[0m \u001b[38;5;66;03m# We unroll the very first iteration. This allows `init_val` and `body_fun`\u001b[39;00m\n\u001b[1;32m    304\u001b[0m \u001b[38;5;66;03m# below to have the same output type, which is a requirement of\u001b[39;00m\n\u001b[1;32m    305\u001b[0m \u001b[38;5;66;03m# lax.while_loop and lax.scan.\u001b[39;00m\n\u001b[0;32m   (...)\u001b[0m\n\u001b[1;32m    316\u001b[0m \u001b[38;5;66;03m# of a `lax.cond` for now in order to avoid staging the initial\u001b[39;00m\n\u001b[1;32m    317\u001b[0m \u001b[38;5;66;03m# update and the run loop. They might not be staging compatible.\u001b[39;00m\n\u001b[1;32m    319\u001b[0m zero_step \u001b[38;5;241m=\u001b[39m \u001b[38;5;28mself\u001b[39m\u001b[38;5;241m.\u001b[39m_make_zero_step(init_params, state)\n\u001b[0;32m--> 321\u001b[0m opt_step \u001b[38;5;241m=\u001b[39m \u001b[38;5;28;43mself\u001b[39;49m\u001b[38;5;241;43m.\u001b[39;49m\u001b[43mupdate\u001b[49m\u001b[43m(\u001b[49m\u001b[43minit_params\u001b[49m\u001b[43m,\u001b[49m\u001b[43m \u001b[49m\u001b[43mstate\u001b[49m\u001b[43m,\u001b[49m\u001b[43m \u001b[49m\u001b[38;5;241;43m*\u001b[39;49m\u001b[43margs\u001b[49m\u001b[43m,\u001b[49m\u001b[43m \u001b[49m\u001b[38;5;241;43m*\u001b[39;49m\u001b[38;5;241;43m*\u001b[39;49m\u001b[43mkwargs\u001b[49m\u001b[43m)\u001b[49m\n\u001b[1;32m    322\u001b[0m init_val \u001b[38;5;241m=\u001b[39m (opt_step, (args, kwargs))\n\u001b[1;32m    324\u001b[0m unroll \u001b[38;5;241m=\u001b[39m \u001b[38;5;28mself\u001b[39m\u001b[38;5;241m.\u001b[39m_get_unroll_option()\n",
      "    \u001b[0;31m[... skipping hidden 7 frame]\u001b[0m\n",
      "File \u001b[0;32m/mnt/sw/nix/store/gpkc8q6zjnp3n3h3w9hbmbj6gjbxs85w-python-3.10.10-view/lib/python3.10/site-packages/jax/_src/interpreters/pxla.py:2108\u001b[0m, in \u001b[0;36mExecuteReplicated.__call__\u001b[0;34m(self, *args)\u001b[0m\n\u001b[1;32m   2106\u001b[0m   out_bufs \u001b[38;5;241m=\u001b[39m \u001b[38;5;28mself\u001b[39m\u001b[38;5;241m.\u001b[39m_call_with_tokens(input_bufs)\n\u001b[1;32m   2107\u001b[0m \u001b[38;5;28;01melse\u001b[39;00m:\n\u001b[0;32m-> 2108\u001b[0m   out_bufs \u001b[38;5;241m=\u001b[39m \u001b[38;5;28;43mself\u001b[39;49m\u001b[38;5;241;43m.\u001b[39;49m\u001b[43mxla_executable\u001b[49m\u001b[38;5;241;43m.\u001b[39;49m\u001b[43mexecute_sharded_on_local_devices\u001b[49m\u001b[43m(\u001b[49m\n\u001b[1;32m   2109\u001b[0m \u001b[43m      \u001b[49m\u001b[43minput_bufs\u001b[49m\u001b[43m)\u001b[49m\n\u001b[1;32m   2110\u001b[0m \u001b[38;5;28;01mif\u001b[39;00m dispatch\u001b[38;5;241m.\u001b[39mneeds_check_special():\n\u001b[1;32m   2111\u001b[0m   \u001b[38;5;28;01mfor\u001b[39;00m bufs \u001b[38;5;129;01min\u001b[39;00m out_bufs:\n",
      "\u001b[0;31mXlaRuntimeError\u001b[0m: RESOURCE_EXHAUSTED: Out of memory while trying to allocate 1012004184184 bytes.\nBufferAssignment OOM Debugging.\nBufferAssignment stats:\n             parameter allocation:   30.52MiB\n              constant allocation:   22.86MiB\n        maybe_live_out allocation:   30.52MiB\n     preallocated temp allocation:  942.50GiB\n  preallocated temp fragmentation:        96B (0.00%)\n                 total allocation:  942.58GiB\n              total fragmentation:   53.41MiB (0.01%)\nPeak buffers:\n\tBuffer 1:\n\t\tSize: 929.09GiB\n\t\tOperator: op_name=\"jit(update)/jit(main)/reduce_max[axes=(2,)]\" source_file=\"/tmp/ipykernel_1396886/3433170373.py\" source_line=55\n\t\tXLA Label: fusion\n\t\tShape: f32[100,4994,499400]\n\t\t==========================\n\n\tBuffer 2:\n\t\tSize: 13.21GiB\n\t\tOperator: op_name=\"jit(update)/jit(main)/transpose(jvp(vmap(jit(_where))))/reduce_sum[axes=(1,)]\" source_file=\"/tmp/ipykernel_1396886/3433170373.py\" source_line=55\n\t\tXLA Label: fusion\n\t\tShape: f32[100,71,499400]\n\t\t==========================\n\n\tBuffer 3:\n\t\tSize: 190.51MiB\n\t\tOperator: op_name=\"jit(update)/jit(main)/jvp(vmap(jit(logprior)))/jit(logprior_)/reduce_sum[axes=(2,)]\" source_file=\"/mnt/home/tudomlumleart/01_ChromatinEnsembleRefinement/chromatin-ensemble-refinement/scripts/functions.py\" source_line=387\n\t\tXLA Label: fusion\n\t\tShape: f32[100,499400]\n\t\t==========================\n\n\tBuffer 4:\n\t\tSize: 15.26MiB\n\t\tOperator: op_name=\"jit(update)/jit(main)/concatenate[dimension=1]\" source_file=\"/tmp/ipykernel_1396886/3433170373.py\" source_line=4\n\t\tXLA Label: fusion\n\t\tShape: f32[100,100,400]\n\t\t==========================\n\n\tBuffer 5:\n\t\tSize: 7.62MiB\n\t\tXLA Label: constant\n\t\tShape: f32[4994,400]\n\t\t==========================\n\n\tBuffer 6:\n\t\tSize: 7.62MiB\n\t\tXLA Label: constant\n\t\tShape: f32[4994,400]\n\t\t==========================\n\n\tBuffer 7:\n\t\tSize: 7.62MiB\n\t\tXLA Label: constant\n\t\tShape: f32[4994,400]\n\t\t==========================\n\n\tBuffer 8:\n\t\tSize: 1.90MiB\n\t\tOperator: op_name=\"jit(update)/jit(main)/reduce_sum[axes=(2,)]\" source_file=\"/tmp/ipykernel_1396886/3433170373.py\" source_line=55\n\t\tXLA Label: reduce\n\t\tShape: f32[100,4994]\n\t\t==========================\n\n\tBuffer 9:\n\t\tSize: 1.90MiB\n\t\tOperator: op_name=\"jit(update)/jit(main)/reduce_max[axes=(2,)]\" source_file=\"/tmp/ipykernel_1396886/3433170373.py\" source_line=55\n\t\tXLA Label: fusion\n\t\tShape: f32[100,4994]\n\t\t==========================\n\n\tBuffer 10:\n\t\tSize: 156.2KiB\n\t\tOperator: op_name=\"jit(update)/jit(main)/jit(<unnamed wrapped function>)/while[cond_nconsts=204 body_nconsts=201]\" source_file=\"/mnt/home/tudomlumleart/.local/lib/python3.10/site-packages/jaxopt/_src/loop.py\" source_line=60\n\t\tXLA Label: fusion\n\t\tShape: f32[100,400]\n\t\t==========================\n\n\tBuffer 11:\n\t\tSize: 156.2KiB\n\t\tOperator: op_name=\"jit(update)/jit(main)/jit(<unnamed wrapped function>)/while[cond_nconsts=204 body_nconsts=201]\" source_file=\"/mnt/home/tudomlumleart/.local/lib/python3.10/site-packages/jaxopt/_src/loop.py\" source_line=60\n\t\tXLA Label: fusion\n\t\tShape: f32[100,400]\n\t\t==========================\n\n\tBuffer 12:\n\t\tSize: 156.2KiB\n\t\tOperator: op_name=\"jit(update)/jit(main)/jit(<unnamed wrapped function>)/while[cond_nconsts=204 body_nconsts=201]\" source_file=\"/mnt/home/tudomlumleart/.local/lib/python3.10/site-packages/jaxopt/_src/loop.py\" source_line=60\n\t\tXLA Label: fusion\n\t\tShape: f32[100,400]\n\t\t==========================\n\n\tBuffer 13:\n\t\tSize: 156.2KiB\n\t\tOperator: op_name=\"jit(update)/jit(main)/jit(<unnamed wrapped function>)/while[cond_nconsts=204 body_nconsts=201]\" source_file=\"/mnt/home/tudomlumleart/.local/lib/python3.10/site-packages/jaxopt/_src/loop.py\" source_line=60\n\t\tXLA Label: fusion\n\t\tShape: f32[100,400]\n\t\t==========================\n\n\tBuffer 14:\n\t\tSize: 156.2KiB\n\t\tOperator: op_name=\"jit(update)/jit(main)/jit(<unnamed wrapped function>)/while[cond_nconsts=204 body_nconsts=201]\" source_file=\"/mnt/home/tudomlumleart/.local/lib/python3.10/site-packages/jaxopt/_src/loop.py\" source_line=60\n\t\tXLA Label: fusion\n\t\tShape: f32[100,400]\n\t\t==========================\n\n\tBuffer 15:\n\t\tSize: 156.2KiB\n\t\tOperator: op_name=\"jit(update)/jit(main)/jit(<unnamed wrapped function>)/while[cond_nconsts=204 body_nconsts=201]\" source_file=\"/mnt/home/tudomlumleart/.local/lib/python3.10/site-packages/jaxopt/_src/loop.py\" source_line=60\n\t\tXLA Label: fusion\n\t\tShape: f32[100,400]\n\t\t==========================\n\n"
     ]
    }
   ],
   "source": [
    "# Change the number of templates\n",
    "error_matrices = []\n",
    "times = []\n",
    "\n",
    "\n",
    "num_iters = 100\n",
    "\n",
    "\n",
    "measurement_error = gaussian_noise_std\n",
    "num_probes = num_monomers\n",
    "\n",
    "key = jax.random.PRNGKey(42)\n",
    "keys = jax.random.split(key, num_iters)\n",
    "for x in tqdm(np.logspace(0, 2, 3)):\n",
    "    start_time = time.time()\n",
    "    num_templates = int(x)\n",
    "    template_chain_list = [generate_gaussian_chain(num_monomers, mean_bond_length, std_bond_length) for i in range(num_templates)]\n",
    "    max_observation_number = 100\n",
    "    num_observation_list = np.random.randint(1, high=max_observation_number, size=num_templates) \n",
    "    observation_list = [generate_observations(c, n, gaussian_noise_std) for c, n in zip(template_chain_list, num_observation_list)]\n",
    "    observation_list = np.concatenate([*observation_list])\n",
    "    observation_class_list = np.concatenate([[i for _ in range(j)] for i, j in enumerate(num_observation_list)])\n",
    "    observations_flatten = jnp.array([generate_flatten_distance_map(t) for t in observation_list])\n",
    "    error_matrices.append(jax.vmap(simulation, in_axes=0)(keys))\n",
    "    end_time = time.time()\n",
    "    loop_time = end_time - start_time\n",
    "    times.append(loop_time)"
   ]
  },
  {
   "cell_type": "code",
   "execution_count": 4,
   "metadata": {},
   "outputs": [
    {
     "name": "stderr",
     "output_type": "stream",
     "text": [
      "INFO:jax._src.lib.xla_bridge:Remote TPU is not linked into jax; skipping remote TPU.\n",
      "INFO:jax._src.lib.xla_bridge:Unable to initialize backend 'tpu_driver': Could not initialize backend 'tpu_driver'\n"
     ]
    },
    {
     "name": "stderr",
     "output_type": "stream",
     "text": [
      "INFO:jax._src.lib.xla_bridge:Unable to initialize backend 'rocm': NOT_FOUND: Could not find registered platform with name: \"rocm\". Available platform names are: Interpreter Host CUDA\n",
      "INFO:jax._src.lib.xla_bridge:Unable to initialize backend 'tpu': module 'jaxlib.xla_extension' has no attribute 'get_tpu_client'\n",
      "INFO:jax._src.lib.xla_bridge:Unable to initialize backend 'plugin': xla_extension has no attributes named get_plugin_device_client. Compile TensorFlow with //tensorflow/compiler/xla/python:enable_plugin_device set to true (defaults to false) to enable this.\n"
     ]
    },
    {
     "data": {
      "application/vnd.jupyter.widget-view+json": {
       "model_id": "141dbfb9123440cb840c79a6fed9e3e1",
       "version_major": 2,
       "version_minor": 0
      },
      "text/plain": [
       "  0%|          | 0/4 [00:00<?, ?it/s]"
      ]
     },
     "metadata": {},
     "output_type": "display_data"
    },
    {
     "name": "stderr",
     "output_type": "stream",
     "text": [
      "2024-06-12 14:33:05.160516: E external/org_tensorflow/tensorflow/compiler/xla/service/slow_operation_alarm.cc:65] Constant folding an instruction is taking > 1s:\n",
      "\n",
      "  reduce.31 (displaying the full instruction incurs a runtime overhead. Raise your logging level to 4 or above).\n",
      "\n",
      "This isn't necessarily a bug; constant-folding is inherently a trade-off between compilation time and speed at runtime.  XLA has some guards that attempt to keep constant folding from taking too long, but fundamentally you'll always be able to come up with an input program that takes a long time.\n",
      "\n",
      "If you'd like to file a bug, run with envvar XLA_FLAGS=--xla_dump_to=/tmp/foo and attach the results.\n",
      "2024-06-12 14:33:10.979127: E external/org_tensorflow/tensorflow/compiler/xla/service/slow_operation_alarm.cc:133] The operation took 6.818691637s\n",
      "Constant folding an instruction is taking > 1s:\n",
      "\n",
      "  reduce.31 (displaying the full instruction incurs a runtime overhead. Raise your logging level to 4 or above).\n",
      "\n",
      "This isn't necessarily a bug; constant-folding is inherently a trade-off between compilation time and speed at runtime.  XLA has some guards that attempt to keep constant folding from taking too long, but fundamentally you'll always be able to come up with an input program that takes a long time.\n",
      "\n",
      "If you'd like to file a bug, run with envvar XLA_FLAGS=--xla_dump_to=/tmp/foo and attach the results.\n",
      "2024-06-12 14:33:12.979990: E external/org_tensorflow/tensorflow/compiler/xla/service/slow_operation_alarm.cc:65] Constant folding an instruction is taking > 2s:\n",
      "\n",
      "  reduce.49 (displaying the full instruction incurs a runtime overhead. Raise your logging level to 4 or above).\n",
      "\n",
      "This isn't necessarily a bug; constant-folding is inherently a trade-off between compilation time and speed at runtime.  XLA has some guards that attempt to keep constant folding from taking too long, but fundamentally you'll always be able to come up with an input program that takes a long time.\n",
      "\n",
      "If you'd like to file a bug, run with envvar XLA_FLAGS=--xla_dump_to=/tmp/foo and attach the results.\n",
      "2024-06-12 14:33:17.910583: E external/org_tensorflow/tensorflow/compiler/xla/service/slow_operation_alarm.cc:133] The operation took 6.930615077s\n",
      "Constant folding an instruction is taking > 2s:\n",
      "\n",
      "  reduce.49 (displaying the full instruction incurs a runtime overhead. Raise your logging level to 4 or above).\n",
      "\n",
      "This isn't necessarily a bug; constant-folding is inherently a trade-off between compilation time and speed at runtime.  XLA has some guards that attempt to keep constant folding from taking too long, but fundamentally you'll always be able to come up with an input program that takes a long time.\n",
      "\n",
      "If you'd like to file a bug, run with envvar XLA_FLAGS=--xla_dump_to=/tmp/foo and attach the results.\n",
      "2024-06-12 14:33:21.911086: E external/org_tensorflow/tensorflow/compiler/xla/service/slow_operation_alarm.cc:65] Constant folding an instruction is taking > 4s:\n",
      "\n",
      "  reduce.87 (displaying the full instruction incurs a runtime overhead. Raise your logging level to 4 or above).\n",
      "\n",
      "This isn't necessarily a bug; constant-folding is inherently a trade-off between compilation time and speed at runtime.  XLA has some guards that attempt to keep constant folding from taking too long, but fundamentally you'll always be able to come up with an input program that takes a long time.\n",
      "\n",
      "If you'd like to file a bug, run with envvar XLA_FLAGS=--xla_dump_to=/tmp/foo and attach the results.\n",
      "2024-06-12 14:33:24.770299: E external/org_tensorflow/tensorflow/compiler/xla/service/slow_operation_alarm.cc:133] The operation took 6.859274281s\n",
      "Constant folding an instruction is taking > 4s:\n",
      "\n",
      "  reduce.87 (displaying the full instruction incurs a runtime overhead. Raise your logging level to 4 or above).\n",
      "\n",
      "This isn't necessarily a bug; constant-folding is inherently a trade-off between compilation time and speed at runtime.  XLA has some guards that attempt to keep constant folding from taking too long, but fundamentally you'll always be able to come up with an input program that takes a long time.\n",
      "\n",
      "If you'd like to file a bug, run with envvar XLA_FLAGS=--xla_dump_to=/tmp/foo and attach the results.\n"
     ]
    }
   ],
   "source": [
    "# Change the number of observations\n",
    "\n",
    "error_matrices = []\n",
    "times = []\n",
    "\n",
    "num_templates = 10\n",
    "num_iters = 100\n",
    "\n",
    "template_chain_list = [generate_gaussian_chain(num_monomers, mean_bond_length, std_bond_length) for i in range(num_templates)]\n",
    "\n",
    "measurement_error = gaussian_noise_std\n",
    "num_probes = num_monomers\n",
    "\n",
    "key = jax.random.PRNGKey(42)\n",
    "keys = jax.random.split(key, num_iters)\n",
    "for x in tqdm(jnp.logspace(0, 3, 4)):\n",
    "    start_time = time.time()\n",
    "    max_observation_number = x+1\n",
    "    num_observation_list = np.random.randint(1, high=max_observation_number, size=num_templates) \n",
    "    observation_list = [generate_observations(c, n, gaussian_noise_std) for c, n in zip(template_chain_list, num_observation_list)]\n",
    "    observation_list = np.concatenate([*observation_list])\n",
    "    observation_class_list = np.concatenate([[i for _ in range(j)] for i, j in enumerate(num_observation_list)])\n",
    "    observations_flatten = jnp.array([generate_flatten_distance_map(t) for t in observation_list])\n",
    "    error_matrices.append(jax.vmap(simulation, in_axes=0)(keys))\n",
    "    end_time = time.time()\n",
    "    loop_time = end_time - start_time\n",
    "    times.append(loop_time)"
   ]
  },
  {
   "cell_type": "code",
   "execution_count": 18,
   "metadata": {},
   "outputs": [
    {
     "data": {
      "application/vnd.jupyter.widget-view+json": {
       "model_id": "908edb4d3f9048cf9887d49fe1f0d474",
       "version_major": 2,
       "version_minor": 0
      },
      "text/plain": [
       "  0%|          | 0/4 [00:00<?, ?it/s]"
      ]
     },
     "metadata": {},
     "output_type": "display_data"
    }
   ],
   "source": [
    "norm_error_matrices = []\n",
    "for sample in tqdm(error_matrices):\n",
    "    err_list = []\n",
    "    for s in sample:\n",
    "        err = s/(num_monomers ** 2)\n",
    "        r, c = linear_sum_assignment(err)\n",
    "        err_list.append(float(err[r, c].mean()))\n",
    "    norm_error_matrices.append(err_list)\n",
    "    \n",
    "norm_error_matrices = np.array(norm_error_matrices)"
   ]
  },
  {
   "cell_type": "code",
   "execution_count": 19,
   "metadata": {},
   "outputs": [],
   "source": [
    "dmaps_flat = np.array([generate_flatten_distance_map(x) for x in template_chain_list])"
   ]
  },
  {
   "cell_type": "code",
   "execution_count": 20,
   "metadata": {},
   "outputs": [],
   "source": [
    "# Function to calculate bootstrap samples\n",
    "def bootstrap(data, n_bootstrap):\n",
    "    n = len(data)\n",
    "    bootstrap_samples = np.random.choice(data, size=(n_bootstrap, n), replace=True)\n",
    "    return bootstrap_samples\n",
    "\n",
    "# Function to calculate the bootstrap mean\n",
    "def bootstrap_mean(data, n_bootstrap):\n",
    "    samples = bootstrap(data, n_bootstrap)\n",
    "    return np.mean(samples, axis=1)\n",
    "\n",
    "# Number of bootstrap samples\n",
    "n_bootstrap = 10000\n"
   ]
  },
  {
   "cell_type": "code",
   "execution_count": 39,
   "metadata": {},
   "outputs": [],
   "source": [
    "bootstrap_CI_list = []\n",
    "\n",
    "for x in norm_error_matrices:\n",
    "    # Calculate bootstrap means\n",
    "    bootstrap_means = bootstrap_mean(x, n_bootstrap)\n",
    "\n",
    "    # Calculate the 95% confidence interval\n",
    "    lower_bound = np.percentile(bootstrap_means, 2.5)\n",
    "    upper_bound = np.percentile(bootstrap_means, 97.5)\n",
    "    confidence_interval = (upper_bound-x.mean(), x.mean()-lower_bound)\n",
    "    \n",
    "    bootstrap_CI_list.append(confidence_interval)\n",
    "    \n",
    "bootstrap_CI_list = np.array(bootstrap_CI_list).T"
   ]
  },
  {
   "cell_type": "code",
   "execution_count": 40,
   "metadata": {},
   "outputs": [
    {
     "data": {
      "text/plain": [
       "array([[0.05578934, 0.03983368, 0.03994852, 0.04458186],\n",
       "       [0.05131484, 0.03748704, 0.03942414, 0.04198895]])"
      ]
     },
     "execution_count": 40,
     "metadata": {},
     "output_type": "execute_result"
    }
   ],
   "source": [
    "np.array(bootstrap_CI_list)"
   ]
  },
  {
   "cell_type": "code",
   "execution_count": 41,
   "metadata": {},
   "outputs": [],
   "source": [
    "centroid = np.mean(dmaps_flat, axis=0)\n",
    "max_error = np.mean(np.sqrt(np.sum((centroid - dmaps_flat)**2, axis=-1)))/num_monomers**2"
   ]
  },
  {
   "cell_type": "code",
   "execution_count": 42,
   "metadata": {},
   "outputs": [
    {
     "data": {
      "text/plain": [
       "1.6283751095536723"
      ]
     },
     "execution_count": 42,
     "metadata": {},
     "output_type": "execute_result"
    }
   ],
   "source": [
    "max_error"
   ]
  },
  {
   "cell_type": "code",
   "execution_count": 43,
   "metadata": {},
   "outputs": [
    {
     "data": {
      "text/plain": [
       "array([1.31341967, 1.21064688, 1.1760643 , 1.21422998])"
      ]
     },
     "execution_count": 43,
     "metadata": {},
     "output_type": "execute_result"
    }
   ],
   "source": [
    "norm_error_matrices.mean(axis=1)"
   ]
  },
  {
   "cell_type": "code",
   "execution_count": 55,
   "metadata": {},
   "outputs": [
    {
     "data": {
      "text/plain": [
       "<matplotlib.legend.Legend at 0x154af1895ed0>"
      ]
     },
     "execution_count": 55,
     "metadata": {},
     "output_type": "execute_result"
    },
    {
     "data": {
      "image/png": "[encoded data removed]",
      "text/plain": [
       "<Figure size 640x480 with 1 Axes>"
      ]
     },
     "metadata": {},
     "output_type": "display_data"
    }
   ],
   "source": [
    "plt.errorbar(jnp.logspace(0, 3, 4), norm_error_matrices.mean(axis=1), yerr=bootstrap_CI_list, ecolor='red')\n",
    "plt.axhline(max_error, color='black', label='max error')\n",
    "plt.ylim([0, 2])\n",
    "plt.xscale('log')\n",
    "plt.xlabel('Maximum number of observations per template')\n",
    "plt.ylabel('Assignment error')\n",
    "plt.title('Number of templates = 10')\n",
    "plt.legend()"
   ]
  }
 ],
 "metadata": {
  "kernelspec": {
   "display_name": "jupyter-gpu-openmm",
   "language": "python",
   "name": "python3"
  },
  "language_info": {
   "codemirror_mode": {
    "name": "ipython",
    "version": 3
   },
   "file_extension": ".py",
   "mimetype": "text/x-python",
   "name": "python",
   "nbconvert_exporter": "python",
   "pygments_lexer": "ipython3",
   "version": "3.10.10"
  }
 },
 "nbformat": 4,
 "nbformat_minor": 2
}
