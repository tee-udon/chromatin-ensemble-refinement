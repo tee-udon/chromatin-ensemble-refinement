{
 "cells": [
  {
   "cell_type": "markdown",
   "metadata": {},
   "source": [
    "# Load Dataset"
   ]
  },
  {
   "cell_type": "code",
   "execution_count": 10,
   "metadata": {},
   "outputs": [],
   "source": [
    "import os\n",
    "import numpy as np\n",
    "import scipy.io\n",
    "from scipy.spatial.distance import pdist, squareform\n",
    "\n",
    "# Load dataset from file\n",
    "folder_path = '/mnt/home/tudomlumleart/ceph/05_Sox9Dataset/'\n",
    "\n",
    "# Only the first 80 probes are relevant. \n",
    "\n",
    "# List all .mat files in the folder and load them\n",
    "cnc_maps = scipy.io.loadmat(folder_path + 'cncMaps.mat')['cncMaps'][:80, :80, :]\n",
    "esc_maps = scipy.io.loadmat(folder_path + 'escMaps.mat')['escMaps'][:80, :80, :]\n",
    "\n",
    "# Load polys data and then perform linear interpolation\n",
    "# List all .mat files in the folder and load them\n",
    "cnc_polys = scipy.io.loadmat(folder_path + 'cncPols.mat')['cncPols'][:80, :, :]\n",
    "esc_polys = scipy.io.loadmat(folder_path + 'escPols.mat')['escPols'][:80, :, :]\n"
   ]
  },
  {
   "cell_type": "code",
   "execution_count": 4,
   "metadata": {},
   "outputs": [
    {
     "name": "stdout",
     "output_type": "stream",
     "text": [
      "(80, 80, 1757)\n"
     ]
    }
   ],
   "source": [
    "print(cnc_maps.shape)"
   ]
  },
  {
   "cell_type": "code",
   "execution_count": 5,
   "metadata": {},
   "outputs": [
    {
     "name": "stdout",
     "output_type": "stream",
     "text": [
      "(80, 3, 1757)\n"
     ]
    }
   ],
   "source": [
    "print(cnc_polys.shape)"
   ]
  },
  {
   "cell_type": "markdown",
   "metadata": {},
   "source": [
    "# Data Structure \n",
    "\n",
    "`cnc_maps` and `esc_maps` are 3-dimensional numpy arrays containing **distance maps** of CNC and ESC cell types, respectively. The dimensions of these arrays are (number of probes $\\times$ number of probes $\\times$ number of cells).\n",
    "\n",
    "Similarly, `cnc_polys` and `esc_polys` contain **monomer coordinates** of chromatin in CNC and ESC cell types. The dimensions of these are (number of probes $\\times$ 3 $\\times$ number of cells).\n"
   ]
  },
  {
   "cell_type": "markdown",
   "metadata": {},
   "source": [
    "# Linear Imputation to fill in the missing value \n",
    "To fill in the missing values, I use linear interpolation to fill in the missing monomers."
   ]
  },
  {
   "cell_type": "code",
   "execution_count": 11,
   "metadata": {},
   "outputs": [],
   "source": [
    "def interpolate_polymers(polys):\n",
    "    num_probes, num_coords, num_cells = polys.shape\n",
    "    new_polys = np.zeros((num_probes, num_coords, num_cells))\n",
    "    for c in range(num_cells):\n",
    "        curr_cells = polys[:, :, c]\n",
    "        for x in range(num_coords):\n",
    "            curr_coords = curr_cells[:, x]\n",
    "            missing_indices = np.isnan(curr_coords)\n",
    "            valid_indices = ~missing_indices\n",
    "            interp_coords = np.interp(np.flatnonzero(missing_indices), np.flatnonzero(valid_indices), curr_coords[valid_indices])\n",
    "            new_polys[missing_indices, x, c] = interp_coords\n",
    "            new_polys[valid_indices, x, c] = curr_coords[valid_indices]\n",
    "    return new_polys"
   ]
  },
  {
   "cell_type": "code",
   "execution_count": 17,
   "metadata": {},
   "outputs": [],
   "source": [
    "esc_polys_interp = interpolate_polymers(esc_polys)\n",
    "cnc_polys_interp = interpolate_polymers(cnc_polys)\n",
    "\n",
    "esc_maps_interp = np.array([squareform(pdist(esc_polys_interp[:, :, i])) for i in range(esc_polys_interp.shape[2])]).transpose(1, 2, 0)\n",
    "cnc_maps_interp = np.array([squareform(pdist(cnc_polys_interp[:, :, i])) for i in range(cnc_polys_interp.shape[2])]).transpose(1, 2, 0)"
   ]
  }
 ],
 "metadata": {
  "kernelspec": {
   "display_name": "jupyter-gpu-openmm",
   "language": "python",
   "name": "jupyter-gpu-openmm"
  },
  "language_info": {
   "codemirror_mode": {
    "name": "ipython",
    "version": 3
   },
   "file_extension": ".py",
   "mimetype": "text/x-python",
   "name": "python",
   "nbconvert_exporter": "python",
   "pygments_lexer": "ipython3",
   "version": "3.10.10"
  }
 },
 "nbformat": 4,
 "nbformat_minor": 2
}
